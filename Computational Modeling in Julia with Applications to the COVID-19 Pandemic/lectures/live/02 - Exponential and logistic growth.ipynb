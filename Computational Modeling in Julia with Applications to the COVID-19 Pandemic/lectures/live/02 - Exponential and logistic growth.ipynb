{
 "cells": [
  {
   "cell_type": "markdown",
   "metadata": {},
   "source": [
    "# Simple model of infection"
   ]
  },
  {
   "cell_type": "markdown",
   "metadata": {},
   "source": [
    "Each individual infects $c$ new people each day."
   ]
  },
  {
   "cell_type": "markdown",
   "metadata": {},
   "source": [
    "$I_{n+1} = I_n + (c I_n) = I_n(1 + c)$"
   ]
  },
  {
   "cell_type": "markdown",
   "metadata": {},
   "source": [
    "So"
   ]
  },
  {
   "cell_type": "markdown",
   "metadata": {},
   "source": [
    "$I_{n+1} = \\lambda I_n$,  where $\\lambda := 1 + c$ -- **growth rate**\n",
    "\n",
    "and $I_0 = 1$"
   ]
  },
  {
   "cell_type": "code",
   "execution_count": 3,
   "metadata": {},
   "outputs": [
    {
     "data": {
      "text/plain": [
       "1"
      ]
     },
     "execution_count": 3,
     "metadata": {},
     "output_type": "execute_result"
    }
   ],
   "source": [
    "I0 = 1"
   ]
  },
  {
   "cell_type": "code",
   "execution_count": 4,
   "metadata": {},
   "outputs": [
    {
     "data": {
      "text/plain": [
       "1"
      ]
     },
     "execution_count": 4,
     "metadata": {},
     "output_type": "execute_result"
    }
   ],
   "source": [
    "I_0 = 1"
   ]
  },
  {
   "cell_type": "code",
   "execution_count": 6,
   "metadata": {},
   "outputs": [
    {
     "data": {
      "text/plain": [
       "1"
      ]
     },
     "execution_count": 6,
     "metadata": {},
     "output_type": "execute_result"
    }
   ],
   "source": [
    "I₀ = 1   # \\_0 <TAB>"
   ]
  },
  {
   "cell_type": "code",
   "execution_count": 7,
   "metadata": {},
   "outputs": [
    {
     "data": {
      "text/plain": [
       "0.01"
      ]
     },
     "execution_count": 7,
     "metadata": {},
     "output_type": "execute_result"
    }
   ],
   "source": [
    "c = 0.01  # average no. of people that each individual infects on each day"
   ]
  },
  {
   "cell_type": "code",
   "execution_count": 8,
   "metadata": {
    "scrolled": true
   },
   "outputs": [
    {
     "data": {
      "text/plain": [
       "1.01"
      ]
     },
     "execution_count": 8,
     "metadata": {},
     "output_type": "execute_result"
    }
   ],
   "source": [
    "λ = 1 + c  # \\lambda <TAB>"
   ]
  },
  {
   "cell_type": "code",
   "execution_count": 10,
   "metadata": {},
   "outputs": [],
   "source": [
    "λ = 1 + c; "
   ]
  },
  {
   "cell_type": "markdown",
   "metadata": {},
   "source": [
    "`;` suppresses output"
   ]
  },
  {
   "cell_type": "code",
   "execution_count": 11,
   "metadata": {},
   "outputs": [
    {
     "data": {
      "text/plain": [
       "1.01"
      ]
     },
     "execution_count": 11,
     "metadata": {},
     "output_type": "execute_result"
    }
   ],
   "source": [
    "I_1 = λ * I_0"
   ]
  },
  {
   "cell_type": "code",
   "execution_count": 12,
   "metadata": {},
   "outputs": [
    {
     "data": {
      "text/plain": [
       "1.0201"
      ]
     },
     "execution_count": 12,
     "metadata": {},
     "output_type": "execute_result"
    }
   ],
   "source": [
    "I_2 = λ * I_1"
   ]
  },
  {
   "cell_type": "code",
   "execution_count": 13,
   "metadata": {},
   "outputs": [
    {
     "data": {
      "text/plain": [
       "1.030301"
      ]
     },
     "execution_count": 13,
     "metadata": {},
     "output_type": "execute_result"
    }
   ],
   "source": [
    "I_3 = λ * I_2"
   ]
  },
  {
   "cell_type": "markdown",
   "metadata": {},
   "source": [
    "## Arrays"
   ]
  },
  {
   "cell_type": "code",
   "execution_count": 14,
   "metadata": {},
   "outputs": [
    {
     "data": {
      "text/plain": [
       "10-element Array{Float64,1}:\n",
       " 0.0\n",
       " 0.0\n",
       " 0.0\n",
       " 0.0\n",
       " 0.0\n",
       " 0.0\n",
       " 0.0\n",
       " 0.0\n",
       " 0.0\n",
       " 0.0"
      ]
     },
     "execution_count": 14,
     "metadata": {},
     "output_type": "execute_result"
    }
   ],
   "source": [
    "T = 10  # final time \n",
    "\n",
    "I = zeros(T)  "
   ]
  },
  {
   "cell_type": "code",
   "execution_count": 15,
   "metadata": {},
   "outputs": [
    {
     "data": {
      "text/plain": [
       "10-element Array{Float64,1}:\n",
       " 0.0\n",
       " 0.0\n",
       " 0.0\n",
       " 0.0\n",
       " 0.0\n",
       " 0.0\n",
       " 0.0\n",
       " 0.0\n",
       " 0.0\n",
       " 0.0"
      ]
     },
     "execution_count": 15,
     "metadata": {},
     "output_type": "execute_result"
    }
   ],
   "source": [
    "I"
   ]
  },
  {
   "cell_type": "code",
   "execution_count": 16,
   "metadata": {},
   "outputs": [
    {
     "data": {
      "text/plain": [
       "0.0"
      ]
     },
     "execution_count": 16,
     "metadata": {},
     "output_type": "execute_result"
    }
   ],
   "source": [
    "I[1]"
   ]
  },
  {
   "cell_type": "code",
   "execution_count": 17,
   "metadata": {},
   "outputs": [
    {
     "data": {
      "text/plain": [
       "2-element Array{Float64,1}:\n",
       " 0.0\n",
       " 0.0"
      ]
     },
     "execution_count": 17,
     "metadata": {},
     "output_type": "execute_result"
    }
   ],
   "source": [
    "I[1:2]"
   ]
  },
  {
   "cell_type": "code",
   "execution_count": 19,
   "metadata": {},
   "outputs": [
    {
     "data": {
      "text/plain": [
       "10-element Array{Int64,1}:\n",
       " 0\n",
       " 0\n",
       " 0\n",
       " 0\n",
       " 0\n",
       " 0\n",
       " 0\n",
       " 0\n",
       " 0\n",
       " 0"
      ]
     },
     "execution_count": 19,
     "metadata": {},
     "output_type": "execute_result"
    }
   ],
   "source": [
    "I = zeros(Int64, T)"
   ]
  },
  {
   "cell_type": "code",
   "execution_count": 20,
   "metadata": {},
   "outputs": [
    {
     "data": {
      "text/plain": [
       "10-element Array{Float64,1}:\n",
       " 0.0\n",
       " 0.0\n",
       " 0.0\n",
       " 0.0\n",
       " 0.0\n",
       " 0.0\n",
       " 0.0\n",
       " 0.0\n",
       " 0.0\n",
       " 0.0"
      ]
     },
     "execution_count": 20,
     "metadata": {},
     "output_type": "execute_result"
    }
   ],
   "source": [
    "I = zeros(T)"
   ]
  },
  {
   "cell_type": "code",
   "execution_count": 21,
   "metadata": {},
   "outputs": [
    {
     "data": {
      "text/plain": [
       "1"
      ]
     },
     "execution_count": 21,
     "metadata": {},
     "output_type": "execute_result"
    }
   ],
   "source": [
    "I[1] = I_0   # Could use OffsetArrays.jl -- enables arbitrary indexing"
   ]
  },
  {
   "cell_type": "code",
   "execution_count": 25,
   "metadata": {},
   "outputs": [
    {
     "name": "stdout",
     "output_type": "stream",
     "text": [
      "(n, I[n]) = (1, 1.0)\n",
      "(n, I[n]) = (2, 1.01)\n",
      "(n, I[n]) = (3, 1.0201)\n",
      "(n, I[n]) = (4, 1.030301)\n",
      "(n, I[n]) = (5, 1.04060401)\n",
      "(n, I[n]) = (6, 1.0510100501)\n",
      "(n, I[n]) = (7, 1.061520150601)\n",
      "(n, I[n]) = (8, 1.0721353521070098)\n",
      "(n, I[n]) = (9, 1.08285670562808)\n"
     ]
    }
   ],
   "source": [
    "for n in 1:T-1\n",
    "    I[n+1] = λ * I[n]\n",
    "    @show n, I[n]\n",
    "end\n",
    "\n",
    "# for loops do not return anything so running a for loop does not output"
   ]
  },
  {
   "cell_type": "code",
   "execution_count": 26,
   "metadata": {},
   "outputs": [
    {
     "data": {
      "text/plain": [
       "10-element Array{Float64,1}:\n",
       " 1.0\n",
       " 1.01\n",
       " 1.0201\n",
       " 1.030301\n",
       " 1.04060401\n",
       " 1.0510100501\n",
       " 1.061520150601\n",
       " 1.0721353521070098\n",
       " 1.08285670562808\n",
       " 1.0936852726843609"
      ]
     },
     "execution_count": 26,
     "metadata": {},
     "output_type": "execute_result"
    }
   ],
   "source": [
    "I"
   ]
  },
  {
   "cell_type": "code",
   "execution_count": 27,
   "metadata": {},
   "outputs": [
    {
     "name": "stderr",
     "output_type": "stream",
     "text": [
      "┌ Info: Precompiling Plots [91a5bcdd-55d7-5caf-9e0b-520d859cae80]\n",
      "└ @ Base loading.jl:1260\n"
     ]
    }
   ],
   "source": [
    "using Plots"
   ]
  },
  {
   "cell_type": "code",
   "execution_count": 29,
   "metadata": {},
   "outputs": [
    {
     "data": {
      "image/svg+xml": [
       "<?xml version=\"1.0\" encoding=\"utf-8\"?>\n",
       "<svg xmlns=\"http://www.w3.org/2000/svg\" xmlns:xlink=\"http://www.w3.org/1999/xlink\" width=\"600\" height=\"400\" viewBox=\"0 0 2400 1600\">\n",
       "<defs>\n",
       "  <clipPath id=\"clip1100\">\n",
       "    <rect x=\"0\" y=\"0\" width=\"2400\" height=\"1600\"/>\n",
       "  </clipPath>\n",
       "</defs>\n",
       "<path clip-path=\"url(#clip1100)\" d=\"\n",
       "M0 1600 L2400 1600 L2400 0 L0 0  Z\n",
       "  \" fill=\"#ffffff\" fill-rule=\"evenodd\" fill-opacity=\"1\"/>\n",
       "<defs>\n",
       "  <clipPath id=\"clip1101\">\n",
       "    <rect x=\"480\" y=\"0\" width=\"1681\" height=\"1600\"/>\n",
       "  </clipPath>\n",
       "</defs>\n",
       "<path clip-path=\"url(#clip1100)\" d=\"\n",
       "M180.66 1487.47 L2352.76 1487.47 L2352.76 47.2441 L180.66 47.2441  Z\n",
       "  \" fill=\"#ffffff\" fill-rule=\"evenodd\" fill-opacity=\"1\"/>\n",
       "<defs>\n",
       "  <clipPath id=\"clip1102\">\n",
       "    <rect x=\"180\" y=\"47\" width=\"2173\" height=\"1441\"/>\n",
       "  </clipPath>\n",
       "</defs>\n",
       "<polyline clip-path=\"url(#clip1102)\" style=\"stroke:#000000; stroke-width:2; stroke-opacity:0.1; fill:none\" points=\"\n",
       "  469.818,1487.47 469.818,47.2441 \n",
       "  \"/>\n",
       "<polyline clip-path=\"url(#clip1102)\" style=\"stroke:#000000; stroke-width:2; stroke-opacity:0.1; fill:none\" points=\"\n",
       "  925.184,1487.47 925.184,47.2441 \n",
       "  \"/>\n",
       "<polyline clip-path=\"url(#clip1102)\" style=\"stroke:#000000; stroke-width:2; stroke-opacity:0.1; fill:none\" points=\"\n",
       "  1380.55,1487.47 1380.55,47.2441 \n",
       "  \"/>\n",
       "<polyline clip-path=\"url(#clip1102)\" style=\"stroke:#000000; stroke-width:2; stroke-opacity:0.1; fill:none\" points=\"\n",
       "  1835.92,1487.47 1835.92,47.2441 \n",
       "  \"/>\n",
       "<polyline clip-path=\"url(#clip1102)\" style=\"stroke:#000000; stroke-width:2; stroke-opacity:0.1; fill:none\" points=\"\n",
       "  2291.28,1487.47 2291.28,47.2441 \n",
       "  \"/>\n",
       "<polyline clip-path=\"url(#clip1102)\" style=\"stroke:#000000; stroke-width:2; stroke-opacity:0.1; fill:none\" points=\"\n",
       "  180.66,1446.71 2352.76,1446.71 \n",
       "  \"/>\n",
       "<polyline clip-path=\"url(#clip1102)\" style=\"stroke:#000000; stroke-width:2; stroke-opacity:0.1; fill:none\" points=\"\n",
       "  180.66,1156.66 2352.76,1156.66 \n",
       "  \"/>\n",
       "<polyline clip-path=\"url(#clip1102)\" style=\"stroke:#000000; stroke-width:2; stroke-opacity:0.1; fill:none\" points=\"\n",
       "  180.66,866.597 2352.76,866.597 \n",
       "  \"/>\n",
       "<polyline clip-path=\"url(#clip1102)\" style=\"stroke:#000000; stroke-width:2; stroke-opacity:0.1; fill:none\" points=\"\n",
       "  180.66,576.539 2352.76,576.539 \n",
       "  \"/>\n",
       "<polyline clip-path=\"url(#clip1102)\" style=\"stroke:#000000; stroke-width:2; stroke-opacity:0.1; fill:none\" points=\"\n",
       "  180.66,286.481 2352.76,286.481 \n",
       "  \"/>\n",
       "<polyline clip-path=\"url(#clip1100)\" style=\"stroke:#000000; stroke-width:4; stroke-opacity:1; fill:none\" points=\"\n",
       "  180.66,1487.47 2352.76,1487.47 \n",
       "  \"/>\n",
       "<polyline clip-path=\"url(#clip1100)\" style=\"stroke:#000000; stroke-width:4; stroke-opacity:1; fill:none\" points=\"\n",
       "  180.66,1487.47 180.66,47.2441 \n",
       "  \"/>\n",
       "<polyline clip-path=\"url(#clip1100)\" style=\"stroke:#000000; stroke-width:4; stroke-opacity:1; fill:none\" points=\"\n",
       "  469.818,1487.47 469.818,1470.19 \n",
       "  \"/>\n",
       "<polyline clip-path=\"url(#clip1100)\" style=\"stroke:#000000; stroke-width:4; stroke-opacity:1; fill:none\" points=\"\n",
       "  925.184,1487.47 925.184,1470.19 \n",
       "  \"/>\n",
       "<polyline clip-path=\"url(#clip1100)\" style=\"stroke:#000000; stroke-width:4; stroke-opacity:1; fill:none\" points=\"\n",
       "  1380.55,1487.47 1380.55,1470.19 \n",
       "  \"/>\n",
       "<polyline clip-path=\"url(#clip1100)\" style=\"stroke:#000000; stroke-width:4; stroke-opacity:1; fill:none\" points=\"\n",
       "  1835.92,1487.47 1835.92,1470.19 \n",
       "  \"/>\n",
       "<polyline clip-path=\"url(#clip1100)\" style=\"stroke:#000000; stroke-width:4; stroke-opacity:1; fill:none\" points=\"\n",
       "  2291.28,1487.47 2291.28,1470.19 \n",
       "  \"/>\n",
       "<polyline clip-path=\"url(#clip1100)\" style=\"stroke:#000000; stroke-width:4; stroke-opacity:1; fill:none\" points=\"\n",
       "  180.66,1446.71 206.725,1446.71 \n",
       "  \"/>\n",
       "<polyline clip-path=\"url(#clip1100)\" style=\"stroke:#000000; stroke-width:4; stroke-opacity:1; fill:none\" points=\"\n",
       "  180.66,1156.66 206.725,1156.66 \n",
       "  \"/>\n",
       "<polyline clip-path=\"url(#clip1100)\" style=\"stroke:#000000; stroke-width:4; stroke-opacity:1; fill:none\" points=\"\n",
       "  180.66,866.597 206.725,866.597 \n",
       "  \"/>\n",
       "<polyline clip-path=\"url(#clip1100)\" style=\"stroke:#000000; stroke-width:4; stroke-opacity:1; fill:none\" points=\"\n",
       "  180.66,576.539 206.725,576.539 \n",
       "  \"/>\n",
       "<polyline clip-path=\"url(#clip1100)\" style=\"stroke:#000000; stroke-width:4; stroke-opacity:1; fill:none\" points=\"\n",
       "  180.66,286.481 206.725,286.481 \n",
       "  \"/>\n",
       "<g clip-path=\"url(#clip1100)\">\n",
       "<text style=\"fill:#000000; fill-opacity:1; font-family:Arial,Helvetica Neue,Helvetica,sans-serif; font-size:48px; text-anchor:middle;\" transform=\"rotate(0, 469.818, 1541.47)\" x=\"469.818\" y=\"1541.47\">2</text>\n",
       "</g>\n",
       "<g clip-path=\"url(#clip1100)\">\n",
       "<text style=\"fill:#000000; fill-opacity:1; font-family:Arial,Helvetica Neue,Helvetica,sans-serif; font-size:48px; text-anchor:middle;\" transform=\"rotate(0, 925.184, 1541.47)\" x=\"925.184\" y=\"1541.47\">4</text>\n",
       "</g>\n",
       "<g clip-path=\"url(#clip1100)\">\n",
       "<text style=\"fill:#000000; fill-opacity:1; font-family:Arial,Helvetica Neue,Helvetica,sans-serif; font-size:48px; text-anchor:middle;\" transform=\"rotate(0, 1380.55, 1541.47)\" x=\"1380.55\" y=\"1541.47\">6</text>\n",
       "</g>\n",
       "<g clip-path=\"url(#clip1100)\">\n",
       "<text style=\"fill:#000000; fill-opacity:1; font-family:Arial,Helvetica Neue,Helvetica,sans-serif; font-size:48px; text-anchor:middle;\" transform=\"rotate(0, 1835.92, 1541.47)\" x=\"1835.92\" y=\"1541.47\">8</text>\n",
       "</g>\n",
       "<g clip-path=\"url(#clip1100)\">\n",
       "<text style=\"fill:#000000; fill-opacity:1; font-family:Arial,Helvetica Neue,Helvetica,sans-serif; font-size:48px; text-anchor:middle;\" transform=\"rotate(0, 2291.28, 1541.47)\" x=\"2291.28\" y=\"1541.47\">10</text>\n",
       "</g>\n",
       "<g clip-path=\"url(#clip1100)\">\n",
       "<text style=\"fill:#000000; fill-opacity:1; font-family:Arial,Helvetica Neue,Helvetica,sans-serif; font-size:48px; text-anchor:end;\" transform=\"rotate(0, 156.66, 1464.21)\" x=\"156.66\" y=\"1464.21\">1.00</text>\n",
       "</g>\n",
       "<g clip-path=\"url(#clip1100)\">\n",
       "<text style=\"fill:#000000; fill-opacity:1; font-family:Arial,Helvetica Neue,Helvetica,sans-serif; font-size:48px; text-anchor:end;\" transform=\"rotate(0, 156.66, 1174.16)\" x=\"156.66\" y=\"1174.16\">1.02</text>\n",
       "</g>\n",
       "<g clip-path=\"url(#clip1100)\">\n",
       "<text style=\"fill:#000000; fill-opacity:1; font-family:Arial,Helvetica Neue,Helvetica,sans-serif; font-size:48px; text-anchor:end;\" transform=\"rotate(0, 156.66, 884.097)\" x=\"156.66\" y=\"884.097\">1.04</text>\n",
       "</g>\n",
       "<g clip-path=\"url(#clip1100)\">\n",
       "<text style=\"fill:#000000; fill-opacity:1; font-family:Arial,Helvetica Neue,Helvetica,sans-serif; font-size:48px; text-anchor:end;\" transform=\"rotate(0, 156.66, 594.039)\" x=\"156.66\" y=\"594.039\">1.06</text>\n",
       "</g>\n",
       "<g clip-path=\"url(#clip1100)\">\n",
       "<text style=\"fill:#000000; fill-opacity:1; font-family:Arial,Helvetica Neue,Helvetica,sans-serif; font-size:48px; text-anchor:end;\" transform=\"rotate(0, 156.66, 303.981)\" x=\"156.66\" y=\"303.981\">1.08</text>\n",
       "</g>\n",
       "<polyline clip-path=\"url(#clip1102)\" style=\"stroke:#009af9; stroke-width:4; stroke-opacity:1; fill:none\" points=\"\n",
       "  242.135,1446.71 469.818,1301.68 697.501,1155.21 925.184,1007.26 1152.87,857.838 1380.55,706.92 1608.23,554.493 1835.92,400.542 2063.6,245.051 2291.28,88.0053 \n",
       "  \n",
       "  \"/>\n",
       "<path clip-path=\"url(#clip1102)\" d=\"M242.135 1462.71 L230.823 1458.03 L226.135 1446.71 L230.823 1435.4 L242.135 1430.71 L253.447 1435.4 L258.135 1446.71 L253.447 1458.03 Z\" fill=\"#009af9\" fill-rule=\"evenodd\" fill-opacity=\"1\" stroke=\"#000000\" stroke-opacity=\"1\" stroke-width=\"3.2\"/>\n",
       "<path clip-path=\"url(#clip1102)\" d=\"M469.818 1317.68 L458.506 1313 L453.818 1301.68 L458.506 1290.37 L469.818 1285.68 L481.13 1290.37 L485.818 1301.68 L481.13 1313 Z\" fill=\"#009af9\" fill-rule=\"evenodd\" fill-opacity=\"1\" stroke=\"#000000\" stroke-opacity=\"1\" stroke-width=\"3.2\"/>\n",
       "<path clip-path=\"url(#clip1102)\" d=\"M697.501 1171.21 L686.189 1166.52 L681.501 1155.21 L686.189 1143.89 L697.501 1139.21 L708.813 1143.89 L713.501 1155.21 L708.813 1166.52 Z\" fill=\"#009af9\" fill-rule=\"evenodd\" fill-opacity=\"1\" stroke=\"#000000\" stroke-opacity=\"1\" stroke-width=\"3.2\"/>\n",
       "<path clip-path=\"url(#clip1102)\" d=\"M925.184 1023.26 L913.872 1018.57 L909.184 1007.26 L913.872 995.949 L925.184 991.261 L936.496 995.949 L941.184 1007.26 L936.496 1018.57 Z\" fill=\"#009af9\" fill-rule=\"evenodd\" fill-opacity=\"1\" stroke=\"#000000\" stroke-opacity=\"1\" stroke-width=\"3.2\"/>\n",
       "<path clip-path=\"url(#clip1102)\" d=\"M1152.87 873.838 L1141.55 869.15 L1136.87 857.838 L1141.55 846.526 L1152.87 841.838 L1164.18 846.526 L1168.87 857.838 L1164.18 869.15 Z\" fill=\"#009af9\" fill-rule=\"evenodd\" fill-opacity=\"1\" stroke=\"#000000\" stroke-opacity=\"1\" stroke-width=\"3.2\"/>\n",
       "<path clip-path=\"url(#clip1102)\" d=\"M1380.55 722.92 L1369.24 718.232 L1364.55 706.92 L1369.24 695.608 L1380.55 690.92 L1391.86 695.608 L1396.55 706.92 L1391.86 718.232 Z\" fill=\"#009af9\" fill-rule=\"evenodd\" fill-opacity=\"1\" stroke=\"#000000\" stroke-opacity=\"1\" stroke-width=\"3.2\"/>\n",
       "<path clip-path=\"url(#clip1102)\" d=\"M1608.23 570.493 L1596.92 565.805 L1592.23 554.493 L1596.92 543.181 L1608.23 538.493 L1619.54 543.181 L1624.23 554.493 L1619.54 565.805 Z\" fill=\"#009af9\" fill-rule=\"evenodd\" fill-opacity=\"1\" stroke=\"#000000\" stroke-opacity=\"1\" stroke-width=\"3.2\"/>\n",
       "<path clip-path=\"url(#clip1102)\" d=\"M1835.92 416.542 L1824.6 411.854 L1819.92 400.542 L1824.6 389.23 L1835.92 384.542 L1847.23 389.23 L1851.92 400.542 L1847.23 411.854 Z\" fill=\"#009af9\" fill-rule=\"evenodd\" fill-opacity=\"1\" stroke=\"#000000\" stroke-opacity=\"1\" stroke-width=\"3.2\"/>\n",
       "<path clip-path=\"url(#clip1102)\" d=\"M2063.6 261.051 L2052.29 256.363 L2047.6 245.051 L2052.29 233.739 L2063.6 229.051 L2074.91 233.739 L2079.6 245.051 L2074.91 256.363 Z\" fill=\"#009af9\" fill-rule=\"evenodd\" fill-opacity=\"1\" stroke=\"#000000\" stroke-opacity=\"1\" stroke-width=\"3.2\"/>\n",
       "<path clip-path=\"url(#clip1102)\" d=\"M2291.28 104.005 L2279.97 99.3173 L2275.28 88.0053 L2279.97 76.6933 L2291.28 72.0053 L2302.59 76.6933 L2307.28 88.0053 L2302.59 99.3173 Z\" fill=\"#009af9\" fill-rule=\"evenodd\" fill-opacity=\"1\" stroke=\"#000000\" stroke-opacity=\"1\" stroke-width=\"3.2\"/>\n",
       "<path clip-path=\"url(#clip1100)\" d=\"\n",
       "M252.66 251.724 L559.566 251.724 L559.566 130.764 L252.66 130.764  Z\n",
       "  \" fill=\"#ffffff\" fill-rule=\"evenodd\" fill-opacity=\"1\"/>\n",
       "<polyline clip-path=\"url(#clip1100)\" style=\"stroke:#000000; stroke-width:4; stroke-opacity:1; fill:none\" points=\"\n",
       "  252.66,251.724 559.566,251.724 559.566,130.764 252.66,130.764 252.66,251.724 \n",
       "  \"/>\n",
       "<polyline clip-path=\"url(#clip1100)\" style=\"stroke:#009af9; stroke-width:4; stroke-opacity:1; fill:none\" points=\"\n",
       "  276.66,191.244 420.66,191.244 \n",
       "  \"/>\n",
       "<path clip-path=\"url(#clip1100)\" d=\"M360.66 215.244 L343.692 208.212 L336.66 191.244 L343.692 174.276 L360.66 167.244 L377.628 174.276 L384.66 191.244 L377.628 208.212 Z\" fill=\"#009af9\" fill-rule=\"evenodd\" fill-opacity=\"1\" stroke=\"#000000\" stroke-opacity=\"1\" stroke-width=\"3.2\"/>\n",
       "<g clip-path=\"url(#clip1100)\">\n",
       "<text style=\"fill:#000000; fill-opacity:1; font-family:Arial,Helvetica Neue,Helvetica,sans-serif; font-size:48px; text-anchor:start;\" transform=\"rotate(0, 444.66, 208.744)\" x=\"444.66\" y=\"208.744\">I[n]</text>\n",
       "</g>\n",
       "</svg>\n"
      ]
     },
     "execution_count": 29,
     "metadata": {},
     "output_type": "execute_result"
    }
   ],
   "source": [
    "plot(I, m=:o, label=\"I[n]\", legend=:topleft)"
   ]
  },
  {
   "cell_type": "code",
   "execution_count": 30,
   "metadata": {},
   "outputs": [
    {
     "name": "stdout",
     "output_type": "stream",
     "text": [
      "(n, I[n]) = (1, 1.0)\n",
      "(n, I[n]) = (2, 1.01)\n",
      "(n, I[n]) = (3, 1.0201)\n",
      "(n, I[n]) = (4, 1.030301)\n",
      "(n, I[n]) = (5, 1.04060401)\n",
      "(n, I[n]) = (6, 1.0510100501)\n",
      "(n, I[n]) = (7, 1.061520150601)\n",
      "(n, I[n]) = (8, 1.0721353521070098)\n",
      "(n, I[n]) = (9, 1.08285670562808)\n"
     ]
    },
    {
     "ename": "BoundsError",
     "evalue": "BoundsError: attempt to access 10-element Array{Float64,1} at index [11]",
     "output_type": "error",
     "traceback": [
      "BoundsError: attempt to access 10-element Array{Float64,1} at index [11]",
      "",
      "Stacktrace:",
      " [1] setindex!(::Array{Float64,1}, ::Float64, ::Int64) at ./array.jl:825",
      " [2] top-level scope at ./In[30]:6"
     ]
    }
   ],
   "source": [
    "T = 20\n",
    "\n",
    "I = zeros(I)\n",
    "I[1] = I_0\n",
    "\n",
    "for n in 1:T-1\n",
    "    I[n+1] = λ * I[n]\n",
    "    @show n, I[n]\n",
    "end\n",
    "\n",
    "plot(I)"
   ]
  },
  {
   "cell_type": "markdown",
   "metadata": {},
   "source": [
    "## Functions"
   ]
  },
  {
   "cell_type": "code",
   "execution_count": 31,
   "metadata": {},
   "outputs": [
    {
     "data": {
      "text/plain": [
       "run_infection (generic function with 2 methods)"
      ]
     },
     "execution_count": 31,
     "metadata": {},
     "output_type": "execute_result"
    }
   ],
   "source": [
    "function run_infection(T=20)  # default\n",
    "\n",
    "    I = zeros(T)\n",
    "    I[1] = I_0\n",
    "\n",
    "    for n in 1:T-1\n",
    "        I[n+1] = λ * I[n]\n",
    "    end\n",
    "\n",
    "    return I\n",
    "end"
   ]
  },
  {
   "cell_type": "code",
   "execution_count": 32,
   "metadata": {},
   "outputs": [
    {
     "data": {
      "text/html": [
       "# 2 methods for generic function <b>run_infection</b>:<ul><li> run_infection() in Main at In[31]:3</li> <li> run_infection(T) in Main at In[31]:3</li> </ul>"
      ],
      "text/plain": [
       "# 2 methods for generic function \"run_infection\":\n",
       "[1] run_infection() in Main at In[31]:3\n",
       "[2] run_infection(T) in Main at In[31]:3"
      ]
     },
     "execution_count": 32,
     "metadata": {},
     "output_type": "execute_result"
    }
   ],
   "source": [
    "methods(run_infection)"
   ]
  },
  {
   "cell_type": "code",
   "execution_count": 33,
   "metadata": {},
   "outputs": [
    {
     "data": {
      "text/plain": [
       "10-element Array{Float64,1}:\n",
       " 1.0\n",
       " 1.01\n",
       " 1.0201\n",
       " 1.030301\n",
       " 1.04060401\n",
       " 1.0510100501\n",
       " 1.061520150601\n",
       " 1.0721353521070098\n",
       " 1.08285670562808\n",
       " 1.0936852726843609"
      ]
     },
     "execution_count": 33,
     "metadata": {},
     "output_type": "execute_result"
    }
   ],
   "source": [
    "run_infection(10)"
   ]
  },
  {
   "cell_type": "code",
   "execution_count": 34,
   "metadata": {},
   "outputs": [],
   "source": [
    "I_result = run_infection(10);"
   ]
  },
  {
   "cell_type": "code",
   "execution_count": 35,
   "metadata": {},
   "outputs": [
    {
     "data": {
      "text/plain": [
       "10-element Array{Float64,1}:\n",
       " 1.0\n",
       " 1.01\n",
       " 1.0201\n",
       " 1.030301\n",
       " 1.04060401\n",
       " 1.0510100501\n",
       " 1.061520150601\n",
       " 1.0721353521070098\n",
       " 1.08285670562808\n",
       " 1.0936852726843609"
      ]
     },
     "execution_count": 35,
     "metadata": {},
     "output_type": "execute_result"
    }
   ],
   "source": [
    "I_result"
   ]
  },
  {
   "cell_type": "markdown",
   "metadata": {},
   "source": [
    "**Always separate data generation from plotting!**"
   ]
  },
  {
   "cell_type": "code",
   "execution_count": 38,
   "metadata": {},
   "outputs": [
    {
     "data": {
      "image/svg+xml": [
       "<?xml version=\"1.0\" encoding=\"utf-8\"?>\n",
       "<svg xmlns=\"http://www.w3.org/2000/svg\" xmlns:xlink=\"http://www.w3.org/1999/xlink\" width=\"600\" height=\"400\" viewBox=\"0 0 2400 1600\">\n",
       "<defs>\n",
       "  <clipPath id=\"clip2300\">\n",
       "    <rect x=\"0\" y=\"0\" width=\"2400\" height=\"1600\"/>\n",
       "  </clipPath>\n",
       "</defs>\n",
       "<path clip-path=\"url(#clip2300)\" d=\"\n",
       "M0 1600 L2400 1600 L2400 0 L0 0  Z\n",
       "  \" fill=\"#ffffff\" fill-rule=\"evenodd\" fill-opacity=\"1\"/>\n",
       "<defs>\n",
       "  <clipPath id=\"clip2301\">\n",
       "    <rect x=\"480\" y=\"0\" width=\"1681\" height=\"1600\"/>\n",
       "  </clipPath>\n",
       "</defs>\n",
       "<path clip-path=\"url(#clip2300)\" d=\"\n",
       "M180.66 1487.47 L2352.76 1487.47 L2352.76 47.2441 L180.66 47.2441  Z\n",
       "  \" fill=\"#ffffff\" fill-rule=\"evenodd\" fill-opacity=\"1\"/>\n",
       "<defs>\n",
       "  <clipPath id=\"clip2302\">\n",
       "    <rect x=\"180\" y=\"47\" width=\"2173\" height=\"1441\"/>\n",
       "  </clipPath>\n",
       "</defs>\n",
       "<polyline clip-path=\"url(#clip2302)\" style=\"stroke:#000000; stroke-width:2; stroke-opacity:0.1; fill:none\" points=\"\n",
       "  673.534,1487.47 673.534,47.2441 \n",
       "  \"/>\n",
       "<polyline clip-path=\"url(#clip2302)\" style=\"stroke:#000000; stroke-width:2; stroke-opacity:0.1; fill:none\" points=\"\n",
       "  1212.78,1487.47 1212.78,47.2441 \n",
       "  \"/>\n",
       "<polyline clip-path=\"url(#clip2302)\" style=\"stroke:#000000; stroke-width:2; stroke-opacity:0.1; fill:none\" points=\"\n",
       "  1752.03,1487.47 1752.03,47.2441 \n",
       "  \"/>\n",
       "<polyline clip-path=\"url(#clip2302)\" style=\"stroke:#000000; stroke-width:2; stroke-opacity:0.1; fill:none\" points=\"\n",
       "  2291.28,1487.47 2291.28,47.2441 \n",
       "  \"/>\n",
       "<polyline clip-path=\"url(#clip2302)\" style=\"stroke:#000000; stroke-width:2; stroke-opacity:0.1; fill:none\" points=\"\n",
       "  180.66,1446.71 2352.76,1446.71 \n",
       "  \"/>\n",
       "<polyline clip-path=\"url(#clip2302)\" style=\"stroke:#000000; stroke-width:2; stroke-opacity:0.1; fill:none\" points=\"\n",
       "  180.66,1120.27 2352.76,1120.27 \n",
       "  \"/>\n",
       "<polyline clip-path=\"url(#clip2302)\" style=\"stroke:#000000; stroke-width:2; stroke-opacity:0.1; fill:none\" points=\"\n",
       "  180.66,793.83 2352.76,793.83 \n",
       "  \"/>\n",
       "<polyline clip-path=\"url(#clip2302)\" style=\"stroke:#000000; stroke-width:2; stroke-opacity:0.1; fill:none\" points=\"\n",
       "  180.66,467.389 2352.76,467.389 \n",
       "  \"/>\n",
       "<polyline clip-path=\"url(#clip2302)\" style=\"stroke:#000000; stroke-width:2; stroke-opacity:0.1; fill:none\" points=\"\n",
       "  180.66,140.947 2352.76,140.947 \n",
       "  \"/>\n",
       "<polyline clip-path=\"url(#clip2300)\" style=\"stroke:#000000; stroke-width:4; stroke-opacity:1; fill:none\" points=\"\n",
       "  180.66,1487.47 2352.76,1487.47 \n",
       "  \"/>\n",
       "<polyline clip-path=\"url(#clip2300)\" style=\"stroke:#000000; stroke-width:4; stroke-opacity:1; fill:none\" points=\"\n",
       "  180.66,1487.47 180.66,47.2441 \n",
       "  \"/>\n",
       "<polyline clip-path=\"url(#clip2300)\" style=\"stroke:#000000; stroke-width:4; stroke-opacity:1; fill:none\" points=\"\n",
       "  673.534,1487.47 673.534,1470.19 \n",
       "  \"/>\n",
       "<polyline clip-path=\"url(#clip2300)\" style=\"stroke:#000000; stroke-width:4; stroke-opacity:1; fill:none\" points=\"\n",
       "  1212.78,1487.47 1212.78,1470.19 \n",
       "  \"/>\n",
       "<polyline clip-path=\"url(#clip2300)\" style=\"stroke:#000000; stroke-width:4; stroke-opacity:1; fill:none\" points=\"\n",
       "  1752.03,1487.47 1752.03,1470.19 \n",
       "  \"/>\n",
       "<polyline clip-path=\"url(#clip2300)\" style=\"stroke:#000000; stroke-width:4; stroke-opacity:1; fill:none\" points=\"\n",
       "  2291.28,1487.47 2291.28,1470.19 \n",
       "  \"/>\n",
       "<polyline clip-path=\"url(#clip2300)\" style=\"stroke:#000000; stroke-width:4; stroke-opacity:1; fill:none\" points=\"\n",
       "  180.66,1446.71 206.725,1446.71 \n",
       "  \"/>\n",
       "<polyline clip-path=\"url(#clip2300)\" style=\"stroke:#000000; stroke-width:4; stroke-opacity:1; fill:none\" points=\"\n",
       "  180.66,1120.27 206.725,1120.27 \n",
       "  \"/>\n",
       "<polyline clip-path=\"url(#clip2300)\" style=\"stroke:#000000; stroke-width:4; stroke-opacity:1; fill:none\" points=\"\n",
       "  180.66,793.83 206.725,793.83 \n",
       "  \"/>\n",
       "<polyline clip-path=\"url(#clip2300)\" style=\"stroke:#000000; stroke-width:4; stroke-opacity:1; fill:none\" points=\"\n",
       "  180.66,467.389 206.725,467.389 \n",
       "  \"/>\n",
       "<polyline clip-path=\"url(#clip2300)\" style=\"stroke:#000000; stroke-width:4; stroke-opacity:1; fill:none\" points=\"\n",
       "  180.66,140.947 206.725,140.947 \n",
       "  \"/>\n",
       "<g clip-path=\"url(#clip2300)\">\n",
       "<text style=\"fill:#000000; fill-opacity:1; font-family:Arial,Helvetica Neue,Helvetica,sans-serif; font-size:48px; text-anchor:middle;\" transform=\"rotate(0, 673.534, 1541.47)\" x=\"673.534\" y=\"1541.47\">5</text>\n",
       "</g>\n",
       "<g clip-path=\"url(#clip2300)\">\n",
       "<text style=\"fill:#000000; fill-opacity:1; font-family:Arial,Helvetica Neue,Helvetica,sans-serif; font-size:48px; text-anchor:middle;\" transform=\"rotate(0, 1212.78, 1541.47)\" x=\"1212.78\" y=\"1541.47\">10</text>\n",
       "</g>\n",
       "<g clip-path=\"url(#clip2300)\">\n",
       "<text style=\"fill:#000000; fill-opacity:1; font-family:Arial,Helvetica Neue,Helvetica,sans-serif; font-size:48px; text-anchor:middle;\" transform=\"rotate(0, 1752.03, 1541.47)\" x=\"1752.03\" y=\"1541.47\">15</text>\n",
       "</g>\n",
       "<g clip-path=\"url(#clip2300)\">\n",
       "<text style=\"fill:#000000; fill-opacity:1; font-family:Arial,Helvetica Neue,Helvetica,sans-serif; font-size:48px; text-anchor:middle;\" transform=\"rotate(0, 2291.28, 1541.47)\" x=\"2291.28\" y=\"1541.47\">20</text>\n",
       "</g>\n",
       "<g clip-path=\"url(#clip2300)\">\n",
       "<text style=\"fill:#000000; fill-opacity:1; font-family:Arial,Helvetica Neue,Helvetica,sans-serif; font-size:48px; text-anchor:end;\" transform=\"rotate(0, 156.66, 1464.21)\" x=\"156.66\" y=\"1464.21\">1.00</text>\n",
       "</g>\n",
       "<g clip-path=\"url(#clip2300)\">\n",
       "<text style=\"fill:#000000; fill-opacity:1; font-family:Arial,Helvetica Neue,Helvetica,sans-serif; font-size:48px; text-anchor:end;\" transform=\"rotate(0, 156.66, 1137.77)\" x=\"156.66\" y=\"1137.77\">1.05</text>\n",
       "</g>\n",
       "<g clip-path=\"url(#clip2300)\">\n",
       "<text style=\"fill:#000000; fill-opacity:1; font-family:Arial,Helvetica Neue,Helvetica,sans-serif; font-size:48px; text-anchor:end;\" transform=\"rotate(0, 156.66, 811.33)\" x=\"156.66\" y=\"811.33\">1.10</text>\n",
       "</g>\n",
       "<g clip-path=\"url(#clip2300)\">\n",
       "<text style=\"fill:#000000; fill-opacity:1; font-family:Arial,Helvetica Neue,Helvetica,sans-serif; font-size:48px; text-anchor:end;\" transform=\"rotate(0, 156.66, 484.889)\" x=\"156.66\" y=\"484.889\">1.15</text>\n",
       "</g>\n",
       "<g clip-path=\"url(#clip2300)\">\n",
       "<text style=\"fill:#000000; fill-opacity:1; font-family:Arial,Helvetica Neue,Helvetica,sans-serif; font-size:48px; text-anchor:end;\" transform=\"rotate(0, 156.66, 158.447)\" x=\"156.66\" y=\"158.447\">1.20</text>\n",
       "</g>\n",
       "<polyline clip-path=\"url(#clip2302)\" style=\"stroke:#009af9; stroke-width:4; stroke-opacity:1; fill:none\" points=\"\n",
       "  242.135,1446.71 349.985,1381.43 457.834,1315.48 565.684,1248.88 673.534,1181.62 781.384,1113.68 889.234,1045.06 997.084,975.754 1104.93,905.756 1212.78,835.058 \n",
       "  1320.63,763.653 1428.48,691.534 1536.33,618.694 1644.18,545.126 1752.03,470.822 1859.88,395.774 1967.73,319.977 2075.58,243.421 2183.43,166.1 2291.28,88.0053 \n",
       "  \n",
       "  \"/>\n",
       "<path clip-path=\"url(#clip2302)\" d=\"M242.135 1462.71 L230.823 1458.03 L226.135 1446.71 L230.823 1435.4 L242.135 1430.71 L253.447 1435.4 L258.135 1446.71 L253.447 1458.03 Z\" fill=\"#009af9\" fill-rule=\"evenodd\" fill-opacity=\"1\" stroke=\"#000000\" stroke-opacity=\"1\" stroke-width=\"3.2\"/>\n",
       "<path clip-path=\"url(#clip2302)\" d=\"M349.985 1397.43 L338.673 1392.74 L333.985 1381.43 L338.673 1370.11 L349.985 1365.43 L361.297 1370.11 L365.985 1381.43 L361.297 1392.74 Z\" fill=\"#009af9\" fill-rule=\"evenodd\" fill-opacity=\"1\" stroke=\"#000000\" stroke-opacity=\"1\" stroke-width=\"3.2\"/>\n",
       "<path clip-path=\"url(#clip2302)\" d=\"M457.834 1331.48 L446.522 1326.8 L441.834 1315.48 L446.522 1304.17 L457.834 1299.48 L469.146 1304.17 L473.834 1315.48 L469.146 1326.8 Z\" fill=\"#009af9\" fill-rule=\"evenodd\" fill-opacity=\"1\" stroke=\"#000000\" stroke-opacity=\"1\" stroke-width=\"3.2\"/>\n",
       "<path clip-path=\"url(#clip2302)\" d=\"M565.684 1264.88 L554.372 1260.2 L549.684 1248.88 L554.372 1237.57 L565.684 1232.88 L576.996 1237.57 L581.684 1248.88 L576.996 1260.2 Z\" fill=\"#009af9\" fill-rule=\"evenodd\" fill-opacity=\"1\" stroke=\"#000000\" stroke-opacity=\"1\" stroke-width=\"3.2\"/>\n",
       "<path clip-path=\"url(#clip2302)\" d=\"M673.534 1197.62 L662.222 1192.93 L657.534 1181.62 L662.222 1170.3 L673.534 1165.62 L684.846 1170.3 L689.534 1181.62 L684.846 1192.93 Z\" fill=\"#009af9\" fill-rule=\"evenodd\" fill-opacity=\"1\" stroke=\"#000000\" stroke-opacity=\"1\" stroke-width=\"3.2\"/>\n",
       "<path clip-path=\"url(#clip2302)\" d=\"M781.384 1129.68 L770.072 1124.99 L765.384 1113.68 L770.072 1102.37 L781.384 1097.68 L792.696 1102.37 L797.384 1113.68 L792.696 1124.99 Z\" fill=\"#009af9\" fill-rule=\"evenodd\" fill-opacity=\"1\" stroke=\"#000000\" stroke-opacity=\"1\" stroke-width=\"3.2\"/>\n",
       "<path clip-path=\"url(#clip2302)\" d=\"M889.234 1061.06 L877.922 1056.37 L873.234 1045.06 L877.922 1033.75 L889.234 1029.06 L900.546 1033.75 L905.234 1045.06 L900.546 1056.37 Z\" fill=\"#009af9\" fill-rule=\"evenodd\" fill-opacity=\"1\" stroke=\"#000000\" stroke-opacity=\"1\" stroke-width=\"3.2\"/>\n",
       "<path clip-path=\"url(#clip2302)\" d=\"M997.084 991.754 L985.772 987.066 L981.084 975.754 L985.772 964.442 L997.084 959.754 L1008.4 964.442 L1013.08 975.754 L1008.4 987.066 Z\" fill=\"#009af9\" fill-rule=\"evenodd\" fill-opacity=\"1\" stroke=\"#000000\" stroke-opacity=\"1\" stroke-width=\"3.2\"/>\n",
       "<path clip-path=\"url(#clip2302)\" d=\"M1104.93 921.756 L1093.62 917.068 L1088.93 905.756 L1093.62 894.444 L1104.93 889.756 L1116.25 894.444 L1120.93 905.756 L1116.25 917.068 Z\" fill=\"#009af9\" fill-rule=\"evenodd\" fill-opacity=\"1\" stroke=\"#000000\" stroke-opacity=\"1\" stroke-width=\"3.2\"/>\n",
       "<path clip-path=\"url(#clip2302)\" d=\"M1212.78 851.058 L1201.47 846.37 L1196.78 835.058 L1201.47 823.746 L1212.78 819.058 L1224.1 823.746 L1228.78 835.058 L1224.1 846.37 Z\" fill=\"#009af9\" fill-rule=\"evenodd\" fill-opacity=\"1\" stroke=\"#000000\" stroke-opacity=\"1\" stroke-width=\"3.2\"/>\n",
       "<path clip-path=\"url(#clip2302)\" d=\"M1320.63 779.653 L1309.32 774.965 L1304.63 763.653 L1309.32 752.341 L1320.63 747.653 L1331.95 752.341 L1336.63 763.653 L1331.95 774.965 Z\" fill=\"#009af9\" fill-rule=\"evenodd\" fill-opacity=\"1\" stroke=\"#000000\" stroke-opacity=\"1\" stroke-width=\"3.2\"/>\n",
       "<path clip-path=\"url(#clip2302)\" d=\"M1428.48 707.534 L1417.17 702.846 L1412.48 691.534 L1417.17 680.222 L1428.48 675.534 L1439.79 680.222 L1444.48 691.534 L1439.79 702.846 Z\" fill=\"#009af9\" fill-rule=\"evenodd\" fill-opacity=\"1\" stroke=\"#000000\" stroke-opacity=\"1\" stroke-width=\"3.2\"/>\n",
       "<path clip-path=\"url(#clip2302)\" d=\"M1536.33 634.694 L1525.02 630.006 L1520.33 618.694 L1525.02 607.382 L1536.33 602.694 L1547.64 607.382 L1552.33 618.694 L1547.64 630.006 Z\" fill=\"#009af9\" fill-rule=\"evenodd\" fill-opacity=\"1\" stroke=\"#000000\" stroke-opacity=\"1\" stroke-width=\"3.2\"/>\n",
       "<path clip-path=\"url(#clip2302)\" d=\"M1644.18 561.126 L1632.87 556.438 L1628.18 545.126 L1632.87 533.814 L1644.18 529.126 L1655.49 533.814 L1660.18 545.126 L1655.49 556.438 Z\" fill=\"#009af9\" fill-rule=\"evenodd\" fill-opacity=\"1\" stroke=\"#000000\" stroke-opacity=\"1\" stroke-width=\"3.2\"/>\n",
       "<path clip-path=\"url(#clip2302)\" d=\"M1752.03 486.822 L1740.72 482.134 L1736.03 470.822 L1740.72 459.51 L1752.03 454.822 L1763.34 459.51 L1768.03 470.822 L1763.34 482.134 Z\" fill=\"#009af9\" fill-rule=\"evenodd\" fill-opacity=\"1\" stroke=\"#000000\" stroke-opacity=\"1\" stroke-width=\"3.2\"/>\n",
       "<path clip-path=\"url(#clip2302)\" d=\"M1859.88 411.774 L1848.57 407.086 L1843.88 395.774 L1848.57 384.462 L1859.88 379.774 L1871.19 384.462 L1875.88 395.774 L1871.19 407.086 Z\" fill=\"#009af9\" fill-rule=\"evenodd\" fill-opacity=\"1\" stroke=\"#000000\" stroke-opacity=\"1\" stroke-width=\"3.2\"/>\n",
       "<path clip-path=\"url(#clip2302)\" d=\"M1967.73 335.977 L1956.42 331.289 L1951.73 319.977 L1956.42 308.665 L1967.73 303.977 L1979.04 308.665 L1983.73 319.977 L1979.04 331.289 Z\" fill=\"#009af9\" fill-rule=\"evenodd\" fill-opacity=\"1\" stroke=\"#000000\" stroke-opacity=\"1\" stroke-width=\"3.2\"/>\n",
       "<path clip-path=\"url(#clip2302)\" d=\"M2075.58 259.421 L2064.27 254.733 L2059.58 243.421 L2064.27 232.109 L2075.58 227.421 L2086.89 232.109 L2091.58 243.421 L2086.89 254.733 Z\" fill=\"#009af9\" fill-rule=\"evenodd\" fill-opacity=\"1\" stroke=\"#000000\" stroke-opacity=\"1\" stroke-width=\"3.2\"/>\n",
       "<path clip-path=\"url(#clip2302)\" d=\"M2183.43 182.1 L2172.12 177.412 L2167.43 166.1 L2172.12 154.788 L2183.43 150.1 L2194.74 154.788 L2199.43 166.1 L2194.74 177.412 Z\" fill=\"#009af9\" fill-rule=\"evenodd\" fill-opacity=\"1\" stroke=\"#000000\" stroke-opacity=\"1\" stroke-width=\"3.2\"/>\n",
       "<path clip-path=\"url(#clip2302)\" d=\"M2291.28 104.005 L2279.97 99.3173 L2275.28 88.0053 L2279.97 76.6933 L2291.28 72.0053 L2302.59 76.6933 L2307.28 88.0053 L2302.59 99.3173 Z\" fill=\"#009af9\" fill-rule=\"evenodd\" fill-opacity=\"1\" stroke=\"#000000\" stroke-opacity=\"1\" stroke-width=\"3.2\"/>\n",
       "<path clip-path=\"url(#clip2300)\" d=\"\n",
       "M1989.93 251.724 L2280.76 251.724 L2280.76 130.764 L1989.93 130.764  Z\n",
       "  \" fill=\"#ffffff\" fill-rule=\"evenodd\" fill-opacity=\"1\"/>\n",
       "<polyline clip-path=\"url(#clip2300)\" style=\"stroke:#000000; stroke-width:4; stroke-opacity:1; fill:none\" points=\"\n",
       "  1989.93,251.724 2280.76,251.724 2280.76,130.764 1989.93,130.764 1989.93,251.724 \n",
       "  \"/>\n",
       "<polyline clip-path=\"url(#clip2300)\" style=\"stroke:#009af9; stroke-width:4; stroke-opacity:1; fill:none\" points=\"\n",
       "  2013.93,191.244 2157.93,191.244 \n",
       "  \"/>\n",
       "<path clip-path=\"url(#clip2300)\" d=\"M2097.93 215.244 L2080.96 208.212 L2073.93 191.244 L2080.96 174.276 L2097.93 167.244 L2114.89 174.276 L2121.93 191.244 L2114.89 208.212 Z\" fill=\"#009af9\" fill-rule=\"evenodd\" fill-opacity=\"1\" stroke=\"#000000\" stroke-opacity=\"1\" stroke-width=\"3.2\"/>\n",
       "<g clip-path=\"url(#clip2300)\">\n",
       "<text style=\"fill:#000000; fill-opacity:1; font-family:Arial,Helvetica Neue,Helvetica,sans-serif; font-size:48px; text-anchor:start;\" transform=\"rotate(0, 2181.93, 208.744)\" x=\"2181.93\" y=\"208.744\">y1</text>\n",
       "</g>\n",
       "</svg>\n"
      ]
     },
     "execution_count": 38,
     "metadata": {},
     "output_type": "execute_result"
    }
   ],
   "source": [
    "I_result = run_infection(20)\n",
    "\n",
    "plot(I_result, m=:o)"
   ]
  },
  {
   "cell_type": "code",
   "execution_count": 39,
   "metadata": {},
   "outputs": [
    {
     "data": {
      "text/html": [
       "<script>\n",
       "// Immediately-invoked-function-expression to avoid global variables.\n",
       "(function() {\n",
       "    var warning_div = document.getElementById(\"webio-warning-8708396207414253126\");\n",
       "    var hide = function () {\n",
       "        var script = document.getElementById(\"webio-setup-9399351997869588815\");\n",
       "        var parent = script && script.parentElement;\n",
       "        var grandparent = parent && parent.parentElement;\n",
       "        if (grandparent) {\n",
       "            grandparent.style.display = \"none\";\n",
       "        }\n",
       "        warning_div.style.display = \"none\";\n",
       "    };\n",
       "    if (typeof Jupyter !== \"undefined\") {\n",
       "        console.log(\"WebIO detected Jupyter notebook environment.\");\n",
       "        // Jupyter notebook.\n",
       "        var extensions = (\n",
       "            Jupyter\n",
       "            && Jupyter.notebook.config.data\n",
       "            && Jupyter.notebook.config.data.load_extensions\n",
       "        );\n",
       "        if (extensions && extensions[\"webio-jupyter-notebook\"]) {\n",
       "            // Extension already loaded.\n",
       "            console.log(\"Jupyter WebIO nbextension detected; not loading ad-hoc.\");\n",
       "            hide();\n",
       "            return;\n",
       "        }\n",
       "    } else if (window.location.pathname.includes(\"/lab\")) {\n",
       "        // Guessing JupyterLa\n",
       "        console.log(\"Jupyter Lab detected; make sure the @webio/jupyter-lab-provider labextension is installed.\");\n",
       "        hide();\n",
       "        return;\n",
       "    }\n",
       "})();\n",
       "\n",
       "</script>\n",
       "<p\n",
       "    id=\"webio-warning-8708396207414253126\"\n",
       "    class=\"output_text output_stderr\"\n",
       "    style=\"padding: 1em; font-weight: bold;\"\n",
       ">\n",
       "    Unable to load WebIO. Please make sure WebIO works for your Jupyter client.\n",
       "    For troubleshooting, please see <a href=\"https://juliagizmos.github.io/WebIO.jl/latest/providers/ijulia/\">\n",
       "    the WebIO/IJulia documentation</a>.\n",
       "    <!-- TODO: link to installation docs. -->\n",
       "</p>\n"
      ],
      "text/plain": [
       "HTML{String}(\"<script>\\n// Immediately-invoked-function-expression to avoid global variables.\\n(function() {\\n    var warning_div = document.getElementById(\\\"webio-warning-8708396207414253126\\\");\\n    var hide = function () {\\n        var script = document.getElementById(\\\"webio-setup-9399351997869588815\\\");\\n        var parent = script && script.parentElement;\\n        var grandparent = parent && parent.parentElement;\\n        if (grandparent) {\\n            grandparent.style.display = \\\"none\\\";\\n        }\\n        warning_div.style.display = \\\"none\\\";\\n    };\\n    if (typeof Jupyter !== \\\"undefined\\\") {\\n        console.log(\\\"WebIO detected Jupyter notebook environment.\\\");\\n        // Jupyter notebook.\\n        var extensions = (\\n            Jupyter\\n            && Jupyter.notebook.config.data\\n            && Jupyter.notebook.config.data.load_extensions\\n        );\\n        if (extensions && extensions[\\\"webio-jupyter-notebook\\\"]) {\\n            // Extension already loaded.\\n            console.log(\\\"Jupyter WebIO nbextension detected; not loading ad-hoc.\\\");\\n            hide();\\n            return;\\n        }\\n    } else if (window.location.pathname.includes(\\\"/lab\\\")) {\\n        // Guessing JupyterLa\\n        console.log(\\\"Jupyter Lab detected; make sure the @webio/jupyter-lab-provider labextension is installed.\\\");\\n        hide();\\n        return;\\n    }\\n})();\\n\\n</script>\\n<p\\n    id=\\\"webio-warning-8708396207414253126\\\"\\n    class=\\\"output_text output_stderr\\\"\\n    style=\\\"padding: 1em; font-weight: bold;\\\"\\n>\\n    Unable to load WebIO. Please make sure WebIO works for your Jupyter client.\\n    For troubleshooting, please see <a href=\\\"https://juliagizmos.github.io/WebIO.jl/latest/providers/ijulia/\\\">\\n    the WebIO/IJulia documentation</a>.\\n    <!-- TODO: link to installation docs. -->\\n</p>\\n\")"
      ]
     },
     "metadata": {},
     "output_type": "display_data"
    }
   ],
   "source": [
    "using Interact"
   ]
  },
  {
   "cell_type": "code",
   "execution_count": 44,
   "metadata": {},
   "outputs": [
    {
     "data": {
      "application/vnd.webio.node+json": {
       "children": [
        {
         "children": [
          {
           "children": [
            {
             "children": [
              {
               "children": [
                {
                 "children": [
                  ""
                 ],
                 "instanceArgs": {
                  "namespace": "html",
                  "tag": "label"
                 },
                 "nodeType": "DOM",
                 "props": {
                  "className": "interact ",
                  "style": {
                   "padding": "5px 10px 0px 10px"
                  }
                 },
                 "type": "node"
                }
               ],
               "instanceArgs": {
                "namespace": "html",
                "tag": "div"
               },
               "nodeType": "DOM",
               "props": {
                "className": "interact-flex-row-left"
               },
               "type": "node"
              },
              {
               "children": [
                {
                 "children": [],
                 "instanceArgs": {
                  "namespace": "html",
                  "tag": "input"
                 },
                 "nodeType": "DOM",
                 "props": {
                  "attributes": {
                   "data-bind": "numericValue: index, valueUpdate: 'input', event: {change: function (){this.changes(this.changes()+1)}}",
                   "orient": "horizontal",
                   "type": "range"
                  },
                  "className": "slider slider is-fullwidth",
                  "max": 1000,
                  "min": 1,
                  "step": 1,
                  "style": {}
                 },
                 "type": "node"
                }
               ],
               "instanceArgs": {
                "namespace": "html",
                "tag": "div"
               },
               "nodeType": "DOM",
               "props": {
                "className": "interact-flex-row-center"
               },
               "type": "node"
              },
              {
               "children": [
                {
                 "children": [],
                 "instanceArgs": {
                  "namespace": "html",
                  "tag": "p"
                 },
                 "nodeType": "DOM",
                 "props": {
                  "attributes": {
                   "data-bind": "text: formatted_val"
                  }
                 },
                 "type": "node"
                }
               ],
               "instanceArgs": {
                "namespace": "html",
                "tag": "div"
               },
               "nodeType": "DOM",
               "props": {
                "className": "interact-flex-row-right"
               },
               "type": "node"
              }
             ],
             "instanceArgs": {
              "namespace": "html",
              "tag": "div"
             },
             "nodeType": "DOM",
             "props": {
              "className": "interact-flex-row interact-widget"
             },
             "type": "node"
            }
           ],
           "instanceArgs": {
            "handlers": {
             "changes": [
              "(function (val){return (val!=this.model[\"changes\"]()) ? (this.valueFromJulia[\"changes\"]=true, this.model[\"changes\"](val)) : undefined})"
             ],
             "index": [
              "(function (val){return (val!=this.model[\"index\"]()) ? (this.valueFromJulia[\"index\"]=true, this.model[\"index\"](val)) : undefined})"
             ]
            },
            "id": "12081152369788741163",
            "imports": {
             "data": [
              {
               "name": "knockout",
               "type": "js",
               "url": "/assetserver/800fa077652c804a9c5f68b6c1e29c6c61f85df7-knockout.js"
              },
              {
               "name": "knockout_punches",
               "type": "js",
               "url": "/assetserver/81e3f253b58efa296c3c65b00e2bf7b25de6cca9-knockout_punches.js"
              },
              {
               "name": null,
               "type": "js",
               "url": "/assetserver/5d2042c6908ffff0b7c8d26135740476bcf00827-all.js"
              },
              {
               "name": null,
               "type": "css",
               "url": "/assetserver/87ad319ae61de5d44f67c268a0a8f65862fca478-style.css"
              },
              {
               "name": null,
               "type": "css",
               "url": "/assetserver/a062b31556f81f574879e47f48c7fae2687f3c82-bulma_confined.min.css"
              }
             ],
             "type": "async_block"
            },
            "mount_callbacks": [
             "function () {\n    var handler = (function (ko, koPunches) {\n    ko.punches.enableAll();\n    ko.bindingHandlers.numericValue = {\n        init: function(element, valueAccessor, allBindings, data, context) {\n            var stringified = ko.observable(ko.unwrap(valueAccessor()));\n            stringified.subscribe(function(value) {\n                var val = parseFloat(value);\n                if (!isNaN(val)) {\n                    valueAccessor()(val);\n                }\n            });\n            valueAccessor().subscribe(function(value) {\n                var str = JSON.stringify(value);\n                if ((str == \"0\") && ([\"-0\", \"-0.\"].indexOf(stringified()) >= 0))\n                     return;\n                 if ([\"null\", \"\"].indexOf(str) >= 0)\n                     return;\n                stringified(str);\n            });\n            ko.applyBindingsToNode(\n                element,\n                {\n                    value: stringified,\n                    valueUpdate: allBindings.get('valueUpdate'),\n                },\n                context,\n            );\n        }\n    };\n    var json_data = {\"formatted_vals\":[\"1\",\"2\",\"3\",\"4\",\"5\",\"6\",\"7\",\"8\",\"9\",\"10\",\"11\",\"12\",\"13\",\"14\",\"15\",\"16\",\"17\",\"18\",\"19\",\"20\",\"21\",\"22\",\"23\",\"24\",\"25\",\"26\",\"27\",\"28\",\"29\",\"30\",\"31\",\"32\",\"33\",\"34\",\"35\",\"36\",\"37\",\"38\",\"39\",\"40\",\"41\",\"42\",\"43\",\"44\",\"45\",\"46\",\"47\",\"48\",\"49\",\"50\",\"51\",\"52\",\"53\",\"54\",\"55\",\"56\",\"57\",\"58\",\"59\",\"60\",\"61\",\"62\",\"63\",\"64\",\"65\",\"66\",\"67\",\"68\",\"69\",\"70\",\"71\",\"72\",\"73\",\"74\",\"75\",\"76\",\"77\",\"78\",\"79\",\"80\",\"81\",\"82\",\"83\",\"84\",\"85\",\"86\",\"87\",\"88\",\"89\",\"90\",\"91\",\"92\",\"93\",\"94\",\"95\",\"96\",\"97\",\"98\",\"99\",\"100\",\"101\",\"102\",\"103\",\"104\",\"105\",\"106\",\"107\",\"108\",\"109\",\"110\",\"111\",\"112\",\"113\",\"114\",\"115\",\"116\",\"117\",\"118\",\"119\",\"120\",\"121\",\"122\",\"123\",\"124\",\"125\",\"126\",\"127\",\"128\",\"129\",\"130\",\"131\",\"132\",\"133\",\"134\",\"135\",\"136\",\"137\",\"138\",\"139\",\"140\",\"141\",\"142\",\"143\",\"144\",\"145\",\"146\",\"147\",\"148\",\"149\",\"150\",\"151\",\"152\",\"153\",\"154\",\"155\",\"156\",\"157\",\"158\",\"159\",\"160\",\"161\",\"162\",\"163\",\"164\",\"165\",\"166\",\"167\",\"168\",\"169\",\"170\",\"171\",\"172\",\"173\",\"174\",\"175\",\"176\",\"177\",\"178\",\"179\",\"180\",\"181\",\"182\",\"183\",\"184\",\"185\",\"186\",\"187\",\"188\",\"189\",\"190\",\"191\",\"192\",\"193\",\"194\",\"195\",\"196\",\"197\",\"198\",\"199\",\"200\",\"201\",\"202\",\"203\",\"204\",\"205\",\"206\",\"207\",\"208\",\"209\",\"210\",\"211\",\"212\",\"213\",\"214\",\"215\",\"216\",\"217\",\"218\",\"219\",\"220\",\"221\",\"222\",\"223\",\"224\",\"225\",\"226\",\"227\",\"228\",\"229\",\"230\",\"231\",\"232\",\"233\",\"234\",\"235\",\"236\",\"237\",\"238\",\"239\",\"240\",\"241\",\"242\",\"243\",\"244\",\"245\",\"246\",\"247\",\"248\",\"249\",\"250\",\"251\",\"252\",\"253\",\"254\",\"255\",\"256\",\"257\",\"258\",\"259\",\"260\",\"261\",\"262\",\"263\",\"264\",\"265\",\"266\",\"267\",\"268\",\"269\",\"270\",\"271\",\"272\",\"273\",\"274\",\"275\",\"276\",\"277\",\"278\",\"279\",\"280\",\"281\",\"282\",\"283\",\"284\",\"285\",\"286\",\"287\",\"288\",\"289\",\"290\",\"291\",\"292\",\"293\",\"294\",\"295\",\"296\",\"297\",\"298\",\"299\",\"300\",\"301\",\"302\",\"303\",\"304\",\"305\",\"306\",\"307\",\"308\",\"309\",\"310\",\"311\",\"312\",\"313\",\"314\",\"315\",\"316\",\"317\",\"318\",\"319\",\"320\",\"321\",\"322\",\"323\",\"324\",\"325\",\"326\",\"327\",\"328\",\"329\",\"330\",\"331\",\"332\",\"333\",\"334\",\"335\",\"336\",\"337\",\"338\",\"339\",\"340\",\"341\",\"342\",\"343\",\"344\",\"345\",\"346\",\"347\",\"348\",\"349\",\"350\",\"351\",\"352\",\"353\",\"354\",\"355\",\"356\",\"357\",\"358\",\"359\",\"360\",\"361\",\"362\",\"363\",\"364\",\"365\",\"366\",\"367\",\"368\",\"369\",\"370\",\"371\",\"372\",\"373\",\"374\",\"375\",\"376\",\"377\",\"378\",\"379\",\"380\",\"381\",\"382\",\"383\",\"384\",\"385\",\"386\",\"387\",\"388\",\"389\",\"390\",\"391\",\"392\",\"393\",\"394\",\"395\",\"396\",\"397\",\"398\",\"399\",\"400\",\"401\",\"402\",\"403\",\"404\",\"405\",\"406\",\"407\",\"408\",\"409\",\"410\",\"411\",\"412\",\"413\",\"414\",\"415\",\"416\",\"417\",\"418\",\"419\",\"420\",\"421\",\"422\",\"423\",\"424\",\"425\",\"426\",\"427\",\"428\",\"429\",\"430\",\"431\",\"432\",\"433\",\"434\",\"435\",\"436\",\"437\",\"438\",\"439\",\"440\",\"441\",\"442\",\"443\",\"444\",\"445\",\"446\",\"447\",\"448\",\"449\",\"450\",\"451\",\"452\",\"453\",\"454\",\"455\",\"456\",\"457\",\"458\",\"459\",\"460\",\"461\",\"462\",\"463\",\"464\",\"465\",\"466\",\"467\",\"468\",\"469\",\"470\",\"471\",\"472\",\"473\",\"474\",\"475\",\"476\",\"477\",\"478\",\"479\",\"480\",\"481\",\"482\",\"483\",\"484\",\"485\",\"486\",\"487\",\"488\",\"489\",\"490\",\"491\",\"492\",\"493\",\"494\",\"495\",\"496\",\"497\",\"498\",\"499\",\"500\",\"501\",\"502\",\"503\",\"504\",\"505\",\"506\",\"507\",\"508\",\"509\",\"510\",\"511\",\"512\",\"513\",\"514\",\"515\",\"516\",\"517\",\"518\",\"519\",\"520\",\"521\",\"522\",\"523\",\"524\",\"525\",\"526\",\"527\",\"528\",\"529\",\"530\",\"531\",\"532\",\"533\",\"534\",\"535\",\"536\",\"537\",\"538\",\"539\",\"540\",\"541\",\"542\",\"543\",\"544\",\"545\",\"546\",\"547\",\"548\",\"549\",\"550\",\"551\",\"552\",\"553\",\"554\",\"555\",\"556\",\"557\",\"558\",\"559\",\"560\",\"561\",\"562\",\"563\",\"564\",\"565\",\"566\",\"567\",\"568\",\"569\",\"570\",\"571\",\"572\",\"573\",\"574\",\"575\",\"576\",\"577\",\"578\",\"579\",\"580\",\"581\",\"582\",\"583\",\"584\",\"585\",\"586\",\"587\",\"588\",\"589\",\"590\",\"591\",\"592\",\"593\",\"594\",\"595\",\"596\",\"597\",\"598\",\"599\",\"600\",\"601\",\"602\",\"603\",\"604\",\"605\",\"606\",\"607\",\"608\",\"609\",\"610\",\"611\",\"612\",\"613\",\"614\",\"615\",\"616\",\"617\",\"618\",\"619\",\"620\",\"621\",\"622\",\"623\",\"624\",\"625\",\"626\",\"627\",\"628\",\"629\",\"630\",\"631\",\"632\",\"633\",\"634\",\"635\",\"636\",\"637\",\"638\",\"639\",\"640\",\"641\",\"642\",\"643\",\"644\",\"645\",\"646\",\"647\",\"648\",\"649\",\"650\",\"651\",\"652\",\"653\",\"654\",\"655\",\"656\",\"657\",\"658\",\"659\",\"660\",\"661\",\"662\",\"663\",\"664\",\"665\",\"666\",\"667\",\"668\",\"669\",\"670\",\"671\",\"672\",\"673\",\"674\",\"675\",\"676\",\"677\",\"678\",\"679\",\"680\",\"681\",\"682\",\"683\",\"684\",\"685\",\"686\",\"687\",\"688\",\"689\",\"690\",\"691\",\"692\",\"693\",\"694\",\"695\",\"696\",\"697\",\"698\",\"699\",\"700\",\"701\",\"702\",\"703\",\"704\",\"705\",\"706\",\"707\",\"708\",\"709\",\"710\",\"711\",\"712\",\"713\",\"714\",\"715\",\"716\",\"717\",\"718\",\"719\",\"720\",\"721\",\"722\",\"723\",\"724\",\"725\",\"726\",\"727\",\"728\",\"729\",\"730\",\"731\",\"732\",\"733\",\"734\",\"735\",\"736\",\"737\",\"738\",\"739\",\"740\",\"741\",\"742\",\"743\",\"744\",\"745\",\"746\",\"747\",\"748\",\"749\",\"750\",\"751\",\"752\",\"753\",\"754\",\"755\",\"756\",\"757\",\"758\",\"759\",\"760\",\"761\",\"762\",\"763\",\"764\",\"765\",\"766\",\"767\",\"768\",\"769\",\"770\",\"771\",\"772\",\"773\",\"774\",\"775\",\"776\",\"777\",\"778\",\"779\",\"780\",\"781\",\"782\",\"783\",\"784\",\"785\",\"786\",\"787\",\"788\",\"789\",\"790\",\"791\",\"792\",\"793\",\"794\",\"795\",\"796\",\"797\",\"798\",\"799\",\"800\",\"801\",\"802\",\"803\",\"804\",\"805\",\"806\",\"807\",\"808\",\"809\",\"810\",\"811\",\"812\",\"813\",\"814\",\"815\",\"816\",\"817\",\"818\",\"819\",\"820\",\"821\",\"822\",\"823\",\"824\",\"825\",\"826\",\"827\",\"828\",\"829\",\"830\",\"831\",\"832\",\"833\",\"834\",\"835\",\"836\",\"837\",\"838\",\"839\",\"840\",\"841\",\"842\",\"843\",\"844\",\"845\",\"846\",\"847\",\"848\",\"849\",\"850\",\"851\",\"852\",\"853\",\"854\",\"855\",\"856\",\"857\",\"858\",\"859\",\"860\",\"861\",\"862\",\"863\",\"864\",\"865\",\"866\",\"867\",\"868\",\"869\",\"870\",\"871\",\"872\",\"873\",\"874\",\"875\",\"876\",\"877\",\"878\",\"879\",\"880\",\"881\",\"882\",\"883\",\"884\",\"885\",\"886\",\"887\",\"888\",\"889\",\"890\",\"891\",\"892\",\"893\",\"894\",\"895\",\"896\",\"897\",\"898\",\"899\",\"900\",\"901\",\"902\",\"903\",\"904\",\"905\",\"906\",\"907\",\"908\",\"909\",\"910\",\"911\",\"912\",\"913\",\"914\",\"915\",\"916\",\"917\",\"918\",\"919\",\"920\",\"921\",\"922\",\"923\",\"924\",\"925\",\"926\",\"927\",\"928\",\"929\",\"930\",\"931\",\"932\",\"933\",\"934\",\"935\",\"936\",\"937\",\"938\",\"939\",\"940\",\"941\",\"942\",\"943\",\"944\",\"945\",\"946\",\"947\",\"948\",\"949\",\"950\",\"951\",\"952\",\"953\",\"954\",\"955\",\"956\",\"957\",\"958\",\"959\",\"960\",\"961\",\"962\",\"963\",\"964\",\"965\",\"966\",\"967\",\"968\",\"969\",\"970\",\"971\",\"972\",\"973\",\"974\",\"975\",\"976\",\"977\",\"978\",\"979\",\"980\",\"981\",\"982\",\"983\",\"984\",\"985\",\"986\",\"987\",\"988\",\"989\",\"990\",\"991\",\"992\",\"993\",\"994\",\"995\",\"996\",\"997\",\"998\",\"999\",\"1000\"],\"changes\":WebIO.getval({\"name\":\"changes\",\"scope\":\"12081152369788741163\",\"id\":\"ob_34\",\"type\":\"observable\"}),\"index\":WebIO.getval({\"name\":\"index\",\"scope\":\"12081152369788741163\",\"id\":\"ob_33\",\"type\":\"observable\"})};\n    var self = this;\n    function AppViewModel() {\n        for (var key in json_data) {\n            var el = json_data[key];\n            this[key] = Array.isArray(el) ? ko.observableArray(el) : ko.observable(el);\n        }\n        \n        [this[\"formatted_val\"]=ko.computed(    function(){\n        return this.formatted_vals()[parseInt(this.index())-(1)];\n    }\n,this)]\n        [this[\"changes\"].subscribe((function (val){!(this.valueFromJulia[\"changes\"]) ? (WebIO.setval({\"name\":\"changes\",\"scope\":\"12081152369788741163\",\"id\":\"ob_34\",\"type\":\"observable\"},val)) : undefined; return this.valueFromJulia[\"changes\"]=false}),self),this[\"index\"].subscribe((function (val){!(this.valueFromJulia[\"index\"]) ? (WebIO.setval({\"name\":\"index\",\"scope\":\"12081152369788741163\",\"id\":\"ob_33\",\"type\":\"observable\"},val)) : undefined; return this.valueFromJulia[\"index\"]=false}),self)]\n        \n    }\n    self.model = new AppViewModel();\n    self.valueFromJulia = {};\n    for (var key in json_data) {\n        self.valueFromJulia[key] = false;\n    }\n    ko.applyBindings(self.model, self.dom);\n}\n);\n    (WebIO.importBlock({\"data\":[{\"name\":\"knockout\",\"type\":\"js\",\"url\":\"/assetserver/800fa077652c804a9c5f68b6c1e29c6c61f85df7-knockout.js\"},{\"name\":\"knockout_punches\",\"type\":\"js\",\"url\":\"/assetserver/81e3f253b58efa296c3c65b00e2bf7b25de6cca9-knockout_punches.js\"}],\"type\":\"async_block\"})).then((imports) => handler.apply(this, imports));\n}\n"
            ],
            "observables": {
             "changes": {
              "id": "ob_34",
              "sync": false,
              "value": 0
             },
             "index": {
              "id": "ob_33",
              "sync": true,
              "value": 1
             }
            },
            "systemjs_options": null
           },
           "nodeType": "Scope",
           "props": {},
           "type": "node"
          }
         ],
         "instanceArgs": {
          "namespace": "html",
          "tag": "div"
         },
         "nodeType": "DOM",
         "props": {
          "className": "field interact-widget"
         },
         "type": "node"
        },
        {
         "children": [
          {
           "children": [],
           "instanceArgs": {
            "id": "ob_40",
            "name": "obs-node"
           },
           "nodeType": "ObservableNode",
           "props": {},
           "type": "node"
          }
         ],
         "instanceArgs": {
          "handlers": {},
          "id": "6905285092756041225",
          "imports": {
           "data": [],
           "type": "async_block"
          },
          "mount_callbacks": [],
          "observables": {
           "obs-node": {
            "id": "ob_40",
            "sync": false,
            "value": {
             "children": [
              {
               "children": [],
               "instanceArgs": {
                "namespace": "html",
                "tag": "div"
               },
               "nodeType": "DOM",
               "props": {
                "setInnerHtml": "<?xml version=\"1.0\" encoding=\"utf-8\"?>\n<svg xmlns=\"http://www.w3.org/2000/svg\" xmlns:xlink=\"http://www.w3.org/1999/xlink\" width=\"600\" height=\"400\" viewBox=\"0 0 2400 1600\">\n<defs>\n  <clipPath id=\"clip0300\">\n    <rect x=\"0\" y=\"0\" width=\"2400\" height=\"1600\"/>\n  </clipPath>\n</defs>\n<path clip-path=\"url(#clip0300)\" d=\"\nM0 1600 L2400 1600 L2400 0 L0 0  Z\n  \" fill=\"#ffffff\" fill-rule=\"evenodd\" fill-opacity=\"1\"/>\n<defs>\n  <clipPath id=\"clip0301\">\n    <rect x=\"480\" y=\"0\" width=\"1681\" height=\"1600\"/>\n  </clipPath>\n</defs>\n<path clip-path=\"url(#clip0300)\" d=\"\nM140.517 1487.47 L2352.76 1487.47 L2352.76 47.2441 L140.517 47.2441  Z\n  \" fill=\"#ffffff\" fill-rule=\"evenodd\" fill-opacity=\"1\"/>\n<defs>\n  <clipPath id=\"clip0302\">\n    <rect x=\"140\" y=\"47\" width=\"2213\" height=\"1441\"/>\n  </clipPath>\n</defs>\n<polyline clip-path=\"url(#clip0302)\" style=\"stroke:#000000; stroke-width:2; stroke-opacity:0.1; fill:none\" points=\"\n  140.517,1487.47 140.517,47.2441 \n  \"/>\n<polyline clip-path=\"url(#clip0302)\" style=\"stroke:#000000; stroke-width:2; stroke-opacity:0.1; fill:none\" points=\"\n  582.965,1487.47 582.965,47.2441 \n  \"/>\n<polyline clip-path=\"url(#clip0302)\" style=\"stroke:#000000; stroke-width:2; stroke-opacity:0.1; fill:none\" points=\"\n  1025.41,1487.47 1025.41,47.2441 \n  \"/>\n<polyline clip-path=\"url(#clip0302)\" style=\"stroke:#000000; stroke-width:2; stroke-opacity:0.1; fill:none\" points=\"\n  1467.86,1487.47 1467.86,47.2441 \n  \"/>\n<polyline clip-path=\"url(#clip0302)\" style=\"stroke:#000000; stroke-width:2; stroke-opacity:0.1; fill:none\" points=\"\n  1910.31,1487.47 1910.31,47.2441 \n  \"/>\n<polyline clip-path=\"url(#clip0302)\" style=\"stroke:#000000; stroke-width:2; stroke-opacity:0.1; fill:none\" points=\"\n  2352.76,1487.47 2352.76,47.2441 \n  \"/>\n<polyline clip-path=\"url(#clip0302)\" style=\"stroke:#000000; stroke-width:2; stroke-opacity:0.1; fill:none\" points=\"\n  140.517,1487.47 2352.76,1487.47 \n  \"/>\n<polyline clip-path=\"url(#clip0302)\" style=\"stroke:#000000; stroke-width:2; stroke-opacity:0.1; fill:none\" points=\"\n  140.517,1199.43 2352.76,1199.43 \n  \"/>\n<polyline clip-path=\"url(#clip0302)\" style=\"stroke:#000000; stroke-width:2; stroke-opacity:0.1; fill:none\" points=\"\n  140.517,911.382 2352.76,911.382 \n  \"/>\n<polyline clip-path=\"url(#clip0302)\" style=\"stroke:#000000; stroke-width:2; stroke-opacity:0.1; fill:none\" points=\"\n  140.517,623.336 2352.76,623.336 \n  \"/>\n<polyline clip-path=\"url(#clip0302)\" style=\"stroke:#000000; stroke-width:2; stroke-opacity:0.1; fill:none\" points=\"\n  140.517,335.29 2352.76,335.29 \n  \"/>\n<polyline clip-path=\"url(#clip0302)\" style=\"stroke:#000000; stroke-width:2; stroke-opacity:0.1; fill:none\" points=\"\n  140.517,47.2441 2352.76,47.2441 \n  \"/>\n<polyline clip-path=\"url(#clip0300)\" style=\"stroke:#000000; stroke-width:4; stroke-opacity:1; fill:none\" points=\"\n  140.517,1487.47 2352.76,1487.47 \n  \"/>\n<polyline clip-path=\"url(#clip0300)\" style=\"stroke:#000000; stroke-width:4; stroke-opacity:1; fill:none\" points=\"\n  140.517,1487.47 140.517,47.2441 \n  \"/>\n<polyline clip-path=\"url(#clip0300)\" style=\"stroke:#000000; stroke-width:4; stroke-opacity:1; fill:none\" points=\"\n  140.517,1487.47 140.517,1470.19 \n  \"/>\n<polyline clip-path=\"url(#clip0300)\" style=\"stroke:#000000; stroke-width:4; stroke-opacity:1; fill:none\" points=\"\n  582.965,1487.47 582.965,1470.19 \n  \"/>\n<polyline clip-path=\"url(#clip0300)\" style=\"stroke:#000000; stroke-width:4; stroke-opacity:1; fill:none\" points=\"\n  1025.41,1487.47 1025.41,1470.19 \n  \"/>\n<polyline clip-path=\"url(#clip0300)\" style=\"stroke:#000000; stroke-width:4; stroke-opacity:1; fill:none\" points=\"\n  1467.86,1487.47 1467.86,1470.19 \n  \"/>\n<polyline clip-path=\"url(#clip0300)\" style=\"stroke:#000000; stroke-width:4; stroke-opacity:1; fill:none\" points=\"\n  1910.31,1487.47 1910.31,1470.19 \n  \"/>\n<polyline clip-path=\"url(#clip0300)\" style=\"stroke:#000000; stroke-width:4; stroke-opacity:1; fill:none\" points=\"\n  2352.76,1487.47 2352.76,1470.19 \n  \"/>\n<polyline clip-path=\"url(#clip0300)\" style=\"stroke:#000000; stroke-width:4; stroke-opacity:1; fill:none\" points=\"\n  140.517,1487.47 167.064,1487.47 \n  \"/>\n<polyline clip-path=\"url(#clip0300)\" style=\"stroke:#000000; stroke-width:4; stroke-opacity:1; fill:none\" points=\"\n  140.517,1199.43 167.064,1199.43 \n  \"/>\n<polyline clip-path=\"url(#clip0300)\" style=\"stroke:#000000; stroke-width:4; stroke-opacity:1; fill:none\" points=\"\n  140.517,911.382 167.064,911.382 \n  \"/>\n<polyline clip-path=\"url(#clip0300)\" style=\"stroke:#000000; stroke-width:4; stroke-opacity:1; fill:none\" points=\"\n  140.517,623.336 167.064,623.336 \n  \"/>\n<polyline clip-path=\"url(#clip0300)\" style=\"stroke:#000000; stroke-width:4; stroke-opacity:1; fill:none\" points=\"\n  140.517,335.29 167.064,335.29 \n  \"/>\n<polyline clip-path=\"url(#clip0300)\" style=\"stroke:#000000; stroke-width:4; stroke-opacity:1; fill:none\" points=\"\n  140.517,47.2441 167.064,47.2441 \n  \"/>\n<g clip-path=\"url(#clip0300)\">\n<text style=\"fill:#000000; fill-opacity:1; font-family:Arial,Helvetica Neue,Helvetica,sans-serif; font-size:48px; text-anchor:middle;\" transform=\"rotate(0, 140.517, 1541.47)\" x=\"140.517\" y=\"1541.47\">0</text>\n</g>\n<g clip-path=\"url(#clip0300)\">\n<text style=\"fill:#000000; fill-opacity:1; font-family:Arial,Helvetica Neue,Helvetica,sans-serif; font-size:48px; text-anchor:middle;\" transform=\"rotate(0, 582.965, 1541.47)\" x=\"582.965\" y=\"1541.47\">200</text>\n</g>\n<g clip-path=\"url(#clip0300)\">\n<text style=\"fill:#000000; fill-opacity:1; font-family:Arial,Helvetica Neue,Helvetica,sans-serif; font-size:48px; text-anchor:middle;\" transform=\"rotate(0, 1025.41, 1541.47)\" x=\"1025.41\" y=\"1541.47\">400</text>\n</g>\n<g clip-path=\"url(#clip0300)\">\n<text style=\"fill:#000000; fill-opacity:1; font-family:Arial,Helvetica Neue,Helvetica,sans-serif; font-size:48px; text-anchor:middle;\" transform=\"rotate(0, 1467.86, 1541.47)\" x=\"1467.86\" y=\"1541.47\">600</text>\n</g>\n<g clip-path=\"url(#clip0300)\">\n<text style=\"fill:#000000; fill-opacity:1; font-family:Arial,Helvetica Neue,Helvetica,sans-serif; font-size:48px; text-anchor:middle;\" transform=\"rotate(0, 1910.31, 1541.47)\" x=\"1910.31\" y=\"1541.47\">800</text>\n</g>\n<g clip-path=\"url(#clip0300)\">\n<text style=\"fill:#000000; fill-opacity:1; font-family:Arial,Helvetica Neue,Helvetica,sans-serif; font-size:48px; text-anchor:middle;\" transform=\"rotate(0, 2352.76, 1541.47)\" x=\"2352.76\" y=\"1541.47\">1000</text>\n</g>\n<g clip-path=\"url(#clip0300)\">\n<text style=\"fill:#000000; fill-opacity:1; font-family:Arial,Helvetica Neue,Helvetica,sans-serif; font-size:48px; text-anchor:end;\" transform=\"rotate(0, 116.517, 1504.97)\" x=\"116.517\" y=\"1504.97\">0</text>\n</g>\n<g clip-path=\"url(#clip0300)\">\n<text style=\"fill:#000000; fill-opacity:1; font-family:Arial,Helvetica Neue,Helvetica,sans-serif; font-size:48px; text-anchor:end;\" transform=\"rotate(0, 116.517, 1216.93)\" x=\"116.517\" y=\"1216.93\">2</text>\n</g>\n<g clip-path=\"url(#clip0300)\">\n<text style=\"fill:#000000; fill-opacity:1; font-family:Arial,Helvetica Neue,Helvetica,sans-serif; font-size:48px; text-anchor:end;\" transform=\"rotate(0, 116.517, 928.882)\" x=\"116.517\" y=\"928.882\">4</text>\n</g>\n<g clip-path=\"url(#clip0300)\">\n<text style=\"fill:#000000; fill-opacity:1; font-family:Arial,Helvetica Neue,Helvetica,sans-serif; font-size:48px; text-anchor:end;\" transform=\"rotate(0, 116.517, 640.836)\" x=\"116.517\" y=\"640.836\">6</text>\n</g>\n<g clip-path=\"url(#clip0300)\">\n<text style=\"fill:#000000; fill-opacity:1; font-family:Arial,Helvetica Neue,Helvetica,sans-serif; font-size:48px; text-anchor:end;\" transform=\"rotate(0, 116.517, 352.79)\" x=\"116.517\" y=\"352.79\">8</text>\n</g>\n<g clip-path=\"url(#clip0300)\">\n<text style=\"fill:#000000; fill-opacity:1; font-family:Arial,Helvetica Neue,Helvetica,sans-serif; font-size:48px; text-anchor:end;\" transform=\"rotate(0, 116.517, 64.7441)\" x=\"116.517\" y=\"64.7441\">10</text>\n</g>\n<path clip-path=\"url(#clip0302)\" d=\"M142.729 1359.45 L131.417 1354.76 L126.729 1343.45 L131.417 1332.14 L142.729 1327.45 L154.041 1332.14 L158.729 1343.45 L154.041 1354.76 Z\" fill=\"#009af9\" fill-rule=\"evenodd\" fill-opacity=\"1\" stroke=\"#000000\" stroke-opacity=\"1\" stroke-width=\"3.2\"/>\n<path clip-path=\"url(#clip0300)\" d=\"\nM1989.93 251.724 L2280.76 251.724 L2280.76 130.764 L1989.93 130.764  Z\n  \" fill=\"#ffffff\" fill-rule=\"evenodd\" fill-opacity=\"1\"/>\n<polyline clip-path=\"url(#clip0300)\" style=\"stroke:#000000; stroke-width:4; stroke-opacity:1; fill:none\" points=\"\n  1989.93,251.724 2280.76,251.724 2280.76,130.764 1989.93,130.764 1989.93,251.724 \n  \"/>\n<polyline clip-path=\"url(#clip0300)\" style=\"stroke:#009af9; stroke-width:4; stroke-opacity:1; fill:none\" points=\"\n  2013.93,191.244 2157.93,191.244 \n  \"/>\n<path clip-path=\"url(#clip0300)\" d=\"M2097.93 215.244 L2080.96 208.212 L2073.93 191.244 L2080.96 174.276 L2097.93 167.244 L2114.89 174.276 L2121.93 191.244 L2114.89 208.212 Z\" fill=\"#009af9\" fill-rule=\"evenodd\" fill-opacity=\"1\" stroke=\"#000000\" stroke-opacity=\"1\" stroke-width=\"3.2\"/>\n<g clip-path=\"url(#clip0300)\">\n<text style=\"fill:#000000; fill-opacity:1; font-family:Arial,Helvetica Neue,Helvetica,sans-serif; font-size:48px; text-anchor:start;\" transform=\"rotate(0, 2181.93, 208.744)\" x=\"2181.93\" y=\"208.744\">y1</text>\n</g>\n</svg>\n"
               },
               "type": "node"
              }
             ],
             "instanceArgs": {
              "namespace": "html",
              "tag": "div"
             },
             "nodeType": "DOM",
             "props": {
              "className": "interact-flex-row interact-widget"
             },
             "type": "node"
            }
           }
          },
          "systemjs_options": null
         },
         "nodeType": "Scope",
         "props": {},
         "type": "node"
        }
       ],
       "instanceArgs": {
        "namespace": "html",
        "tag": "div"
       },
       "nodeType": "DOM",
       "props": {},
       "type": "node"
      },
      "text/html": [
       "<div\n",
       "    class=\"webio-mountpoint\"\n",
       "    data-webio-mountpoint=\"11400765032044714278\"\n",
       ">\n",
       "    <script>\n",
       "    if (window.require && require.defined && require.defined(\"nbextensions/webio-jupyter-notebook\")) {\n",
       "        console.log(\"Jupyter WebIO extension detected, not mounting.\");\n",
       "    } else if (window.WebIO) {\n",
       "        WebIO.mount(\n",
       "            document.querySelector('[data-webio-mountpoint=\"11400765032044714278\"]'),\n",
       "            {\"props\":{},\"nodeType\":\"DOM\",\"type\":\"node\",\"instanceArgs\":{\"namespace\":\"html\",\"tag\":\"div\"},\"children\":[{\"props\":{\"className\":\"field interact-widget\"},\"nodeType\":\"DOM\",\"type\":\"node\",\"instanceArgs\":{\"namespace\":\"html\",\"tag\":\"div\"},\"children\":[{\"props\":{},\"nodeType\":\"Scope\",\"type\":\"node\",\"instanceArgs\":{\"imports\":{\"data\":[{\"name\":\"knockout\",\"type\":\"js\",\"url\":\"\\/assetserver\\/800fa077652c804a9c5f68b6c1e29c6c61f85df7-knockout.js\"},{\"name\":\"knockout_punches\",\"type\":\"js\",\"url\":\"\\/assetserver\\/81e3f253b58efa296c3c65b00e2bf7b25de6cca9-knockout_punches.js\"},{\"name\":null,\"type\":\"js\",\"url\":\"\\/assetserver\\/5d2042c6908ffff0b7c8d26135740476bcf00827-all.js\"},{\"name\":null,\"type\":\"css\",\"url\":\"\\/assetserver\\/87ad319ae61de5d44f67c268a0a8f65862fca478-style.css\"},{\"name\":null,\"type\":\"css\",\"url\":\"\\/assetserver\\/a062b31556f81f574879e47f48c7fae2687f3c82-bulma_confined.min.css\"}],\"type\":\"async_block\"},\"id\":\"12081152369788741163\",\"handlers\":{\"changes\":[\"(function (val){return (val!=this.model[\\\"changes\\\"]()) ? (this.valueFromJulia[\\\"changes\\\"]=true, this.model[\\\"changes\\\"](val)) : undefined})\"],\"index\":[\"(function (val){return (val!=this.model[\\\"index\\\"]()) ? (this.valueFromJulia[\\\"index\\\"]=true, this.model[\\\"index\\\"](val)) : undefined})\"]},\"systemjs_options\":null,\"mount_callbacks\":[\"function () {\\n    var handler = (function (ko, koPunches) {\\n    ko.punches.enableAll();\\n    ko.bindingHandlers.numericValue = {\\n        init: function(element, valueAccessor, allBindings, data, context) {\\n            var stringified = ko.observable(ko.unwrap(valueAccessor()));\\n            stringified.subscribe(function(value) {\\n                var val = parseFloat(value);\\n                if (!isNaN(val)) {\\n                    valueAccessor()(val);\\n                }\\n            });\\n            valueAccessor().subscribe(function(value) {\\n                var str = JSON.stringify(value);\\n                if ((str == \\\"0\\\") && ([\\\"-0\\\", \\\"-0.\\\"].indexOf(stringified()) >= 0))\\n                     return;\\n                 if ([\\\"null\\\", \\\"\\\"].indexOf(str) >= 0)\\n                     return;\\n                stringified(str);\\n            });\\n            ko.applyBindingsToNode(\\n                element,\\n                {\\n                    value: stringified,\\n                    valueUpdate: allBindings.get('valueUpdate'),\\n                },\\n                context,\\n            );\\n        }\\n    };\\n    var json_data = {\\\"formatted_vals\\\":[\\\"1\\\",\\\"2\\\",\\\"3\\\",\\\"4\\\",\\\"5\\\",\\\"6\\\",\\\"7\\\",\\\"8\\\",\\\"9\\\",\\\"10\\\",\\\"11\\\",\\\"12\\\",\\\"13\\\",\\\"14\\\",\\\"15\\\",\\\"16\\\",\\\"17\\\",\\\"18\\\",\\\"19\\\",\\\"20\\\",\\\"21\\\",\\\"22\\\",\\\"23\\\",\\\"24\\\",\\\"25\\\",\\\"26\\\",\\\"27\\\",\\\"28\\\",\\\"29\\\",\\\"30\\\",\\\"31\\\",\\\"32\\\",\\\"33\\\",\\\"34\\\",\\\"35\\\",\\\"36\\\",\\\"37\\\",\\\"38\\\",\\\"39\\\",\\\"40\\\",\\\"41\\\",\\\"42\\\",\\\"43\\\",\\\"44\\\",\\\"45\\\",\\\"46\\\",\\\"47\\\",\\\"48\\\",\\\"49\\\",\\\"50\\\",\\\"51\\\",\\\"52\\\",\\\"53\\\",\\\"54\\\",\\\"55\\\",\\\"56\\\",\\\"57\\\",\\\"58\\\",\\\"59\\\",\\\"60\\\",\\\"61\\\",\\\"62\\\",\\\"63\\\",\\\"64\\\",\\\"65\\\",\\\"66\\\",\\\"67\\\",\\\"68\\\",\\\"69\\\",\\\"70\\\",\\\"71\\\",\\\"72\\\",\\\"73\\\",\\\"74\\\",\\\"75\\\",\\\"76\\\",\\\"77\\\",\\\"78\\\",\\\"79\\\",\\\"80\\\",\\\"81\\\",\\\"82\\\",\\\"83\\\",\\\"84\\\",\\\"85\\\",\\\"86\\\",\\\"87\\\",\\\"88\\\",\\\"89\\\",\\\"90\\\",\\\"91\\\",\\\"92\\\",\\\"93\\\",\\\"94\\\",\\\"95\\\",\\\"96\\\",\\\"97\\\",\\\"98\\\",\\\"99\\\",\\\"100\\\",\\\"101\\\",\\\"102\\\",\\\"103\\\",\\\"104\\\",\\\"105\\\",\\\"106\\\",\\\"107\\\",\\\"108\\\",\\\"109\\\",\\\"110\\\",\\\"111\\\",\\\"112\\\",\\\"113\\\",\\\"114\\\",\\\"115\\\",\\\"116\\\",\\\"117\\\",\\\"118\\\",\\\"119\\\",\\\"120\\\",\\\"121\\\",\\\"122\\\",\\\"123\\\",\\\"124\\\",\\\"125\\\",\\\"126\\\",\\\"127\\\",\\\"128\\\",\\\"129\\\",\\\"130\\\",\\\"131\\\",\\\"132\\\",\\\"133\\\",\\\"134\\\",\\\"135\\\",\\\"136\\\",\\\"137\\\",\\\"138\\\",\\\"139\\\",\\\"140\\\",\\\"141\\\",\\\"142\\\",\\\"143\\\",\\\"144\\\",\\\"145\\\",\\\"146\\\",\\\"147\\\",\\\"148\\\",\\\"149\\\",\\\"150\\\",\\\"151\\\",\\\"152\\\",\\\"153\\\",\\\"154\\\",\\\"155\\\",\\\"156\\\",\\\"157\\\",\\\"158\\\",\\\"159\\\",\\\"160\\\",\\\"161\\\",\\\"162\\\",\\\"163\\\",\\\"164\\\",\\\"165\\\",\\\"166\\\",\\\"167\\\",\\\"168\\\",\\\"169\\\",\\\"170\\\",\\\"171\\\",\\\"172\\\",\\\"173\\\",\\\"174\\\",\\\"175\\\",\\\"176\\\",\\\"177\\\",\\\"178\\\",\\\"179\\\",\\\"180\\\",\\\"181\\\",\\\"182\\\",\\\"183\\\",\\\"184\\\",\\\"185\\\",\\\"186\\\",\\\"187\\\",\\\"188\\\",\\\"189\\\",\\\"190\\\",\\\"191\\\",\\\"192\\\",\\\"193\\\",\\\"194\\\",\\\"195\\\",\\\"196\\\",\\\"197\\\",\\\"198\\\",\\\"199\\\",\\\"200\\\",\\\"201\\\",\\\"202\\\",\\\"203\\\",\\\"204\\\",\\\"205\\\",\\\"206\\\",\\\"207\\\",\\\"208\\\",\\\"209\\\",\\\"210\\\",\\\"211\\\",\\\"212\\\",\\\"213\\\",\\\"214\\\",\\\"215\\\",\\\"216\\\",\\\"217\\\",\\\"218\\\",\\\"219\\\",\\\"220\\\",\\\"221\\\",\\\"222\\\",\\\"223\\\",\\\"224\\\",\\\"225\\\",\\\"226\\\",\\\"227\\\",\\\"228\\\",\\\"229\\\",\\\"230\\\",\\\"231\\\",\\\"232\\\",\\\"233\\\",\\\"234\\\",\\\"235\\\",\\\"236\\\",\\\"237\\\",\\\"238\\\",\\\"239\\\",\\\"240\\\",\\\"241\\\",\\\"242\\\",\\\"243\\\",\\\"244\\\",\\\"245\\\",\\\"246\\\",\\\"247\\\",\\\"248\\\",\\\"249\\\",\\\"250\\\",\\\"251\\\",\\\"252\\\",\\\"253\\\",\\\"254\\\",\\\"255\\\",\\\"256\\\",\\\"257\\\",\\\"258\\\",\\\"259\\\",\\\"260\\\",\\\"261\\\",\\\"262\\\",\\\"263\\\",\\\"264\\\",\\\"265\\\",\\\"266\\\",\\\"267\\\",\\\"268\\\",\\\"269\\\",\\\"270\\\",\\\"271\\\",\\\"272\\\",\\\"273\\\",\\\"274\\\",\\\"275\\\",\\\"276\\\",\\\"277\\\",\\\"278\\\",\\\"279\\\",\\\"280\\\",\\\"281\\\",\\\"282\\\",\\\"283\\\",\\\"284\\\",\\\"285\\\",\\\"286\\\",\\\"287\\\",\\\"288\\\",\\\"289\\\",\\\"290\\\",\\\"291\\\",\\\"292\\\",\\\"293\\\",\\\"294\\\",\\\"295\\\",\\\"296\\\",\\\"297\\\",\\\"298\\\",\\\"299\\\",\\\"300\\\",\\\"301\\\",\\\"302\\\",\\\"303\\\",\\\"304\\\",\\\"305\\\",\\\"306\\\",\\\"307\\\",\\\"308\\\",\\\"309\\\",\\\"310\\\",\\\"311\\\",\\\"312\\\",\\\"313\\\",\\\"314\\\",\\\"315\\\",\\\"316\\\",\\\"317\\\",\\\"318\\\",\\\"319\\\",\\\"320\\\",\\\"321\\\",\\\"322\\\",\\\"323\\\",\\\"324\\\",\\\"325\\\",\\\"326\\\",\\\"327\\\",\\\"328\\\",\\\"329\\\",\\\"330\\\",\\\"331\\\",\\\"332\\\",\\\"333\\\",\\\"334\\\",\\\"335\\\",\\\"336\\\",\\\"337\\\",\\\"338\\\",\\\"339\\\",\\\"340\\\",\\\"341\\\",\\\"342\\\",\\\"343\\\",\\\"344\\\",\\\"345\\\",\\\"346\\\",\\\"347\\\",\\\"348\\\",\\\"349\\\",\\\"350\\\",\\\"351\\\",\\\"352\\\",\\\"353\\\",\\\"354\\\",\\\"355\\\",\\\"356\\\",\\\"357\\\",\\\"358\\\",\\\"359\\\",\\\"360\\\",\\\"361\\\",\\\"362\\\",\\\"363\\\",\\\"364\\\",\\\"365\\\",\\\"366\\\",\\\"367\\\",\\\"368\\\",\\\"369\\\",\\\"370\\\",\\\"371\\\",\\\"372\\\",\\\"373\\\",\\\"374\\\",\\\"375\\\",\\\"376\\\",\\\"377\\\",\\\"378\\\",\\\"379\\\",\\\"380\\\",\\\"381\\\",\\\"382\\\",\\\"383\\\",\\\"384\\\",\\\"385\\\",\\\"386\\\",\\\"387\\\",\\\"388\\\",\\\"389\\\",\\\"390\\\",\\\"391\\\",\\\"392\\\",\\\"393\\\",\\\"394\\\",\\\"395\\\",\\\"396\\\",\\\"397\\\",\\\"398\\\",\\\"399\\\",\\\"400\\\",\\\"401\\\",\\\"402\\\",\\\"403\\\",\\\"404\\\",\\\"405\\\",\\\"406\\\",\\\"407\\\",\\\"408\\\",\\\"409\\\",\\\"410\\\",\\\"411\\\",\\\"412\\\",\\\"413\\\",\\\"414\\\",\\\"415\\\",\\\"416\\\",\\\"417\\\",\\\"418\\\",\\\"419\\\",\\\"420\\\",\\\"421\\\",\\\"422\\\",\\\"423\\\",\\\"424\\\",\\\"425\\\",\\\"426\\\",\\\"427\\\",\\\"428\\\",\\\"429\\\",\\\"430\\\",\\\"431\\\",\\\"432\\\",\\\"433\\\",\\\"434\\\",\\\"435\\\",\\\"436\\\",\\\"437\\\",\\\"438\\\",\\\"439\\\",\\\"440\\\",\\\"441\\\",\\\"442\\\",\\\"443\\\",\\\"444\\\",\\\"445\\\",\\\"446\\\",\\\"447\\\",\\\"448\\\",\\\"449\\\",\\\"450\\\",\\\"451\\\",\\\"452\\\",\\\"453\\\",\\\"454\\\",\\\"455\\\",\\\"456\\\",\\\"457\\\",\\\"458\\\",\\\"459\\\",\\\"460\\\",\\\"461\\\",\\\"462\\\",\\\"463\\\",\\\"464\\\",\\\"465\\\",\\\"466\\\",\\\"467\\\",\\\"468\\\",\\\"469\\\",\\\"470\\\",\\\"471\\\",\\\"472\\\",\\\"473\\\",\\\"474\\\",\\\"475\\\",\\\"476\\\",\\\"477\\\",\\\"478\\\",\\\"479\\\",\\\"480\\\",\\\"481\\\",\\\"482\\\",\\\"483\\\",\\\"484\\\",\\\"485\\\",\\\"486\\\",\\\"487\\\",\\\"488\\\",\\\"489\\\",\\\"490\\\",\\\"491\\\",\\\"492\\\",\\\"493\\\",\\\"494\\\",\\\"495\\\",\\\"496\\\",\\\"497\\\",\\\"498\\\",\\\"499\\\",\\\"500\\\",\\\"501\\\",\\\"502\\\",\\\"503\\\",\\\"504\\\",\\\"505\\\",\\\"506\\\",\\\"507\\\",\\\"508\\\",\\\"509\\\",\\\"510\\\",\\\"511\\\",\\\"512\\\",\\\"513\\\",\\\"514\\\",\\\"515\\\",\\\"516\\\",\\\"517\\\",\\\"518\\\",\\\"519\\\",\\\"520\\\",\\\"521\\\",\\\"522\\\",\\\"523\\\",\\\"524\\\",\\\"525\\\",\\\"526\\\",\\\"527\\\",\\\"528\\\",\\\"529\\\",\\\"530\\\",\\\"531\\\",\\\"532\\\",\\\"533\\\",\\\"534\\\",\\\"535\\\",\\\"536\\\",\\\"537\\\",\\\"538\\\",\\\"539\\\",\\\"540\\\",\\\"541\\\",\\\"542\\\",\\\"543\\\",\\\"544\\\",\\\"545\\\",\\\"546\\\",\\\"547\\\",\\\"548\\\",\\\"549\\\",\\\"550\\\",\\\"551\\\",\\\"552\\\",\\\"553\\\",\\\"554\\\",\\\"555\\\",\\\"556\\\",\\\"557\\\",\\\"558\\\",\\\"559\\\",\\\"560\\\",\\\"561\\\",\\\"562\\\",\\\"563\\\",\\\"564\\\",\\\"565\\\",\\\"566\\\",\\\"567\\\",\\\"568\\\",\\\"569\\\",\\\"570\\\",\\\"571\\\",\\\"572\\\",\\\"573\\\",\\\"574\\\",\\\"575\\\",\\\"576\\\",\\\"577\\\",\\\"578\\\",\\\"579\\\",\\\"580\\\",\\\"581\\\",\\\"582\\\",\\\"583\\\",\\\"584\\\",\\\"585\\\",\\\"586\\\",\\\"587\\\",\\\"588\\\",\\\"589\\\",\\\"590\\\",\\\"591\\\",\\\"592\\\",\\\"593\\\",\\\"594\\\",\\\"595\\\",\\\"596\\\",\\\"597\\\",\\\"598\\\",\\\"599\\\",\\\"600\\\",\\\"601\\\",\\\"602\\\",\\\"603\\\",\\\"604\\\",\\\"605\\\",\\\"606\\\",\\\"607\\\",\\\"608\\\",\\\"609\\\",\\\"610\\\",\\\"611\\\",\\\"612\\\",\\\"613\\\",\\\"614\\\",\\\"615\\\",\\\"616\\\",\\\"617\\\",\\\"618\\\",\\\"619\\\",\\\"620\\\",\\\"621\\\",\\\"622\\\",\\\"623\\\",\\\"624\\\",\\\"625\\\",\\\"626\\\",\\\"627\\\",\\\"628\\\",\\\"629\\\",\\\"630\\\",\\\"631\\\",\\\"632\\\",\\\"633\\\",\\\"634\\\",\\\"635\\\",\\\"636\\\",\\\"637\\\",\\\"638\\\",\\\"639\\\",\\\"640\\\",\\\"641\\\",\\\"642\\\",\\\"643\\\",\\\"644\\\",\\\"645\\\",\\\"646\\\",\\\"647\\\",\\\"648\\\",\\\"649\\\",\\\"650\\\",\\\"651\\\",\\\"652\\\",\\\"653\\\",\\\"654\\\",\\\"655\\\",\\\"656\\\",\\\"657\\\",\\\"658\\\",\\\"659\\\",\\\"660\\\",\\\"661\\\",\\\"662\\\",\\\"663\\\",\\\"664\\\",\\\"665\\\",\\\"666\\\",\\\"667\\\",\\\"668\\\",\\\"669\\\",\\\"670\\\",\\\"671\\\",\\\"672\\\",\\\"673\\\",\\\"674\\\",\\\"675\\\",\\\"676\\\",\\\"677\\\",\\\"678\\\",\\\"679\\\",\\\"680\\\",\\\"681\\\",\\\"682\\\",\\\"683\\\",\\\"684\\\",\\\"685\\\",\\\"686\\\",\\\"687\\\",\\\"688\\\",\\\"689\\\",\\\"690\\\",\\\"691\\\",\\\"692\\\",\\\"693\\\",\\\"694\\\",\\\"695\\\",\\\"696\\\",\\\"697\\\",\\\"698\\\",\\\"699\\\",\\\"700\\\",\\\"701\\\",\\\"702\\\",\\\"703\\\",\\\"704\\\",\\\"705\\\",\\\"706\\\",\\\"707\\\",\\\"708\\\",\\\"709\\\",\\\"710\\\",\\\"711\\\",\\\"712\\\",\\\"713\\\",\\\"714\\\",\\\"715\\\",\\\"716\\\",\\\"717\\\",\\\"718\\\",\\\"719\\\",\\\"720\\\",\\\"721\\\",\\\"722\\\",\\\"723\\\",\\\"724\\\",\\\"725\\\",\\\"726\\\",\\\"727\\\",\\\"728\\\",\\\"729\\\",\\\"730\\\",\\\"731\\\",\\\"732\\\",\\\"733\\\",\\\"734\\\",\\\"735\\\",\\\"736\\\",\\\"737\\\",\\\"738\\\",\\\"739\\\",\\\"740\\\",\\\"741\\\",\\\"742\\\",\\\"743\\\",\\\"744\\\",\\\"745\\\",\\\"746\\\",\\\"747\\\",\\\"748\\\",\\\"749\\\",\\\"750\\\",\\\"751\\\",\\\"752\\\",\\\"753\\\",\\\"754\\\",\\\"755\\\",\\\"756\\\",\\\"757\\\",\\\"758\\\",\\\"759\\\",\\\"760\\\",\\\"761\\\",\\\"762\\\",\\\"763\\\",\\\"764\\\",\\\"765\\\",\\\"766\\\",\\\"767\\\",\\\"768\\\",\\\"769\\\",\\\"770\\\",\\\"771\\\",\\\"772\\\",\\\"773\\\",\\\"774\\\",\\\"775\\\",\\\"776\\\",\\\"777\\\",\\\"778\\\",\\\"779\\\",\\\"780\\\",\\\"781\\\",\\\"782\\\",\\\"783\\\",\\\"784\\\",\\\"785\\\",\\\"786\\\",\\\"787\\\",\\\"788\\\",\\\"789\\\",\\\"790\\\",\\\"791\\\",\\\"792\\\",\\\"793\\\",\\\"794\\\",\\\"795\\\",\\\"796\\\",\\\"797\\\",\\\"798\\\",\\\"799\\\",\\\"800\\\",\\\"801\\\",\\\"802\\\",\\\"803\\\",\\\"804\\\",\\\"805\\\",\\\"806\\\",\\\"807\\\",\\\"808\\\",\\\"809\\\",\\\"810\\\",\\\"811\\\",\\\"812\\\",\\\"813\\\",\\\"814\\\",\\\"815\\\",\\\"816\\\",\\\"817\\\",\\\"818\\\",\\\"819\\\",\\\"820\\\",\\\"821\\\",\\\"822\\\",\\\"823\\\",\\\"824\\\",\\\"825\\\",\\\"826\\\",\\\"827\\\",\\\"828\\\",\\\"829\\\",\\\"830\\\",\\\"831\\\",\\\"832\\\",\\\"833\\\",\\\"834\\\",\\\"835\\\",\\\"836\\\",\\\"837\\\",\\\"838\\\",\\\"839\\\",\\\"840\\\",\\\"841\\\",\\\"842\\\",\\\"843\\\",\\\"844\\\",\\\"845\\\",\\\"846\\\",\\\"847\\\",\\\"848\\\",\\\"849\\\",\\\"850\\\",\\\"851\\\",\\\"852\\\",\\\"853\\\",\\\"854\\\",\\\"855\\\",\\\"856\\\",\\\"857\\\",\\\"858\\\",\\\"859\\\",\\\"860\\\",\\\"861\\\",\\\"862\\\",\\\"863\\\",\\\"864\\\",\\\"865\\\",\\\"866\\\",\\\"867\\\",\\\"868\\\",\\\"869\\\",\\\"870\\\",\\\"871\\\",\\\"872\\\",\\\"873\\\",\\\"874\\\",\\\"875\\\",\\\"876\\\",\\\"877\\\",\\\"878\\\",\\\"879\\\",\\\"880\\\",\\\"881\\\",\\\"882\\\",\\\"883\\\",\\\"884\\\",\\\"885\\\",\\\"886\\\",\\\"887\\\",\\\"888\\\",\\\"889\\\",\\\"890\\\",\\\"891\\\",\\\"892\\\",\\\"893\\\",\\\"894\\\",\\\"895\\\",\\\"896\\\",\\\"897\\\",\\\"898\\\",\\\"899\\\",\\\"900\\\",\\\"901\\\",\\\"902\\\",\\\"903\\\",\\\"904\\\",\\\"905\\\",\\\"906\\\",\\\"907\\\",\\\"908\\\",\\\"909\\\",\\\"910\\\",\\\"911\\\",\\\"912\\\",\\\"913\\\",\\\"914\\\",\\\"915\\\",\\\"916\\\",\\\"917\\\",\\\"918\\\",\\\"919\\\",\\\"920\\\",\\\"921\\\",\\\"922\\\",\\\"923\\\",\\\"924\\\",\\\"925\\\",\\\"926\\\",\\\"927\\\",\\\"928\\\",\\\"929\\\",\\\"930\\\",\\\"931\\\",\\\"932\\\",\\\"933\\\",\\\"934\\\",\\\"935\\\",\\\"936\\\",\\\"937\\\",\\\"938\\\",\\\"939\\\",\\\"940\\\",\\\"941\\\",\\\"942\\\",\\\"943\\\",\\\"944\\\",\\\"945\\\",\\\"946\\\",\\\"947\\\",\\\"948\\\",\\\"949\\\",\\\"950\\\",\\\"951\\\",\\\"952\\\",\\\"953\\\",\\\"954\\\",\\\"955\\\",\\\"956\\\",\\\"957\\\",\\\"958\\\",\\\"959\\\",\\\"960\\\",\\\"961\\\",\\\"962\\\",\\\"963\\\",\\\"964\\\",\\\"965\\\",\\\"966\\\",\\\"967\\\",\\\"968\\\",\\\"969\\\",\\\"970\\\",\\\"971\\\",\\\"972\\\",\\\"973\\\",\\\"974\\\",\\\"975\\\",\\\"976\\\",\\\"977\\\",\\\"978\\\",\\\"979\\\",\\\"980\\\",\\\"981\\\",\\\"982\\\",\\\"983\\\",\\\"984\\\",\\\"985\\\",\\\"986\\\",\\\"987\\\",\\\"988\\\",\\\"989\\\",\\\"990\\\",\\\"991\\\",\\\"992\\\",\\\"993\\\",\\\"994\\\",\\\"995\\\",\\\"996\\\",\\\"997\\\",\\\"998\\\",\\\"999\\\",\\\"1000\\\"],\\\"changes\\\":WebIO.getval({\\\"name\\\":\\\"changes\\\",\\\"scope\\\":\\\"12081152369788741163\\\",\\\"id\\\":\\\"ob_34\\\",\\\"type\\\":\\\"observable\\\"}),\\\"index\\\":WebIO.getval({\\\"name\\\":\\\"index\\\",\\\"scope\\\":\\\"12081152369788741163\\\",\\\"id\\\":\\\"ob_33\\\",\\\"type\\\":\\\"observable\\\"})};\\n    var self = this;\\n    function AppViewModel() {\\n        for (var key in json_data) {\\n            var el = json_data[key];\\n            this[key] = Array.isArray(el) ? ko.observableArray(el) : ko.observable(el);\\n        }\\n        \\n        [this[\\\"formatted_val\\\"]=ko.computed(    function(){\\n        return this.formatted_vals()[parseInt(this.index())-(1)];\\n    }\\n,this)]\\n        [this[\\\"changes\\\"].subscribe((function (val){!(this.valueFromJulia[\\\"changes\\\"]) ? (WebIO.setval({\\\"name\\\":\\\"changes\\\",\\\"scope\\\":\\\"12081152369788741163\\\",\\\"id\\\":\\\"ob_34\\\",\\\"type\\\":\\\"observable\\\"},val)) : undefined; return this.valueFromJulia[\\\"changes\\\"]=false}),self),this[\\\"index\\\"].subscribe((function (val){!(this.valueFromJulia[\\\"index\\\"]) ? (WebIO.setval({\\\"name\\\":\\\"index\\\",\\\"scope\\\":\\\"12081152369788741163\\\",\\\"id\\\":\\\"ob_33\\\",\\\"type\\\":\\\"observable\\\"},val)) : undefined; return this.valueFromJulia[\\\"index\\\"]=false}),self)]\\n        \\n    }\\n    self.model = new AppViewModel();\\n    self.valueFromJulia = {};\\n    for (var key in json_data) {\\n        self.valueFromJulia[key] = false;\\n    }\\n    ko.applyBindings(self.model, self.dom);\\n}\\n);\\n    (WebIO.importBlock({\\\"data\\\":[{\\\"name\\\":\\\"knockout\\\",\\\"type\\\":\\\"js\\\",\\\"url\\\":\\\"\\/assetserver\\/800fa077652c804a9c5f68b6c1e29c6c61f85df7-knockout.js\\\"},{\\\"name\\\":\\\"knockout_punches\\\",\\\"type\\\":\\\"js\\\",\\\"url\\\":\\\"\\/assetserver\\/81e3f253b58efa296c3c65b00e2bf7b25de6cca9-knockout_punches.js\\\"}],\\\"type\\\":\\\"async_block\\\"})).then((imports) => handler.apply(this, imports));\\n}\\n\"],\"observables\":{\"changes\":{\"sync\":false,\"id\":\"ob_34\",\"value\":0},\"index\":{\"sync\":true,\"id\":\"ob_33\",\"value\":1}}},\"children\":[{\"props\":{\"className\":\"interact-flex-row interact-widget\"},\"nodeType\":\"DOM\",\"type\":\"node\",\"instanceArgs\":{\"namespace\":\"html\",\"tag\":\"div\"},\"children\":[{\"props\":{\"className\":\"interact-flex-row-left\"},\"nodeType\":\"DOM\",\"type\":\"node\",\"instanceArgs\":{\"namespace\":\"html\",\"tag\":\"div\"},\"children\":[{\"props\":{\"className\":\"interact \",\"style\":{\"padding\":\"5px 10px 0px 10px\"}},\"nodeType\":\"DOM\",\"type\":\"node\",\"instanceArgs\":{\"namespace\":\"html\",\"tag\":\"label\"},\"children\":[\"\"]}]},{\"props\":{\"className\":\"interact-flex-row-center\"},\"nodeType\":\"DOM\",\"type\":\"node\",\"instanceArgs\":{\"namespace\":\"html\",\"tag\":\"div\"},\"children\":[{\"props\":{\"max\":1000,\"min\":1,\"attributes\":{\"type\":\"range\",\"data-bind\":\"numericValue: index, valueUpdate: 'input', event: {change: function (){this.changes(this.changes()+1)}}\",\"orient\":\"horizontal\"},\"step\":1,\"className\":\"slider slider is-fullwidth\",\"style\":{}},\"nodeType\":\"DOM\",\"type\":\"node\",\"instanceArgs\":{\"namespace\":\"html\",\"tag\":\"input\"},\"children\":[]}]},{\"props\":{\"className\":\"interact-flex-row-right\"},\"nodeType\":\"DOM\",\"type\":\"node\",\"instanceArgs\":{\"namespace\":\"html\",\"tag\":\"div\"},\"children\":[{\"props\":{\"attributes\":{\"data-bind\":\"text: formatted_val\"}},\"nodeType\":\"DOM\",\"type\":\"node\",\"instanceArgs\":{\"namespace\":\"html\",\"tag\":\"p\"},\"children\":[]}]}]}]}]},{\"props\":{},\"nodeType\":\"Scope\",\"type\":\"node\",\"instanceArgs\":{\"imports\":{\"data\":[],\"type\":\"async_block\"},\"id\":\"15402640697982923225\",\"handlers\":{},\"systemjs_options\":null,\"mount_callbacks\":[],\"observables\":{\"obs-node\":{\"sync\":false,\"id\":\"ob_38\",\"value\":{\"props\":{\"className\":\"interact-flex-row interact-widget\"},\"nodeType\":\"DOM\",\"type\":\"node\",\"instanceArgs\":{\"namespace\":\"html\",\"tag\":\"div\"},\"children\":[{\"props\":{\"setInnerHtml\":\"<?xml version=\\\"1.0\\\" encoding=\\\"utf-8\\\"?>\\n<svg xmlns=\\\"http:\\/\\/www.w3.org\\/2000\\/svg\\\" xmlns:xlink=\\\"http:\\/\\/www.w3.org\\/1999\\/xlink\\\" width=\\\"600\\\" height=\\\"400\\\" viewBox=\\\"0 0 2400 1600\\\">\\n<defs>\\n  <clipPath id=\\\"clip9900\\\">\\n    <rect x=\\\"0\\\" y=\\\"0\\\" width=\\\"2400\\\" height=\\\"1600\\\"\\/>\\n  <\\/clipPath>\\n<\\/defs>\\n<path clip-path=\\\"url(#clip9900)\\\" d=\\\"\\nM0 1600 L2400 1600 L2400 0 L0 0  Z\\n  \\\" fill=\\\"#ffffff\\\" fill-rule=\\\"evenodd\\\" fill-opacity=\\\"1\\\"\\/>\\n<defs>\\n  <clipPath id=\\\"clip9901\\\">\\n    <rect x=\\\"480\\\" y=\\\"0\\\" width=\\\"1681\\\" height=\\\"1600\\\"\\/>\\n  <\\/clipPath>\\n<\\/defs>\\n<path clip-path=\\\"url(#clip9900)\\\" d=\\\"\\nM140.517 1487.47 L2352.76 1487.47 L2352.76 47.2441 L140.517 47.2441  Z\\n  \\\" fill=\\\"#ffffff\\\" fill-rule=\\\"evenodd\\\" fill-opacity=\\\"1\\\"\\/>\\n<defs>\\n  <clipPath id=\\\"clip9902\\\">\\n    <rect x=\\\"140\\\" y=\\\"47\\\" width=\\\"2213\\\" height=\\\"1441\\\"\\/>\\n  <\\/clipPath>\\n<\\/defs>\\n<polyline clip-path=\\\"url(#clip9902)\\\" style=\\\"stroke:#000000; stroke-width:2; stroke-opacity:0.1; fill:none\\\" points=\\\"\\n  140.517,1487.47 140.517,47.2441 \\n  \\\"\\/>\\n<polyline clip-path=\\\"url(#clip9902)\\\" style=\\\"stroke:#000000; stroke-width:2; stroke-opacity:0.1; fill:none\\\" points=\\\"\\n  582.965,1487.47 582.965,47.2441 \\n  \\\"\\/>\\n<polyline clip-path=\\\"url(#clip9902)\\\" style=\\\"stroke:#000000; stroke-width:2; stroke-opacity:0.1; fill:none\\\" points=\\\"\\n  1025.41,1487.47 1025.41,47.2441 \\n  \\\"\\/>\\n<polyline clip-path=\\\"url(#clip9902)\\\" style=\\\"stroke:#000000; stroke-width:2; stroke-opacity:0.1; fill:none\\\" points=\\\"\\n  1467.86,1487.47 1467.86,47.2441 \\n  \\\"\\/>\\n<polyline clip-path=\\\"url(#clip9902)\\\" style=\\\"stroke:#000000; stroke-width:2; stroke-opacity:0.1; fill:none\\\" points=\\\"\\n  1910.31,1487.47 1910.31,47.2441 \\n  \\\"\\/>\\n<polyline clip-path=\\\"url(#clip9902)\\\" style=\\\"stroke:#000000; stroke-width:2; stroke-opacity:0.1; fill:none\\\" points=\\\"\\n  2352.76,1487.47 2352.76,47.2441 \\n  \\\"\\/>\\n<polyline clip-path=\\\"url(#clip9902)\\\" style=\\\"stroke:#000000; stroke-width:2; stroke-opacity:0.1; fill:none\\\" points=\\\"\\n  140.517,1487.47 2352.76,1487.47 \\n  \\\"\\/>\\n<polyline clip-path=\\\"url(#clip9902)\\\" style=\\\"stroke:#000000; stroke-width:2; stroke-opacity:0.1; fill:none\\\" points=\\\"\\n  140.517,1199.43 2352.76,1199.43 \\n  \\\"\\/>\\n<polyline clip-path=\\\"url(#clip9902)\\\" style=\\\"stroke:#000000; stroke-width:2; stroke-opacity:0.1; fill:none\\\" points=\\\"\\n  140.517,911.382 2352.76,911.382 \\n  \\\"\\/>\\n<polyline clip-path=\\\"url(#clip9902)\\\" style=\\\"stroke:#000000; stroke-width:2; stroke-opacity:0.1; fill:none\\\" points=\\\"\\n  140.517,623.336 2352.76,623.336 \\n  \\\"\\/>\\n<polyline clip-path=\\\"url(#clip9902)\\\" style=\\\"stroke:#000000; stroke-width:2; stroke-opacity:0.1; fill:none\\\" points=\\\"\\n  140.517,335.29 2352.76,335.29 \\n  \\\"\\/>\\n<polyline clip-path=\\\"url(#clip9902)\\\" style=\\\"stroke:#000000; stroke-width:2; stroke-opacity:0.1; fill:none\\\" points=\\\"\\n  140.517,47.2441 2352.76,47.2441 \\n  \\\"\\/>\\n<polyline clip-path=\\\"url(#clip9900)\\\" style=\\\"stroke:#000000; stroke-width:4; stroke-opacity:1; fill:none\\\" points=\\\"\\n  140.517,1487.47 2352.76,1487.47 \\n  \\\"\\/>\\n<polyline clip-path=\\\"url(#clip9900)\\\" style=\\\"stroke:#000000; stroke-width:4; stroke-opacity:1; fill:none\\\" points=\\\"\\n  140.517,1487.47 140.517,47.2441 \\n  \\\"\\/>\\n<polyline clip-path=\\\"url(#clip9900)\\\" style=\\\"stroke:#000000; stroke-width:4; stroke-opacity:1; fill:none\\\" points=\\\"\\n  140.517,1487.47 140.517,1470.19 \\n  \\\"\\/>\\n<polyline clip-path=\\\"url(#clip9900)\\\" style=\\\"stroke:#000000; stroke-width:4; stroke-opacity:1; fill:none\\\" points=\\\"\\n  582.965,1487.47 582.965,1470.19 \\n  \\\"\\/>\\n<polyline clip-path=\\\"url(#clip9900)\\\" style=\\\"stroke:#000000; stroke-width:4; stroke-opacity:1; fill:none\\\" points=\\\"\\n  1025.41,1487.47 1025.41,1470.19 \\n  \\\"\\/>\\n<polyline clip-path=\\\"url(#clip9900)\\\" style=\\\"stroke:#000000; stroke-width:4; stroke-opacity:1; fill:none\\\" points=\\\"\\n  1467.86,1487.47 1467.86,1470.19 \\n  \\\"\\/>\\n<polyline clip-path=\\\"url(#clip9900)\\\" style=\\\"stroke:#000000; stroke-width:4; stroke-opacity:1; fill:none\\\" points=\\\"\\n  1910.31,1487.47 1910.31,1470.19 \\n  \\\"\\/>\\n<polyline clip-path=\\\"url(#clip9900)\\\" style=\\\"stroke:#000000; stroke-width:4; stroke-opacity:1; fill:none\\\" points=\\\"\\n  2352.76,1487.47 2352.76,1470.19 \\n  \\\"\\/>\\n<polyline clip-path=\\\"url(#clip9900)\\\" style=\\\"stroke:#000000; stroke-width:4; stroke-opacity:1; fill:none\\\" points=\\\"\\n  140.517,1487.47 167.064,1487.47 \\n  \\\"\\/>\\n<polyline clip-path=\\\"url(#clip9900)\\\" style=\\\"stroke:#000000; stroke-width:4; stroke-opacity:1; fill:none\\\" points=\\\"\\n  140.517,1199.43 167.064,1199.43 \\n  \\\"\\/>\\n<polyline clip-path=\\\"url(#clip9900)\\\" style=\\\"stroke:#000000; stroke-width:4; stroke-opacity:1; fill:none\\\" points=\\\"\\n  140.517,911.382 167.064,911.382 \\n  \\\"\\/>\\n<polyline clip-path=\\\"url(#clip9900)\\\" style=\\\"stroke:#000000; stroke-width:4; stroke-opacity:1; fill:none\\\" points=\\\"\\n  140.517,623.336 167.064,623.336 \\n  \\\"\\/>\\n<polyline clip-path=\\\"url(#clip9900)\\\" style=\\\"stroke:#000000; stroke-width:4; stroke-opacity:1; fill:none\\\" points=\\\"\\n  140.517,335.29 167.064,335.29 \\n  \\\"\\/>\\n<polyline clip-path=\\\"url(#clip9900)\\\" style=\\\"stroke:#000000; stroke-width:4; stroke-opacity:1; fill:none\\\" points=\\\"\\n  140.517,47.2441 167.064,47.2441 \\n  \\\"\\/>\\n<g clip-path=\\\"url(#clip9900)\\\">\\n<text style=\\\"fill:#000000; fill-opacity:1; font-family:Arial,Helvetica Neue,Helvetica,sans-serif; font-size:48px; text-anchor:middle;\\\" transform=\\\"rotate(0, 140.517, 1541.47)\\\" x=\\\"140.517\\\" y=\\\"1541.47\\\">0<\\/text>\\n<\\/g>\\n<g clip-path=\\\"url(#clip9900)\\\">\\n<text style=\\\"fill:#000000; fill-opacity:1; font-family:Arial,Helvetica Neue,Helvetica,sans-serif; font-size:48px; text-anchor:middle;\\\" transform=\\\"rotate(0, 582.965, 1541.47)\\\" x=\\\"582.965\\\" y=\\\"1541.47\\\">200<\\/text>\\n<\\/g>\\n<g clip-path=\\\"url(#clip9900)\\\">\\n<text style=\\\"fill:#000000; fill-opacity:1; font-family:Arial,Helvetica Neue,Helvetica,sans-serif; font-size:48px; text-anchor:middle;\\\" transform=\\\"rotate(0, 1025.41, 1541.47)\\\" x=\\\"1025.41\\\" y=\\\"1541.47\\\">400<\\/text>\\n<\\/g>\\n<g clip-path=\\\"url(#clip9900)\\\">\\n<text style=\\\"fill:#000000; fill-opacity:1; font-family:Arial,Helvetica Neue,Helvetica,sans-serif; font-size:48px; text-anchor:middle;\\\" transform=\\\"rotate(0, 1467.86, 1541.47)\\\" x=\\\"1467.86\\\" y=\\\"1541.47\\\">600<\\/text>\\n<\\/g>\\n<g clip-path=\\\"url(#clip9900)\\\">\\n<text style=\\\"fill:#000000; fill-opacity:1; font-family:Arial,Helvetica Neue,Helvetica,sans-serif; font-size:48px; text-anchor:middle;\\\" transform=\\\"rotate(0, 1910.31, 1541.47)\\\" x=\\\"1910.31\\\" y=\\\"1541.47\\\">800<\\/text>\\n<\\/g>\\n<g clip-path=\\\"url(#clip9900)\\\">\\n<text style=\\\"fill:#000000; fill-opacity:1; font-family:Arial,Helvetica Neue,Helvetica,sans-serif; font-size:48px; text-anchor:middle;\\\" transform=\\\"rotate(0, 2352.76, 1541.47)\\\" x=\\\"2352.76\\\" y=\\\"1541.47\\\">1000<\\/text>\\n<\\/g>\\n<g clip-path=\\\"url(#clip9900)\\\">\\n<text style=\\\"fill:#000000; fill-opacity:1; font-family:Arial,Helvetica Neue,Helvetica,sans-serif; font-size:48px; text-anchor:end;\\\" transform=\\\"rotate(0, 116.517, 1504.97)\\\" x=\\\"116.517\\\" y=\\\"1504.97\\\">0<\\/text>\\n<\\/g>\\n<g clip-path=\\\"url(#clip9900)\\\">\\n<text style=\\\"fill:#000000; fill-opacity:1; font-family:Arial,Helvetica Neue,Helvetica,sans-serif; font-size:48px; text-anchor:end;\\\" transform=\\\"rotate(0, 116.517, 1216.93)\\\" x=\\\"116.517\\\" y=\\\"1216.93\\\">2<\\/text>\\n<\\/g>\\n<g clip-path=\\\"url(#clip9900)\\\">\\n<text style=\\\"fill:#000000; fill-opacity:1; font-family:Arial,Helvetica Neue,Helvetica,sans-serif; font-size:48px; text-anchor:end;\\\" transform=\\\"rotate(0, 116.517, 928.882)\\\" x=\\\"116.517\\\" y=\\\"928.882\\\">4<\\/text>\\n<\\/g>\\n<g clip-path=\\\"url(#clip9900)\\\">\\n<text style=\\\"fill:#000000; fill-opacity:1; font-family:Arial,Helvetica Neue,Helvetica,sans-serif; font-size:48px; text-anchor:end;\\\" transform=\\\"rotate(0, 116.517, 640.836)\\\" x=\\\"116.517\\\" y=\\\"640.836\\\">6<\\/text>\\n<\\/g>\\n<g clip-path=\\\"url(#clip9900)\\\">\\n<text style=\\\"fill:#000000; fill-opacity:1; font-family:Arial,Helvetica Neue,Helvetica,sans-serif; font-size:48px; text-anchor:end;\\\" transform=\\\"rotate(0, 116.517, 352.79)\\\" x=\\\"116.517\\\" y=\\\"352.79\\\">8<\\/text>\\n<\\/g>\\n<g clip-path=\\\"url(#clip9900)\\\">\\n<text style=\\\"fill:#000000; fill-opacity:1; font-family:Arial,Helvetica Neue,Helvetica,sans-serif; font-size:48px; text-anchor:end;\\\" transform=\\\"rotate(0, 116.517, 64.7441)\\\" x=\\\"116.517\\\" y=\\\"64.7441\\\">10<\\/text>\\n<\\/g>\\n<path clip-path=\\\"url(#clip9902)\\\" d=\\\"M142.729 1359.45 L131.417 1354.76 L126.729 1343.45 L131.417 1332.14 L142.729 1327.45 L154.041 1332.14 L158.729 1343.45 L154.041 1354.76 Z\\\" fill=\\\"#009af9\\\" fill-rule=\\\"evenodd\\\" fill-opacity=\\\"1\\\" stroke=\\\"#000000\\\" stroke-opacity=\\\"1\\\" stroke-width=\\\"3.2\\\"\\/>\\n<path clip-path=\\\"url(#clip9900)\\\" d=\\\"\\nM1989.93 251.724 L2280.76 251.724 L2280.76 130.764 L1989.93 130.764  Z\\n  \\\" fill=\\\"#ffffff\\\" fill-rule=\\\"evenodd\\\" fill-opacity=\\\"1\\\"\\/>\\n<polyline clip-path=\\\"url(#clip9900)\\\" style=\\\"stroke:#000000; stroke-width:4; stroke-opacity:1; fill:none\\\" points=\\\"\\n  1989.93,251.724 2280.76,251.724 2280.76,130.764 1989.93,130.764 1989.93,251.724 \\n  \\\"\\/>\\n<polyline clip-path=\\\"url(#clip9900)\\\" style=\\\"stroke:#009af9; stroke-width:4; stroke-opacity:1; fill:none\\\" points=\\\"\\n  2013.93,191.244 2157.93,191.244 \\n  \\\"\\/>\\n<path clip-path=\\\"url(#clip9900)\\\" d=\\\"M2097.93 215.244 L2080.96 208.212 L2073.93 191.244 L2080.96 174.276 L2097.93 167.244 L2114.89 174.276 L2121.93 191.244 L2114.89 208.212 Z\\\" fill=\\\"#009af9\\\" fill-rule=\\\"evenodd\\\" fill-opacity=\\\"1\\\" stroke=\\\"#000000\\\" stroke-opacity=\\\"1\\\" stroke-width=\\\"3.2\\\"\\/>\\n<g clip-path=\\\"url(#clip9900)\\\">\\n<text style=\\\"fill:#000000; fill-opacity:1; font-family:Arial,Helvetica Neue,Helvetica,sans-serif; font-size:48px; text-anchor:start;\\\" transform=\\\"rotate(0, 2181.93, 208.744)\\\" x=\\\"2181.93\\\" y=\\\"208.744\\\">y1<\\/text>\\n<\\/g>\\n<\\/svg>\\n\"},\"nodeType\":\"DOM\",\"type\":\"node\",\"instanceArgs\":{\"namespace\":\"html\",\"tag\":\"div\"},\"children\":[]}]}}}},\"children\":[{\"props\":{},\"nodeType\":\"ObservableNode\",\"type\":\"node\",\"instanceArgs\":{\"id\":\"ob_38\",\"name\":\"obs-node\"},\"children\":[]}]}]},\n",
       "            window,\n",
       "        );\n",
       "    } else {\n",
       "        document\n",
       "            .querySelector('[data-webio-mountpoint=\"11400765032044714278\"]')\n",
       "            .innerHTML = (\n",
       "                '<div style=\"padding: 1em; background-color: #f8d6da; border: 1px solid #f5c6cb\">' +\n",
       "                '<p><strong>WebIO not detected.</strong></p>' +\n",
       "                '<p>Please read ' +\n",
       "                '<a href=\"https://juliagizmos.github.io/WebIO.jl/latest/troubleshooting/not-detected/\" target=\"_blank\">the troubleshooting guide</a> ' +\n",
       "                'for more information on how to resolve this issue.</p>' +\n",
       "                '<p><a href=\"https://juliagizmos.github.io/WebIO.jl/latest/troubleshooting/not-detected/\" target=\"_blank\">https://juliagizmos.github.io/WebIO.jl/latest/troubleshooting/not-detected/</a></p>' +\n",
       "                '</div>'\n",
       "            );\n",
       "    }\n",
       "    </script>\n",
       "</div>\n"
      ],
      "text/plain": [
       "Node{WebIO.DOM}(WebIO.DOM(:html, :div), Any[Node{WebIO.DOM}(WebIO.DOM(:html, :div), Any[Scope(Node{WebIO.DOM}(WebIO.DOM(:html, :div), Any[Node{WebIO.DOM}(WebIO.DOM(:html, :div), Any[Node{WebIO.DOM}(WebIO.DOM(:html, :label), Any[nothing], Dict{Symbol,Any}(:className => \"interact \",:style => Dict{Any,Any}(:padding => \"5px 10px 0px 10px\")))], Dict{Symbol,Any}(:className => \"interact-flex-row-left\")), Node{WebIO.DOM}(WebIO.DOM(:html, :div), Any[Node{WebIO.DOM}(WebIO.DOM(:html, :input), Any[], Dict{Symbol,Any}(:max => 1000,:min => 1,:attributes => Dict{Any,Any}(:type => \"range\",Symbol(\"data-bind\") => \"numericValue: index, valueUpdate: 'input', event: {change: function (){this.changes(this.changes()+1)}}\",\"orient\" => \"horizontal\"),:step => 1,:className => \"slider slider is-fullwidth\",:style => Dict{Any,Any}()))], Dict{Symbol,Any}(:className => \"interact-flex-row-center\")), Node{WebIO.DOM}(WebIO.DOM(:html, :div), Any[Node{WebIO.DOM}(WebIO.DOM(:html, :p), Any[], Dict{Symbol,Any}(:attributes => Dict(\"data-bind\" => \"text: formatted_val\")))], Dict{Symbol,Any}(:className => \"interact-flex-row-right\"))], Dict{Symbol,Any}(:className => \"interact-flex-row interact-widget\")), Dict{String,Tuple{Observables.AbstractObservable,Union{Nothing, Bool}}}(\"changes\" => (Observable{Int64} with 1 listeners. Value:\n",
       "0, nothing),\"index\" => (Observable{Int64} with 2 listeners. Value:\n",
       "1, nothing)), Set(String[]), nothing, Asset[Asset(\"js\", \"knockout\", \"/Users/dpsanders/.julia/packages/Knockout/IP1uR/src/../assets/knockout.js\"), Asset(\"js\", \"knockout_punches\", \"/Users/dpsanders/.julia/packages/Knockout/IP1uR/src/../assets/knockout_punches.js\"), Asset(\"js\", nothing, \"/Users/dpsanders/.julia/packages/InteractBase/9mFwe/src/../assets/all.js\"), Asset(\"css\", nothing, \"/Users/dpsanders/.julia/packages/InteractBase/9mFwe/src/../assets/style.css\"), Asset(\"css\", nothing, \"/Users/dpsanders/.julia/packages/Interact/cdOnS/src/../assets/bulma_confined.min.css\")], Dict{Any,Any}(\"changes\" => Any[WebIO.JSString(\"(function (val){return (val!=this.model[\\\"changes\\\"]()) ? (this.valueFromJulia[\\\"changes\\\"]=true, this.model[\\\"changes\\\"](val)) : undefined})\")],\"index\" => Any[WebIO.JSString(\"(function (val){return (val!=this.model[\\\"index\\\"]()) ? (this.valueFromJulia[\\\"index\\\"]=true, this.model[\\\"index\\\"](val)) : undefined})\")]), WebIO.ConnectionPool(Channel{Any}(sz_max:32,sz_curr:0), Set(AbstractConnection[]), Base.GenericCondition{Base.AlwaysLockedST}(Base.InvasiveLinkedList{Task}(Task (runnable) @0x000000012f2a8250, Task (runnable) @0x000000012f2a8250), Base.AlwaysLockedST(1))), WebIO.JSString[WebIO.JSString(\"function () {\\n    var handler = (function (ko, koPunches) {\\n    ko.punches.enableAll();\\n    ko.bindingHandlers.numericValue = {\\n        init: function(element, valueAccessor, allBindings, data, context) {\\n            var stringified = ko.observable(ko.unwrap(valueAccessor()));\\n            stringified.subscribe(function(value) {\\n                var val = parseFloat(value);\\n                if (!isNaN(val)) {\\n                    valueAccessor()(val);\\n                }\\n            });\\n            valueAccessor().subscribe(function(value) {\\n                var str = JSON.stringify(value);\\n                if ((str == \\\"0\\\") && ([\\\"-0\\\", \\\"-0.\\\"].indexOf(stringified()) >= 0))\\n                     return;\\n                 if ([\\\"null\\\", \\\"\\\"].indexOf(str) >= 0)\\n                     return;\\n                stringified(str);\\n            });\\n            ko.applyBindingsToNode(\\n                element,\\n                {\\n                    value: stringified,\\n                    valueUpdate: allBindings.get('valueUpdate'),\\n                },\\n                context,\\n            );\\n        }\\n    };\\n    var json_data = {\\\"formatted_vals\\\":[\\\"1\\\",\\\"2\\\",\\\"3\\\",\\\"4\\\",\\\"5\\\",\\\"6\\\",\\\"7\\\",\\\"8\\\",\\\"9\\\",\\\"10\\\",\\\"11\\\",\\\"12\\\",\\\"13\\\",\\\"14\\\",\\\"15\\\",\\\"16\\\",\\\"17\\\",\\\"18\\\",\\\"19\\\",\\\"20\\\",\\\"21\\\",\\\"22\\\",\\\"23\\\",\\\"24\\\",\\\"25\\\",\\\"26\\\",\\\"27\\\",\\\"28\\\",\\\"29\\\",\\\"30\\\",\\\"31\\\",\\\"32\\\",\\\"33\\\",\\\"34\\\",\\\"35\\\",\\\"36\\\",\\\"37\\\",\\\"38\\\",\\\"39\\\",\\\"40\\\",\\\"41\\\",\\\"42\\\",\\\"43\\\",\\\"44\\\",\\\"45\\\",\\\"46\\\",\\\"47\\\",\\\"48\\\",\\\"49\\\",\\\"50\\\",\\\"51\\\",\\\"52\\\",\\\"53\\\",\\\"54\\\",\\\"55\\\",\\\"56\\\",\\\"57\\\",\\\"58\\\",\\\"59\\\",\\\"60\\\",\\\"61\\\",\\\"62\\\",\\\"63\\\",\\\"64\\\",\\\"65\\\",\\\"66\\\",\\\"67\\\",\\\"68\\\",\\\"69\\\",\\\"70\\\",\\\"71\\\",\\\"72\\\",\\\"73\\\",\\\"74\\\",\\\"75\\\",\\\"76\\\",\\\"77\\\",\\\"78\\\",\\\"79\\\",\\\"80\\\",\\\"81\\\",\\\"82\\\",\\\"83\\\",\\\"84\\\",\\\"85\\\",\\\"86\\\",\\\"87\\\",\\\"88\\\",\\\"89\\\",\\\"90\\\",\\\"91\\\",\\\"92\\\",\\\"93\\\",\\\"94\\\",\\\"95\\\",\\\"96\\\",\\\"97\\\",\\\"98\\\",\\\"99\\\",\\\"100\\\",\\\"101\\\",\\\"102\\\",\\\"103\\\",\\\"104\\\",\\\"105\\\",\\\"106\\\",\\\"107\\\",\\\"108\\\",\\\"109\\\",\\\"110\\\",\\\"111\\\",\\\"112\\\",\\\"113\\\",\\\"114\\\",\\\"115\\\",\\\"116\\\",\\\"117\\\",\\\"118\\\",\\\"119\\\",\\\"120\\\",\\\"121\\\",\\\"122\\\",\\\"123\\\",\\\"124\\\",\\\"125\\\",\\\"126\\\",\\\"127\\\",\\\"128\\\",\\\"129\\\",\\\"130\\\",\\\"131\\\",\\\"132\\\",\\\"133\\\",\\\"134\\\",\\\"135\\\",\\\"136\\\",\\\"137\\\",\\\"138\\\",\\\"139\\\",\\\"140\\\",\\\"141\\\",\\\"142\\\",\\\"143\\\",\\\"144\\\",\\\"145\\\",\\\"146\\\",\\\"147\\\",\\\"148\\\",\\\"149\\\",\\\"150\\\",\\\"151\\\",\\\"152\\\",\\\"153\\\",\\\"154\\\",\\\"155\\\",\\\"156\\\",\\\"157\\\",\\\"158\\\",\\\"159\\\",\\\"160\\\",\\\"161\\\",\\\"162\\\",\\\"163\\\",\\\"164\\\",\\\"165\\\",\\\"166\\\",\\\"167\\\",\\\"168\\\",\\\"169\\\",\\\"170\\\",\\\"171\\\",\\\"172\\\",\\\"173\\\",\\\"174\\\",\\\"175\\\",\\\"176\\\",\\\"177\\\",\\\"178\\\",\\\"179\\\",\\\"180\\\",\\\"181\\\",\\\"182\\\",\\\"183\\\",\\\"184\\\",\\\"185\\\",\\\"186\\\",\\\"187\\\",\\\"188\\\",\\\"189\\\",\\\"190\\\",\\\"191\\\",\\\"192\\\",\\\"193\\\",\\\"194\\\",\\\"195\\\",\\\"196\\\",\\\"197\\\",\\\"198\\\",\\\"199\\\",\\\"200\\\",\\\"201\\\",\\\"202\\\",\\\"203\\\",\\\"204\\\",\\\"205\\\",\\\"206\\\",\\\"207\\\",\\\"208\\\",\\\"209\\\",\\\"210\\\",\\\"211\\\",\\\"212\\\",\\\"213\\\",\\\"214\\\",\\\"215\\\",\\\"216\\\",\\\"217\\\",\\\"218\\\",\\\"219\\\",\\\"220\\\",\\\"221\\\",\\\"222\\\",\\\"223\\\",\\\"224\\\",\\\"225\\\",\\\"226\\\",\\\"227\\\",\\\"228\\\",\\\"229\\\",\\\"230\\\",\\\"231\\\",\\\"232\\\",\\\"233\\\",\\\"234\\\",\\\"235\\\",\\\"236\\\",\\\"237\\\",\\\"238\\\",\\\"239\\\",\\\"240\\\",\\\"241\\\",\\\"242\\\",\\\"243\\\",\\\"244\\\",\\\"245\\\",\\\"246\\\",\\\"247\\\",\\\"248\\\",\\\"249\\\",\\\"250\\\",\\\"251\\\",\\\"252\\\",\\\"253\\\",\\\"254\\\",\\\"255\\\",\\\"256\\\",\\\"257\\\",\\\"258\\\",\\\"259\\\",\\\"260\\\",\\\"261\\\",\\\"262\\\",\\\"263\\\",\\\"264\\\",\\\"265\\\",\\\"266\\\",\\\"267\\\",\\\"268\\\",\\\"269\\\",\\\"270\\\",\\\"271\\\",\\\"272\\\",\\\"273\\\",\\\"274\\\",\\\"275\\\",\\\"276\\\",\\\"277\\\",\\\"278\\\",\\\"279\\\",\\\"280\\\",\\\"281\\\",\\\"282\\\",\\\"283\\\",\\\"284\\\",\\\"285\\\",\\\"286\\\",\\\"287\\\",\\\"288\\\",\\\"289\\\",\\\"290\\\",\\\"291\\\",\\\"292\\\",\\\"293\\\",\\\"294\\\",\\\"295\\\",\\\"296\\\",\\\"297\\\",\\\"298\\\",\\\"299\\\",\\\"300\\\",\\\"301\\\",\\\"302\\\",\\\"303\\\",\\\"304\\\",\\\"305\\\",\\\"306\\\",\\\"307\\\",\\\"308\\\",\\\"309\\\",\\\"310\\\",\\\"311\\\",\\\"312\\\",\\\"313\\\",\\\"314\\\",\\\"315\\\",\\\"316\\\",\\\"317\\\",\\\"318\\\",\\\"319\\\",\\\"320\\\",\\\"321\\\",\\\"322\\\",\\\"323\\\",\\\"324\\\",\\\"325\\\",\\\"326\\\",\\\"327\\\",\\\"328\\\",\\\"329\\\",\\\"330\\\",\\\"331\\\",\\\"332\\\",\\\"333\\\",\\\"334\\\",\\\"335\\\",\\\"336\\\",\\\"337\\\",\\\"338\\\",\\\"339\\\",\\\"340\\\",\\\"341\\\",\\\"342\\\",\\\"343\\\",\\\"344\\\",\\\"345\\\",\\\"346\\\",\\\"347\\\",\\\"348\\\",\\\"349\\\",\\\"350\\\",\\\"351\\\",\\\"352\\\",\\\"353\\\",\\\"354\\\",\\\"355\\\",\\\"356\\\",\\\"357\\\",\\\"358\\\",\\\"359\\\",\\\"360\\\",\\\"361\\\",\\\"362\\\",\\\"363\\\",\\\"364\\\",\\\"365\\\",\\\"366\\\",\\\"367\\\",\\\"368\\\",\\\"369\\\",\\\"370\\\",\\\"371\\\",\\\"372\\\",\\\"373\\\",\\\"374\\\",\\\"375\\\",\\\"376\\\",\\\"377\\\",\\\"378\\\",\\\"379\\\",\\\"380\\\",\\\"381\\\",\\\"382\\\",\\\"383\\\",\\\"384\\\",\\\"385\\\",\\\"386\\\",\\\"387\\\",\\\"388\\\",\\\"389\\\",\\\"390\\\",\\\"391\\\",\\\"392\\\",\\\"393\\\",\\\"394\\\",\\\"395\\\",\\\"396\\\",\\\"397\\\",\\\"398\\\",\\\"399\\\",\\\"400\\\",\\\"401\\\",\\\"402\\\",\\\"403\\\",\\\"404\\\",\\\"405\\\",\\\"406\\\",\\\"407\\\",\\\"408\\\",\\\"409\\\",\\\"410\\\",\\\"411\\\",\\\"412\\\",\\\"413\\\",\\\"414\\\",\\\"415\\\",\\\"416\\\",\\\"417\\\",\\\"418\\\",\\\"419\\\",\\\"420\\\",\\\"421\\\",\\\"422\\\",\\\"423\\\",\\\"424\\\",\\\"425\\\",\\\"426\\\",\\\"427\\\",\\\"428\\\",\\\"429\\\",\\\"430\\\",\\\"431\\\",\\\"432\\\",\\\"433\\\",\\\"434\\\",\\\"435\\\",\\\"436\\\",\\\"437\\\",\\\"438\\\",\\\"439\\\",\\\"440\\\",\\\"441\\\",\\\"442\\\",\\\"443\\\",\\\"444\\\",\\\"445\\\",\\\"446\\\",\\\"447\\\",\\\"448\\\",\\\"449\\\",\\\"450\\\",\\\"451\\\",\\\"452\\\",\\\"453\\\",\\\"454\\\",\\\"455\\\",\\\"456\\\",\\\"457\\\",\\\"458\\\",\\\"459\\\",\\\"460\\\",\\\"461\\\",\\\"462\\\",\\\"463\\\",\\\"464\\\",\\\"465\\\",\\\"466\\\",\\\"467\\\",\\\"468\\\",\\\"469\\\",\\\"470\\\",\\\"471\\\",\\\"472\\\",\\\"473\\\",\\\"474\\\",\\\"475\\\",\\\"476\\\",\\\"477\\\",\\\"478\\\",\\\"479\\\",\\\"480\\\",\\\"481\\\",\\\"482\\\",\\\"483\\\",\\\"484\\\",\\\"485\\\",\\\"486\\\",\\\"487\\\",\\\"488\\\",\\\"489\\\",\\\"490\\\",\\\"491\\\",\\\"492\\\",\\\"493\\\",\\\"494\\\",\\\"495\\\",\\\"496\\\",\\\"497\\\",\\\"498\\\",\\\"499\\\",\\\"500\\\",\\\"501\\\",\\\"502\\\",\\\"503\\\",\\\"504\\\",\\\"505\\\",\\\"506\\\",\\\"507\\\",\\\"508\\\",\\\"509\\\",\\\"510\\\",\\\"511\\\",\\\"512\\\",\\\"513\\\",\\\"514\\\",\\\"515\\\",\\\"516\\\",\\\"517\\\",\\\"518\\\",\\\"519\\\",\\\"520\\\",\\\"521\\\",\\\"522\\\",\\\"523\\\",\\\"524\\\",\\\"525\\\",\\\"526\\\",\\\"527\\\",\\\"528\\\",\\\"529\\\",\\\"530\\\",\\\"531\\\",\\\"532\\\",\\\"533\\\",\\\"534\\\",\\\"535\\\",\\\"536\\\",\\\"537\\\",\\\"538\\\",\\\"539\\\",\\\"540\\\",\\\"541\\\",\\\"542\\\",\\\"543\\\",\\\"544\\\",\\\"545\\\",\\\"546\\\",\\\"547\\\",\\\"548\\\",\\\"549\\\",\\\"550\\\",\\\"551\\\",\\\"552\\\",\\\"553\\\",\\\"554\\\",\\\"555\\\",\\\"556\\\",\\\"557\\\",\\\"558\\\",\\\"559\\\",\\\"560\\\",\\\"561\\\",\\\"562\\\",\\\"563\\\",\\\"564\\\",\\\"565\\\",\\\"566\\\",\\\"567\\\",\\\"568\\\",\\\"569\\\",\\\"570\\\",\\\"571\\\",\\\"572\\\",\\\"573\\\",\\\"574\\\",\\\"575\\\",\\\"576\\\",\\\"577\\\",\\\"578\\\",\\\"579\\\",\\\"580\\\",\\\"581\\\",\\\"582\\\",\\\"583\\\",\\\"584\\\",\\\"585\\\",\\\"586\\\",\\\"587\\\",\\\"588\\\",\\\"589\\\",\\\"590\\\",\\\"591\\\",\\\"592\\\",\\\"593\\\",\\\"594\\\",\\\"595\\\",\\\"596\\\",\\\"597\\\",\\\"598\\\",\\\"599\\\",\\\"600\\\",\\\"601\\\",\\\"602\\\",\\\"603\\\",\\\"604\\\",\\\"605\\\",\\\"606\\\",\\\"607\\\",\\\"608\\\",\\\"609\\\",\\\"610\\\",\\\"611\\\",\\\"612\\\",\\\"613\\\",\\\"614\\\",\\\"615\\\",\\\"616\\\",\\\"617\\\",\\\"618\\\",\\\"619\\\",\\\"620\\\",\\\"621\\\",\\\"622\\\",\\\"623\\\",\\\"624\\\",\\\"625\\\",\\\"626\\\",\\\"627\\\",\\\"628\\\",\\\"629\\\",\\\"630\\\",\\\"631\\\",\\\"632\\\",\\\"633\\\",\\\"634\\\",\\\"635\\\",\\\"636\\\",\\\"637\\\",\\\"638\\\",\\\"639\\\",\\\"640\\\",\\\"641\\\",\\\"642\\\",\\\"643\\\",\\\"644\\\",\\\"645\\\",\\\"646\\\",\\\"647\\\",\\\"648\\\",\\\"649\\\",\\\"650\\\",\\\"651\\\",\\\"652\\\",\\\"653\\\",\\\"654\\\",\\\"655\\\",\\\"656\\\",\\\"657\\\",\\\"658\\\",\\\"659\\\",\\\"660\\\",\\\"661\\\",\\\"662\\\",\\\"663\\\",\\\"664\\\",\\\"665\\\",\\\"666\\\",\\\"667\\\",\\\"668\\\",\\\"669\\\",\\\"670\\\",\\\"671\\\",\\\"672\\\",\\\"673\\\",\\\"674\\\",\\\"675\\\",\\\"676\\\",\\\"677\\\",\\\"678\\\",\\\"679\\\",\\\"680\\\",\\\"681\\\",\\\"682\\\",\\\"683\\\",\\\"684\\\",\\\"685\\\",\\\"686\\\",\\\"687\\\",\\\"688\\\",\\\"689\\\",\\\"690\\\",\\\"691\\\",\\\"692\\\",\\\"693\\\",\\\"694\\\",\\\"695\\\",\\\"696\\\",\\\"697\\\",\\\"698\\\",\\\"699\\\",\\\"700\\\",\\\"701\\\",\\\"702\\\",\\\"703\\\",\\\"704\\\",\\\"705\\\",\\\"706\\\",\\\"707\\\",\\\"708\\\",\\\"709\\\",\\\"710\\\",\\\"711\\\",\\\"712\\\",\\\"713\\\",\\\"714\\\",\\\"715\\\",\\\"716\\\",\\\"717\\\",\\\"718\\\",\\\"719\\\",\\\"720\\\",\\\"721\\\",\\\"722\\\",\\\"723\\\",\\\"724\\\",\\\"725\\\",\\\"726\\\",\\\"727\\\",\\\"728\\\",\\\"729\\\",\\\"730\\\",\\\"731\\\",\\\"732\\\",\\\"733\\\",\\\"734\\\",\\\"735\\\",\\\"736\\\",\\\"737\\\",\\\"738\\\",\\\"739\\\",\\\"740\\\",\\\"741\\\",\\\"742\\\",\\\"743\\\",\\\"744\\\",\\\"745\\\",\\\"746\\\",\\\"747\\\",\\\"748\\\",\\\"749\\\",\\\"750\\\",\\\"751\\\",\\\"752\\\",\\\"753\\\",\\\"754\\\",\\\"755\\\",\\\"756\\\",\\\"757\\\",\\\"758\\\",\\\"759\\\",\\\"760\\\",\\\"761\\\",\\\"762\\\",\\\"763\\\",\\\"764\\\",\\\"765\\\",\\\"766\\\",\\\"767\\\",\\\"768\\\",\\\"769\\\",\\\"770\\\",\\\"771\\\",\\\"772\\\",\\\"773\\\",\\\"774\\\",\\\"775\\\",\\\"776\\\",\\\"777\\\",\\\"778\\\",\\\"779\\\",\\\"780\\\",\\\"781\\\",\\\"782\\\",\\\"783\\\",\\\"784\\\",\\\"785\\\",\\\"786\\\",\\\"787\\\",\\\"788\\\",\\\"789\\\",\\\"790\\\",\\\"791\\\",\\\"792\\\",\\\"793\\\",\\\"794\\\",\\\"795\\\",\\\"796\\\",\\\"797\\\",\\\"798\\\",\\\"799\\\",\\\"800\\\",\\\"801\\\",\\\"802\\\",\\\"803\\\",\\\"804\\\",\\\"805\\\",\\\"806\\\",\\\"807\\\",\\\"808\\\",\\\"809\\\",\\\"810\\\",\\\"811\\\",\\\"812\\\",\\\"813\\\",\\\"814\\\",\\\"815\\\",\\\"816\\\",\\\"817\\\",\\\"818\\\",\\\"819\\\",\\\"820\\\",\\\"821\\\",\\\"822\\\",\\\"823\\\",\\\"824\\\",\\\"825\\\",\\\"826\\\",\\\"827\\\",\\\"828\\\",\\\"829\\\",\\\"830\\\",\\\"831\\\",\\\"832\\\",\\\"833\\\",\\\"834\\\",\\\"835\\\",\\\"836\\\",\\\"837\\\",\\\"838\\\",\\\"839\\\",\\\"840\\\",\\\"841\\\",\\\"842\\\",\\\"843\\\",\\\"844\\\",\\\"845\\\",\\\"846\\\",\\\"847\\\",\\\"848\\\",\\\"849\\\",\\\"850\\\",\\\"851\\\",\\\"852\\\",\\\"853\\\",\\\"854\\\",\\\"855\\\",\\\"856\\\",\\\"857\\\",\\\"858\\\",\\\"859\\\",\\\"860\\\",\\\"861\\\",\\\"862\\\",\\\"863\\\",\\\"864\\\",\\\"865\\\",\\\"866\\\",\\\"867\\\",\\\"868\\\",\\\"869\\\",\\\"870\\\",\\\"871\\\",\\\"872\\\",\\\"873\\\",\\\"874\\\",\\\"875\\\",\\\"876\\\",\\\"877\\\",\\\"878\\\",\\\"879\\\",\\\"880\\\",\\\"881\\\",\\\"882\\\",\\\"883\\\",\\\"884\\\",\\\"885\\\",\\\"886\\\",\\\"887\\\",\\\"888\\\",\\\"889\\\",\\\"890\\\",\\\"891\\\",\\\"892\\\",\\\"893\\\",\\\"894\\\",\\\"895\\\",\\\"896\\\",\\\"897\\\",\\\"898\\\",\\\"899\\\",\\\"900\\\",\\\"901\\\",\\\"902\\\",\\\"903\\\",\\\"904\\\",\\\"905\\\",\\\"906\\\",\\\"907\\\",\\\"908\\\",\\\"909\\\",\\\"910\\\",\\\"911\\\",\\\"912\\\",\\\"913\\\",\\\"914\\\",\\\"915\\\",\\\"916\\\",\\\"917\\\",\\\"918\\\",\\\"919\\\",\\\"920\\\",\\\"921\\\",\\\"922\\\",\\\"923\\\",\\\"924\\\",\\\"925\\\",\\\"926\\\",\\\"927\\\",\\\"928\\\",\\\"929\\\",\\\"930\\\",\\\"931\\\",\\\"932\\\",\\\"933\\\",\\\"934\\\",\\\"935\\\",\\\"936\\\",\\\"937\\\",\\\"938\\\",\\\"939\\\",\\\"940\\\",\\\"941\\\",\\\"942\\\",\\\"943\\\",\\\"944\\\",\\\"945\\\",\\\"946\\\",\\\"947\\\",\\\"948\\\",\\\"949\\\",\\\"950\\\",\\\"951\\\",\\\"952\\\",\\\"953\\\",\\\"954\\\",\\\"955\\\",\\\"956\\\",\\\"957\\\",\\\"958\\\",\\\"959\\\",\\\"960\\\",\\\"961\\\",\\\"962\\\",\\\"963\\\",\\\"964\\\",\\\"965\\\",\\\"966\\\",\\\"967\\\",\\\"968\\\",\\\"969\\\",\\\"970\\\",\\\"971\\\",\\\"972\\\",\\\"973\\\",\\\"974\\\",\\\"975\\\",\\\"976\\\",\\\"977\\\",\\\"978\\\",\\\"979\\\",\\\"980\\\",\\\"981\\\",\\\"982\\\",\\\"983\\\",\\\"984\\\",\\\"985\\\",\\\"986\\\",\\\"987\\\",\\\"988\\\",\\\"989\\\",\\\"990\\\",\\\"991\\\",\\\"992\\\",\\\"993\\\",\\\"994\\\",\\\"995\\\",\\\"996\\\",\\\"997\\\",\\\"998\\\",\\\"999\\\",\\\"1000\\\"],\\\"changes\\\":WebIO.getval({\\\"name\\\":\\\"changes\\\",\\\"scope\\\":\\\"12081152369788741163\\\",\\\"id\\\":\\\"ob_34\\\",\\\"type\\\":\\\"observable\\\"}),\\\"index\\\":WebIO.getval({\\\"name\\\":\\\"index\\\",\\\"scope\\\":\\\"12081152369788741163\\\",\\\"id\\\":\\\"ob_33\\\",\\\"type\\\":\\\"observable\\\"})};\\n    var self = this;\\n    function AppViewModel() {\\n        for (var key in json_data) {\\n            var el = json_data[key];\\n            this[key] = Array.isArray(el) ? ko.observableArray(el) : ko.observable(el);\\n        }\\n        \\n        [this[\\\"formatted_val\\\"]=ko.computed(    function(){\\n        return this.formatted_vals()[parseInt(this.index())-(1)];\\n    }\\n,this)]\\n        [this[\\\"changes\\\"].subscribe((function (val){!(this.valueFromJulia[\\\"changes\\\"]) ? (WebIO.setval({\\\"name\\\":\\\"changes\\\",\\\"scope\\\":\\\"12081152369788741163\\\",\\\"id\\\":\\\"ob_34\\\",\\\"type\\\":\\\"observable\\\"},val)) : undefined; return this.valueFromJulia[\\\"changes\\\"]=false}),self),this[\\\"index\\\"].subscribe((function (val){!(this.valueFromJulia[\\\"index\\\"]) ? (WebIO.setval({\\\"name\\\":\\\"index\\\",\\\"scope\\\":\\\"12081152369788741163\\\",\\\"id\\\":\\\"ob_33\\\",\\\"type\\\":\\\"observable\\\"},val)) : undefined; return this.valueFromJulia[\\\"index\\\"]=false}),self)]\\n        \\n    }\\n    self.model = new AppViewModel();\\n    self.valueFromJulia = {};\\n    for (var key in json_data) {\\n        self.valueFromJulia[key] = false;\\n    }\\n    ko.applyBindings(self.model, self.dom);\\n}\\n);\\n    (WebIO.importBlock({\\\"data\\\":[{\\\"name\\\":\\\"knockout\\\",\\\"type\\\":\\\"js\\\",\\\"url\\\":\\\"/assetserver/800fa077652c804a9c5f68b6c1e29c6c61f85df7-knockout.js\\\"},{\\\"name\\\":\\\"knockout_punches\\\",\\\"type\\\":\\\"js\\\",\\\"url\\\":\\\"/assetserver/81e3f253b58efa296c3c65b00e2bf7b25de6cca9-knockout_punches.js\\\"}],\\\"type\\\":\\\"async_block\\\"})).then((imports) => handler.apply(this, imports));\\n}\\n\")])], Dict{Symbol,Any}(:className => \"field interact-widget\")), Observable{Any} with 0 listeners. Value:\n",
       "Node{WebIO.DOM}(WebIO.DOM(:html, :div), Any[Plot{Plots.GRBackend() n=1}], Dict{Symbol,Any}(:className => \"interact-flex-row interact-widget\"))], Dict{Symbol,Any}())"
      ]
     },
     "execution_count": 44,
     "metadata": {
      "application/vnd.webio.node+json": {
       "kernelId": "d59a816c-9a2c-4330-8c1f-213f8e4252cb"
      }
     },
     "output_type": "execute_result"
    }
   ],
   "source": [
    "end_T = 1000\n",
    "@manipulate for T in slider(1:end_T, value=1)\n",
    "    I_result = run_infection(T)\n",
    "\n",
    "    plot(I_result, m=:o)\n",
    "    \n",
    "    xlims!(0, end_T)\n",
    "    ylims!(0, 10)\n",
    "end"
   ]
  },
  {
   "cell_type": "markdown",
   "metadata": {},
   "source": [
    "## Exponential growth"
   ]
  },
  {
   "cell_type": "code",
   "execution_count": 46,
   "metadata": {},
   "outputs": [
    {
     "data": {
      "image/svg+xml": [
       "<?xml version=\"1.0\" encoding=\"utf-8\"?>\n",
       "<svg xmlns=\"http://www.w3.org/2000/svg\" xmlns:xlink=\"http://www.w3.org/1999/xlink\" width=\"600\" height=\"400\" viewBox=\"0 0 2400 1600\">\n",
       "<defs>\n",
       "  <clipPath id=\"clip5900\">\n",
       "    <rect x=\"0\" y=\"0\" width=\"2400\" height=\"1600\"/>\n",
       "  </clipPath>\n",
       "</defs>\n",
       "<path clip-path=\"url(#clip5900)\" d=\"\n",
       "M0 1600 L2400 1600 L2400 0 L0 0  Z\n",
       "  \" fill=\"#ffffff\" fill-rule=\"evenodd\" fill-opacity=\"1\"/>\n",
       "<defs>\n",
       "  <clipPath id=\"clip5901\">\n",
       "    <rect x=\"480\" y=\"0\" width=\"1681\" height=\"1600\"/>\n",
       "  </clipPath>\n",
       "</defs>\n",
       "<path clip-path=\"url(#clip5900)\" d=\"\n",
       "M287.95 1487.47 L2352.76 1487.47 L2352.76 47.2441 L287.95 47.2441  Z\n",
       "  \" fill=\"#ffffff\" fill-rule=\"evenodd\" fill-opacity=\"1\"/>\n",
       "<defs>\n",
       "  <clipPath id=\"clip5902\">\n",
       "    <rect x=\"287\" y=\"47\" width=\"2066\" height=\"1441\"/>\n",
       "  </clipPath>\n",
       "</defs>\n",
       "<polyline clip-path=\"url(#clip5902)\" style=\"stroke:#000000; stroke-width:2; stroke-opacity:0.1; fill:none\" points=\"\n",
       "  344.438,1487.47 344.438,47.2441 \n",
       "  \"/>\n",
       "<polyline clip-path=\"url(#clip5902)\" style=\"stroke:#000000; stroke-width:2; stroke-opacity:0.1; fill:none\" points=\"\n",
       "  831.908,1487.47 831.908,47.2441 \n",
       "  \"/>\n",
       "<polyline clip-path=\"url(#clip5902)\" style=\"stroke:#000000; stroke-width:2; stroke-opacity:0.1; fill:none\" points=\"\n",
       "  1319.38,1487.47 1319.38,47.2441 \n",
       "  \"/>\n",
       "<polyline clip-path=\"url(#clip5902)\" style=\"stroke:#000000; stroke-width:2; stroke-opacity:0.1; fill:none\" points=\"\n",
       "  1806.85,1487.47 1806.85,47.2441 \n",
       "  \"/>\n",
       "<polyline clip-path=\"url(#clip5902)\" style=\"stroke:#000000; stroke-width:2; stroke-opacity:0.1; fill:none\" points=\"\n",
       "  2294.32,1487.47 2294.32,47.2441 \n",
       "  \"/>\n",
       "<polyline clip-path=\"url(#clip5902)\" style=\"stroke:#000000; stroke-width:2; stroke-opacity:0.1; fill:none\" points=\"\n",
       "  287.95,1446.78 2352.76,1446.78 \n",
       "  \"/>\n",
       "<polyline clip-path=\"url(#clip5902)\" style=\"stroke:#000000; stroke-width:2; stroke-opacity:0.1; fill:none\" points=\"\n",
       "  287.95,1119.39 2352.76,1119.39 \n",
       "  \"/>\n",
       "<polyline clip-path=\"url(#clip5902)\" style=\"stroke:#000000; stroke-width:2; stroke-opacity:0.1; fill:none\" points=\"\n",
       "  287.95,792 2352.76,792 \n",
       "  \"/>\n",
       "<polyline clip-path=\"url(#clip5902)\" style=\"stroke:#000000; stroke-width:2; stroke-opacity:0.1; fill:none\" points=\"\n",
       "  287.95,464.611 2352.76,464.611 \n",
       "  \"/>\n",
       "<polyline clip-path=\"url(#clip5902)\" style=\"stroke:#000000; stroke-width:2; stroke-opacity:0.1; fill:none\" points=\"\n",
       "  287.95,137.221 2352.76,137.221 \n",
       "  \"/>\n",
       "<polyline clip-path=\"url(#clip5900)\" style=\"stroke:#000000; stroke-width:4; stroke-opacity:1; fill:none\" points=\"\n",
       "  287.95,1487.47 2352.76,1487.47 \n",
       "  \"/>\n",
       "<polyline clip-path=\"url(#clip5900)\" style=\"stroke:#000000; stroke-width:4; stroke-opacity:1; fill:none\" points=\"\n",
       "  287.95,1487.47 287.95,47.2441 \n",
       "  \"/>\n",
       "<polyline clip-path=\"url(#clip5900)\" style=\"stroke:#000000; stroke-width:4; stroke-opacity:1; fill:none\" points=\"\n",
       "  344.438,1487.47 344.438,1470.19 \n",
       "  \"/>\n",
       "<polyline clip-path=\"url(#clip5900)\" style=\"stroke:#000000; stroke-width:4; stroke-opacity:1; fill:none\" points=\"\n",
       "  831.908,1487.47 831.908,1470.19 \n",
       "  \"/>\n",
       "<polyline clip-path=\"url(#clip5900)\" style=\"stroke:#000000; stroke-width:4; stroke-opacity:1; fill:none\" points=\"\n",
       "  1319.38,1487.47 1319.38,1470.19 \n",
       "  \"/>\n",
       "<polyline clip-path=\"url(#clip5900)\" style=\"stroke:#000000; stroke-width:4; stroke-opacity:1; fill:none\" points=\"\n",
       "  1806.85,1487.47 1806.85,1470.19 \n",
       "  \"/>\n",
       "<polyline clip-path=\"url(#clip5900)\" style=\"stroke:#000000; stroke-width:4; stroke-opacity:1; fill:none\" points=\"\n",
       "  2294.32,1487.47 2294.32,1470.19 \n",
       "  \"/>\n",
       "<polyline clip-path=\"url(#clip5900)\" style=\"stroke:#000000; stroke-width:4; stroke-opacity:1; fill:none\" points=\"\n",
       "  287.95,1446.78 312.728,1446.78 \n",
       "  \"/>\n",
       "<polyline clip-path=\"url(#clip5900)\" style=\"stroke:#000000; stroke-width:4; stroke-opacity:1; fill:none\" points=\"\n",
       "  287.95,1119.39 312.728,1119.39 \n",
       "  \"/>\n",
       "<polyline clip-path=\"url(#clip5900)\" style=\"stroke:#000000; stroke-width:4; stroke-opacity:1; fill:none\" points=\"\n",
       "  287.95,792 312.728,792 \n",
       "  \"/>\n",
       "<polyline clip-path=\"url(#clip5900)\" style=\"stroke:#000000; stroke-width:4; stroke-opacity:1; fill:none\" points=\"\n",
       "  287.95,464.611 312.728,464.611 \n",
       "  \"/>\n",
       "<polyline clip-path=\"url(#clip5900)\" style=\"stroke:#000000; stroke-width:4; stroke-opacity:1; fill:none\" points=\"\n",
       "  287.95,137.221 312.728,137.221 \n",
       "  \"/>\n",
       "<g clip-path=\"url(#clip5900)\">\n",
       "<text style=\"fill:#000000; fill-opacity:1; font-family:Arial,Helvetica Neue,Helvetica,sans-serif; font-size:48px; text-anchor:middle;\" transform=\"rotate(0, 344.438, 1541.47)\" x=\"344.438\" y=\"1541.47\">0</text>\n",
       "</g>\n",
       "<g clip-path=\"url(#clip5900)\">\n",
       "<text style=\"fill:#000000; fill-opacity:1; font-family:Arial,Helvetica Neue,Helvetica,sans-serif; font-size:48px; text-anchor:middle;\" transform=\"rotate(0, 831.908, 1541.47)\" x=\"831.908\" y=\"1541.47\">250</text>\n",
       "</g>\n",
       "<g clip-path=\"url(#clip5900)\">\n",
       "<text style=\"fill:#000000; fill-opacity:1; font-family:Arial,Helvetica Neue,Helvetica,sans-serif; font-size:48px; text-anchor:middle;\" transform=\"rotate(0, 1319.38, 1541.47)\" x=\"1319.38\" y=\"1541.47\">500</text>\n",
       "</g>\n",
       "<g clip-path=\"url(#clip5900)\">\n",
       "<text style=\"fill:#000000; fill-opacity:1; font-family:Arial,Helvetica Neue,Helvetica,sans-serif; font-size:48px; text-anchor:middle;\" transform=\"rotate(0, 1806.85, 1541.47)\" x=\"1806.85\" y=\"1541.47\">750</text>\n",
       "</g>\n",
       "<g clip-path=\"url(#clip5900)\">\n",
       "<text style=\"fill:#000000; fill-opacity:1; font-family:Arial,Helvetica Neue,Helvetica,sans-serif; font-size:48px; text-anchor:middle;\" transform=\"rotate(0, 2294.32, 1541.47)\" x=\"2294.32\" y=\"1541.47\">1000</text>\n",
       "</g>\n",
       "<g clip-path=\"url(#clip5900)\">\n",
       "<text style=\"fill:#000000; fill-opacity:1; font-family:Arial,Helvetica Neue,Helvetica,sans-serif; font-size:48px; text-anchor:end;\" transform=\"rotate(0, 263.95, 1464.28)\" x=\"263.95\" y=\"1464.28\">0</text>\n",
       "</g>\n",
       "<g clip-path=\"url(#clip5900)\">\n",
       "<text style=\"fill:#000000; fill-opacity:1; font-family:Arial,Helvetica Neue,Helvetica,sans-serif; font-size:48px; text-anchor:start;\" transform=\"rotate(0, 93.6653, 1143.12)\" x=\"93.6653\" y=\"1143.12\">5.0×10</text>\n",
       "</g>\n",
       "<g clip-path=\"url(#clip5900)\">\n",
       "<text style=\"fill:#000000; fill-opacity:1; font-family:Arial,Helvetica Neue,Helvetica,sans-serif; font-size:38px; text-anchor:start;\" transform=\"rotate(0, 242.206, 1115.71)\" x=\"242.206\" y=\"1115.71\">3</text>\n",
       "</g>\n",
       "<g clip-path=\"url(#clip5900)\">\n",
       "<text style=\"fill:#000000; fill-opacity:1; font-family:Arial,Helvetica Neue,Helvetica,sans-serif; font-size:48px; text-anchor:start;\" transform=\"rotate(0, 93.6653, 815.728)\" x=\"93.6653\" y=\"815.728\">1.0×10</text>\n",
       "</g>\n",
       "<g clip-path=\"url(#clip5900)\">\n",
       "<text style=\"fill:#000000; fill-opacity:1; font-family:Arial,Helvetica Neue,Helvetica,sans-serif; font-size:38px; text-anchor:start;\" transform=\"rotate(0, 242.206, 788.317)\" x=\"242.206\" y=\"788.317\">4</text>\n",
       "</g>\n",
       "<g clip-path=\"url(#clip5900)\">\n",
       "<text style=\"fill:#000000; fill-opacity:1; font-family:Arial,Helvetica Neue,Helvetica,sans-serif; font-size:48px; text-anchor:start;\" transform=\"rotate(0, 93.6653, 488.338)\" x=\"93.6653\" y=\"488.338\">1.5×10</text>\n",
       "</g>\n",
       "<g clip-path=\"url(#clip5900)\">\n",
       "<text style=\"fill:#000000; fill-opacity:1; font-family:Arial,Helvetica Neue,Helvetica,sans-serif; font-size:38px; text-anchor:start;\" transform=\"rotate(0, 242.206, 460.928)\" x=\"242.206\" y=\"460.928\">4</text>\n",
       "</g>\n",
       "<g clip-path=\"url(#clip5900)\">\n",
       "<text style=\"fill:#000000; fill-opacity:1; font-family:Arial,Helvetica Neue,Helvetica,sans-serif; font-size:48px; text-anchor:start;\" transform=\"rotate(0, 93.6653, 160.949)\" x=\"93.6653\" y=\"160.949\">2.0×10</text>\n",
       "</g>\n",
       "<g clip-path=\"url(#clip5900)\">\n",
       "<text style=\"fill:#000000; fill-opacity:1; font-family:Arial,Helvetica Neue,Helvetica,sans-serif; font-size:38px; text-anchor:start;\" transform=\"rotate(0, 242.206, 133.538)\" x=\"242.206\" y=\"133.538\">4</text>\n",
       "</g>\n",
       "<polyline clip-path=\"url(#clip5902)\" style=\"stroke:#009af9; stroke-width:4; stroke-opacity:1; fill:none\" points=\"\n",
       "  346.388,1446.71 348.338,1446.71 350.288,1446.71 352.238,1446.71 354.188,1446.71 356.138,1446.71 358.088,1446.71 360.037,1446.71 361.987,1446.71 363.937,1446.71 \n",
       "  365.887,1446.71 367.837,1446.71 369.787,1446.71 371.737,1446.7 373.687,1446.7 375.636,1446.7 377.586,1446.7 379.536,1446.7 381.486,1446.7 383.436,1446.7 \n",
       "  385.386,1446.7 387.336,1446.7 389.286,1446.7 391.235,1446.7 393.185,1446.7 395.135,1446.69 397.085,1446.69 399.035,1446.69 400.985,1446.69 402.935,1446.69 \n",
       "  404.885,1446.69 406.835,1446.69 408.784,1446.69 410.734,1446.69 412.684,1446.69 414.634,1446.69 416.584,1446.69 418.534,1446.68 420.484,1446.68 422.434,1446.68 \n",
       "  424.383,1446.68 426.333,1446.68 428.283,1446.68 430.233,1446.68 432.183,1446.68 434.133,1446.68 436.083,1446.68 438.033,1446.67 439.982,1446.67 441.932,1446.67 \n",
       "  443.882,1446.67 445.832,1446.67 447.782,1446.67 449.732,1446.67 451.682,1446.67 453.632,1446.67 455.581,1446.66 457.531,1446.66 459.481,1446.66 461.431,1446.66 \n",
       "  463.381,1446.66 465.331,1446.66 467.281,1446.66 469.231,1446.66 471.181,1446.66 473.13,1446.65 475.08,1446.65 477.03,1446.65 478.98,1446.65 480.93,1446.65 \n",
       "  482.88,1446.65 484.83,1446.65 486.78,1446.64 488.729,1446.64 490.679,1446.64 492.629,1446.64 494.579,1446.64 496.529,1446.64 498.479,1446.64 500.429,1446.64 \n",
       "  502.379,1446.63 504.328,1446.63 506.278,1446.63 508.228,1446.63 510.178,1446.63 512.128,1446.63 514.078,1446.62 516.028,1446.62 517.978,1446.62 519.928,1446.62 \n",
       "  521.877,1446.62 523.827,1446.62 525.777,1446.62 527.727,1446.61 529.677,1446.61 531.627,1446.61 533.577,1446.61 535.527,1446.61 537.476,1446.61 539.426,1446.6 \n",
       "  541.376,1446.6 543.326,1446.6 545.276,1446.6 547.226,1446.6 549.176,1446.59 551.126,1446.59 553.075,1446.59 555.025,1446.59 556.975,1446.59 558.925,1446.59 \n",
       "  560.875,1446.58 562.825,1446.58 564.775,1446.58 566.725,1446.58 568.675,1446.58 570.624,1446.57 572.574,1446.57 574.524,1446.57 576.474,1446.57 578.424,1446.56 \n",
       "  580.374,1446.56 582.324,1446.56 584.274,1446.56 586.223,1446.56 588.173,1446.55 590.123,1446.55 592.073,1446.55 594.023,1446.55 595.973,1446.54 597.923,1446.54 \n",
       "  599.873,1446.54 601.822,1446.54 603.772,1446.54 605.722,1446.53 607.672,1446.53 609.622,1446.53 611.572,1446.53 613.522,1446.52 615.472,1446.52 617.422,1446.52 \n",
       "  619.371,1446.52 621.321,1446.51 623.271,1446.51 625.221,1446.51 627.171,1446.5 629.121,1446.5 631.071,1446.5 633.021,1446.5 634.97,1446.49 636.92,1446.49 \n",
       "  638.87,1446.49 640.82,1446.48 642.77,1446.48 644.72,1446.48 646.67,1446.48 648.62,1446.47 650.569,1446.47 652.519,1446.47 654.469,1446.46 656.419,1446.46 \n",
       "  658.369,1446.46 660.319,1446.45 662.269,1446.45 664.219,1446.45 666.169,1446.44 668.118,1446.44 670.068,1446.44 672.018,1446.43 673.968,1446.43 675.918,1446.43 \n",
       "  677.868,1446.42 679.818,1446.42 681.768,1446.42 683.717,1446.41 685.667,1446.41 687.617,1446.41 689.567,1446.4 691.517,1446.4 693.467,1446.39 695.417,1446.39 \n",
       "  697.367,1446.39 699.316,1446.38 701.266,1446.38 703.216,1446.37 705.166,1446.37 707.116,1446.37 709.066,1446.36 711.016,1446.36 712.966,1446.35 714.915,1446.35 \n",
       "  716.865,1446.35 718.815,1446.34 720.765,1446.34 722.715,1446.33 724.665,1446.33 726.615,1446.32 728.565,1446.32 730.515,1446.31 732.464,1446.31 734.414,1446.3 \n",
       "  736.364,1446.3 738.314,1446.3 740.264,1446.29 742.214,1446.29 744.164,1446.28 746.114,1446.28 748.063,1446.27 750.013,1446.27 751.963,1446.26 753.913,1446.26 \n",
       "  755.863,1446.25 757.813,1446.24 759.763,1446.24 761.713,1446.23 763.662,1446.23 765.612,1446.22 767.562,1446.22 769.512,1446.21 771.462,1446.21 773.412,1446.2 \n",
       "  775.362,1446.19 777.312,1446.19 779.262,1446.18 781.211,1446.18 783.161,1446.17 785.111,1446.16 787.061,1446.16 789.011,1446.15 790.961,1446.15 792.911,1446.14 \n",
       "  794.861,1446.13 796.81,1446.13 798.76,1446.12 800.71,1446.11 802.66,1446.11 804.61,1446.1 806.56,1446.09 808.51,1446.09 810.46,1446.08 812.409,1446.07 \n",
       "  814.359,1446.07 816.309,1446.06 818.259,1446.05 820.209,1446.04 822.159,1446.04 824.109,1446.03 826.059,1446.02 828.009,1446.01 829.958,1446.01 831.908,1446 \n",
       "  833.858,1445.99 835.808,1445.98 837.758,1445.98 839.708,1445.97 841.658,1445.96 843.608,1445.95 845.557,1445.94 847.507,1445.93 849.457,1445.93 851.407,1445.92 \n",
       "  853.357,1445.91 855.307,1445.9 857.257,1445.89 859.207,1445.88 861.156,1445.87 863.106,1445.86 865.056,1445.86 867.006,1445.85 868.956,1445.84 870.906,1445.83 \n",
       "  872.856,1445.82 874.806,1445.81 876.756,1445.8 878.705,1445.79 880.655,1445.78 882.605,1445.77 884.555,1445.76 886.505,1445.75 888.455,1445.74 890.405,1445.73 \n",
       "  892.355,1445.72 894.304,1445.71 896.254,1445.7 898.204,1445.68 900.154,1445.67 902.104,1445.66 904.054,1445.65 906.004,1445.64 907.954,1445.63 909.903,1445.62 \n",
       "  911.853,1445.61 913.803,1445.59 915.753,1445.58 917.703,1445.57 919.653,1445.56 921.603,1445.55 923.553,1445.53 925.502,1445.52 927.452,1445.51 929.402,1445.5 \n",
       "  931.352,1445.48 933.302,1445.47 935.252,1445.46 937.202,1445.44 939.152,1445.43 941.102,1445.42 943.051,1445.4 945.001,1445.39 946.951,1445.38 948.901,1445.36 \n",
       "  950.851,1445.35 952.801,1445.33 954.751,1445.32 956.701,1445.3 958.65,1445.29 960.6,1445.27 962.55,1445.26 964.5,1445.24 966.45,1445.23 968.4,1445.21 \n",
       "  970.35,1445.2 972.3,1445.18 974.249,1445.17 976.199,1445.15 978.149,1445.13 980.099,1445.12 982.049,1445.1 983.999,1445.08 985.949,1445.07 987.899,1445.05 \n",
       "  989.849,1445.03 991.798,1445.02 993.748,1445 995.698,1444.98 997.648,1444.96 999.598,1444.94 1001.55,1444.93 1003.5,1444.91 1005.45,1444.89 1007.4,1444.87 \n",
       "  1009.35,1444.85 1011.3,1444.83 1013.25,1444.81 1015.2,1444.79 1017.15,1444.77 1019.1,1444.75 1021.05,1444.73 1023,1444.71 1024.95,1444.69 1026.9,1444.67 \n",
       "  1028.85,1444.65 1030.8,1444.63 1032.75,1444.61 1034.7,1444.58 1036.65,1444.56 1038.6,1444.54 1040.55,1444.52 1042.5,1444.49 1044.45,1444.47 1046.4,1444.45 \n",
       "  1048.34,1444.43 1050.29,1444.4 1052.24,1444.38 1054.19,1444.35 1056.14,1444.33 1058.09,1444.3 1060.04,1444.28 1061.99,1444.26 1063.94,1444.23 1065.89,1444.2 \n",
       "  1067.84,1444.18 1069.79,1444.15 1071.74,1444.13 1073.69,1444.1 1075.64,1444.07 1077.59,1444.05 1079.54,1444.02 1081.49,1443.99 1083.44,1443.96 1085.39,1443.94 \n",
       "  1087.34,1443.91 1089.29,1443.88 1091.24,1443.85 1093.19,1443.82 1095.14,1443.79 1097.09,1443.76 1099.04,1443.73 1100.99,1443.7 1102.94,1443.67 1104.89,1443.64 \n",
       "  1106.84,1443.61 1108.79,1443.57 1110.74,1443.54 1112.69,1443.51 1114.64,1443.48 1116.59,1443.44 1118.54,1443.41 1120.49,1443.38 1122.44,1443.34 1124.39,1443.31 \n",
       "  1126.34,1443.27 1128.29,1443.24 1130.24,1443.2 1132.19,1443.17 1134.14,1443.13 1136.09,1443.1 1138.04,1443.06 1139.99,1443.02 1141.94,1442.98 1143.89,1442.95 \n",
       "  1145.84,1442.91 1147.79,1442.87 1149.74,1442.83 1151.69,1442.79 1153.64,1442.75 1155.59,1442.71 1157.54,1442.67 1159.49,1442.63 1161.44,1442.59 1163.39,1442.54 \n",
       "  1165.34,1442.5 1167.29,1442.46 1169.24,1442.42 1171.19,1442.37 1173.14,1442.33 1175.09,1442.28 1177.04,1442.24 1178.99,1442.19 1180.94,1442.15 1182.89,1442.1 \n",
       "  1184.84,1442.06 1186.79,1442.01 1188.74,1441.96 1190.69,1441.91 1192.64,1441.86 1194.59,1441.81 1196.54,1441.76 1198.49,1441.71 1200.44,1441.66 1202.39,1441.61 \n",
       "  1204.34,1441.56 1206.29,1441.51 1208.24,1441.46 1210.18,1441.4 1212.13,1441.35 1214.08,1441.29 1216.03,1441.24 1217.98,1441.18 1219.93,1441.13 1221.88,1441.07 \n",
       "  1223.83,1441.02 1225.78,1440.96 1227.73,1440.9 1229.68,1440.84 1231.63,1440.78 1233.58,1440.72 1235.53,1440.66 1237.48,1440.6 1239.43,1440.54 1241.38,1440.48 \n",
       "  1243.33,1440.41 1245.28,1440.35 1247.23,1440.28 1249.18,1440.22 1251.13,1440.15 1253.08,1440.09 1255.03,1440.02 1256.98,1439.95 1258.93,1439.88 1260.88,1439.82 \n",
       "  1262.83,1439.75 1264.78,1439.68 1266.73,1439.6 1268.68,1439.53 1270.63,1439.46 1272.58,1439.39 1274.53,1439.31 1276.48,1439.24 1278.43,1439.16 1280.38,1439.09 \n",
       "  1282.33,1439.01 1284.28,1438.93 1286.23,1438.85 1288.18,1438.77 1290.13,1438.69 1292.08,1438.61 1294.03,1438.53 1295.98,1438.45 1297.93,1438.37 1299.88,1438.28 \n",
       "  1301.83,1438.2 1303.78,1438.11 1305.73,1438.02 1307.68,1437.94 1309.63,1437.85 1311.58,1437.76 1313.53,1437.67 1315.48,1437.58 1317.43,1437.49 1319.38,1437.39 \n",
       "  1321.33,1437.3 1323.28,1437.2 1325.23,1437.11 1327.18,1437.01 1329.13,1436.91 1331.08,1436.82 1333.03,1436.72 1334.98,1436.62 1336.93,1436.51 1338.88,1436.41 \n",
       "  1340.83,1436.31 1342.78,1436.2 1344.73,1436.1 1346.68,1435.99 1348.63,1435.88 1350.58,1435.77 1352.53,1435.66 1354.48,1435.55 1356.43,1435.44 1358.38,1435.33 \n",
       "  1360.33,1435.21 1362.28,1435.1 1364.23,1434.98 1366.18,1434.86 1368.13,1434.74 1370.08,1434.62 1372.02,1434.5 1373.97,1434.38 1375.92,1434.25 1377.87,1434.13 \n",
       "  1379.82,1434 1381.77,1433.87 1383.72,1433.75 1385.67,1433.61 1387.62,1433.48 1389.57,1433.35 1391.52,1433.22 1393.47,1433.08 1395.42,1432.94 1397.37,1432.81 \n",
       "  1399.32,1432.67 1401.27,1432.52 1403.22,1432.38 1405.17,1432.24 1407.12,1432.09 1409.07,1431.95 1411.02,1431.8 1412.97,1431.65 1414.92,1431.5 1416.87,1431.34 \n",
       "  1418.82,1431.19 1420.77,1431.03 1422.72,1430.88 1424.67,1430.72 1426.62,1430.56 1428.57,1430.39 1430.52,1430.23 1432.47,1430.06 1434.42,1429.9 1436.37,1429.73 \n",
       "  1438.32,1429.56 1440.27,1429.39 1442.22,1429.21 1444.17,1429.04 1446.12,1428.86 1448.07,1428.68 1450.02,1428.5 1451.97,1428.32 1453.92,1428.13 1455.87,1427.94 \n",
       "  1457.82,1427.76 1459.77,1427.57 1461.72,1427.37 1463.67,1427.18 1465.62,1426.98 1467.57,1426.79 1469.52,1426.59 1471.47,1426.38 1473.42,1426.18 1475.37,1425.97 \n",
       "  1477.32,1425.77 1479.27,1425.56 1481.22,1425.34 1483.17,1425.13 1485.12,1424.91 1487.07,1424.69 1489.02,1424.47 1490.97,1424.25 1492.92,1424.02 1494.87,1423.8 \n",
       "  1496.82,1423.57 1498.77,1423.34 1500.72,1423.1 1502.67,1422.86 1504.62,1422.62 1506.57,1422.38 1508.52,1422.14 1510.47,1421.89 1512.42,1421.64 1514.37,1421.39 \n",
       "  1516.32,1421.14 1518.27,1420.88 1520.22,1420.62 1522.17,1420.36 1524.12,1420.1 1526.07,1419.83 1528.02,1419.56 1529.97,1419.29 1531.92,1419.01 1533.86,1418.74 \n",
       "  1535.81,1418.46 1537.76,1418.17 1539.71,1417.89 1541.66,1417.6 1543.61,1417.31 1545.56,1417.01 1547.51,1416.71 1549.46,1416.41 1551.41,1416.11 1553.36,1415.8 \n",
       "  1555.31,1415.49 1557.26,1415.18 1559.21,1414.86 1561.16,1414.55 1563.11,1414.22 1565.06,1413.9 1567.01,1413.57 1568.96,1413.24 1570.91,1412.9 1572.86,1412.56 \n",
       "  1574.81,1412.22 1576.76,1411.87 1578.71,1411.53 1580.66,1411.17 1582.61,1410.82 1584.56,1410.46 1586.51,1410.09 1588.46,1409.73 1590.41,1409.36 1592.36,1408.98 \n",
       "  1594.31,1408.6 1596.26,1408.22 1598.21,1407.84 1600.16,1407.45 1602.11,1407.05 1604.06,1406.66 1606.01,1406.26 1607.96,1405.85 1609.91,1405.44 1611.86,1405.03 \n",
       "  1613.81,1404.61 1615.76,1404.19 1617.71,1403.76 1619.66,1403.33 1621.61,1402.9 1623.56,1402.46 1625.51,1402.02 1627.46,1401.57 1629.41,1401.12 1631.36,1400.66 \n",
       "  1633.31,1400.2 1635.26,1399.73 1637.21,1399.26 1639.16,1398.79 1641.11,1398.31 1643.06,1397.82 1645.01,1397.33 1646.96,1396.84 1648.91,1396.34 1650.86,1395.83 \n",
       "  1652.81,1395.33 1654.76,1394.81 1656.71,1394.29 1658.66,1393.77 1660.61,1393.24 1662.56,1392.7 1664.51,1392.16 1666.46,1391.61 1668.41,1391.06 1670.36,1390.5 \n",
       "  1672.31,1389.94 1674.26,1389.37 1676.21,1388.8 1678.16,1388.22 1680.11,1387.63 1682.06,1387.04 1684.01,1386.45 1685.96,1385.84 1687.91,1385.23 1689.86,1384.62 \n",
       "  1691.81,1384 1693.76,1383.37 1695.7,1382.73 1697.65,1382.09 1699.6,1381.45 1701.55,1380.79 1703.5,1380.13 1705.45,1379.47 1707.4,1378.79 1709.35,1378.11 \n",
       "  1711.3,1377.43 1713.25,1376.73 1715.2,1376.03 1717.15,1375.33 1719.1,1374.61 1721.05,1373.89 1723,1373.16 1724.95,1372.42 1726.9,1371.68 1728.85,1370.93 \n",
       "  1730.8,1370.17 1732.75,1369.41 1734.7,1368.63 1736.65,1367.85 1738.6,1367.06 1740.55,1366.26 1742.5,1365.46 1744.45,1364.65 1746.4,1363.82 1748.35,1362.99 \n",
       "  1750.3,1362.16 1752.25,1361.31 1754.2,1360.46 1756.15,1359.59 1758.1,1358.72 1760.05,1357.84 1762,1356.95 1763.95,1356.05 1765.9,1355.15 1767.85,1354.23 \n",
       "  1769.8,1353.3 1771.75,1352.37 1773.7,1351.42 1775.65,1350.47 1777.6,1349.51 1779.55,1348.54 1781.5,1347.55 1783.45,1346.56 1785.4,1345.56 1787.35,1344.55 \n",
       "  1789.3,1343.52 1791.25,1342.49 1793.2,1341.45 1795.15,1340.4 1797.1,1339.33 1799.05,1338.26 1801,1337.17 1802.95,1336.08 1804.9,1334.97 1806.85,1333.85 \n",
       "  1808.8,1332.72 1810.75,1331.58 1812.7,1330.43 1814.65,1329.27 1816.6,1328.09 1818.55,1326.9 1820.5,1325.7 1822.45,1324.49 1824.4,1323.27 1826.35,1322.04 \n",
       "  1828.3,1320.79 1830.25,1319.53 1832.2,1318.26 1834.15,1316.97 1836.1,1315.67 1838.05,1314.36 1840,1313.04 1841.95,1311.7 1843.9,1310.35 1845.85,1308.98 \n",
       "  1847.8,1307.61 1849.75,1306.22 1851.7,1304.81 1853.65,1303.39 1855.6,1301.96 1857.54,1300.51 1859.49,1299.04 1861.44,1297.57 1863.39,1296.08 1865.34,1294.57 \n",
       "  1867.29,1293.05 1869.24,1291.51 1871.19,1289.96 1873.14,1288.39 1875.09,1286.8 1877.04,1285.2 1878.99,1283.59 1880.94,1281.96 1882.89,1280.31 1884.84,1278.64 \n",
       "  1886.79,1276.96 1888.74,1275.26 1890.69,1273.55 1892.64,1271.82 1894.59,1270.07 1896.54,1268.3 1898.49,1266.52 1900.44,1264.71 1902.39,1262.89 1904.34,1261.05 \n",
       "  1906.29,1259.2 1908.24,1257.32 1910.19,1255.43 1912.14,1253.51 1914.09,1251.58 1916.04,1249.63 1917.99,1247.66 1919.94,1245.66 1921.89,1243.65 1923.84,1241.62 \n",
       "  1925.79,1239.57 1927.74,1237.5 1929.69,1235.41 1931.64,1233.29 1933.59,1231.16 1935.54,1229 1937.49,1226.82 1939.44,1224.62 1941.39,1222.4 1943.34,1220.16 \n",
       "  1945.29,1217.89 1947.24,1215.6 1949.19,1213.29 1951.14,1210.96 1953.09,1208.6 1955.04,1206.22 1956.99,1203.81 1958.94,1201.38 1960.89,1198.93 1962.84,1196.45 \n",
       "  1964.79,1193.95 1966.74,1191.42 1968.69,1188.86 1970.64,1186.28 1972.59,1183.68 1974.54,1181.05 1976.49,1178.39 1978.44,1175.71 1980.39,1173 1982.34,1170.26 \n",
       "  1984.29,1167.49 1986.24,1164.7 1988.19,1161.88 1990.14,1159.03 1992.09,1156.15 1994.04,1153.25 1995.99,1150.31 1997.94,1147.35 1999.89,1144.35 2001.84,1141.33 \n",
       "  2003.79,1138.27 2005.74,1135.19 2007.69,1132.07 2009.64,1128.93 2011.59,1125.75 2013.54,1122.54 2015.49,1119.29 2017.44,1116.02 2019.38,1112.71 2021.33,1109.37 \n",
       "  2023.28,1106 2025.23,1102.59 2027.18,1099.15 2029.13,1095.67 2031.08,1092.16 2033.03,1088.61 2034.98,1085.03 2036.93,1081.41 2038.88,1077.76 2040.83,1074.07 \n",
       "  2042.78,1070.34 2044.73,1066.58 2046.68,1062.78 2048.63,1058.94 2050.58,1055.06 2052.53,1051.14 2054.48,1047.19 2056.43,1043.19 2058.38,1039.15 2060.33,1035.08 \n",
       "  2062.28,1030.96 2064.23,1026.8 2066.18,1022.6 2068.13,1018.36 2070.08,1014.08 2072.03,1009.75 2073.98,1005.38 2075.93,1000.97 2077.88,996.507 2079.83,992.005 \n",
       "  2081.78,987.457 2083.73,982.864 2085.68,978.224 2087.63,973.539 2089.58,968.807 2091.53,964.027 2093.48,959.199 2095.43,954.323 2097.38,949.399 2099.33,944.425 \n",
       "  2101.28,939.402 2103.23,934.328 2105.18,929.203 2107.13,924.028 2109.08,918.8 2111.03,913.52 2112.98,908.188 2114.93,902.802 2116.88,897.362 2118.83,891.868 \n",
       "  2120.78,886.319 2122.73,880.714 2124.68,875.053 2126.63,869.336 2128.58,863.562 2130.53,857.73 2132.48,851.839 2134.43,845.89 2136.38,839.881 2138.33,833.812 \n",
       "  2140.28,827.682 2142.23,821.491 2144.18,815.238 2146.13,808.923 2148.08,802.544 2150.03,796.102 2151.98,789.595 2153.93,783.023 2155.88,776.386 2157.83,769.682 \n",
       "  2159.78,762.911 2161.73,756.072 2163.68,749.165 2165.63,742.189 2167.58,735.143 2169.53,728.027 2171.48,720.839 2173.43,713.58 2175.38,706.248 2177.33,698.843 \n",
       "  2179.28,691.363 2181.22,683.809 2183.17,676.179 2185.12,668.473 2187.07,660.69 2189.02,652.829 2190.97,644.89 2192.92,636.871 2194.87,628.772 2196.82,620.592 \n",
       "  2198.77,612.33 2200.72,603.985 2202.67,595.558 2204.62,587.045 2206.57,578.448 2208.52,569.765 2210.47,560.995 2212.42,552.137 2214.37,543.19 2216.32,534.154 \n",
       "  2218.27,525.028 2220.22,515.811 2222.17,506.501 2224.12,497.098 2226.07,487.601 2228.02,478.01 2229.97,468.322 2231.92,458.537 2233.87,448.655 2235.82,438.674 \n",
       "  2237.77,428.593 2239.72,418.411 2241.67,408.127 2243.62,397.741 2245.57,387.25 2247.52,376.655 2249.47,365.954 2251.42,355.145 2253.37,344.229 2255.32,333.204 \n",
       "  2257.27,322.068 2259.22,310.821 2261.17,299.461 2263.12,287.988 2265.07,276.4 2267.02,264.696 2268.97,252.875 2270.92,240.936 2272.87,228.878 2274.82,216.699 \n",
       "  2276.77,204.398 2278.72,191.974 2280.67,179.426 2282.62,166.753 2284.57,153.952 2286.52,141.024 2288.47,127.967 2290.42,114.779 2292.37,101.459 2294.32,88.0053 \n",
       "  \n",
       "  \"/>\n",
       "<path clip-path=\"url(#clip5900)\" d=\"\n",
       "M1989.93 251.724 L2280.76 251.724 L2280.76 130.764 L1989.93 130.764  Z\n",
       "  \" fill=\"#ffffff\" fill-rule=\"evenodd\" fill-opacity=\"1\"/>\n",
       "<polyline clip-path=\"url(#clip5900)\" style=\"stroke:#000000; stroke-width:4; stroke-opacity:1; fill:none\" points=\"\n",
       "  1989.93,251.724 2280.76,251.724 2280.76,130.764 1989.93,130.764 1989.93,251.724 \n",
       "  \"/>\n",
       "<polyline clip-path=\"url(#clip5900)\" style=\"stroke:#009af9; stroke-width:4; stroke-opacity:1; fill:none\" points=\"\n",
       "  2013.93,191.244 2157.93,191.244 \n",
       "  \"/>\n",
       "<g clip-path=\"url(#clip5900)\">\n",
       "<text style=\"fill:#000000; fill-opacity:1; font-family:Arial,Helvetica Neue,Helvetica,sans-serif; font-size:48px; text-anchor:start;\" transform=\"rotate(0, 2181.93, 208.744)\" x=\"2181.93\" y=\"208.744\">y1</text>\n",
       "</g>\n",
       "</svg>\n"
      ]
     },
     "execution_count": 46,
     "metadata": {},
     "output_type": "execute_result"
    }
   ],
   "source": [
    "plot(run_infection(1000))"
   ]
  },
  {
   "cell_type": "code",
   "execution_count": 47,
   "metadata": {},
   "outputs": [
    {
     "data": {
      "image/svg+xml": [
       "<?xml version=\"1.0\" encoding=\"utf-8\"?>\n",
       "<svg xmlns=\"http://www.w3.org/2000/svg\" xmlns:xlink=\"http://www.w3.org/1999/xlink\" width=\"600\" height=\"400\" viewBox=\"0 0 2400 1600\">\n",
       "<defs>\n",
       "  <clipPath id=\"clip6300\">\n",
       "    <rect x=\"0\" y=\"0\" width=\"2400\" height=\"1600\"/>\n",
       "  </clipPath>\n",
       "</defs>\n",
       "<path clip-path=\"url(#clip6300)\" d=\"\n",
       "M0 1600 L2400 1600 L2400 0 L0 0  Z\n",
       "  \" fill=\"#ffffff\" fill-rule=\"evenodd\" fill-opacity=\"1\"/>\n",
       "<defs>\n",
       "  <clipPath id=\"clip6301\">\n",
       "    <rect x=\"480\" y=\"0\" width=\"1681\" height=\"1600\"/>\n",
       "  </clipPath>\n",
       "</defs>\n",
       "<path clip-path=\"url(#clip6300)\" d=\"\n",
       "M189.854 1487.47 L2352.76 1487.47 L2352.76 47.2441 L189.854 47.2441  Z\n",
       "  \" fill=\"#ffffff\" fill-rule=\"evenodd\" fill-opacity=\"1\"/>\n",
       "<defs>\n",
       "  <clipPath id=\"clip6302\">\n",
       "    <rect x=\"189\" y=\"47\" width=\"2164\" height=\"1441\"/>\n",
       "  </clipPath>\n",
       "</defs>\n",
       "<polyline clip-path=\"url(#clip6302)\" style=\"stroke:#000000; stroke-width:2; stroke-opacity:0.1; fill:none\" points=\"\n",
       "  249.026,1487.47 249.026,47.2441 \n",
       "  \"/>\n",
       "<polyline clip-path=\"url(#clip6302)\" style=\"stroke:#000000; stroke-width:2; stroke-opacity:0.1; fill:none\" points=\"\n",
       "  759.655,1487.47 759.655,47.2441 \n",
       "  \"/>\n",
       "<polyline clip-path=\"url(#clip6302)\" style=\"stroke:#000000; stroke-width:2; stroke-opacity:0.1; fill:none\" points=\"\n",
       "  1270.28,1487.47 1270.28,47.2441 \n",
       "  \"/>\n",
       "<polyline clip-path=\"url(#clip6302)\" style=\"stroke:#000000; stroke-width:2; stroke-opacity:0.1; fill:none\" points=\"\n",
       "  1780.91,1487.47 1780.91,47.2441 \n",
       "  \"/>\n",
       "<polyline clip-path=\"url(#clip6302)\" style=\"stroke:#000000; stroke-width:2; stroke-opacity:0.1; fill:none\" points=\"\n",
       "  2291.54,1487.47 2291.54,47.2441 \n",
       "  \"/>\n",
       "<polyline clip-path=\"url(#clip6302)\" style=\"stroke:#000000; stroke-width:2; stroke-opacity:0.1; fill:none\" points=\"\n",
       "  189.854,1446.71 2352.76,1446.71 \n",
       "  \"/>\n",
       "<polyline clip-path=\"url(#clip6302)\" style=\"stroke:#000000; stroke-width:2; stroke-opacity:0.1; fill:none\" points=\"\n",
       "  189.854,1131.98 2352.76,1131.98 \n",
       "  \"/>\n",
       "<polyline clip-path=\"url(#clip6302)\" style=\"stroke:#000000; stroke-width:2; stroke-opacity:0.1; fill:none\" points=\"\n",
       "  189.854,817.252 2352.76,817.252 \n",
       "  \"/>\n",
       "<polyline clip-path=\"url(#clip6302)\" style=\"stroke:#000000; stroke-width:2; stroke-opacity:0.1; fill:none\" points=\"\n",
       "  189.854,502.522 2352.76,502.522 \n",
       "  \"/>\n",
       "<polyline clip-path=\"url(#clip6302)\" style=\"stroke:#000000; stroke-width:2; stroke-opacity:0.1; fill:none\" points=\"\n",
       "  189.854,187.791 2352.76,187.791 \n",
       "  \"/>\n",
       "<polyline clip-path=\"url(#clip6300)\" style=\"stroke:#000000; stroke-width:4; stroke-opacity:1; fill:none\" points=\"\n",
       "  189.854,1487.47 2352.76,1487.47 \n",
       "  \"/>\n",
       "<polyline clip-path=\"url(#clip6300)\" style=\"stroke:#000000; stroke-width:4; stroke-opacity:1; fill:none\" points=\"\n",
       "  189.854,1487.47 189.854,47.2441 \n",
       "  \"/>\n",
       "<polyline clip-path=\"url(#clip6300)\" style=\"stroke:#000000; stroke-width:4; stroke-opacity:1; fill:none\" points=\"\n",
       "  249.026,1487.47 249.026,1470.19 \n",
       "  \"/>\n",
       "<polyline clip-path=\"url(#clip6300)\" style=\"stroke:#000000; stroke-width:4; stroke-opacity:1; fill:none\" points=\"\n",
       "  759.655,1487.47 759.655,1470.19 \n",
       "  \"/>\n",
       "<polyline clip-path=\"url(#clip6300)\" style=\"stroke:#000000; stroke-width:4; stroke-opacity:1; fill:none\" points=\"\n",
       "  1270.28,1487.47 1270.28,1470.19 \n",
       "  \"/>\n",
       "<polyline clip-path=\"url(#clip6300)\" style=\"stroke:#000000; stroke-width:4; stroke-opacity:1; fill:none\" points=\"\n",
       "  1780.91,1487.47 1780.91,1470.19 \n",
       "  \"/>\n",
       "<polyline clip-path=\"url(#clip6300)\" style=\"stroke:#000000; stroke-width:4; stroke-opacity:1; fill:none\" points=\"\n",
       "  2291.54,1487.47 2291.54,1470.19 \n",
       "  \"/>\n",
       "<polyline clip-path=\"url(#clip6300)\" style=\"stroke:#000000; stroke-width:4; stroke-opacity:1; fill:none\" points=\"\n",
       "  189.854,1446.71 215.809,1446.71 \n",
       "  \"/>\n",
       "<polyline clip-path=\"url(#clip6300)\" style=\"stroke:#000000; stroke-width:4; stroke-opacity:1; fill:none\" points=\"\n",
       "  189.854,1131.98 215.809,1131.98 \n",
       "  \"/>\n",
       "<polyline clip-path=\"url(#clip6300)\" style=\"stroke:#000000; stroke-width:4; stroke-opacity:1; fill:none\" points=\"\n",
       "  189.854,817.252 215.809,817.252 \n",
       "  \"/>\n",
       "<polyline clip-path=\"url(#clip6300)\" style=\"stroke:#000000; stroke-width:4; stroke-opacity:1; fill:none\" points=\"\n",
       "  189.854,502.522 215.809,502.522 \n",
       "  \"/>\n",
       "<polyline clip-path=\"url(#clip6300)\" style=\"stroke:#000000; stroke-width:4; stroke-opacity:1; fill:none\" points=\"\n",
       "  189.854,187.791 215.809,187.791 \n",
       "  \"/>\n",
       "<g clip-path=\"url(#clip6300)\">\n",
       "<text style=\"fill:#000000; fill-opacity:1; font-family:Arial,Helvetica Neue,Helvetica,sans-serif; font-size:48px; text-anchor:middle;\" transform=\"rotate(0, 249.026, 1541.47)\" x=\"249.026\" y=\"1541.47\">0</text>\n",
       "</g>\n",
       "<g clip-path=\"url(#clip6300)\">\n",
       "<text style=\"fill:#000000; fill-opacity:1; font-family:Arial,Helvetica Neue,Helvetica,sans-serif; font-size:48px; text-anchor:middle;\" transform=\"rotate(0, 759.655, 1541.47)\" x=\"759.655\" y=\"1541.47\">250</text>\n",
       "</g>\n",
       "<g clip-path=\"url(#clip6300)\">\n",
       "<text style=\"fill:#000000; fill-opacity:1; font-family:Arial,Helvetica Neue,Helvetica,sans-serif; font-size:48px; text-anchor:middle;\" transform=\"rotate(0, 1270.28, 1541.47)\" x=\"1270.28\" y=\"1541.47\">500</text>\n",
       "</g>\n",
       "<g clip-path=\"url(#clip6300)\">\n",
       "<text style=\"fill:#000000; fill-opacity:1; font-family:Arial,Helvetica Neue,Helvetica,sans-serif; font-size:48px; text-anchor:middle;\" transform=\"rotate(0, 1780.91, 1541.47)\" x=\"1780.91\" y=\"1541.47\">750</text>\n",
       "</g>\n",
       "<g clip-path=\"url(#clip6300)\">\n",
       "<text style=\"fill:#000000; fill-opacity:1; font-family:Arial,Helvetica Neue,Helvetica,sans-serif; font-size:48px; text-anchor:middle;\" transform=\"rotate(0, 2291.54, 1541.47)\" x=\"2291.54\" y=\"1541.47\">1000</text>\n",
       "</g>\n",
       "<g clip-path=\"url(#clip6300)\">\n",
       "<text style=\"fill:#000000; fill-opacity:1; font-family:Arial,Helvetica Neue,Helvetica,sans-serif; font-size:48px; text-anchor:start;\" transform=\"rotate(0, 90.5848, 1470.44)\" x=\"90.5848\" y=\"1470.44\">10</text>\n",
       "</g>\n",
       "<g clip-path=\"url(#clip6300)\">\n",
       "<text style=\"fill:#000000; fill-opacity:1; font-family:Arial,Helvetica Neue,Helvetica,sans-serif; font-size:38px; text-anchor:start;\" transform=\"rotate(0, 144.109, 1443.03)\" x=\"144.109\" y=\"1443.03\">0</text>\n",
       "</g>\n",
       "<g clip-path=\"url(#clip6300)\">\n",
       "<text style=\"fill:#000000; fill-opacity:1; font-family:Arial,Helvetica Neue,Helvetica,sans-serif; font-size:48px; text-anchor:start;\" transform=\"rotate(0, 90.5848, 1155.71)\" x=\"90.5848\" y=\"1155.71\">10</text>\n",
       "</g>\n",
       "<g clip-path=\"url(#clip6300)\">\n",
       "<text style=\"fill:#000000; fill-opacity:1; font-family:Arial,Helvetica Neue,Helvetica,sans-serif; font-size:38px; text-anchor:start;\" transform=\"rotate(0, 144.109, 1128.3)\" x=\"144.109\" y=\"1128.3\">1</text>\n",
       "</g>\n",
       "<g clip-path=\"url(#clip6300)\">\n",
       "<text style=\"fill:#000000; fill-opacity:1; font-family:Arial,Helvetica Neue,Helvetica,sans-serif; font-size:48px; text-anchor:start;\" transform=\"rotate(0, 90.5848, 840.98)\" x=\"90.5848\" y=\"840.98\">10</text>\n",
       "</g>\n",
       "<g clip-path=\"url(#clip6300)\">\n",
       "<text style=\"fill:#000000; fill-opacity:1; font-family:Arial,Helvetica Neue,Helvetica,sans-serif; font-size:38px; text-anchor:start;\" transform=\"rotate(0, 144.109, 813.57)\" x=\"144.109\" y=\"813.57\">2</text>\n",
       "</g>\n",
       "<g clip-path=\"url(#clip6300)\">\n",
       "<text style=\"fill:#000000; fill-opacity:1; font-family:Arial,Helvetica Neue,Helvetica,sans-serif; font-size:48px; text-anchor:start;\" transform=\"rotate(0, 90.5848, 526.25)\" x=\"90.5848\" y=\"526.25\">10</text>\n",
       "</g>\n",
       "<g clip-path=\"url(#clip6300)\">\n",
       "<text style=\"fill:#000000; fill-opacity:1; font-family:Arial,Helvetica Neue,Helvetica,sans-serif; font-size:38px; text-anchor:start;\" transform=\"rotate(0, 144.109, 498.839)\" x=\"144.109\" y=\"498.839\">3</text>\n",
       "</g>\n",
       "<g clip-path=\"url(#clip6300)\">\n",
       "<text style=\"fill:#000000; fill-opacity:1; font-family:Arial,Helvetica Neue,Helvetica,sans-serif; font-size:48px; text-anchor:start;\" transform=\"rotate(0, 90.5848, 211.519)\" x=\"90.5848\" y=\"211.519\">10</text>\n",
       "</g>\n",
       "<g clip-path=\"url(#clip6300)\">\n",
       "<text style=\"fill:#000000; fill-opacity:1; font-family:Arial,Helvetica Neue,Helvetica,sans-serif; font-size:38px; text-anchor:start;\" transform=\"rotate(0, 144.109, 184.109)\" x=\"144.109\" y=\"184.109\">4</text>\n",
       "</g>\n",
       "<polyline clip-path=\"url(#clip6302)\" style=\"stroke:#009af9; stroke-width:4; stroke-opacity:1; fill:none\" points=\"\n",
       "  251.068,1446.71 253.111,1445.35 255.153,1443.99 257.196,1442.63 259.238,1441.27 261.281,1439.91 263.323,1438.55 265.366,1437.19 267.408,1435.83 269.451,1434.47 \n",
       "  271.493,1433.11 273.536,1431.75 275.578,1430.39 277.621,1429.03 279.663,1427.67 281.706,1426.31 283.748,1424.95 285.791,1423.59 287.833,1422.23 289.876,1420.87 \n",
       "  291.918,1419.51 293.961,1418.15 296.003,1416.79 298.046,1415.43 300.088,1414.07 302.131,1412.71 304.173,1411.35 306.216,1409.99 308.259,1408.63 310.301,1407.27 \n",
       "  312.344,1405.91 314.386,1404.55 316.429,1403.19 318.471,1401.83 320.514,1400.47 322.556,1399.11 324.599,1397.75 326.641,1396.39 328.684,1395.03 330.726,1393.67 \n",
       "  332.769,1392.31 334.811,1390.95 336.854,1389.59 338.896,1388.23 340.939,1386.87 342.981,1385.51 345.024,1384.15 347.066,1382.79 349.109,1381.43 351.151,1380.07 \n",
       "  353.194,1378.71 355.236,1377.35 357.279,1375.99 359.321,1374.63 361.364,1373.27 363.406,1371.91 365.449,1370.55 367.491,1369.19 369.534,1367.83 371.577,1366.47 \n",
       "  373.619,1365.11 375.662,1363.75 377.704,1362.39 379.747,1361.03 381.789,1359.67 383.832,1358.31 385.874,1356.95 387.917,1355.59 389.959,1354.23 392.002,1352.87 \n",
       "  394.044,1351.51 396.087,1350.15 398.129,1348.79 400.172,1347.43 402.214,1346.07 404.257,1344.71 406.299,1343.35 408.342,1341.99 410.384,1340.63 412.427,1339.27 \n",
       "  414.469,1337.91 416.512,1336.55 418.554,1335.19 420.597,1333.83 422.639,1332.47 424.682,1331.11 426.724,1329.75 428.767,1328.39 430.809,1327.03 432.852,1325.67 \n",
       "  434.895,1324.31 436.937,1322.95 438.98,1321.59 441.022,1320.23 443.065,1318.87 445.107,1317.51 447.15,1316.15 449.192,1314.79 451.235,1313.43 453.277,1312.07 \n",
       "  455.32,1310.71 457.362,1309.35 459.405,1307.99 461.447,1306.63 463.49,1305.27 465.532,1303.91 467.575,1302.55 469.617,1301.19 471.66,1299.83 473.702,1298.47 \n",
       "  475.745,1297.11 477.787,1295.75 479.83,1294.39 481.872,1293.03 483.915,1291.67 485.957,1290.31 488,1288.95 490.042,1287.59 492.085,1286.23 494.127,1284.87 \n",
       "  496.17,1283.51 498.213,1282.15 500.255,1280.79 502.298,1279.43 504.34,1278.07 506.383,1276.7 508.425,1275.34 510.468,1273.98 512.51,1272.62 514.553,1271.26 \n",
       "  516.595,1269.9 518.638,1268.54 520.68,1267.18 522.723,1265.82 524.765,1264.46 526.808,1263.1 528.85,1261.74 530.893,1260.38 532.935,1259.02 534.978,1257.66 \n",
       "  537.02,1256.3 539.063,1254.94 541.105,1253.58 543.148,1252.22 545.19,1250.86 547.233,1249.5 549.275,1248.14 551.318,1246.78 553.36,1245.42 555.403,1244.06 \n",
       "  557.445,1242.7 559.488,1241.34 561.531,1239.98 563.573,1238.62 565.616,1237.26 567.658,1235.9 569.701,1234.54 571.743,1233.18 573.786,1231.82 575.828,1230.46 \n",
       "  577.871,1229.1 579.913,1227.74 581.956,1226.38 583.998,1225.02 586.041,1223.66 588.083,1222.3 590.126,1220.94 592.168,1219.58 594.211,1218.22 596.253,1216.86 \n",
       "  598.296,1215.5 600.338,1214.14 602.381,1212.78 604.423,1211.42 606.466,1210.06 608.508,1208.7 610.551,1207.34 612.593,1205.98 614.636,1204.62 616.678,1203.26 \n",
       "  618.721,1201.9 620.763,1200.54 622.806,1199.18 624.849,1197.82 626.891,1196.46 628.934,1195.1 630.976,1193.74 633.019,1192.38 635.061,1191.02 637.104,1189.66 \n",
       "  639.146,1188.3 641.189,1186.94 643.231,1185.58 645.274,1184.22 647.316,1182.86 649.359,1181.5 651.401,1180.14 653.444,1178.78 655.486,1177.42 657.529,1176.06 \n",
       "  659.571,1174.7 661.614,1173.34 663.656,1171.98 665.699,1170.62 667.741,1169.26 669.784,1167.9 671.826,1166.54 673.869,1165.18 675.911,1163.82 677.954,1162.46 \n",
       "  679.996,1161.1 682.039,1159.74 684.081,1158.38 686.124,1157.02 688.167,1155.66 690.209,1154.3 692.252,1152.94 694.294,1151.58 696.337,1150.22 698.379,1148.86 \n",
       "  700.422,1147.5 702.464,1146.14 704.507,1144.78 706.549,1143.42 708.592,1142.06 710.634,1140.7 712.677,1139.34 714.719,1137.98 716.762,1136.62 718.804,1135.26 \n",
       "  720.847,1133.9 722.889,1132.54 724.932,1131.18 726.974,1129.82 729.017,1128.46 731.059,1127.1 733.102,1125.74 735.144,1124.38 737.187,1123.02 739.229,1121.66 \n",
       "  741.272,1120.3 743.314,1118.94 745.357,1117.58 747.399,1116.22 749.442,1114.86 751.485,1113.5 753.527,1112.14 755.57,1110.78 757.612,1109.42 759.655,1108.06 \n",
       "  761.697,1106.7 763.74,1105.34 765.782,1103.98 767.825,1102.62 769.867,1101.26 771.91,1099.9 773.952,1098.54 775.995,1097.18 778.037,1095.82 780.08,1094.46 \n",
       "  782.122,1093.1 784.165,1091.74 786.207,1090.38 788.25,1089.02 790.292,1087.66 792.335,1086.3 794.377,1084.94 796.42,1083.58 798.462,1082.22 800.505,1080.86 \n",
       "  802.547,1079.5 804.59,1078.13 806.632,1076.77 808.675,1075.41 810.717,1074.05 812.76,1072.69 814.803,1071.33 816.845,1069.97 818.888,1068.61 820.93,1067.25 \n",
       "  822.973,1065.89 825.015,1064.53 827.058,1063.17 829.1,1061.81 831.143,1060.45 833.185,1059.09 835.228,1057.73 837.27,1056.37 839.313,1055.01 841.355,1053.65 \n",
       "  843.398,1052.29 845.44,1050.93 847.483,1049.57 849.525,1048.21 851.568,1046.85 853.61,1045.49 855.653,1044.13 857.695,1042.77 859.738,1041.41 861.78,1040.05 \n",
       "  863.823,1038.69 865.865,1037.33 867.908,1035.97 869.95,1034.61 871.993,1033.25 874.035,1031.89 876.078,1030.53 878.121,1029.17 880.163,1027.81 882.206,1026.45 \n",
       "  884.248,1025.09 886.291,1023.73 888.333,1022.37 890.376,1021.01 892.418,1019.65 894.461,1018.29 896.503,1016.93 898.546,1015.57 900.588,1014.21 902.631,1012.85 \n",
       "  904.673,1011.49 906.716,1010.13 908.758,1008.77 910.801,1007.41 912.843,1006.05 914.886,1004.69 916.928,1003.33 918.971,1001.97 921.013,1000.61 923.056,999.251 \n",
       "  925.098,997.891 927.141,996.531 929.183,995.171 931.226,993.811 933.268,992.451 935.311,991.091 937.353,989.731 939.396,988.37 941.439,987.01 943.481,985.65 \n",
       "  945.524,984.29 947.566,982.93 949.609,981.57 951.651,980.21 953.694,978.85 955.736,977.49 957.779,976.13 959.821,974.77 961.864,973.41 963.906,972.05 \n",
       "  965.949,970.69 967.991,969.33 970.034,967.969 972.076,966.609 974.119,965.249 976.161,963.889 978.204,962.529 980.246,961.169 982.289,959.809 984.331,958.449 \n",
       "  986.374,957.089 988.416,955.729 990.459,954.369 992.501,953.009 994.544,951.649 996.586,950.289 998.629,948.929 1000.67,947.568 1002.71,946.208 1004.76,944.848 \n",
       "  1006.8,943.488 1008.84,942.128 1010.88,940.768 1012.93,939.408 1014.97,938.048 1017.01,936.688 1019.05,935.328 1021.1,933.968 1023.14,932.608 1025.18,931.248 \n",
       "  1027.22,929.888 1029.27,928.527 1031.31,927.167 1033.35,925.807 1035.39,924.447 1037.44,923.087 1039.48,921.727 1041.52,920.367 1043.56,919.007 1045.61,917.647 \n",
       "  1047.65,916.287 1049.69,914.927 1051.73,913.567 1053.78,912.207 1055.82,910.847 1057.86,909.487 1059.9,908.126 1061.95,906.766 1063.99,905.406 1066.03,904.046 \n",
       "  1068.07,902.686 1070.12,901.326 1072.16,899.966 1074.2,898.606 1076.24,897.246 1078.29,895.886 1080.33,894.526 1082.37,893.166 1084.41,891.806 1086.46,890.446 \n",
       "  1088.5,889.086 1090.54,887.725 1092.58,886.365 1094.63,885.005 1096.67,883.645 1098.71,882.285 1100.75,880.925 1102.8,879.565 1104.84,878.205 1106.88,876.845 \n",
       "  1108.92,875.485 1110.97,874.125 1113.01,872.765 1115.05,871.405 1117.09,870.045 1119.14,868.684 1121.18,867.324 1123.22,865.964 1125.26,864.604 1127.31,863.244 \n",
       "  1129.35,861.884 1131.39,860.524 1133.44,859.164 1135.48,857.804 1137.52,856.444 1139.56,855.084 1141.61,853.724 1143.65,852.364 1145.69,851.004 1147.73,849.644 \n",
       "  1149.78,848.283 1151.82,846.923 1153.86,845.563 1155.9,844.203 1157.95,842.843 1159.99,841.483 1162.03,840.123 1164.07,838.763 1166.12,837.403 1168.16,836.043 \n",
       "  1170.2,834.683 1172.24,833.323 1174.29,831.963 1176.33,830.603 1178.37,829.243 1180.41,827.882 1182.46,826.522 1184.5,825.162 1186.54,823.802 1188.58,822.442 \n",
       "  1190.63,821.082 1192.67,819.722 1194.71,818.362 1196.75,817.002 1198.8,815.642 1200.84,814.282 1202.88,812.922 1204.92,811.562 1206.97,810.202 1209.01,808.841 \n",
       "  1211.05,807.481 1213.09,806.121 1215.14,804.761 1217.18,803.401 1219.22,802.041 1221.26,800.681 1223.31,799.321 1225.35,797.961 1227.39,796.601 1229.43,795.241 \n",
       "  1231.48,793.881 1233.52,792.521 1235.56,791.161 1237.6,789.801 1239.65,788.44 1241.69,787.08 1243.73,785.72 1245.77,784.36 1247.82,783 1249.86,781.64 \n",
       "  1251.9,780.28 1253.94,778.92 1255.99,777.56 1258.03,776.2 1260.07,774.84 1262.11,773.48 1264.16,772.12 1266.2,770.76 1268.24,769.4 1270.28,768.039 \n",
       "  1272.33,766.679 1274.37,765.319 1276.41,763.959 1278.45,762.599 1280.5,761.239 1282.54,759.879 1284.58,758.519 1286.62,757.159 1288.67,755.799 1290.71,754.439 \n",
       "  1292.75,753.079 1294.79,751.719 1296.84,750.359 1298.88,748.998 1300.92,747.638 1302.96,746.278 1305.01,744.918 1307.05,743.558 1309.09,742.198 1311.13,740.838 \n",
       "  1313.18,739.478 1315.22,738.118 1317.26,736.758 1319.3,735.398 1321.35,734.038 1323.39,732.678 1325.43,731.318 1327.47,729.958 1329.52,728.597 1331.56,727.237 \n",
       "  1333.6,725.877 1335.64,724.517 1337.69,723.157 1339.73,721.797 1341.77,720.437 1343.81,719.077 1345.86,717.717 1347.9,716.357 1349.94,714.997 1351.98,713.637 \n",
       "  1354.03,712.277 1356.07,710.917 1358.11,709.557 1360.15,708.196 1362.2,706.836 1364.24,705.476 1366.28,704.116 1368.32,702.756 1370.37,701.396 1372.41,700.036 \n",
       "  1374.45,698.676 1376.49,697.316 1378.54,695.956 1380.58,694.596 1382.62,693.236 1384.66,691.876 1386.71,690.516 1388.75,689.155 1390.79,687.795 1392.83,686.435 \n",
       "  1394.88,685.075 1396.92,683.715 1398.96,682.355 1401,680.995 1403.05,679.635 1405.09,678.275 1407.13,676.915 1409.17,675.555 1411.22,674.195 1413.26,672.835 \n",
       "  1415.3,671.475 1417.34,670.115 1419.39,668.754 1421.43,667.394 1423.47,666.034 1425.51,664.674 1427.56,663.314 1429.6,661.954 1431.64,660.594 1433.68,659.234 \n",
       "  1435.73,657.874 1437.77,656.514 1439.81,655.154 1441.85,653.794 1443.9,652.434 1445.94,651.074 1447.98,649.714 1450.03,648.353 1452.07,646.993 1454.11,645.633 \n",
       "  1456.15,644.273 1458.2,642.913 1460.24,641.553 1462.28,640.193 1464.32,638.833 1466.37,637.473 1468.41,636.113 1470.45,634.753 1472.49,633.393 1474.54,632.033 \n",
       "  1476.58,630.673 1478.62,629.312 1480.66,627.952 1482.71,626.592 1484.75,625.232 1486.79,623.872 1488.83,622.512 1490.88,621.152 1492.92,619.792 1494.96,618.432 \n",
       "  1497,617.072 1499.05,615.712 1501.09,614.352 1503.13,612.992 1505.17,611.632 1507.22,610.272 1509.26,608.911 1511.3,607.551 1513.34,606.191 1515.39,604.831 \n",
       "  1517.43,603.471 1519.47,602.111 1521.51,600.751 1523.56,599.391 1525.6,598.031 1527.64,596.671 1529.68,595.311 1531.73,593.951 1533.77,592.591 1535.81,591.231 \n",
       "  1537.85,589.871 1539.9,588.51 1541.94,587.15 1543.98,585.79 1546.02,584.43 1548.07,583.07 1550.11,581.71 1552.15,580.35 1554.19,578.99 1556.24,577.63 \n",
       "  1558.28,576.27 1560.32,574.91 1562.36,573.55 1564.41,572.19 1566.45,570.83 1568.49,569.469 1570.53,568.109 1572.58,566.749 1574.62,565.389 1576.66,564.029 \n",
       "  1578.7,562.669 1580.75,561.309 1582.79,559.949 1584.83,558.589 1586.87,557.229 1588.92,555.869 1590.96,554.509 1593,553.149 1595.04,551.789 1597.09,550.429 \n",
       "  1599.13,549.068 1601.17,547.708 1603.21,546.348 1605.26,544.988 1607.3,543.628 1609.34,542.268 1611.38,540.908 1613.43,539.548 1615.47,538.188 1617.51,536.828 \n",
       "  1619.55,535.468 1621.6,534.108 1623.64,532.748 1625.68,531.388 1627.72,530.028 1629.77,528.667 1631.81,527.307 1633.85,525.947 1635.89,524.587 1637.94,523.227 \n",
       "  1639.98,521.867 1642.02,520.507 1644.06,519.147 1646.11,517.787 1648.15,516.427 1650.19,515.067 1652.23,513.707 1654.28,512.347 1656.32,510.987 1658.36,509.626 \n",
       "  1660.4,508.266 1662.45,506.906 1664.49,505.546 1666.53,504.186 1668.57,502.826 1670.62,501.466 1672.66,500.106 1674.7,498.746 1676.74,497.386 1678.79,496.026 \n",
       "  1680.83,494.666 1682.87,493.306 1684.91,491.946 1686.96,490.586 1689,489.225 1691.04,487.865 1693.08,486.505 1695.13,485.145 1697.17,483.785 1699.21,482.425 \n",
       "  1701.25,481.065 1703.3,479.705 1705.34,478.345 1707.38,476.985 1709.42,475.625 1711.47,474.265 1713.51,472.905 1715.55,471.545 1717.59,470.185 1719.64,468.824 \n",
       "  1721.68,467.464 1723.72,466.104 1725.76,464.744 1727.81,463.384 1729.85,462.024 1731.89,460.664 1733.93,459.304 1735.98,457.944 1738.02,456.584 1740.06,455.224 \n",
       "  1742.1,453.864 1744.15,452.504 1746.19,451.144 1748.23,449.783 1750.27,448.423 1752.32,447.063 1754.36,445.703 1756.4,444.343 1758.44,442.983 1760.49,441.623 \n",
       "  1762.53,440.263 1764.57,438.903 1766.62,437.543 1768.66,436.183 1770.7,434.823 1772.74,433.463 1774.79,432.103 1776.83,430.743 1778.87,429.382 1780.91,428.022 \n",
       "  1782.96,426.662 1785,425.302 1787.04,423.942 1789.08,422.582 1791.13,421.222 1793.17,419.862 1795.21,418.502 1797.25,417.142 1799.3,415.782 1801.34,414.422 \n",
       "  1803.38,413.062 1805.42,411.702 1807.47,410.342 1809.51,408.981 1811.55,407.621 1813.59,406.261 1815.64,404.901 1817.68,403.541 1819.72,402.181 1821.76,400.821 \n",
       "  1823.81,399.461 1825.85,398.101 1827.89,396.741 1829.93,395.381 1831.98,394.021 1834.02,392.661 1836.06,391.301 1838.1,389.94 1840.15,388.58 1842.19,387.22 \n",
       "  1844.23,385.86 1846.27,384.5 1848.32,383.14 1850.36,381.78 1852.4,380.42 1854.44,379.06 1856.49,377.7 1858.53,376.34 1860.57,374.98 1862.61,373.62 \n",
       "  1864.66,372.26 1866.7,370.9 1868.74,369.539 1870.78,368.179 1872.83,366.819 1874.87,365.459 1876.91,364.099 1878.95,362.739 1881,361.379 1883.04,360.019 \n",
       "  1885.08,358.659 1887.12,357.299 1889.17,355.939 1891.21,354.579 1893.25,353.219 1895.29,351.859 1897.34,350.499 1899.38,349.138 1901.42,347.778 1903.46,346.418 \n",
       "  1905.51,345.058 1907.55,343.698 1909.59,342.338 1911.63,340.978 1913.68,339.618 1915.72,338.258 1917.76,336.898 1919.8,335.538 1921.85,334.178 1923.89,332.818 \n",
       "  1925.93,331.458 1927.97,330.097 1930.02,328.737 1932.06,327.377 1934.1,326.017 1936.14,324.657 1938.19,323.297 1940.23,321.937 1942.27,320.577 1944.31,319.217 \n",
       "  1946.36,317.857 1948.4,316.497 1950.44,315.137 1952.48,313.777 1954.53,312.417 1956.57,311.057 1958.61,309.696 1960.65,308.336 1962.7,306.976 1964.74,305.616 \n",
       "  1966.78,304.256 1968.82,302.896 1970.87,301.536 1972.91,300.176 1974.95,298.816 1976.99,297.456 1979.04,296.096 1981.08,294.736 1983.12,293.376 1985.16,292.016 \n",
       "  1987.21,290.656 1989.25,289.295 1991.29,287.935 1993.33,286.575 1995.38,285.215 1997.42,283.855 1999.46,282.495 2001.5,281.135 2003.55,279.775 2005.59,278.415 \n",
       "  2007.63,277.055 2009.67,275.695 2011.72,274.335 2013.76,272.975 2015.8,271.615 2017.84,270.254 2019.89,268.894 2021.93,267.534 2023.97,266.174 2026.01,264.814 \n",
       "  2028.06,263.454 2030.1,262.094 2032.14,260.734 2034.18,259.374 2036.23,258.014 2038.27,256.654 2040.31,255.294 2042.35,253.934 2044.4,252.574 2046.44,251.214 \n",
       "  2048.48,249.853 2050.52,248.493 2052.57,247.133 2054.61,245.773 2056.65,244.413 2058.69,243.053 2060.74,241.693 2062.78,240.333 2064.82,238.973 2066.86,237.613 \n",
       "  2068.91,236.253 2070.95,234.893 2072.99,233.533 2075.03,232.173 2077.08,230.813 2079.12,229.452 2081.16,228.092 2083.21,226.732 2085.25,225.372 2087.29,224.012 \n",
       "  2089.33,222.652 2091.38,221.292 2093.42,219.932 2095.46,218.572 2097.5,217.212 2099.55,215.852 2101.59,214.492 2103.63,213.132 2105.67,211.772 2107.72,210.411 \n",
       "  2109.76,209.051 2111.8,207.691 2113.84,206.331 2115.89,204.971 2117.93,203.611 2119.97,202.251 2122.01,200.891 2124.06,199.531 2126.1,198.171 2128.14,196.811 \n",
       "  2130.18,195.451 2132.23,194.091 2134.27,192.731 2136.31,191.371 2138.35,190.01 2140.4,188.65 2142.44,187.29 2144.48,185.93 2146.52,184.57 2148.57,183.21 \n",
       "  2150.61,181.85 2152.65,180.49 2154.69,179.13 2156.74,177.77 2158.78,176.41 2160.82,175.05 2162.86,173.69 2164.91,172.33 2166.95,170.969 2168.99,169.609 \n",
       "  2171.03,168.249 2173.08,166.889 2175.12,165.529 2177.16,164.169 2179.2,162.809 2181.25,161.449 2183.29,160.089 2185.33,158.729 2187.37,157.369 2189.42,156.009 \n",
       "  2191.46,154.649 2193.5,153.289 2195.54,151.929 2197.59,150.568 2199.63,149.208 2201.67,147.848 2203.71,146.488 2205.76,145.128 2207.8,143.768 2209.84,142.408 \n",
       "  2211.88,141.048 2213.93,139.688 2215.97,138.328 2218.01,136.968 2220.05,135.608 2222.1,134.248 2224.14,132.888 2226.18,131.528 2228.22,130.167 2230.27,128.807 \n",
       "  2232.31,127.447 2234.35,126.087 2236.39,124.727 2238.44,123.367 2240.48,122.007 2242.52,120.647 2244.56,119.287 2246.61,117.927 2248.65,116.567 2250.69,115.207 \n",
       "  2252.73,113.847 2254.78,112.487 2256.82,111.126 2258.86,109.766 2260.9,108.406 2262.95,107.046 2264.99,105.686 2267.03,104.326 2269.07,102.966 2271.12,101.606 \n",
       "  2273.16,100.246 2275.2,98.8859 2277.24,97.5258 2279.29,96.1657 2281.33,94.8057 2283.37,93.4456 2285.41,92.0855 2287.46,90.7255 2289.5,89.3654 2291.54,88.0053 \n",
       "  \n",
       "  \"/>\n",
       "<path clip-path=\"url(#clip6300)\" d=\"\n",
       "M1989.93 251.724 L2280.76 251.724 L2280.76 130.764 L1989.93 130.764  Z\n",
       "  \" fill=\"#ffffff\" fill-rule=\"evenodd\" fill-opacity=\"1\"/>\n",
       "<polyline clip-path=\"url(#clip6300)\" style=\"stroke:#000000; stroke-width:4; stroke-opacity:1; fill:none\" points=\"\n",
       "  1989.93,251.724 2280.76,251.724 2280.76,130.764 1989.93,130.764 1989.93,251.724 \n",
       "  \"/>\n",
       "<polyline clip-path=\"url(#clip6300)\" style=\"stroke:#009af9; stroke-width:4; stroke-opacity:1; fill:none\" points=\"\n",
       "  2013.93,191.244 2157.93,191.244 \n",
       "  \"/>\n",
       "<g clip-path=\"url(#clip6300)\">\n",
       "<text style=\"fill:#000000; fill-opacity:1; font-family:Arial,Helvetica Neue,Helvetica,sans-serif; font-size:48px; text-anchor:start;\" transform=\"rotate(0, 2181.93, 208.744)\" x=\"2181.93\" y=\"208.744\">y1</text>\n",
       "</g>\n",
       "</svg>\n"
      ]
     },
     "execution_count": 47,
     "metadata": {},
     "output_type": "execute_result"
    }
   ],
   "source": [
    "plot(run_infection(1000), yscale=:log10)"
   ]
  },
  {
   "cell_type": "code",
   "execution_count": 50,
   "metadata": {},
   "outputs": [
    {
     "data": {
      "image/svg+xml": [
       "<?xml version=\"1.0\" encoding=\"utf-8\"?>\n",
       "<svg xmlns=\"http://www.w3.org/2000/svg\" xmlns:xlink=\"http://www.w3.org/1999/xlink\" width=\"600\" height=\"400\" viewBox=\"0 0 2400 1600\">\n",
       "<defs>\n",
       "  <clipPath id=\"clip7500\">\n",
       "    <rect x=\"0\" y=\"0\" width=\"2400\" height=\"1600\"/>\n",
       "  </clipPath>\n",
       "</defs>\n",
       "<path clip-path=\"url(#clip7500)\" d=\"\n",
       "M0 1600 L2400 1600 L2400 0 L0 0  Z\n",
       "  \" fill=\"#ffffff\" fill-rule=\"evenodd\" fill-opacity=\"1\"/>\n",
       "<defs>\n",
       "  <clipPath id=\"clip7501\">\n",
       "    <rect x=\"480\" y=\"0\" width=\"1681\" height=\"1600\"/>\n",
       "  </clipPath>\n",
       "</defs>\n",
       "<path clip-path=\"url(#clip7500)\" d=\"\n",
       "M175.611 1487.47 L2352.76 1487.47 L2352.76 47.2441 L175.611 47.2441  Z\n",
       "  \" fill=\"#ffffff\" fill-rule=\"evenodd\" fill-opacity=\"1\"/>\n",
       "<defs>\n",
       "  <clipPath id=\"clip7502\">\n",
       "    <rect x=\"175\" y=\"47\" width=\"2178\" height=\"1441\"/>\n",
       "  </clipPath>\n",
       "</defs>\n",
       "<polyline clip-path=\"url(#clip7502)\" style=\"stroke:#000000; stroke-width:2; stroke-opacity:0.1; fill:none\" points=\"\n",
       "  235.172,1487.47 235.172,47.2441 \n",
       "  \"/>\n",
       "<polyline clip-path=\"url(#clip7502)\" style=\"stroke:#000000; stroke-width:2; stroke-opacity:0.1; fill:none\" points=\"\n",
       "  749.164,1487.47 749.164,47.2441 \n",
       "  \"/>\n",
       "<polyline clip-path=\"url(#clip7502)\" style=\"stroke:#000000; stroke-width:2; stroke-opacity:0.1; fill:none\" points=\"\n",
       "  1263.16,1487.47 1263.16,47.2441 \n",
       "  \"/>\n",
       "<polyline clip-path=\"url(#clip7502)\" style=\"stroke:#000000; stroke-width:2; stroke-opacity:0.1; fill:none\" points=\"\n",
       "  1777.15,1487.47 1777.15,47.2441 \n",
       "  \"/>\n",
       "<polyline clip-path=\"url(#clip7502)\" style=\"stroke:#000000; stroke-width:2; stroke-opacity:0.1; fill:none\" points=\"\n",
       "  2291.14,1487.47 2291.14,47.2441 \n",
       "  \"/>\n",
       "<polyline clip-path=\"url(#clip7502)\" style=\"stroke:#000000; stroke-width:2; stroke-opacity:0.1; fill:none\" points=\"\n",
       "  175.611,1446.71 2352.76,1446.71 \n",
       "  \"/>\n",
       "<polyline clip-path=\"url(#clip7502)\" style=\"stroke:#000000; stroke-width:2; stroke-opacity:0.1; fill:none\" points=\"\n",
       "  175.611,1131.98 2352.76,1131.98 \n",
       "  \"/>\n",
       "<polyline clip-path=\"url(#clip7502)\" style=\"stroke:#000000; stroke-width:2; stroke-opacity:0.1; fill:none\" points=\"\n",
       "  175.611,817.252 2352.76,817.252 \n",
       "  \"/>\n",
       "<polyline clip-path=\"url(#clip7502)\" style=\"stroke:#000000; stroke-width:2; stroke-opacity:0.1; fill:none\" points=\"\n",
       "  175.611,502.522 2352.76,502.522 \n",
       "  \"/>\n",
       "<polyline clip-path=\"url(#clip7502)\" style=\"stroke:#000000; stroke-width:2; stroke-opacity:0.1; fill:none\" points=\"\n",
       "  175.611,187.791 2352.76,187.791 \n",
       "  \"/>\n",
       "<polyline clip-path=\"url(#clip7500)\" style=\"stroke:#000000; stroke-width:4; stroke-opacity:1; fill:none\" points=\"\n",
       "  175.611,1487.47 2352.76,1487.47 \n",
       "  \"/>\n",
       "<polyline clip-path=\"url(#clip7500)\" style=\"stroke:#000000; stroke-width:4; stroke-opacity:1; fill:none\" points=\"\n",
       "  175.611,1487.47 175.611,47.2441 \n",
       "  \"/>\n",
       "<polyline clip-path=\"url(#clip7500)\" style=\"stroke:#000000; stroke-width:4; stroke-opacity:1; fill:none\" points=\"\n",
       "  235.172,1487.47 235.172,1470.19 \n",
       "  \"/>\n",
       "<polyline clip-path=\"url(#clip7500)\" style=\"stroke:#000000; stroke-width:4; stroke-opacity:1; fill:none\" points=\"\n",
       "  749.164,1487.47 749.164,1470.19 \n",
       "  \"/>\n",
       "<polyline clip-path=\"url(#clip7500)\" style=\"stroke:#000000; stroke-width:4; stroke-opacity:1; fill:none\" points=\"\n",
       "  1263.16,1487.47 1263.16,1470.19 \n",
       "  \"/>\n",
       "<polyline clip-path=\"url(#clip7500)\" style=\"stroke:#000000; stroke-width:4; stroke-opacity:1; fill:none\" points=\"\n",
       "  1777.15,1487.47 1777.15,1470.19 \n",
       "  \"/>\n",
       "<polyline clip-path=\"url(#clip7500)\" style=\"stroke:#000000; stroke-width:4; stroke-opacity:1; fill:none\" points=\"\n",
       "  2291.14,1487.47 2291.14,1470.19 \n",
       "  \"/>\n",
       "<polyline clip-path=\"url(#clip7500)\" style=\"stroke:#000000; stroke-width:4; stroke-opacity:1; fill:none\" points=\"\n",
       "  175.611,1446.71 201.736,1446.71 \n",
       "  \"/>\n",
       "<polyline clip-path=\"url(#clip7500)\" style=\"stroke:#000000; stroke-width:4; stroke-opacity:1; fill:none\" points=\"\n",
       "  175.611,1131.98 201.736,1131.98 \n",
       "  \"/>\n",
       "<polyline clip-path=\"url(#clip7500)\" style=\"stroke:#000000; stroke-width:4; stroke-opacity:1; fill:none\" points=\"\n",
       "  175.611,817.252 201.736,817.252 \n",
       "  \"/>\n",
       "<polyline clip-path=\"url(#clip7500)\" style=\"stroke:#000000; stroke-width:4; stroke-opacity:1; fill:none\" points=\"\n",
       "  175.611,502.522 201.736,502.522 \n",
       "  \"/>\n",
       "<polyline clip-path=\"url(#clip7500)\" style=\"stroke:#000000; stroke-width:4; stroke-opacity:1; fill:none\" points=\"\n",
       "  175.611,187.791 201.736,187.791 \n",
       "  \"/>\n",
       "<g clip-path=\"url(#clip7500)\">\n",
       "<text style=\"fill:#000000; fill-opacity:1; font-family:Arial,Helvetica Neue,Helvetica,sans-serif; font-size:48px; text-anchor:middle;\" transform=\"rotate(0, 235.172, 1541.47)\" x=\"235.172\" y=\"1541.47\">0</text>\n",
       "</g>\n",
       "<g clip-path=\"url(#clip7500)\">\n",
       "<text style=\"fill:#000000; fill-opacity:1; font-family:Arial,Helvetica Neue,Helvetica,sans-serif; font-size:48px; text-anchor:middle;\" transform=\"rotate(0, 749.164, 1541.47)\" x=\"749.164\" y=\"1541.47\">250</text>\n",
       "</g>\n",
       "<g clip-path=\"url(#clip7500)\">\n",
       "<text style=\"fill:#000000; fill-opacity:1; font-family:Arial,Helvetica Neue,Helvetica,sans-serif; font-size:48px; text-anchor:middle;\" transform=\"rotate(0, 1263.16, 1541.47)\" x=\"1263.16\" y=\"1541.47\">500</text>\n",
       "</g>\n",
       "<g clip-path=\"url(#clip7500)\">\n",
       "<text style=\"fill:#000000; fill-opacity:1; font-family:Arial,Helvetica Neue,Helvetica,sans-serif; font-size:48px; text-anchor:middle;\" transform=\"rotate(0, 1777.15, 1541.47)\" x=\"1777.15\" y=\"1541.47\">750</text>\n",
       "</g>\n",
       "<g clip-path=\"url(#clip7500)\">\n",
       "<text style=\"fill:#000000; fill-opacity:1; font-family:Arial,Helvetica Neue,Helvetica,sans-serif; font-size:48px; text-anchor:middle;\" transform=\"rotate(0, 2291.14, 1541.47)\" x=\"2291.14\" y=\"1541.47\">1000</text>\n",
       "</g>\n",
       "<g clip-path=\"url(#clip7500)\">\n",
       "<text style=\"fill:#000000; fill-opacity:1; font-family:Arial,Helvetica Neue,Helvetica,sans-serif; font-size:48px; text-anchor:end;\" transform=\"rotate(0, 151.611, 1464.21)\" x=\"151.611\" y=\"1464.21\">0</text>\n",
       "</g>\n",
       "<g clip-path=\"url(#clip7500)\">\n",
       "<text style=\"fill:#000000; fill-opacity:1; font-family:Arial,Helvetica Neue,Helvetica,sans-serif; font-size:48px; text-anchor:end;\" transform=\"rotate(0, 151.611, 1149.48)\" x=\"151.611\" y=\"1149.48\">1</text>\n",
       "</g>\n",
       "<g clip-path=\"url(#clip7500)\">\n",
       "<text style=\"fill:#000000; fill-opacity:1; font-family:Arial,Helvetica Neue,Helvetica,sans-serif; font-size:48px; text-anchor:end;\" transform=\"rotate(0, 151.611, 834.752)\" x=\"151.611\" y=\"834.752\">2</text>\n",
       "</g>\n",
       "<g clip-path=\"url(#clip7500)\">\n",
       "<text style=\"fill:#000000; fill-opacity:1; font-family:Arial,Helvetica Neue,Helvetica,sans-serif; font-size:48px; text-anchor:end;\" transform=\"rotate(0, 151.611, 520.022)\" x=\"151.611\" y=\"520.022\">3</text>\n",
       "</g>\n",
       "<g clip-path=\"url(#clip7500)\">\n",
       "<text style=\"fill:#000000; fill-opacity:1; font-family:Arial,Helvetica Neue,Helvetica,sans-serif; font-size:48px; text-anchor:end;\" transform=\"rotate(0, 151.611, 205.291)\" x=\"151.611\" y=\"205.291\">4</text>\n",
       "</g>\n",
       "<g clip-path=\"url(#clip7500)\">\n",
       "<text style=\"fill:#000000; fill-opacity:1; font-family:Arial,Helvetica Neue,Helvetica,sans-serif; font-size:66px; text-anchor:middle;\" transform=\"rotate(-90, 89.2861, 767.359)\" x=\"89.2861\" y=\"767.359\">log(I_n)</text>\n",
       "</g>\n",
       "<polyline clip-path=\"url(#clip7502)\" style=\"stroke:#009af9; stroke-width:4; stroke-opacity:1; fill:none\" points=\"\n",
       "  237.228,1446.71 239.284,1445.35 241.34,1443.99 243.396,1442.63 245.452,1441.27 247.508,1439.91 249.564,1438.55 251.62,1437.19 253.676,1435.83 255.732,1434.47 \n",
       "  257.788,1433.11 259.844,1431.75 261.899,1430.39 263.955,1429.03 266.011,1427.67 268.067,1426.31 270.123,1424.95 272.179,1423.59 274.235,1422.23 276.291,1420.87 \n",
       "  278.347,1419.51 280.403,1418.15 282.459,1416.79 284.515,1415.43 286.571,1414.07 288.627,1412.71 290.683,1411.35 292.739,1409.99 294.795,1408.63 296.851,1407.27 \n",
       "  298.907,1405.91 300.963,1404.55 303.019,1403.19 305.075,1401.83 307.131,1400.47 309.187,1399.11 311.243,1397.75 313.299,1396.39 315.355,1395.03 317.411,1393.67 \n",
       "  319.467,1392.31 321.523,1390.95 323.578,1389.59 325.634,1388.23 327.69,1386.87 329.746,1385.51 331.802,1384.15 333.858,1382.79 335.914,1381.43 337.97,1380.07 \n",
       "  340.026,1378.71 342.082,1377.35 344.138,1375.99 346.194,1374.63 348.25,1373.27 350.306,1371.91 352.362,1370.55 354.418,1369.19 356.474,1367.83 358.53,1366.47 \n",
       "  360.586,1365.11 362.642,1363.75 364.698,1362.39 366.754,1361.03 368.81,1359.67 370.866,1358.31 372.922,1356.95 374.978,1355.59 377.034,1354.23 379.09,1352.87 \n",
       "  381.146,1351.51 383.202,1350.15 385.257,1348.79 387.313,1347.43 389.369,1346.07 391.425,1344.71 393.481,1343.35 395.537,1341.99 397.593,1340.63 399.649,1339.27 \n",
       "  401.705,1337.91 403.761,1336.55 405.817,1335.19 407.873,1333.83 409.929,1332.47 411.985,1331.11 414.041,1329.75 416.097,1328.39 418.153,1327.03 420.209,1325.67 \n",
       "  422.265,1324.31 424.321,1322.95 426.377,1321.59 428.433,1320.23 430.489,1318.87 432.545,1317.51 434.601,1316.15 436.657,1314.79 438.713,1313.43 440.769,1312.07 \n",
       "  442.825,1310.71 444.881,1309.35 446.936,1307.99 448.992,1306.63 451.048,1305.27 453.104,1303.91 455.16,1302.55 457.216,1301.19 459.272,1299.83 461.328,1298.47 \n",
       "  463.384,1297.11 465.44,1295.75 467.496,1294.39 469.552,1293.03 471.608,1291.67 473.664,1290.31 475.72,1288.95 477.776,1287.59 479.832,1286.23 481.888,1284.87 \n",
       "  483.944,1283.51 486,1282.15 488.056,1280.79 490.112,1279.43 492.168,1278.07 494.224,1276.7 496.28,1275.34 498.336,1273.98 500.392,1272.62 502.448,1271.26 \n",
       "  504.504,1269.9 506.56,1268.54 508.615,1267.18 510.671,1265.82 512.727,1264.46 514.783,1263.1 516.839,1261.74 518.895,1260.38 520.951,1259.02 523.007,1257.66 \n",
       "  525.063,1256.3 527.119,1254.94 529.175,1253.58 531.231,1252.22 533.287,1250.86 535.343,1249.5 537.399,1248.14 539.455,1246.78 541.511,1245.42 543.567,1244.06 \n",
       "  545.623,1242.7 547.679,1241.34 549.735,1239.98 551.791,1238.62 553.847,1237.26 555.903,1235.9 557.959,1234.54 560.015,1233.18 562.071,1231.82 564.127,1230.46 \n",
       "  566.183,1229.1 568.239,1227.74 570.294,1226.38 572.35,1225.02 574.406,1223.66 576.462,1222.3 578.518,1220.94 580.574,1219.58 582.63,1218.22 584.686,1216.86 \n",
       "  586.742,1215.5 588.798,1214.14 590.854,1212.78 592.91,1211.42 594.966,1210.06 597.022,1208.7 599.078,1207.34 601.134,1205.98 603.19,1204.62 605.246,1203.26 \n",
       "  607.302,1201.9 609.358,1200.54 611.414,1199.18 613.47,1197.82 615.526,1196.46 617.582,1195.1 619.638,1193.74 621.694,1192.38 623.75,1191.02 625.806,1189.66 \n",
       "  627.862,1188.3 629.918,1186.94 631.973,1185.58 634.029,1184.22 636.085,1182.86 638.141,1181.5 640.197,1180.14 642.253,1178.78 644.309,1177.42 646.365,1176.06 \n",
       "  648.421,1174.7 650.477,1173.34 652.533,1171.98 654.589,1170.62 656.645,1169.26 658.701,1167.9 660.757,1166.54 662.813,1165.18 664.869,1163.82 666.925,1162.46 \n",
       "  668.981,1161.1 671.037,1159.74 673.093,1158.38 675.149,1157.02 677.205,1155.66 679.261,1154.3 681.317,1152.94 683.373,1151.58 685.429,1150.22 687.485,1148.86 \n",
       "  689.541,1147.5 691.597,1146.14 693.652,1144.78 695.708,1143.42 697.764,1142.06 699.82,1140.7 701.876,1139.34 703.932,1137.98 705.988,1136.62 708.044,1135.26 \n",
       "  710.1,1133.9 712.156,1132.54 714.212,1131.18 716.268,1129.82 718.324,1128.46 720.38,1127.1 722.436,1125.74 724.492,1124.38 726.548,1123.02 728.604,1121.66 \n",
       "  730.66,1120.3 732.716,1118.94 734.772,1117.58 736.828,1116.22 738.884,1114.86 740.94,1113.5 742.996,1112.14 745.052,1110.78 747.108,1109.42 749.164,1108.06 \n",
       "  751.22,1106.7 753.276,1105.34 755.331,1103.98 757.387,1102.62 759.443,1101.26 761.499,1099.9 763.555,1098.54 765.611,1097.18 767.667,1095.82 769.723,1094.46 \n",
       "  771.779,1093.1 773.835,1091.74 775.891,1090.38 777.947,1089.02 780.003,1087.66 782.059,1086.3 784.115,1084.94 786.171,1083.58 788.227,1082.22 790.283,1080.86 \n",
       "  792.339,1079.5 794.395,1078.13 796.451,1076.77 798.507,1075.41 800.563,1074.05 802.619,1072.69 804.675,1071.33 806.731,1069.97 808.787,1068.61 810.843,1067.25 \n",
       "  812.899,1065.89 814.955,1064.53 817.01,1063.17 819.066,1061.81 821.122,1060.45 823.178,1059.09 825.234,1057.73 827.29,1056.37 829.346,1055.01 831.402,1053.65 \n",
       "  833.458,1052.29 835.514,1050.93 837.57,1049.57 839.626,1048.21 841.682,1046.85 843.738,1045.49 845.794,1044.13 847.85,1042.77 849.906,1041.41 851.962,1040.05 \n",
       "  854.018,1038.69 856.074,1037.33 858.13,1035.97 860.186,1034.61 862.242,1033.25 864.298,1031.89 866.354,1030.53 868.41,1029.17 870.466,1027.81 872.522,1026.45 \n",
       "  874.578,1025.09 876.634,1023.73 878.689,1022.37 880.745,1021.01 882.801,1019.65 884.857,1018.29 886.913,1016.93 888.969,1015.57 891.025,1014.21 893.081,1012.85 \n",
       "  895.137,1011.49 897.193,1010.13 899.249,1008.77 901.305,1007.41 903.361,1006.05 905.417,1004.69 907.473,1003.33 909.529,1001.97 911.585,1000.61 913.641,999.251 \n",
       "  915.697,997.891 917.753,996.531 919.809,995.171 921.865,993.811 923.921,992.451 925.977,991.091 928.033,989.731 930.089,988.37 932.145,987.01 934.201,985.65 \n",
       "  936.257,984.29 938.313,982.93 940.368,981.57 942.424,980.21 944.48,978.85 946.536,977.49 948.592,976.13 950.648,974.77 952.704,973.41 954.76,972.05 \n",
       "  956.816,970.69 958.872,969.33 960.928,967.969 962.984,966.609 965.04,965.249 967.096,963.889 969.152,962.529 971.208,961.169 973.264,959.809 975.32,958.449 \n",
       "  977.376,957.089 979.432,955.729 981.488,954.369 983.544,953.009 985.6,951.649 987.656,950.289 989.712,948.929 991.768,947.568 993.824,946.208 995.88,944.848 \n",
       "  997.936,943.488 999.992,942.128 1002.05,940.768 1004.1,939.408 1006.16,938.048 1008.22,936.688 1010.27,935.328 1012.33,933.968 1014.38,932.608 1016.44,931.248 \n",
       "  1018.5,929.888 1020.55,928.527 1022.61,927.167 1024.66,925.807 1026.72,924.447 1028.78,923.087 1030.83,921.727 1032.89,920.367 1034.94,919.007 1037,917.647 \n",
       "  1039.05,916.287 1041.11,914.927 1043.17,913.567 1045.22,912.207 1047.28,910.847 1049.33,909.487 1051.39,908.126 1053.45,906.766 1055.5,905.406 1057.56,904.046 \n",
       "  1059.61,902.686 1061.67,901.326 1063.73,899.966 1065.78,898.606 1067.84,897.246 1069.89,895.886 1071.95,894.526 1074.01,893.166 1076.06,891.806 1078.12,890.446 \n",
       "  1080.17,889.086 1082.23,887.725 1084.29,886.365 1086.34,885.005 1088.4,883.645 1090.45,882.285 1092.51,880.925 1094.57,879.565 1096.62,878.205 1098.68,876.845 \n",
       "  1100.73,875.485 1102.79,874.125 1104.85,872.765 1106.9,871.405 1108.96,870.045 1111.01,868.684 1113.07,867.324 1115.13,865.964 1117.18,864.604 1119.24,863.244 \n",
       "  1121.29,861.884 1123.35,860.524 1125.41,859.164 1127.46,857.804 1129.52,856.444 1131.57,855.084 1133.63,853.724 1135.69,852.364 1137.74,851.004 1139.8,849.644 \n",
       "  1141.85,848.283 1143.91,846.923 1145.97,845.563 1148.02,844.203 1150.08,842.843 1152.13,841.483 1154.19,840.123 1156.24,838.763 1158.3,837.403 1160.36,836.043 \n",
       "  1162.41,834.683 1164.47,833.323 1166.52,831.963 1168.58,830.603 1170.64,829.243 1172.69,827.882 1174.75,826.522 1176.8,825.162 1178.86,823.802 1180.92,822.442 \n",
       "  1182.97,821.082 1185.03,819.722 1187.08,818.362 1189.14,817.002 1191.2,815.642 1193.25,814.282 1195.31,812.922 1197.36,811.562 1199.42,810.202 1201.48,808.841 \n",
       "  1203.53,807.481 1205.59,806.121 1207.64,804.761 1209.7,803.401 1211.76,802.041 1213.81,800.681 1215.87,799.321 1217.92,797.961 1219.98,796.601 1222.04,795.241 \n",
       "  1224.09,793.881 1226.15,792.521 1228.2,791.161 1230.26,789.801 1232.32,788.44 1234.37,787.08 1236.43,785.72 1238.48,784.36 1240.54,783 1242.6,781.64 \n",
       "  1244.65,780.28 1246.71,778.92 1248.76,777.56 1250.82,776.2 1252.88,774.84 1254.93,773.48 1256.99,772.12 1259.04,770.76 1261.1,769.4 1263.16,768.039 \n",
       "  1265.21,766.679 1267.27,765.319 1269.32,763.959 1271.38,762.599 1273.44,761.239 1275.49,759.879 1277.55,758.519 1279.6,757.159 1281.66,755.799 1283.71,754.439 \n",
       "  1285.77,753.079 1287.83,751.719 1289.88,750.359 1291.94,748.998 1293.99,747.638 1296.05,746.278 1298.11,744.918 1300.16,743.558 1302.22,742.198 1304.27,740.838 \n",
       "  1306.33,739.478 1308.39,738.118 1310.44,736.758 1312.5,735.398 1314.55,734.038 1316.61,732.678 1318.67,731.318 1320.72,729.958 1322.78,728.597 1324.83,727.237 \n",
       "  1326.89,725.877 1328.95,724.517 1331,723.157 1333.06,721.797 1335.11,720.437 1337.17,719.077 1339.23,717.717 1341.28,716.357 1343.34,714.997 1345.39,713.637 \n",
       "  1347.45,712.277 1349.51,710.917 1351.56,709.557 1353.62,708.196 1355.67,706.836 1357.73,705.476 1359.79,704.116 1361.84,702.756 1363.9,701.396 1365.95,700.036 \n",
       "  1368.01,698.676 1370.07,697.316 1372.12,695.956 1374.18,694.596 1376.23,693.236 1378.29,691.876 1380.35,690.516 1382.4,689.155 1384.46,687.795 1386.51,686.435 \n",
       "  1388.57,685.075 1390.63,683.715 1392.68,682.355 1394.74,680.995 1396.79,679.635 1398.85,678.275 1400.91,676.915 1402.96,675.555 1405.02,674.195 1407.07,672.835 \n",
       "  1409.13,671.475 1411.18,670.115 1413.24,668.754 1415.3,667.394 1417.35,666.034 1419.41,664.674 1421.46,663.314 1423.52,661.954 1425.58,660.594 1427.63,659.234 \n",
       "  1429.69,657.874 1431.74,656.514 1433.8,655.154 1435.86,653.794 1437.91,652.434 1439.97,651.074 1442.02,649.714 1444.08,648.353 1446.14,646.993 1448.19,645.633 \n",
       "  1450.25,644.273 1452.3,642.913 1454.36,641.553 1456.42,640.193 1458.47,638.833 1460.53,637.473 1462.58,636.113 1464.64,634.753 1466.7,633.393 1468.75,632.033 \n",
       "  1470.81,630.673 1472.86,629.312 1474.92,627.952 1476.98,626.592 1479.03,625.232 1481.09,623.872 1483.14,622.512 1485.2,621.152 1487.26,619.792 1489.31,618.432 \n",
       "  1491.37,617.072 1493.42,615.712 1495.48,614.352 1497.54,612.992 1499.59,611.632 1501.65,610.272 1503.7,608.911 1505.76,607.551 1507.82,606.191 1509.87,604.831 \n",
       "  1511.93,603.471 1513.98,602.111 1516.04,600.751 1518.1,599.391 1520.15,598.031 1522.21,596.671 1524.26,595.311 1526.32,593.951 1528.37,592.591 1530.43,591.231 \n",
       "  1532.49,589.871 1534.54,588.51 1536.6,587.15 1538.65,585.79 1540.71,584.43 1542.77,583.07 1544.82,581.71 1546.88,580.35 1548.93,578.99 1550.99,577.63 \n",
       "  1553.05,576.27 1555.1,574.91 1557.16,573.55 1559.21,572.19 1561.27,570.83 1563.33,569.469 1565.38,568.109 1567.44,566.749 1569.49,565.389 1571.55,564.029 \n",
       "  1573.61,562.669 1575.66,561.309 1577.72,559.949 1579.77,558.589 1581.83,557.229 1583.89,555.869 1585.94,554.509 1588,553.149 1590.05,551.789 1592.11,550.429 \n",
       "  1594.17,549.068 1596.22,547.708 1598.28,546.348 1600.33,544.988 1602.39,543.628 1604.45,542.268 1606.5,540.908 1608.56,539.548 1610.61,538.188 1612.67,536.828 \n",
       "  1614.73,535.468 1616.78,534.108 1618.84,532.748 1620.89,531.388 1622.95,530.028 1625.01,528.667 1627.06,527.307 1629.12,525.947 1631.17,524.587 1633.23,523.227 \n",
       "  1635.29,521.867 1637.34,520.507 1639.4,519.147 1641.45,517.787 1643.51,516.427 1645.57,515.067 1647.62,513.707 1649.68,512.347 1651.73,510.987 1653.79,509.626 \n",
       "  1655.84,508.266 1657.9,506.906 1659.96,505.546 1662.01,504.186 1664.07,502.826 1666.12,501.466 1668.18,500.106 1670.24,498.746 1672.29,497.386 1674.35,496.026 \n",
       "  1676.4,494.666 1678.46,493.306 1680.52,491.946 1682.57,490.586 1684.63,489.225 1686.68,487.865 1688.74,486.505 1690.8,485.145 1692.85,483.785 1694.91,482.425 \n",
       "  1696.96,481.065 1699.02,479.705 1701.08,478.345 1703.13,476.985 1705.19,475.625 1707.24,474.265 1709.3,472.905 1711.36,471.545 1713.41,470.185 1715.47,468.824 \n",
       "  1717.52,467.464 1719.58,466.104 1721.64,464.744 1723.69,463.384 1725.75,462.024 1727.8,460.664 1729.86,459.304 1731.92,457.944 1733.97,456.584 1736.03,455.224 \n",
       "  1738.08,453.864 1740.14,452.504 1742.2,451.144 1744.25,449.783 1746.31,448.423 1748.36,447.063 1750.42,445.703 1752.48,444.343 1754.53,442.983 1756.59,441.623 \n",
       "  1758.64,440.263 1760.7,438.903 1762.76,437.543 1764.81,436.183 1766.87,434.823 1768.92,433.463 1770.98,432.103 1773.03,430.743 1775.09,429.382 1777.15,428.022 \n",
       "  1779.2,426.662 1781.26,425.302 1783.31,423.942 1785.37,422.582 1787.43,421.222 1789.48,419.862 1791.54,418.502 1793.59,417.142 1795.65,415.782 1797.71,414.422 \n",
       "  1799.76,413.062 1801.82,411.702 1803.87,410.342 1805.93,408.981 1807.99,407.621 1810.04,406.261 1812.1,404.901 1814.15,403.541 1816.21,402.181 1818.27,400.821 \n",
       "  1820.32,399.461 1822.38,398.101 1824.43,396.741 1826.49,395.381 1828.55,394.021 1830.6,392.661 1832.66,391.301 1834.71,389.94 1836.77,388.58 1838.83,387.22 \n",
       "  1840.88,385.86 1842.94,384.5 1844.99,383.14 1847.05,381.78 1849.11,380.42 1851.16,379.06 1853.22,377.7 1855.27,376.34 1857.33,374.98 1859.39,373.62 \n",
       "  1861.44,372.26 1863.5,370.9 1865.55,369.539 1867.61,368.179 1869.67,366.819 1871.72,365.459 1873.78,364.099 1875.83,362.739 1877.89,361.379 1879.95,360.019 \n",
       "  1882,358.659 1884.06,357.299 1886.11,355.939 1888.17,354.579 1890.23,353.219 1892.28,351.859 1894.34,350.499 1896.39,349.138 1898.45,347.778 1900.5,346.418 \n",
       "  1902.56,345.058 1904.62,343.698 1906.67,342.338 1908.73,340.978 1910.78,339.618 1912.84,338.258 1914.9,336.898 1916.95,335.538 1919.01,334.178 1921.06,332.818 \n",
       "  1923.12,331.458 1925.18,330.097 1927.23,328.737 1929.29,327.377 1931.34,326.017 1933.4,324.657 1935.46,323.297 1937.51,321.937 1939.57,320.577 1941.62,319.217 \n",
       "  1943.68,317.857 1945.74,316.497 1947.79,315.137 1949.85,313.777 1951.9,312.417 1953.96,311.057 1956.02,309.696 1958.07,308.336 1960.13,306.976 1962.18,305.616 \n",
       "  1964.24,304.256 1966.3,302.896 1968.35,301.536 1970.41,300.176 1972.46,298.816 1974.52,297.456 1976.58,296.096 1978.63,294.736 1980.69,293.376 1982.74,292.016 \n",
       "  1984.8,290.656 1986.86,289.295 1988.91,287.935 1990.97,286.575 1993.02,285.215 1995.08,283.855 1997.14,282.495 1999.19,281.135 2001.25,279.775 2003.3,278.415 \n",
       "  2005.36,277.055 2007.42,275.695 2009.47,274.335 2011.53,272.975 2013.58,271.615 2015.64,270.254 2017.7,268.894 2019.75,267.534 2021.81,266.174 2023.86,264.814 \n",
       "  2025.92,263.454 2027.97,262.094 2030.03,260.734 2032.09,259.374 2034.14,258.014 2036.2,256.654 2038.25,255.294 2040.31,253.934 2042.37,252.574 2044.42,251.214 \n",
       "  2046.48,249.853 2048.53,248.493 2050.59,247.133 2052.65,245.773 2054.7,244.413 2056.76,243.053 2058.81,241.693 2060.87,240.333 2062.93,238.973 2064.98,237.613 \n",
       "  2067.04,236.253 2069.09,234.893 2071.15,233.533 2073.21,232.173 2075.26,230.813 2077.32,229.452 2079.37,228.092 2081.43,226.732 2083.49,225.372 2085.54,224.012 \n",
       "  2087.6,222.652 2089.65,221.292 2091.71,219.932 2093.77,218.572 2095.82,217.212 2097.88,215.852 2099.93,214.492 2101.99,213.132 2104.05,211.772 2106.1,210.411 \n",
       "  2108.16,209.051 2110.21,207.691 2112.27,206.331 2114.33,204.971 2116.38,203.611 2118.44,202.251 2120.49,200.891 2122.55,199.531 2124.61,198.171 2126.66,196.811 \n",
       "  2128.72,195.451 2130.77,194.091 2132.83,192.731 2134.89,191.371 2136.94,190.01 2139,188.65 2141.05,187.29 2143.11,185.93 2145.16,184.57 2147.22,183.21 \n",
       "  2149.28,181.85 2151.33,180.49 2153.39,179.13 2155.44,177.77 2157.5,176.41 2159.56,175.05 2161.61,173.69 2163.67,172.33 2165.72,170.969 2167.78,169.609 \n",
       "  2169.84,168.249 2171.89,166.889 2173.95,165.529 2176,164.169 2178.06,162.809 2180.12,161.449 2182.17,160.089 2184.23,158.729 2186.28,157.369 2188.34,156.009 \n",
       "  2190.4,154.649 2192.45,153.289 2194.51,151.929 2196.56,150.568 2198.62,149.208 2200.68,147.848 2202.73,146.488 2204.79,145.128 2206.84,143.768 2208.9,142.408 \n",
       "  2210.96,141.048 2213.01,139.688 2215.07,138.328 2217.12,136.968 2219.18,135.608 2221.24,134.248 2223.29,132.888 2225.35,131.528 2227.4,130.167 2229.46,128.807 \n",
       "  2231.52,127.447 2233.57,126.087 2235.63,124.727 2237.68,123.367 2239.74,122.007 2241.8,120.647 2243.85,119.287 2245.91,117.927 2247.96,116.567 2250.02,115.207 \n",
       "  2252.08,113.847 2254.13,112.487 2256.19,111.126 2258.24,109.766 2260.3,108.406 2262.36,107.046 2264.41,105.686 2266.47,104.326 2268.52,102.966 2270.58,101.606 \n",
       "  2272.63,100.246 2274.69,98.8859 2276.75,97.5258 2278.8,96.1657 2280.86,94.8057 2282.91,93.4456 2284.97,92.0855 2287.03,90.7255 2289.08,89.3654 2291.14,88.0053 \n",
       "  \n",
       "  \"/>\n",
       "<path clip-path=\"url(#clip7500)\" d=\"\n",
       "M1989.93 251.724 L2280.76 251.724 L2280.76 130.764 L1989.93 130.764  Z\n",
       "  \" fill=\"#ffffff\" fill-rule=\"evenodd\" fill-opacity=\"1\"/>\n",
       "<polyline clip-path=\"url(#clip7500)\" style=\"stroke:#000000; stroke-width:4; stroke-opacity:1; fill:none\" points=\"\n",
       "  1989.93,251.724 2280.76,251.724 2280.76,130.764 1989.93,130.764 1989.93,251.724 \n",
       "  \"/>\n",
       "<polyline clip-path=\"url(#clip7500)\" style=\"stroke:#009af9; stroke-width:4; stroke-opacity:1; fill:none\" points=\"\n",
       "  2013.93,191.244 2157.93,191.244 \n",
       "  \"/>\n",
       "<g clip-path=\"url(#clip7500)\">\n",
       "<text style=\"fill:#000000; fill-opacity:1; font-family:Arial,Helvetica Neue,Helvetica,sans-serif; font-size:48px; text-anchor:start;\" transform=\"rotate(0, 2181.93, 208.744)\" x=\"2181.93\" y=\"208.744\">y1</text>\n",
       "</g>\n",
       "</svg>\n"
      ]
     },
     "execution_count": 50,
     "metadata": {},
     "output_type": "execute_result"
    }
   ],
   "source": [
    "I_result = run_infection(1000)\n",
    "\n",
    "plot(log10.(I_result))   # log of each element in I_result\n",
    "ylabel!(\"log(I_n)\")"
   ]
  },
  {
   "cell_type": "markdown",
   "metadata": {},
   "source": [
    "$\\log(I_n) = a n + b$"
   ]
  },
  {
   "cell_type": "markdown",
   "metadata": {},
   "source": [
    "Take exponentials of both sides:"
   ]
  },
  {
   "cell_type": "markdown",
   "metadata": {},
   "source": [
    "$I_n = \\exp(an + b) = C e^{a n}$"
   ]
  },
  {
   "cell_type": "markdown",
   "metadata": {},
   "source": [
    "Solve $I_{n+1} = \\lambda I_n$:"
   ]
  },
  {
   "cell_type": "markdown",
   "metadata": {},
   "source": [
    "$I_n = \\lambda^n I_0$"
   ]
  },
  {
   "cell_type": "markdown",
   "metadata": {},
   "source": [
    "$\\log(\\lambda^n) = n \\log(\\lambda)$"
   ]
  },
  {
   "cell_type": "markdown",
   "metadata": {},
   "source": [
    "## Logistic growth"
   ]
  },
  {
   "cell_type": "markdown",
   "metadata": {},
   "source": [
    "Exp growth is unrealistic: Assumes that there are always more people to infect -- wrong (finite population)."
   ]
  },
  {
   "cell_type": "markdown",
   "metadata": {},
   "source": [
    "$I_{n+1} = I_n + c I_n$"
   ]
  },
  {
   "cell_type": "markdown",
   "metadata": {},
   "source": [
    "Each individual will be in contact with a fraction $\\alpha$ of the population. At each contact there will a probability $p$ that you infect each person.\n",
    "\n",
    "Number of contacts = $\\alpha N$\n",
    "\n",
    "So $c = p \\alpha N$"
   ]
  },
  {
   "cell_type": "markdown",
   "metadata": {},
   "source": [
    "Original model:\n",
    "\n",
    "$I_{n+1} = I_n + (p \\alpha N) I_n$  -- good approximation when almost everybody still susceptible"
   ]
  },
  {
   "cell_type": "markdown",
   "metadata": {},
   "source": [
    "New model:\n",
    "\n",
    "Can only infect uninfected people!"
   ]
  },
  {
   "cell_type": "markdown",
   "metadata": {},
   "source": [
    "$I_{n+1} = I_n + (p \\alpha S_n) I_n$"
   ]
  },
  {
   "cell_type": "markdown",
   "metadata": {},
   "source": [
    "$I_{n+1} = I_n + [p \\alpha (N - I_n)] I_n = f(I_n)$\n",
    "\n",
    "$I_{n+1} = I_n + \\beta(I_n, S_n) I_n = f(I_n)$"
   ]
  },
  {
   "cell_type": "code",
   "execution_count": 56,
   "metadata": {
    "scrolled": true
   },
   "outputs": [
    {
     "data": {
      "text/plain": [
       "run_infection (generic function with 2 methods)"
      ]
     },
     "execution_count": 56,
     "metadata": {},
     "output_type": "execute_result"
    }
   ],
   "source": [
    "p = 0.02\n",
    "α = 0.01\n",
    "N = 1000\n",
    "\n",
    "β(I, S) = p * α * S\n",
    "\n",
    "function run_infection(T=20)  # default\n",
    "\n",
    "    I = zeros(T)\n",
    "    I[1] = I_0\n",
    "\n",
    "    for n in 1:T-1\n",
    "        I[n+1] = I[n] + β(I[n], N - I[n]) * I[n]\n",
    "    end\n",
    "\n",
    "    return I\n",
    "end"
   ]
  },
  {
   "cell_type": "code",
   "execution_count": 57,
   "metadata": {},
   "outputs": [
    {
     "data": {
      "text/plain": [
       "20-element Array{Float64,1}:\n",
       "  1.0\n",
       "  1.1998\n",
       "  1.439472095992\n",
       "  1.7269520992073721\n",
       "  2.071746046338255\n",
       "  2.4852368292698026\n",
       "  2.9810489147042514\n",
       "  3.57548136711873\n",
       "  4.288020827141153\n",
       "  5.141947568046585\n",
       "  6.165049156697394\n",
       "  7.390457421815974\n",
       "  8.857625133998434\n",
       " 10.613458656195233\n",
       " 12.713621286504926\n",
       " 15.224018310562577\n",
       " 18.222467825971023\n",
       " 21.80054972443152\n",
       " 26.065606875660343\n",
       " 31.14284507843312"
      ]
     },
     "execution_count": 57,
     "metadata": {},
     "output_type": "execute_result"
    }
   ],
   "source": [
    "I = run_infection(20)"
   ]
  },
  {
   "cell_type": "code",
   "execution_count": 58,
   "metadata": {},
   "outputs": [
    {
     "data": {
      "image/svg+xml": [
       "<?xml version=\"1.0\" encoding=\"utf-8\"?>\n",
       "<svg xmlns=\"http://www.w3.org/2000/svg\" xmlns:xlink=\"http://www.w3.org/1999/xlink\" width=\"600\" height=\"400\" viewBox=\"0 0 2400 1600\">\n",
       "<defs>\n",
       "  <clipPath id=\"clip7900\">\n",
       "    <rect x=\"0\" y=\"0\" width=\"2400\" height=\"1600\"/>\n",
       "  </clipPath>\n",
       "</defs>\n",
       "<path clip-path=\"url(#clip7900)\" d=\"\n",
       "M0 1600 L2400 1600 L2400 0 L0 0  Z\n",
       "  \" fill=\"#ffffff\" fill-rule=\"evenodd\" fill-opacity=\"1\"/>\n",
       "<defs>\n",
       "  <clipPath id=\"clip7901\">\n",
       "    <rect x=\"480\" y=\"0\" width=\"1681\" height=\"1600\"/>\n",
       "  </clipPath>\n",
       "</defs>\n",
       "<path clip-path=\"url(#clip7900)\" d=\"\n",
       "M140.517 1487.47 L2352.76 1487.47 L2352.76 47.2441 L140.517 47.2441  Z\n",
       "  \" fill=\"#ffffff\" fill-rule=\"evenodd\" fill-opacity=\"1\"/>\n",
       "<defs>\n",
       "  <clipPath id=\"clip7902\">\n",
       "    <rect x=\"140\" y=\"47\" width=\"2213\" height=\"1441\"/>\n",
       "  </clipPath>\n",
       "</defs>\n",
       "<polyline clip-path=\"url(#clip7902)\" style=\"stroke:#000000; stroke-width:2; stroke-opacity:0.1; fill:none\" points=\"\n",
       "  642.5,1487.47 642.5,47.2441 \n",
       "  \"/>\n",
       "<polyline clip-path=\"url(#clip7902)\" style=\"stroke:#000000; stroke-width:2; stroke-opacity:0.1; fill:none\" points=\"\n",
       "  1191.71,1487.47 1191.71,47.2441 \n",
       "  \"/>\n",
       "<polyline clip-path=\"url(#clip7902)\" style=\"stroke:#000000; stroke-width:2; stroke-opacity:0.1; fill:none\" points=\"\n",
       "  1740.93,1487.47 1740.93,47.2441 \n",
       "  \"/>\n",
       "<polyline clip-path=\"url(#clip7902)\" style=\"stroke:#000000; stroke-width:2; stroke-opacity:0.1; fill:none\" points=\"\n",
       "  2290.15,1487.47 2290.15,47.2441 \n",
       "  \"/>\n",
       "<polyline clip-path=\"url(#clip7902)\" style=\"stroke:#000000; stroke-width:2; stroke-opacity:0.1; fill:none\" points=\"\n",
       "  140.517,1266.41 2352.76,1266.41 \n",
       "  \"/>\n",
       "<polyline clip-path=\"url(#clip7902)\" style=\"stroke:#000000; stroke-width:2; stroke-opacity:0.1; fill:none\" points=\"\n",
       "  140.517,1041.03 2352.76,1041.03 \n",
       "  \"/>\n",
       "<polyline clip-path=\"url(#clip7902)\" style=\"stroke:#000000; stroke-width:2; stroke-opacity:0.1; fill:none\" points=\"\n",
       "  140.517,815.654 2352.76,815.654 \n",
       "  \"/>\n",
       "<polyline clip-path=\"url(#clip7902)\" style=\"stroke:#000000; stroke-width:2; stroke-opacity:0.1; fill:none\" points=\"\n",
       "  140.517,590.276 2352.76,590.276 \n",
       "  \"/>\n",
       "<polyline clip-path=\"url(#clip7902)\" style=\"stroke:#000000; stroke-width:2; stroke-opacity:0.1; fill:none\" points=\"\n",
       "  140.517,364.898 2352.76,364.898 \n",
       "  \"/>\n",
       "<polyline clip-path=\"url(#clip7902)\" style=\"stroke:#000000; stroke-width:2; stroke-opacity:0.1; fill:none\" points=\"\n",
       "  140.517,139.52 2352.76,139.52 \n",
       "  \"/>\n",
       "<polyline clip-path=\"url(#clip7900)\" style=\"stroke:#000000; stroke-width:4; stroke-opacity:1; fill:none\" points=\"\n",
       "  140.517,1487.47 2352.76,1487.47 \n",
       "  \"/>\n",
       "<polyline clip-path=\"url(#clip7900)\" style=\"stroke:#000000; stroke-width:4; stroke-opacity:1; fill:none\" points=\"\n",
       "  140.517,1487.47 140.517,47.2441 \n",
       "  \"/>\n",
       "<polyline clip-path=\"url(#clip7900)\" style=\"stroke:#000000; stroke-width:4; stroke-opacity:1; fill:none\" points=\"\n",
       "  642.5,1487.47 642.5,1470.19 \n",
       "  \"/>\n",
       "<polyline clip-path=\"url(#clip7900)\" style=\"stroke:#000000; stroke-width:4; stroke-opacity:1; fill:none\" points=\"\n",
       "  1191.71,1487.47 1191.71,1470.19 \n",
       "  \"/>\n",
       "<polyline clip-path=\"url(#clip7900)\" style=\"stroke:#000000; stroke-width:4; stroke-opacity:1; fill:none\" points=\"\n",
       "  1740.93,1487.47 1740.93,1470.19 \n",
       "  \"/>\n",
       "<polyline clip-path=\"url(#clip7900)\" style=\"stroke:#000000; stroke-width:4; stroke-opacity:1; fill:none\" points=\"\n",
       "  2290.15,1487.47 2290.15,1470.19 \n",
       "  \"/>\n",
       "<polyline clip-path=\"url(#clip7900)\" style=\"stroke:#000000; stroke-width:4; stroke-opacity:1; fill:none\" points=\"\n",
       "  140.517,1266.41 167.064,1266.41 \n",
       "  \"/>\n",
       "<polyline clip-path=\"url(#clip7900)\" style=\"stroke:#000000; stroke-width:4; stroke-opacity:1; fill:none\" points=\"\n",
       "  140.517,1041.03 167.064,1041.03 \n",
       "  \"/>\n",
       "<polyline clip-path=\"url(#clip7900)\" style=\"stroke:#000000; stroke-width:4; stroke-opacity:1; fill:none\" points=\"\n",
       "  140.517,815.654 167.064,815.654 \n",
       "  \"/>\n",
       "<polyline clip-path=\"url(#clip7900)\" style=\"stroke:#000000; stroke-width:4; stroke-opacity:1; fill:none\" points=\"\n",
       "  140.517,590.276 167.064,590.276 \n",
       "  \"/>\n",
       "<polyline clip-path=\"url(#clip7900)\" style=\"stroke:#000000; stroke-width:4; stroke-opacity:1; fill:none\" points=\"\n",
       "  140.517,364.898 167.064,364.898 \n",
       "  \"/>\n",
       "<polyline clip-path=\"url(#clip7900)\" style=\"stroke:#000000; stroke-width:4; stroke-opacity:1; fill:none\" points=\"\n",
       "  140.517,139.52 167.064,139.52 \n",
       "  \"/>\n",
       "<g clip-path=\"url(#clip7900)\">\n",
       "<text style=\"fill:#000000; fill-opacity:1; font-family:Arial,Helvetica Neue,Helvetica,sans-serif; font-size:48px; text-anchor:middle;\" transform=\"rotate(0, 642.5, 1541.47)\" x=\"642.5\" y=\"1541.47\">5</text>\n",
       "</g>\n",
       "<g clip-path=\"url(#clip7900)\">\n",
       "<text style=\"fill:#000000; fill-opacity:1; font-family:Arial,Helvetica Neue,Helvetica,sans-serif; font-size:48px; text-anchor:middle;\" transform=\"rotate(0, 1191.71, 1541.47)\" x=\"1191.71\" y=\"1541.47\">10</text>\n",
       "</g>\n",
       "<g clip-path=\"url(#clip7900)\">\n",
       "<text style=\"fill:#000000; fill-opacity:1; font-family:Arial,Helvetica Neue,Helvetica,sans-serif; font-size:48px; text-anchor:middle;\" transform=\"rotate(0, 1740.93, 1541.47)\" x=\"1740.93\" y=\"1541.47\">15</text>\n",
       "</g>\n",
       "<g clip-path=\"url(#clip7900)\">\n",
       "<text style=\"fill:#000000; fill-opacity:1; font-family:Arial,Helvetica Neue,Helvetica,sans-serif; font-size:48px; text-anchor:middle;\" transform=\"rotate(0, 2290.15, 1541.47)\" x=\"2290.15\" y=\"1541.47\">20</text>\n",
       "</g>\n",
       "<g clip-path=\"url(#clip7900)\">\n",
       "<text style=\"fill:#000000; fill-opacity:1; font-family:Arial,Helvetica Neue,Helvetica,sans-serif; font-size:48px; text-anchor:end;\" transform=\"rotate(0, 116.517, 1283.91)\" x=\"116.517\" y=\"1283.91\">5</text>\n",
       "</g>\n",
       "<g clip-path=\"url(#clip7900)\">\n",
       "<text style=\"fill:#000000; fill-opacity:1; font-family:Arial,Helvetica Neue,Helvetica,sans-serif; font-size:48px; text-anchor:end;\" transform=\"rotate(0, 116.517, 1058.53)\" x=\"116.517\" y=\"1058.53\">10</text>\n",
       "</g>\n",
       "<g clip-path=\"url(#clip7900)\">\n",
       "<text style=\"fill:#000000; fill-opacity:1; font-family:Arial,Helvetica Neue,Helvetica,sans-serif; font-size:48px; text-anchor:end;\" transform=\"rotate(0, 116.517, 833.154)\" x=\"116.517\" y=\"833.154\">15</text>\n",
       "</g>\n",
       "<g clip-path=\"url(#clip7900)\">\n",
       "<text style=\"fill:#000000; fill-opacity:1; font-family:Arial,Helvetica Neue,Helvetica,sans-serif; font-size:48px; text-anchor:end;\" transform=\"rotate(0, 116.517, 607.776)\" x=\"116.517\" y=\"607.776\">20</text>\n",
       "</g>\n",
       "<g clip-path=\"url(#clip7900)\">\n",
       "<text style=\"fill:#000000; fill-opacity:1; font-family:Arial,Helvetica Neue,Helvetica,sans-serif; font-size:48px; text-anchor:end;\" transform=\"rotate(0, 116.517, 382.398)\" x=\"116.517\" y=\"382.398\">25</text>\n",
       "</g>\n",
       "<g clip-path=\"url(#clip7900)\">\n",
       "<text style=\"fill:#000000; fill-opacity:1; font-family:Arial,Helvetica Neue,Helvetica,sans-serif; font-size:48px; text-anchor:end;\" transform=\"rotate(0, 116.517, 157.02)\" x=\"116.517\" y=\"157.02\">30</text>\n",
       "</g>\n",
       "<polyline clip-path=\"url(#clip7902)\" style=\"stroke:#009af9; stroke-width:4; stroke-opacity:1; fill:none\" points=\"\n",
       "  203.127,1446.71 312.97,1437.71 422.813,1426.9 532.657,1413.95 642.5,1398.4 752.343,1379.77 862.186,1357.42 972.029,1330.62 1081.87,1298.5 1191.71,1260.01 \n",
       "  1301.56,1213.9 1411.4,1158.66 1521.24,1092.53 1631.09,1013.38 1740.93,918.714 1850.77,805.557 1960.62,670.4 2070.46,509.115 2180.3,316.865 2290.15,88.0053 \n",
       "  \n",
       "  \"/>\n",
       "<path clip-path=\"url(#clip7902)\" d=\"M203.127 1462.71 L191.815 1458.03 L187.127 1446.71 L191.815 1435.4 L203.127 1430.71 L214.439 1435.4 L219.127 1446.71 L214.439 1458.03 Z\" fill=\"#009af9\" fill-rule=\"evenodd\" fill-opacity=\"1\" stroke=\"#000000\" stroke-opacity=\"1\" stroke-width=\"3.2\"/>\n",
       "<path clip-path=\"url(#clip7902)\" d=\"M312.97 1453.71 L301.658 1449.02 L296.97 1437.71 L301.658 1426.4 L312.97 1421.71 L324.282 1426.4 L328.97 1437.71 L324.282 1449.02 Z\" fill=\"#009af9\" fill-rule=\"evenodd\" fill-opacity=\"1\" stroke=\"#000000\" stroke-opacity=\"1\" stroke-width=\"3.2\"/>\n",
       "<path clip-path=\"url(#clip7902)\" d=\"M422.813 1442.9 L411.501 1438.22 L406.813 1426.9 L411.501 1415.59 L422.813 1410.9 L434.125 1415.59 L438.813 1426.9 L434.125 1438.22 Z\" fill=\"#009af9\" fill-rule=\"evenodd\" fill-opacity=\"1\" stroke=\"#000000\" stroke-opacity=\"1\" stroke-width=\"3.2\"/>\n",
       "<path clip-path=\"url(#clip7902)\" d=\"M532.657 1429.95 L521.345 1425.26 L516.657 1413.95 L521.345 1402.63 L532.657 1397.95 L543.969 1402.63 L548.657 1413.95 L543.969 1425.26 Z\" fill=\"#009af9\" fill-rule=\"evenodd\" fill-opacity=\"1\" stroke=\"#000000\" stroke-opacity=\"1\" stroke-width=\"3.2\"/>\n",
       "<path clip-path=\"url(#clip7902)\" d=\"M642.5 1414.4 L631.188 1409.72 L626.5 1398.4 L631.188 1387.09 L642.5 1382.4 L653.812 1387.09 L658.5 1398.4 L653.812 1409.72 Z\" fill=\"#009af9\" fill-rule=\"evenodd\" fill-opacity=\"1\" stroke=\"#000000\" stroke-opacity=\"1\" stroke-width=\"3.2\"/>\n",
       "<path clip-path=\"url(#clip7902)\" d=\"M752.343 1395.77 L741.031 1391.08 L736.343 1379.77 L741.031 1368.45 L752.343 1363.77 L763.655 1368.45 L768.343 1379.77 L763.655 1391.08 Z\" fill=\"#009af9\" fill-rule=\"evenodd\" fill-opacity=\"1\" stroke=\"#000000\" stroke-opacity=\"1\" stroke-width=\"3.2\"/>\n",
       "<path clip-path=\"url(#clip7902)\" d=\"M862.186 1373.42 L850.874 1368.73 L846.186 1357.42 L850.874 1346.1 L862.186 1341.42 L873.498 1346.1 L878.186 1357.42 L873.498 1368.73 Z\" fill=\"#009af9\" fill-rule=\"evenodd\" fill-opacity=\"1\" stroke=\"#000000\" stroke-opacity=\"1\" stroke-width=\"3.2\"/>\n",
       "<path clip-path=\"url(#clip7902)\" d=\"M972.029 1346.62 L960.717 1341.93 L956.029 1330.62 L960.717 1319.31 L972.029 1314.62 L983.341 1319.31 L988.029 1330.62 L983.341 1341.93 Z\" fill=\"#009af9\" fill-rule=\"evenodd\" fill-opacity=\"1\" stroke=\"#000000\" stroke-opacity=\"1\" stroke-width=\"3.2\"/>\n",
       "<path clip-path=\"url(#clip7902)\" d=\"M1081.87 1314.5 L1070.56 1309.82 L1065.87 1298.5 L1070.56 1287.19 L1081.87 1282.5 L1093.18 1287.19 L1097.87 1298.5 L1093.18 1309.82 Z\" fill=\"#009af9\" fill-rule=\"evenodd\" fill-opacity=\"1\" stroke=\"#000000\" stroke-opacity=\"1\" stroke-width=\"3.2\"/>\n",
       "<path clip-path=\"url(#clip7902)\" d=\"M1191.71 1276.01 L1180.4 1271.32 L1175.71 1260.01 L1180.4 1248.7 L1191.71 1244.01 L1203.03 1248.7 L1207.71 1260.01 L1203.03 1271.32 Z\" fill=\"#009af9\" fill-rule=\"evenodd\" fill-opacity=\"1\" stroke=\"#000000\" stroke-opacity=\"1\" stroke-width=\"3.2\"/>\n",
       "<path clip-path=\"url(#clip7902)\" d=\"M1301.56 1229.9 L1290.25 1225.21 L1285.56 1213.9 L1290.25 1202.58 L1301.56 1197.9 L1312.87 1202.58 L1317.56 1213.9 L1312.87 1225.21 Z\" fill=\"#009af9\" fill-rule=\"evenodd\" fill-opacity=\"1\" stroke=\"#000000\" stroke-opacity=\"1\" stroke-width=\"3.2\"/>\n",
       "<path clip-path=\"url(#clip7902)\" d=\"M1411.4 1174.66 L1400.09 1169.97 L1395.4 1158.66 L1400.09 1147.35 L1411.4 1142.66 L1422.71 1147.35 L1427.4 1158.66 L1422.71 1169.97 Z\" fill=\"#009af9\" fill-rule=\"evenodd\" fill-opacity=\"1\" stroke=\"#000000\" stroke-opacity=\"1\" stroke-width=\"3.2\"/>\n",
       "<path clip-path=\"url(#clip7902)\" d=\"M1521.24 1108.53 L1509.93 1103.84 L1505.24 1092.53 L1509.93 1081.21 L1521.24 1076.53 L1532.56 1081.21 L1537.24 1092.53 L1532.56 1103.84 Z\" fill=\"#009af9\" fill-rule=\"evenodd\" fill-opacity=\"1\" stroke=\"#000000\" stroke-opacity=\"1\" stroke-width=\"3.2\"/>\n",
       "<path clip-path=\"url(#clip7902)\" d=\"M1631.09 1029.38 L1619.78 1024.69 L1615.09 1013.38 L1619.78 1002.07 L1631.09 997.381 L1642.4 1002.07 L1647.09 1013.38 L1642.4 1024.69 Z\" fill=\"#009af9\" fill-rule=\"evenodd\" fill-opacity=\"1\" stroke=\"#000000\" stroke-opacity=\"1\" stroke-width=\"3.2\"/>\n",
       "<path clip-path=\"url(#clip7902)\" d=\"M1740.93 934.714 L1729.62 930.026 L1724.93 918.714 L1729.62 907.402 L1740.93 902.714 L1752.24 907.402 L1756.93 918.714 L1752.24 930.026 Z\" fill=\"#009af9\" fill-rule=\"evenodd\" fill-opacity=\"1\" stroke=\"#000000\" stroke-opacity=\"1\" stroke-width=\"3.2\"/>\n",
       "<path clip-path=\"url(#clip7902)\" d=\"M1850.77 821.557 L1839.46 816.869 L1834.77 805.557 L1839.46 794.245 L1850.77 789.557 L1862.09 794.245 L1866.77 805.557 L1862.09 816.869 Z\" fill=\"#009af9\" fill-rule=\"evenodd\" fill-opacity=\"1\" stroke=\"#000000\" stroke-opacity=\"1\" stroke-width=\"3.2\"/>\n",
       "<path clip-path=\"url(#clip7902)\" d=\"M1960.62 686.4 L1949.3 681.712 L1944.62 670.4 L1949.3 659.088 L1960.62 654.4 L1971.93 659.088 L1976.62 670.4 L1971.93 681.712 Z\" fill=\"#009af9\" fill-rule=\"evenodd\" fill-opacity=\"1\" stroke=\"#000000\" stroke-opacity=\"1\" stroke-width=\"3.2\"/>\n",
       "<path clip-path=\"url(#clip7902)\" d=\"M2070.46 525.115 L2059.15 520.427 L2054.46 509.115 L2059.15 497.803 L2070.46 493.115 L2081.77 497.803 L2086.46 509.115 L2081.77 520.427 Z\" fill=\"#009af9\" fill-rule=\"evenodd\" fill-opacity=\"1\" stroke=\"#000000\" stroke-opacity=\"1\" stroke-width=\"3.2\"/>\n",
       "<path clip-path=\"url(#clip7902)\" d=\"M2180.3 332.865 L2168.99 328.177 L2164.3 316.865 L2168.99 305.553 L2180.3 300.865 L2191.61 305.553 L2196.3 316.865 L2191.61 328.177 Z\" fill=\"#009af9\" fill-rule=\"evenodd\" fill-opacity=\"1\" stroke=\"#000000\" stroke-opacity=\"1\" stroke-width=\"3.2\"/>\n",
       "<path clip-path=\"url(#clip7902)\" d=\"M2290.15 104.005 L2278.83 99.3173 L2274.15 88.0053 L2278.83 76.6933 L2290.15 72.0053 L2301.46 76.6933 L2306.15 88.0053 L2301.46 99.3173 Z\" fill=\"#009af9\" fill-rule=\"evenodd\" fill-opacity=\"1\" stroke=\"#000000\" stroke-opacity=\"1\" stroke-width=\"3.2\"/>\n",
       "<path clip-path=\"url(#clip7900)\" d=\"\n",
       "M1989.93 251.724 L2280.76 251.724 L2280.76 130.764 L1989.93 130.764  Z\n",
       "  \" fill=\"#ffffff\" fill-rule=\"evenodd\" fill-opacity=\"1\"/>\n",
       "<polyline clip-path=\"url(#clip7900)\" style=\"stroke:#000000; stroke-width:4; stroke-opacity:1; fill:none\" points=\"\n",
       "  1989.93,251.724 2280.76,251.724 2280.76,130.764 1989.93,130.764 1989.93,251.724 \n",
       "  \"/>\n",
       "<polyline clip-path=\"url(#clip7900)\" style=\"stroke:#009af9; stroke-width:4; stroke-opacity:1; fill:none\" points=\"\n",
       "  2013.93,191.244 2157.93,191.244 \n",
       "  \"/>\n",
       "<path clip-path=\"url(#clip7900)\" d=\"M2097.93 215.244 L2080.96 208.212 L2073.93 191.244 L2080.96 174.276 L2097.93 167.244 L2114.89 174.276 L2121.93 191.244 L2114.89 208.212 Z\" fill=\"#009af9\" fill-rule=\"evenodd\" fill-opacity=\"1\" stroke=\"#000000\" stroke-opacity=\"1\" stroke-width=\"3.2\"/>\n",
       "<g clip-path=\"url(#clip7900)\">\n",
       "<text style=\"fill:#000000; fill-opacity:1; font-family:Arial,Helvetica Neue,Helvetica,sans-serif; font-size:48px; text-anchor:start;\" transform=\"rotate(0, 2181.93, 208.744)\" x=\"2181.93\" y=\"208.744\">y1</text>\n",
       "</g>\n",
       "</svg>\n"
      ]
     },
     "execution_count": 58,
     "metadata": {},
     "output_type": "execute_result"
    }
   ],
   "source": [
    "plot(I, m=:o)"
   ]
  },
  {
   "cell_type": "code",
   "execution_count": 59,
   "metadata": {},
   "outputs": [
    {
     "data": {
      "image/svg+xml": [
       "<?xml version=\"1.0\" encoding=\"utf-8\"?>\n",
       "<svg xmlns=\"http://www.w3.org/2000/svg\" xmlns:xlink=\"http://www.w3.org/1999/xlink\" width=\"600\" height=\"400\" viewBox=\"0 0 2400 1600\">\n",
       "<defs>\n",
       "  <clipPath id=\"clip8300\">\n",
       "    <rect x=\"0\" y=\"0\" width=\"2400\" height=\"1600\"/>\n",
       "  </clipPath>\n",
       "</defs>\n",
       "<path clip-path=\"url(#clip8300)\" d=\"\n",
       "M0 1600 L2400 1600 L2400 0 L0 0  Z\n",
       "  \" fill=\"#ffffff\" fill-rule=\"evenodd\" fill-opacity=\"1\"/>\n",
       "<defs>\n",
       "  <clipPath id=\"clip8301\">\n",
       "    <rect x=\"480\" y=\"0\" width=\"1681\" height=\"1600\"/>\n",
       "  </clipPath>\n",
       "</defs>\n",
       "<path clip-path=\"url(#clip8300)\" d=\"\n",
       "M229.997 1487.47 L2352.76 1487.47 L2352.76 47.2441 L229.997 47.2441  Z\n",
       "  \" fill=\"#ffffff\" fill-rule=\"evenodd\" fill-opacity=\"1\"/>\n",
       "<defs>\n",
       "  <clipPath id=\"clip8302\">\n",
       "    <rect x=\"229\" y=\"47\" width=\"2124\" height=\"1441\"/>\n",
       "  </clipPath>\n",
       "</defs>\n",
       "<polyline clip-path=\"url(#clip8302)\" style=\"stroke:#000000; stroke-width:2; stroke-opacity:0.1; fill:none\" points=\"\n",
       "  711.676,1487.47 711.676,47.2441 \n",
       "  \"/>\n",
       "<polyline clip-path=\"url(#clip8302)\" style=\"stroke:#000000; stroke-width:2; stroke-opacity:0.1; fill:none\" points=\"\n",
       "  1238.68,1487.47 1238.68,47.2441 \n",
       "  \"/>\n",
       "<polyline clip-path=\"url(#clip8302)\" style=\"stroke:#000000; stroke-width:2; stroke-opacity:0.1; fill:none\" points=\"\n",
       "  1765.68,1487.47 1765.68,47.2441 \n",
       "  \"/>\n",
       "<polyline clip-path=\"url(#clip8302)\" style=\"stroke:#000000; stroke-width:2; stroke-opacity:0.1; fill:none\" points=\"\n",
       "  2292.68,1487.47 2292.68,47.2441 \n",
       "  \"/>\n",
       "<polyline clip-path=\"url(#clip8302)\" style=\"stroke:#000000; stroke-width:2; stroke-opacity:0.1; fill:none\" points=\"\n",
       "  229.997,1446.71 2352.76,1446.71 \n",
       "  \"/>\n",
       "<polyline clip-path=\"url(#clip8302)\" style=\"stroke:#000000; stroke-width:2; stroke-opacity:0.1; fill:none\" points=\"\n",
       "  229.997,991.796 2352.76,991.796 \n",
       "  \"/>\n",
       "<polyline clip-path=\"url(#clip8302)\" style=\"stroke:#000000; stroke-width:2; stroke-opacity:0.1; fill:none\" points=\"\n",
       "  229.997,536.879 2352.76,536.879 \n",
       "  \"/>\n",
       "<polyline clip-path=\"url(#clip8302)\" style=\"stroke:#000000; stroke-width:2; stroke-opacity:0.1; fill:none\" points=\"\n",
       "  229.997,81.9625 2352.76,81.9625 \n",
       "  \"/>\n",
       "<polyline clip-path=\"url(#clip8300)\" style=\"stroke:#000000; stroke-width:4; stroke-opacity:1; fill:none\" points=\"\n",
       "  229.997,1487.47 2352.76,1487.47 \n",
       "  \"/>\n",
       "<polyline clip-path=\"url(#clip8300)\" style=\"stroke:#000000; stroke-width:4; stroke-opacity:1; fill:none\" points=\"\n",
       "  229.997,1487.47 229.997,47.2441 \n",
       "  \"/>\n",
       "<polyline clip-path=\"url(#clip8300)\" style=\"stroke:#000000; stroke-width:4; stroke-opacity:1; fill:none\" points=\"\n",
       "  711.676,1487.47 711.676,1470.19 \n",
       "  \"/>\n",
       "<polyline clip-path=\"url(#clip8300)\" style=\"stroke:#000000; stroke-width:4; stroke-opacity:1; fill:none\" points=\"\n",
       "  1238.68,1487.47 1238.68,1470.19 \n",
       "  \"/>\n",
       "<polyline clip-path=\"url(#clip8300)\" style=\"stroke:#000000; stroke-width:4; stroke-opacity:1; fill:none\" points=\"\n",
       "  1765.68,1487.47 1765.68,1470.19 \n",
       "  \"/>\n",
       "<polyline clip-path=\"url(#clip8300)\" style=\"stroke:#000000; stroke-width:4; stroke-opacity:1; fill:none\" points=\"\n",
       "  2292.68,1487.47 2292.68,1470.19 \n",
       "  \"/>\n",
       "<polyline clip-path=\"url(#clip8300)\" style=\"stroke:#000000; stroke-width:4; stroke-opacity:1; fill:none\" points=\"\n",
       "  229.997,1446.71 255.47,1446.71 \n",
       "  \"/>\n",
       "<polyline clip-path=\"url(#clip8300)\" style=\"stroke:#000000; stroke-width:4; stroke-opacity:1; fill:none\" points=\"\n",
       "  229.997,991.796 255.47,991.796 \n",
       "  \"/>\n",
       "<polyline clip-path=\"url(#clip8300)\" style=\"stroke:#000000; stroke-width:4; stroke-opacity:1; fill:none\" points=\"\n",
       "  229.997,536.879 255.47,536.879 \n",
       "  \"/>\n",
       "<polyline clip-path=\"url(#clip8300)\" style=\"stroke:#000000; stroke-width:4; stroke-opacity:1; fill:none\" points=\"\n",
       "  229.997,81.9625 255.47,81.9625 \n",
       "  \"/>\n",
       "<g clip-path=\"url(#clip8300)\">\n",
       "<text style=\"fill:#000000; fill-opacity:1; font-family:Arial,Helvetica Neue,Helvetica,sans-serif; font-size:48px; text-anchor:middle;\" transform=\"rotate(0, 711.676, 1541.47)\" x=\"711.676\" y=\"1541.47\">5</text>\n",
       "</g>\n",
       "<g clip-path=\"url(#clip8300)\">\n",
       "<text style=\"fill:#000000; fill-opacity:1; font-family:Arial,Helvetica Neue,Helvetica,sans-serif; font-size:48px; text-anchor:middle;\" transform=\"rotate(0, 1238.68, 1541.47)\" x=\"1238.68\" y=\"1541.47\">10</text>\n",
       "</g>\n",
       "<g clip-path=\"url(#clip8300)\">\n",
       "<text style=\"fill:#000000; fill-opacity:1; font-family:Arial,Helvetica Neue,Helvetica,sans-serif; font-size:48px; text-anchor:middle;\" transform=\"rotate(0, 1765.68, 1541.47)\" x=\"1765.68\" y=\"1541.47\">15</text>\n",
       "</g>\n",
       "<g clip-path=\"url(#clip8300)\">\n",
       "<text style=\"fill:#000000; fill-opacity:1; font-family:Arial,Helvetica Neue,Helvetica,sans-serif; font-size:48px; text-anchor:middle;\" transform=\"rotate(0, 2292.68, 1541.47)\" x=\"2292.68\" y=\"1541.47\">20</text>\n",
       "</g>\n",
       "<g clip-path=\"url(#clip8300)\">\n",
       "<text style=\"fill:#000000; fill-opacity:1; font-family:Arial,Helvetica Neue,Helvetica,sans-serif; font-size:48px; text-anchor:start;\" transform=\"rotate(0, 98.1117, 1470.44)\" x=\"98.1117\" y=\"1470.44\">10</text>\n",
       "</g>\n",
       "<g clip-path=\"url(#clip8300)\">\n",
       "<text style=\"fill:#000000; fill-opacity:1; font-family:Arial,Helvetica Neue,Helvetica,sans-serif; font-size:38px; text-anchor:start;\" transform=\"rotate(0, 151.636, 1443.03)\" x=\"151.636\" y=\"1443.03\">0.0</text>\n",
       "</g>\n",
       "<g clip-path=\"url(#clip8300)\">\n",
       "<text style=\"fill:#000000; fill-opacity:1; font-family:Arial,Helvetica Neue,Helvetica,sans-serif; font-size:48px; text-anchor:start;\" transform=\"rotate(0, 98.1117, 1015.52)\" x=\"98.1117\" y=\"1015.52\">10</text>\n",
       "</g>\n",
       "<g clip-path=\"url(#clip8300)\">\n",
       "<text style=\"fill:#000000; fill-opacity:1; font-family:Arial,Helvetica Neue,Helvetica,sans-serif; font-size:38px; text-anchor:start;\" transform=\"rotate(0, 151.636, 988.114)\" x=\"151.636\" y=\"988.114\">0.5</text>\n",
       "</g>\n",
       "<g clip-path=\"url(#clip8300)\">\n",
       "<text style=\"fill:#000000; fill-opacity:1; font-family:Arial,Helvetica Neue,Helvetica,sans-serif; font-size:48px; text-anchor:start;\" transform=\"rotate(0, 98.1117, 560.607)\" x=\"98.1117\" y=\"560.607\">10</text>\n",
       "</g>\n",
       "<g clip-path=\"url(#clip8300)\">\n",
       "<text style=\"fill:#000000; fill-opacity:1; font-family:Arial,Helvetica Neue,Helvetica,sans-serif; font-size:38px; text-anchor:start;\" transform=\"rotate(0, 151.636, 533.197)\" x=\"151.636\" y=\"533.197\">1.0</text>\n",
       "</g>\n",
       "<g clip-path=\"url(#clip8300)\">\n",
       "<text style=\"fill:#000000; fill-opacity:1; font-family:Arial,Helvetica Neue,Helvetica,sans-serif; font-size:48px; text-anchor:start;\" transform=\"rotate(0, 98.1117, 105.69)\" x=\"98.1117\" y=\"105.69\">10</text>\n",
       "</g>\n",
       "<g clip-path=\"url(#clip8300)\">\n",
       "<text style=\"fill:#000000; fill-opacity:1; font-family:Arial,Helvetica Neue,Helvetica,sans-serif; font-size:38px; text-anchor:start;\" transform=\"rotate(0, 151.636, 78.2797)\" x=\"151.636\" y=\"78.2797\">1.5</text>\n",
       "</g>\n",
       "<polyline clip-path=\"url(#clip8302)\" style=\"stroke:#009af9; stroke-width:4; stroke-opacity:1; fill:none\" points=\"\n",
       "  290.075,1446.71 395.476,1374.74 500.876,1302.77 606.276,1230.83 711.676,1158.9 817.076,1086.99 922.476,1015.12 1027.88,943.271 1133.28,871.465 1238.68,799.705 \n",
       "  1344.08,728.002 1449.48,656.367 1554.88,584.812 1660.28,513.354 1765.68,442.012 1871.08,370.808 1976.48,299.77 2081.88,228.93 2187.28,158.327 2292.68,88.0053 \n",
       "  \n",
       "  \"/>\n",
       "<path clip-path=\"url(#clip8302)\" d=\"M290.075 1462.71 L278.763 1458.03 L274.075 1446.71 L278.763 1435.4 L290.075 1430.71 L301.387 1435.4 L306.075 1446.71 L301.387 1458.03 Z\" fill=\"#009af9\" fill-rule=\"evenodd\" fill-opacity=\"1\" stroke=\"#000000\" stroke-opacity=\"1\" stroke-width=\"3.2\"/>\n",
       "<path clip-path=\"url(#clip8302)\" d=\"M395.476 1390.74 L384.164 1386.05 L379.476 1374.74 L384.164 1363.43 L395.476 1358.74 L406.788 1363.43 L411.476 1374.74 L406.788 1386.05 Z\" fill=\"#009af9\" fill-rule=\"evenodd\" fill-opacity=\"1\" stroke=\"#000000\" stroke-opacity=\"1\" stroke-width=\"3.2\"/>\n",
       "<path clip-path=\"url(#clip8302)\" d=\"M500.876 1318.77 L489.564 1314.09 L484.876 1302.77 L489.564 1291.46 L500.876 1286.77 L512.188 1291.46 L516.876 1302.77 L512.188 1314.09 Z\" fill=\"#009af9\" fill-rule=\"evenodd\" fill-opacity=\"1\" stroke=\"#000000\" stroke-opacity=\"1\" stroke-width=\"3.2\"/>\n",
       "<path clip-path=\"url(#clip8302)\" d=\"M606.276 1246.83 L594.964 1242.14 L590.276 1230.83 L594.964 1219.52 L606.276 1214.83 L617.588 1219.52 L622.276 1230.83 L617.588 1242.14 Z\" fill=\"#009af9\" fill-rule=\"evenodd\" fill-opacity=\"1\" stroke=\"#000000\" stroke-opacity=\"1\" stroke-width=\"3.2\"/>\n",
       "<path clip-path=\"url(#clip8302)\" d=\"M711.676 1174.9 L700.364 1170.21 L695.676 1158.9 L700.364 1147.59 L711.676 1142.9 L722.988 1147.59 L727.676 1158.9 L722.988 1170.21 Z\" fill=\"#009af9\" fill-rule=\"evenodd\" fill-opacity=\"1\" stroke=\"#000000\" stroke-opacity=\"1\" stroke-width=\"3.2\"/>\n",
       "<path clip-path=\"url(#clip8302)\" d=\"M817.076 1102.99 L805.764 1098.31 L801.076 1086.99 L805.764 1075.68 L817.076 1070.99 L828.388 1075.68 L833.076 1086.99 L828.388 1098.31 Z\" fill=\"#009af9\" fill-rule=\"evenodd\" fill-opacity=\"1\" stroke=\"#000000\" stroke-opacity=\"1\" stroke-width=\"3.2\"/>\n",
       "<path clip-path=\"url(#clip8302)\" d=\"M922.476 1031.12 L911.164 1026.43 L906.476 1015.12 L911.164 1003.8 L922.476 999.116 L933.788 1003.8 L938.476 1015.12 L933.788 1026.43 Z\" fill=\"#009af9\" fill-rule=\"evenodd\" fill-opacity=\"1\" stroke=\"#000000\" stroke-opacity=\"1\" stroke-width=\"3.2\"/>\n",
       "<path clip-path=\"url(#clip8302)\" d=\"M1027.88 959.271 L1016.56 954.583 L1011.88 943.271 L1016.56 931.959 L1027.88 927.271 L1039.19 931.959 L1043.88 943.271 L1039.19 954.583 Z\" fill=\"#009af9\" fill-rule=\"evenodd\" fill-opacity=\"1\" stroke=\"#000000\" stroke-opacity=\"1\" stroke-width=\"3.2\"/>\n",
       "<path clip-path=\"url(#clip8302)\" d=\"M1133.28 887.465 L1121.96 882.777 L1117.28 871.465 L1121.96 860.153 L1133.28 855.465 L1144.59 860.153 L1149.28 871.465 L1144.59 882.777 Z\" fill=\"#009af9\" fill-rule=\"evenodd\" fill-opacity=\"1\" stroke=\"#000000\" stroke-opacity=\"1\" stroke-width=\"3.2\"/>\n",
       "<path clip-path=\"url(#clip8302)\" d=\"M1238.68 815.705 L1227.36 811.017 L1222.68 799.705 L1227.36 788.393 L1238.68 783.705 L1249.99 788.393 L1254.68 799.705 L1249.99 811.017 Z\" fill=\"#009af9\" fill-rule=\"evenodd\" fill-opacity=\"1\" stroke=\"#000000\" stroke-opacity=\"1\" stroke-width=\"3.2\"/>\n",
       "<path clip-path=\"url(#clip8302)\" d=\"M1344.08 744.002 L1332.76 739.314 L1328.08 728.002 L1332.76 716.69 L1344.08 712.002 L1355.39 716.69 L1360.08 728.002 L1355.39 739.314 Z\" fill=\"#009af9\" fill-rule=\"evenodd\" fill-opacity=\"1\" stroke=\"#000000\" stroke-opacity=\"1\" stroke-width=\"3.2\"/>\n",
       "<path clip-path=\"url(#clip8302)\" d=\"M1449.48 672.367 L1438.16 667.679 L1433.48 656.367 L1438.16 645.055 L1449.48 640.367 L1460.79 645.055 L1465.48 656.367 L1460.79 667.679 Z\" fill=\"#009af9\" fill-rule=\"evenodd\" fill-opacity=\"1\" stroke=\"#000000\" stroke-opacity=\"1\" stroke-width=\"3.2\"/>\n",
       "<path clip-path=\"url(#clip8302)\" d=\"M1554.88 600.812 L1543.56 596.124 L1538.88 584.812 L1543.56 573.5 L1554.88 568.812 L1566.19 573.5 L1570.88 584.812 L1566.19 596.124 Z\" fill=\"#009af9\" fill-rule=\"evenodd\" fill-opacity=\"1\" stroke=\"#000000\" stroke-opacity=\"1\" stroke-width=\"3.2\"/>\n",
       "<path clip-path=\"url(#clip8302)\" d=\"M1660.28 529.354 L1648.97 524.666 L1644.28 513.354 L1648.97 502.042 L1660.28 497.354 L1671.59 502.042 L1676.28 513.354 L1671.59 524.666 Z\" fill=\"#009af9\" fill-rule=\"evenodd\" fill-opacity=\"1\" stroke=\"#000000\" stroke-opacity=\"1\" stroke-width=\"3.2\"/>\n",
       "<path clip-path=\"url(#clip8302)\" d=\"M1765.68 458.012 L1754.37 453.324 L1749.68 442.012 L1754.37 430.7 L1765.68 426.012 L1776.99 430.7 L1781.68 442.012 L1776.99 453.324 Z\" fill=\"#009af9\" fill-rule=\"evenodd\" fill-opacity=\"1\" stroke=\"#000000\" stroke-opacity=\"1\" stroke-width=\"3.2\"/>\n",
       "<path clip-path=\"url(#clip8302)\" d=\"M1871.08 386.808 L1859.77 382.12 L1855.08 370.808 L1859.77 359.496 L1871.08 354.808 L1882.39 359.496 L1887.08 370.808 L1882.39 382.12 Z\" fill=\"#009af9\" fill-rule=\"evenodd\" fill-opacity=\"1\" stroke=\"#000000\" stroke-opacity=\"1\" stroke-width=\"3.2\"/>\n",
       "<path clip-path=\"url(#clip8302)\" d=\"M1976.48 315.77 L1965.17 311.082 L1960.48 299.77 L1965.17 288.458 L1976.48 283.77 L1987.79 288.458 L1992.48 299.77 L1987.79 311.082 Z\" fill=\"#009af9\" fill-rule=\"evenodd\" fill-opacity=\"1\" stroke=\"#000000\" stroke-opacity=\"1\" stroke-width=\"3.2\"/>\n",
       "<path clip-path=\"url(#clip8302)\" d=\"M2081.88 244.93 L2070.57 240.242 L2065.88 228.93 L2070.57 217.618 L2081.88 212.93 L2093.19 217.618 L2097.88 228.93 L2093.19 240.242 Z\" fill=\"#009af9\" fill-rule=\"evenodd\" fill-opacity=\"1\" stroke=\"#000000\" stroke-opacity=\"1\" stroke-width=\"3.2\"/>\n",
       "<path clip-path=\"url(#clip8302)\" d=\"M2187.28 174.327 L2175.97 169.639 L2171.28 158.327 L2175.97 147.015 L2187.28 142.327 L2198.59 147.015 L2203.28 158.327 L2198.59 169.639 Z\" fill=\"#009af9\" fill-rule=\"evenodd\" fill-opacity=\"1\" stroke=\"#000000\" stroke-opacity=\"1\" stroke-width=\"3.2\"/>\n",
       "<path clip-path=\"url(#clip8302)\" d=\"M2292.68 104.005 L2281.37 99.3173 L2276.68 88.0053 L2281.37 76.6933 L2292.68 72.0053 L2303.99 76.6933 L2308.68 88.0053 L2303.99 99.3173 Z\" fill=\"#009af9\" fill-rule=\"evenodd\" fill-opacity=\"1\" stroke=\"#000000\" stroke-opacity=\"1\" stroke-width=\"3.2\"/>\n",
       "<path clip-path=\"url(#clip8300)\" d=\"\n",
       "M1989.93 251.724 L2280.76 251.724 L2280.76 130.764 L1989.93 130.764  Z\n",
       "  \" fill=\"#ffffff\" fill-rule=\"evenodd\" fill-opacity=\"1\"/>\n",
       "<polyline clip-path=\"url(#clip8300)\" style=\"stroke:#000000; stroke-width:4; stroke-opacity:1; fill:none\" points=\"\n",
       "  1989.93,251.724 2280.76,251.724 2280.76,130.764 1989.93,130.764 1989.93,251.724 \n",
       "  \"/>\n",
       "<polyline clip-path=\"url(#clip8300)\" style=\"stroke:#009af9; stroke-width:4; stroke-opacity:1; fill:none\" points=\"\n",
       "  2013.93,191.244 2157.93,191.244 \n",
       "  \"/>\n",
       "<path clip-path=\"url(#clip8300)\" d=\"M2097.93 215.244 L2080.96 208.212 L2073.93 191.244 L2080.96 174.276 L2097.93 167.244 L2114.89 174.276 L2121.93 191.244 L2114.89 208.212 Z\" fill=\"#009af9\" fill-rule=\"evenodd\" fill-opacity=\"1\" stroke=\"#000000\" stroke-opacity=\"1\" stroke-width=\"3.2\"/>\n",
       "<g clip-path=\"url(#clip8300)\">\n",
       "<text style=\"fill:#000000; fill-opacity:1; font-family:Arial,Helvetica Neue,Helvetica,sans-serif; font-size:48px; text-anchor:start;\" transform=\"rotate(0, 2181.93, 208.744)\" x=\"2181.93\" y=\"208.744\">y1</text>\n",
       "</g>\n",
       "</svg>\n"
      ]
     },
     "execution_count": 59,
     "metadata": {},
     "output_type": "execute_result"
    }
   ],
   "source": [
    "plot(I, m=:o, yscale=:log10)"
   ]
  },
  {
   "cell_type": "code",
   "execution_count": 61,
   "metadata": {},
   "outputs": [
    {
     "data": {
      "image/svg+xml": [
       "<?xml version=\"1.0\" encoding=\"utf-8\"?>\n",
       "<svg xmlns=\"http://www.w3.org/2000/svg\" xmlns:xlink=\"http://www.w3.org/1999/xlink\" width=\"600\" height=\"400\" viewBox=\"0 0 2400 1600\">\n",
       "<defs>\n",
       "  <clipPath id=\"clip8700\">\n",
       "    <rect x=\"0\" y=\"0\" width=\"2400\" height=\"1600\"/>\n",
       "  </clipPath>\n",
       "</defs>\n",
       "<path clip-path=\"url(#clip8700)\" d=\"\n",
       "M0 1600 L2400 1600 L2400 0 L0 0  Z\n",
       "  \" fill=\"#ffffff\" fill-rule=\"evenodd\" fill-opacity=\"1\"/>\n",
       "<defs>\n",
       "  <clipPath id=\"clip8701\">\n",
       "    <rect x=\"480\" y=\"0\" width=\"1681\" height=\"1600\"/>\n",
       "  </clipPath>\n",
       "</defs>\n",
       "<path clip-path=\"url(#clip8700)\" d=\"\n",
       "M189.854 1487.47 L2352.76 1487.47 L2352.76 47.2441 L189.854 47.2441  Z\n",
       "  \" fill=\"#ffffff\" fill-rule=\"evenodd\" fill-opacity=\"1\"/>\n",
       "<defs>\n",
       "  <clipPath id=\"clip8702\">\n",
       "    <rect x=\"189\" y=\"47\" width=\"2164\" height=\"1441\"/>\n",
       "  </clipPath>\n",
       "</defs>\n",
       "<polyline clip-path=\"url(#clip8702)\" style=\"stroke:#000000; stroke-width:2; stroke-opacity:0.1; fill:none\" points=\"\n",
       "  230.457,1487.47 230.457,47.2441 \n",
       "  \"/>\n",
       "<polyline clip-path=\"url(#clip8702)\" style=\"stroke:#000000; stroke-width:2; stroke-opacity:0.1; fill:none\" points=\"\n",
       "  745.728,1487.47 745.728,47.2441 \n",
       "  \"/>\n",
       "<polyline clip-path=\"url(#clip8702)\" style=\"stroke:#000000; stroke-width:2; stroke-opacity:0.1; fill:none\" points=\"\n",
       "  1261,1487.47 1261,47.2441 \n",
       "  \"/>\n",
       "<polyline clip-path=\"url(#clip8702)\" style=\"stroke:#000000; stroke-width:2; stroke-opacity:0.1; fill:none\" points=\"\n",
       "  1776.27,1487.47 1776.27,47.2441 \n",
       "  \"/>\n",
       "<polyline clip-path=\"url(#clip8702)\" style=\"stroke:#000000; stroke-width:2; stroke-opacity:0.1; fill:none\" points=\"\n",
       "  2291.54,1487.47 2291.54,47.2441 \n",
       "  \"/>\n",
       "<polyline clip-path=\"url(#clip8702)\" style=\"stroke:#000000; stroke-width:2; stroke-opacity:0.1; fill:none\" points=\"\n",
       "  189.854,1446.71 2352.76,1446.71 \n",
       "  \"/>\n",
       "<polyline clip-path=\"url(#clip8702)\" style=\"stroke:#000000; stroke-width:2; stroke-opacity:0.1; fill:none\" points=\"\n",
       "  189.854,993.811 2352.76,993.811 \n",
       "  \"/>\n",
       "<polyline clip-path=\"url(#clip8702)\" style=\"stroke:#000000; stroke-width:2; stroke-opacity:0.1; fill:none\" points=\"\n",
       "  189.854,540.908 2352.76,540.908 \n",
       "  \"/>\n",
       "<polyline clip-path=\"url(#clip8702)\" style=\"stroke:#000000; stroke-width:2; stroke-opacity:0.1; fill:none\" points=\"\n",
       "  189.854,88.0051 2352.76,88.0051 \n",
       "  \"/>\n",
       "<polyline clip-path=\"url(#clip8700)\" style=\"stroke:#000000; stroke-width:4; stroke-opacity:1; fill:none\" points=\"\n",
       "  189.854,1487.47 2352.76,1487.47 \n",
       "  \"/>\n",
       "<polyline clip-path=\"url(#clip8700)\" style=\"stroke:#000000; stroke-width:4; stroke-opacity:1; fill:none\" points=\"\n",
       "  189.854,1487.47 189.854,47.2441 \n",
       "  \"/>\n",
       "<polyline clip-path=\"url(#clip8700)\" style=\"stroke:#000000; stroke-width:4; stroke-opacity:1; fill:none\" points=\"\n",
       "  230.457,1487.47 230.457,1470.19 \n",
       "  \"/>\n",
       "<polyline clip-path=\"url(#clip8700)\" style=\"stroke:#000000; stroke-width:4; stroke-opacity:1; fill:none\" points=\"\n",
       "  745.728,1487.47 745.728,1470.19 \n",
       "  \"/>\n",
       "<polyline clip-path=\"url(#clip8700)\" style=\"stroke:#000000; stroke-width:4; stroke-opacity:1; fill:none\" points=\"\n",
       "  1261,1487.47 1261,1470.19 \n",
       "  \"/>\n",
       "<polyline clip-path=\"url(#clip8700)\" style=\"stroke:#000000; stroke-width:4; stroke-opacity:1; fill:none\" points=\"\n",
       "  1776.27,1487.47 1776.27,1470.19 \n",
       "  \"/>\n",
       "<polyline clip-path=\"url(#clip8700)\" style=\"stroke:#000000; stroke-width:4; stroke-opacity:1; fill:none\" points=\"\n",
       "  2291.54,1487.47 2291.54,1470.19 \n",
       "  \"/>\n",
       "<polyline clip-path=\"url(#clip8700)\" style=\"stroke:#000000; stroke-width:4; stroke-opacity:1; fill:none\" points=\"\n",
       "  189.854,1446.71 215.809,1446.71 \n",
       "  \"/>\n",
       "<polyline clip-path=\"url(#clip8700)\" style=\"stroke:#000000; stroke-width:4; stroke-opacity:1; fill:none\" points=\"\n",
       "  189.854,993.811 215.809,993.811 \n",
       "  \"/>\n",
       "<polyline clip-path=\"url(#clip8700)\" style=\"stroke:#000000; stroke-width:4; stroke-opacity:1; fill:none\" points=\"\n",
       "  189.854,540.908 215.809,540.908 \n",
       "  \"/>\n",
       "<polyline clip-path=\"url(#clip8700)\" style=\"stroke:#000000; stroke-width:4; stroke-opacity:1; fill:none\" points=\"\n",
       "  189.854,88.0051 215.809,88.0051 \n",
       "  \"/>\n",
       "<g clip-path=\"url(#clip8700)\">\n",
       "<text style=\"fill:#000000; fill-opacity:1; font-family:Arial,Helvetica Neue,Helvetica,sans-serif; font-size:48px; text-anchor:middle;\" transform=\"rotate(0, 230.457, 1541.47)\" x=\"230.457\" y=\"1541.47\">0</text>\n",
       "</g>\n",
       "<g clip-path=\"url(#clip8700)\">\n",
       "<text style=\"fill:#000000; fill-opacity:1; font-family:Arial,Helvetica Neue,Helvetica,sans-serif; font-size:48px; text-anchor:middle;\" transform=\"rotate(0, 745.728, 1541.47)\" x=\"745.728\" y=\"1541.47\">25</text>\n",
       "</g>\n",
       "<g clip-path=\"url(#clip8700)\">\n",
       "<text style=\"fill:#000000; fill-opacity:1; font-family:Arial,Helvetica Neue,Helvetica,sans-serif; font-size:48px; text-anchor:middle;\" transform=\"rotate(0, 1261, 1541.47)\" x=\"1261\" y=\"1541.47\">50</text>\n",
       "</g>\n",
       "<g clip-path=\"url(#clip8700)\">\n",
       "<text style=\"fill:#000000; fill-opacity:1; font-family:Arial,Helvetica Neue,Helvetica,sans-serif; font-size:48px; text-anchor:middle;\" transform=\"rotate(0, 1776.27, 1541.47)\" x=\"1776.27\" y=\"1541.47\">75</text>\n",
       "</g>\n",
       "<g clip-path=\"url(#clip8700)\">\n",
       "<text style=\"fill:#000000; fill-opacity:1; font-family:Arial,Helvetica Neue,Helvetica,sans-serif; font-size:48px; text-anchor:middle;\" transform=\"rotate(0, 2291.54, 1541.47)\" x=\"2291.54\" y=\"1541.47\">100</text>\n",
       "</g>\n",
       "<g clip-path=\"url(#clip8700)\">\n",
       "<text style=\"fill:#000000; fill-opacity:1; font-family:Arial,Helvetica Neue,Helvetica,sans-serif; font-size:48px; text-anchor:start;\" transform=\"rotate(0, 90.5848, 1470.44)\" x=\"90.5848\" y=\"1470.44\">10</text>\n",
       "</g>\n",
       "<g clip-path=\"url(#clip8700)\">\n",
       "<text style=\"fill:#000000; fill-opacity:1; font-family:Arial,Helvetica Neue,Helvetica,sans-serif; font-size:38px; text-anchor:start;\" transform=\"rotate(0, 144.109, 1443.03)\" x=\"144.109\" y=\"1443.03\">0</text>\n",
       "</g>\n",
       "<g clip-path=\"url(#clip8700)\">\n",
       "<text style=\"fill:#000000; fill-opacity:1; font-family:Arial,Helvetica Neue,Helvetica,sans-serif; font-size:48px; text-anchor:start;\" transform=\"rotate(0, 90.5848, 1017.54)\" x=\"90.5848\" y=\"1017.54\">10</text>\n",
       "</g>\n",
       "<g clip-path=\"url(#clip8700)\">\n",
       "<text style=\"fill:#000000; fill-opacity:1; font-family:Arial,Helvetica Neue,Helvetica,sans-serif; font-size:38px; text-anchor:start;\" transform=\"rotate(0, 144.109, 990.128)\" x=\"144.109\" y=\"990.128\">1</text>\n",
       "</g>\n",
       "<g clip-path=\"url(#clip8700)\">\n",
       "<text style=\"fill:#000000; fill-opacity:1; font-family:Arial,Helvetica Neue,Helvetica,sans-serif; font-size:48px; text-anchor:start;\" transform=\"rotate(0, 90.5848, 564.635)\" x=\"90.5848\" y=\"564.635\">10</text>\n",
       "</g>\n",
       "<g clip-path=\"url(#clip8700)\">\n",
       "<text style=\"fill:#000000; fill-opacity:1; font-family:Arial,Helvetica Neue,Helvetica,sans-serif; font-size:38px; text-anchor:start;\" transform=\"rotate(0, 144.109, 537.225)\" x=\"144.109\" y=\"537.225\">2</text>\n",
       "</g>\n",
       "<g clip-path=\"url(#clip8700)\">\n",
       "<text style=\"fill:#000000; fill-opacity:1; font-family:Arial,Helvetica Neue,Helvetica,sans-serif; font-size:48px; text-anchor:start;\" transform=\"rotate(0, 90.5848, 111.733)\" x=\"90.5848\" y=\"111.733\">10</text>\n",
       "</g>\n",
       "<g clip-path=\"url(#clip8700)\">\n",
       "<text style=\"fill:#000000; fill-opacity:1; font-family:Arial,Helvetica Neue,Helvetica,sans-serif; font-size:38px; text-anchor:start;\" transform=\"rotate(0, 144.109, 84.3223)\" x=\"144.109\" y=\"84.3223\">3</text>\n",
       "</g>\n",
       "<polyline clip-path=\"url(#clip8702)\" style=\"stroke:#009af9; stroke-width:4; stroke-opacity:1; fill:none\" points=\"\n",
       "  251.068,1446.71 271.679,1410.88 292.29,1375.06 312.901,1339.25 333.511,1303.44 354.122,1267.65 374.733,1231.87 395.344,1196.11 415.955,1160.36 436.566,1124.64 \n",
       "  457.177,1088.95 477.787,1053.29 498.398,1017.67 519.009,982.1 539.62,946.587 560.231,911.143 580.842,875.781 601.452,840.518 622.063,805.372 642.674,770.367 \n",
       "  663.285,735.53 683.896,700.891 704.507,666.488 725.117,632.366 745.728,598.574 766.339,565.173 786.95,532.231 807.561,499.826 828.172,468.046 848.783,436.991 \n",
       "  869.393,406.77 890.004,377.502 910.615,349.312 931.226,322.331 951.837,296.69 972.448,272.516 993.058,249.923 1013.67,229.007 1034.28,209.842 1054.89,192.468 \n",
       "  1075.5,176.892 1096.11,163.085 1116.72,150.983 1137.33,140.489 1157.95,131.486 1178.56,123.834 1199.17,117.39 1219.78,112.005 1240.39,107.538 1261,103.854 \n",
       "  1281.61,100.832 1302.22,98.3637 1322.83,96.3559 1343.44,94.7274 1364.05,93.4101 1384.66,92.3467 1405.28,91.4898 1425.89,90.8002 1446.5,90.2459 1467.11,89.8008 \n",
       "  1487.72,89.4436 1508.33,89.1572 1528.94,88.9276 1549.55,88.7436 1570.16,88.5962 1590.77,88.4782 1611.38,88.3837 1631.99,88.3081 1652.61,88.2475 1673.22,88.1991 \n",
       "  1693.83,88.1603 1714.44,88.1293 1735.05,88.1045 1755.66,88.0846 1776.27,88.0687 1796.88,88.056 1817.49,88.0458 1838.1,88.0377 1858.71,88.0312 1879.32,88.0259 \n",
       "  1899.94,88.0218 1920.55,88.0184 1941.16,88.0158 1961.77,88.0136 1982.38,88.0119 2002.99,88.0106 2023.6,88.0095 2044.21,88.0086 2064.82,88.0079 2085.43,88.0073 \n",
       "  2106.04,88.0069 2126.65,88.0065 2147.27,88.0062 2167.88,88.006 2188.49,88.0058 2209.1,88.0057 2229.71,88.0056 2250.32,88.0055 2270.93,88.0054 2291.54,88.0053 \n",
       "  \n",
       "  \"/>\n",
       "<path clip-path=\"url(#clip8702)\" d=\"M251.068 1462.71 L239.756 1458.03 L235.068 1446.71 L239.756 1435.4 L251.068 1430.71 L262.38 1435.4 L267.068 1446.71 L262.38 1458.03 Z\" fill=\"#009af9\" fill-rule=\"evenodd\" fill-opacity=\"1\" stroke=\"#000000\" stroke-opacity=\"1\" stroke-width=\"3.2\"/>\n",
       "<path clip-path=\"url(#clip8702)\" d=\"M271.679 1426.88 L260.367 1422.2 L255.679 1410.88 L260.367 1399.57 L271.679 1394.88 L282.991 1399.57 L287.679 1410.88 L282.991 1422.2 Z\" fill=\"#009af9\" fill-rule=\"evenodd\" fill-opacity=\"1\" stroke=\"#000000\" stroke-opacity=\"1\" stroke-width=\"3.2\"/>\n",
       "<path clip-path=\"url(#clip8702)\" d=\"M292.29 1391.06 L280.978 1386.37 L276.29 1375.06 L280.978 1363.75 L292.29 1359.06 L303.602 1363.75 L308.29 1375.06 L303.602 1386.37 Z\" fill=\"#009af9\" fill-rule=\"evenodd\" fill-opacity=\"1\" stroke=\"#000000\" stroke-opacity=\"1\" stroke-width=\"3.2\"/>\n",
       "<path clip-path=\"url(#clip8702)\" d=\"M312.901 1355.25 L301.589 1350.56 L296.901 1339.25 L301.589 1327.94 L312.901 1323.25 L324.213 1327.94 L328.901 1339.25 L324.213 1350.56 Z\" fill=\"#009af9\" fill-rule=\"evenodd\" fill-opacity=\"1\" stroke=\"#000000\" stroke-opacity=\"1\" stroke-width=\"3.2\"/>\n",
       "<path clip-path=\"url(#clip8702)\" d=\"M333.511 1319.44 L322.199 1314.76 L317.511 1303.44 L322.199 1292.13 L333.511 1287.44 L344.823 1292.13 L349.511 1303.44 L344.823 1314.76 Z\" fill=\"#009af9\" fill-rule=\"evenodd\" fill-opacity=\"1\" stroke=\"#000000\" stroke-opacity=\"1\" stroke-width=\"3.2\"/>\n",
       "<path clip-path=\"url(#clip8702)\" d=\"M354.122 1283.65 L342.81 1278.96 L338.122 1267.65 L342.81 1256.34 L354.122 1251.65 L365.434 1256.34 L370.122 1267.65 L365.434 1278.96 Z\" fill=\"#009af9\" fill-rule=\"evenodd\" fill-opacity=\"1\" stroke=\"#000000\" stroke-opacity=\"1\" stroke-width=\"3.2\"/>\n",
       "<path clip-path=\"url(#clip8702)\" d=\"M374.733 1247.87 L363.421 1243.18 L358.733 1231.87 L363.421 1220.56 L374.733 1215.87 L386.045 1220.56 L390.733 1231.87 L386.045 1243.18 Z\" fill=\"#009af9\" fill-rule=\"evenodd\" fill-opacity=\"1\" stroke=\"#000000\" stroke-opacity=\"1\" stroke-width=\"3.2\"/>\n",
       "<path clip-path=\"url(#clip8702)\" d=\"M395.344 1212.11 L384.032 1207.42 L379.344 1196.11 L384.032 1184.79 L395.344 1180.11 L406.656 1184.79 L411.344 1196.11 L406.656 1207.42 Z\" fill=\"#009af9\" fill-rule=\"evenodd\" fill-opacity=\"1\" stroke=\"#000000\" stroke-opacity=\"1\" stroke-width=\"3.2\"/>\n",
       "<path clip-path=\"url(#clip8702)\" d=\"M415.955 1176.36 L404.643 1171.67 L399.955 1160.36 L404.643 1149.05 L415.955 1144.36 L427.267 1149.05 L431.955 1160.36 L427.267 1171.67 Z\" fill=\"#009af9\" fill-rule=\"evenodd\" fill-opacity=\"1\" stroke=\"#000000\" stroke-opacity=\"1\" stroke-width=\"3.2\"/>\n",
       "<path clip-path=\"url(#clip8702)\" d=\"M436.566 1140.64 L425.254 1135.95 L420.566 1124.64 L425.254 1113.33 L436.566 1108.64 L447.878 1113.33 L452.566 1124.64 L447.878 1135.95 Z\" fill=\"#009af9\" fill-rule=\"evenodd\" fill-opacity=\"1\" stroke=\"#000000\" stroke-opacity=\"1\" stroke-width=\"3.2\"/>\n",
       "<path clip-path=\"url(#clip8702)\" d=\"M457.177 1104.95 L445.865 1100.26 L441.177 1088.95 L445.865 1077.64 L457.177 1072.95 L468.489 1077.64 L473.177 1088.95 L468.489 1100.26 Z\" fill=\"#009af9\" fill-rule=\"evenodd\" fill-opacity=\"1\" stroke=\"#000000\" stroke-opacity=\"1\" stroke-width=\"3.2\"/>\n",
       "<path clip-path=\"url(#clip8702)\" d=\"M477.787 1069.29 L466.475 1064.6 L461.787 1053.29 L466.475 1041.98 L477.787 1037.29 L489.099 1041.98 L493.787 1053.29 L489.099 1064.6 Z\" fill=\"#009af9\" fill-rule=\"evenodd\" fill-opacity=\"1\" stroke=\"#000000\" stroke-opacity=\"1\" stroke-width=\"3.2\"/>\n",
       "<path clip-path=\"url(#clip8702)\" d=\"M498.398 1033.67 L487.086 1028.98 L482.398 1017.67 L487.086 1006.36 L498.398 1001.67 L509.71 1006.36 L514.398 1017.67 L509.71 1028.98 Z\" fill=\"#009af9\" fill-rule=\"evenodd\" fill-opacity=\"1\" stroke=\"#000000\" stroke-opacity=\"1\" stroke-width=\"3.2\"/>\n",
       "<path clip-path=\"url(#clip8702)\" d=\"M519.009 998.1 L507.697 993.412 L503.009 982.1 L507.697 970.788 L519.009 966.1 L530.321 970.788 L535.009 982.1 L530.321 993.412 Z\" fill=\"#009af9\" fill-rule=\"evenodd\" fill-opacity=\"1\" stroke=\"#000000\" stroke-opacity=\"1\" stroke-width=\"3.2\"/>\n",
       "<path clip-path=\"url(#clip8702)\" d=\"M539.62 962.587 L528.308 957.899 L523.62 946.587 L528.308 935.275 L539.62 930.587 L550.932 935.275 L555.62 946.587 L550.932 957.899 Z\" fill=\"#009af9\" fill-rule=\"evenodd\" fill-opacity=\"1\" stroke=\"#000000\" stroke-opacity=\"1\" stroke-width=\"3.2\"/>\n",
       "<path clip-path=\"url(#clip8702)\" d=\"M560.231 927.143 L548.919 922.455 L544.231 911.143 L548.919 899.831 L560.231 895.143 L571.543 899.831 L576.231 911.143 L571.543 922.455 Z\" fill=\"#009af9\" fill-rule=\"evenodd\" fill-opacity=\"1\" stroke=\"#000000\" stroke-opacity=\"1\" stroke-width=\"3.2\"/>\n",
       "<path clip-path=\"url(#clip8702)\" d=\"M580.842 891.781 L569.53 887.093 L564.842 875.781 L569.53 864.469 L580.842 859.781 L592.154 864.469 L596.842 875.781 L592.154 887.093 Z\" fill=\"#009af9\" fill-rule=\"evenodd\" fill-opacity=\"1\" stroke=\"#000000\" stroke-opacity=\"1\" stroke-width=\"3.2\"/>\n",
       "<path clip-path=\"url(#clip8702)\" d=\"M601.452 856.518 L590.14 851.83 L585.452 840.518 L590.14 829.206 L601.452 824.518 L612.764 829.206 L617.452 840.518 L612.764 851.83 Z\" fill=\"#009af9\" fill-rule=\"evenodd\" fill-opacity=\"1\" stroke=\"#000000\" stroke-opacity=\"1\" stroke-width=\"3.2\"/>\n",
       "<path clip-path=\"url(#clip8702)\" d=\"M622.063 821.372 L610.751 816.684 L606.063 805.372 L610.751 794.06 L622.063 789.372 L633.375 794.06 L638.063 805.372 L633.375 816.684 Z\" fill=\"#009af9\" fill-rule=\"evenodd\" fill-opacity=\"1\" stroke=\"#000000\" stroke-opacity=\"1\" stroke-width=\"3.2\"/>\n",
       "<path clip-path=\"url(#clip8702)\" d=\"M642.674 786.367 L631.362 781.679 L626.674 770.367 L631.362 759.055 L642.674 754.367 L653.986 759.055 L658.674 770.367 L653.986 781.679 Z\" fill=\"#009af9\" fill-rule=\"evenodd\" fill-opacity=\"1\" stroke=\"#000000\" stroke-opacity=\"1\" stroke-width=\"3.2\"/>\n",
       "<path clip-path=\"url(#clip8702)\" d=\"M663.285 751.53 L651.973 746.842 L647.285 735.53 L651.973 724.218 L663.285 719.53 L674.597 724.218 L679.285 735.53 L674.597 746.842 Z\" fill=\"#009af9\" fill-rule=\"evenodd\" fill-opacity=\"1\" stroke=\"#000000\" stroke-opacity=\"1\" stroke-width=\"3.2\"/>\n",
       "<path clip-path=\"url(#clip8702)\" d=\"M683.896 716.891 L672.584 712.203 L667.896 700.891 L672.584 689.579 L683.896 684.891 L695.208 689.579 L699.896 700.891 L695.208 712.203 Z\" fill=\"#009af9\" fill-rule=\"evenodd\" fill-opacity=\"1\" stroke=\"#000000\" stroke-opacity=\"1\" stroke-width=\"3.2\"/>\n",
       "<path clip-path=\"url(#clip8702)\" d=\"M704.507 682.488 L693.195 677.8 L688.507 666.488 L693.195 655.176 L704.507 650.488 L715.819 655.176 L720.507 666.488 L715.819 677.8 Z\" fill=\"#009af9\" fill-rule=\"evenodd\" fill-opacity=\"1\" stroke=\"#000000\" stroke-opacity=\"1\" stroke-width=\"3.2\"/>\n",
       "<path clip-path=\"url(#clip8702)\" d=\"M725.117 648.366 L713.805 643.678 L709.117 632.366 L713.805 621.054 L725.117 616.366 L736.429 621.054 L741.117 632.366 L736.429 643.678 Z\" fill=\"#009af9\" fill-rule=\"evenodd\" fill-opacity=\"1\" stroke=\"#000000\" stroke-opacity=\"1\" stroke-width=\"3.2\"/>\n",
       "<path clip-path=\"url(#clip8702)\" d=\"M745.728 614.574 L734.416 609.886 L729.728 598.574 L734.416 587.262 L745.728 582.574 L757.04 587.262 L761.728 598.574 L757.04 609.886 Z\" fill=\"#009af9\" fill-rule=\"evenodd\" fill-opacity=\"1\" stroke=\"#000000\" stroke-opacity=\"1\" stroke-width=\"3.2\"/>\n",
       "<path clip-path=\"url(#clip8702)\" d=\"M766.339 581.173 L755.027 576.485 L750.339 565.173 L755.027 553.861 L766.339 549.173 L777.651 553.861 L782.339 565.173 L777.651 576.485 Z\" fill=\"#009af9\" fill-rule=\"evenodd\" fill-opacity=\"1\" stroke=\"#000000\" stroke-opacity=\"1\" stroke-width=\"3.2\"/>\n",
       "<path clip-path=\"url(#clip8702)\" d=\"M786.95 548.231 L775.638 543.543 L770.95 532.231 L775.638 520.919 L786.95 516.231 L798.262 520.919 L802.95 532.231 L798.262 543.543 Z\" fill=\"#009af9\" fill-rule=\"evenodd\" fill-opacity=\"1\" stroke=\"#000000\" stroke-opacity=\"1\" stroke-width=\"3.2\"/>\n",
       "<path clip-path=\"url(#clip8702)\" d=\"M807.561 515.826 L796.249 511.138 L791.561 499.826 L796.249 488.514 L807.561 483.826 L818.873 488.514 L823.561 499.826 L818.873 511.138 Z\" fill=\"#009af9\" fill-rule=\"evenodd\" fill-opacity=\"1\" stroke=\"#000000\" stroke-opacity=\"1\" stroke-width=\"3.2\"/>\n",
       "<path clip-path=\"url(#clip8702)\" d=\"M828.172 484.046 L816.86 479.358 L812.172 468.046 L816.86 456.734 L828.172 452.046 L839.484 456.734 L844.172 468.046 L839.484 479.358 Z\" fill=\"#009af9\" fill-rule=\"evenodd\" fill-opacity=\"1\" stroke=\"#000000\" stroke-opacity=\"1\" stroke-width=\"3.2\"/>\n",
       "<path clip-path=\"url(#clip8702)\" d=\"M848.783 452.991 L837.471 448.303 L832.783 436.991 L837.471 425.679 L848.783 420.991 L860.095 425.679 L864.783 436.991 L860.095 448.303 Z\" fill=\"#009af9\" fill-rule=\"evenodd\" fill-opacity=\"1\" stroke=\"#000000\" stroke-opacity=\"1\" stroke-width=\"3.2\"/>\n",
       "<path clip-path=\"url(#clip8702)\" d=\"M869.393 422.77 L858.081 418.082 L853.393 406.77 L858.081 395.458 L869.393 390.77 L880.705 395.458 L885.393 406.77 L880.705 418.082 Z\" fill=\"#009af9\" fill-rule=\"evenodd\" fill-opacity=\"1\" stroke=\"#000000\" stroke-opacity=\"1\" stroke-width=\"3.2\"/>\n",
       "<path clip-path=\"url(#clip8702)\" d=\"M890.004 393.502 L878.692 388.814 L874.004 377.502 L878.692 366.19 L890.004 361.502 L901.316 366.19 L906.004 377.502 L901.316 388.814 Z\" fill=\"#009af9\" fill-rule=\"evenodd\" fill-opacity=\"1\" stroke=\"#000000\" stroke-opacity=\"1\" stroke-width=\"3.2\"/>\n",
       "<path clip-path=\"url(#clip8702)\" d=\"M910.615 365.312 L899.303 360.624 L894.615 349.312 L899.303 338 L910.615 333.312 L921.927 338 L926.615 349.312 L921.927 360.624 Z\" fill=\"#009af9\" fill-rule=\"evenodd\" fill-opacity=\"1\" stroke=\"#000000\" stroke-opacity=\"1\" stroke-width=\"3.2\"/>\n",
       "<path clip-path=\"url(#clip8702)\" d=\"M931.226 338.331 L919.914 333.643 L915.226 322.331 L919.914 311.019 L931.226 306.331 L942.538 311.019 L947.226 322.331 L942.538 333.643 Z\" fill=\"#009af9\" fill-rule=\"evenodd\" fill-opacity=\"1\" stroke=\"#000000\" stroke-opacity=\"1\" stroke-width=\"3.2\"/>\n",
       "<path clip-path=\"url(#clip8702)\" d=\"M951.837 312.69 L940.525 308.002 L935.837 296.69 L940.525 285.378 L951.837 280.69 L963.149 285.378 L967.837 296.69 L963.149 308.002 Z\" fill=\"#009af9\" fill-rule=\"evenodd\" fill-opacity=\"1\" stroke=\"#000000\" stroke-opacity=\"1\" stroke-width=\"3.2\"/>\n",
       "<path clip-path=\"url(#clip8702)\" d=\"M972.448 288.516 L961.136 283.828 L956.448 272.516 L961.136 261.204 L972.448 256.516 L983.76 261.204 L988.448 272.516 L983.76 283.828 Z\" fill=\"#009af9\" fill-rule=\"evenodd\" fill-opacity=\"1\" stroke=\"#000000\" stroke-opacity=\"1\" stroke-width=\"3.2\"/>\n",
       "<path clip-path=\"url(#clip8702)\" d=\"M993.058 265.923 L981.746 261.235 L977.058 249.923 L981.746 238.611 L993.058 233.923 L1004.37 238.611 L1009.06 249.923 L1004.37 261.235 Z\" fill=\"#009af9\" fill-rule=\"evenodd\" fill-opacity=\"1\" stroke=\"#000000\" stroke-opacity=\"1\" stroke-width=\"3.2\"/>\n",
       "<path clip-path=\"url(#clip8702)\" d=\"M1013.67 245.007 L1002.36 240.319 L997.669 229.007 L1002.36 217.695 L1013.67 213.007 L1024.98 217.695 L1029.67 229.007 L1024.98 240.319 Z\" fill=\"#009af9\" fill-rule=\"evenodd\" fill-opacity=\"1\" stroke=\"#000000\" stroke-opacity=\"1\" stroke-width=\"3.2\"/>\n",
       "<path clip-path=\"url(#clip8702)\" d=\"M1034.28 225.842 L1022.97 221.154 L1018.28 209.842 L1022.97 198.53 L1034.28 193.842 L1045.59 198.53 L1050.28 209.842 L1045.59 221.154 Z\" fill=\"#009af9\" fill-rule=\"evenodd\" fill-opacity=\"1\" stroke=\"#000000\" stroke-opacity=\"1\" stroke-width=\"3.2\"/>\n",
       "<path clip-path=\"url(#clip8702)\" d=\"M1054.89 208.468 L1043.58 203.78 L1038.89 192.468 L1043.58 181.156 L1054.89 176.468 L1066.2 181.156 L1070.89 192.468 L1066.2 203.78 Z\" fill=\"#009af9\" fill-rule=\"evenodd\" fill-opacity=\"1\" stroke=\"#000000\" stroke-opacity=\"1\" stroke-width=\"3.2\"/>\n",
       "<path clip-path=\"url(#clip8702)\" d=\"M1075.5 192.892 L1064.19 188.204 L1059.5 176.892 L1064.19 165.58 L1075.5 160.892 L1086.81 165.58 L1091.5 176.892 L1086.81 188.204 Z\" fill=\"#009af9\" fill-rule=\"evenodd\" fill-opacity=\"1\" stroke=\"#000000\" stroke-opacity=\"1\" stroke-width=\"3.2\"/>\n",
       "<path clip-path=\"url(#clip8702)\" d=\"M1096.11 179.085 L1084.8 174.397 L1080.11 163.085 L1084.8 151.773 L1096.11 147.085 L1107.42 151.773 L1112.11 163.085 L1107.42 174.397 Z\" fill=\"#009af9\" fill-rule=\"evenodd\" fill-opacity=\"1\" stroke=\"#000000\" stroke-opacity=\"1\" stroke-width=\"3.2\"/>\n",
       "<path clip-path=\"url(#clip8702)\" d=\"M1116.72 166.983 L1105.41 162.295 L1100.72 150.983 L1105.41 139.671 L1116.72 134.983 L1128.04 139.671 L1132.72 150.983 L1128.04 162.295 Z\" fill=\"#009af9\" fill-rule=\"evenodd\" fill-opacity=\"1\" stroke=\"#000000\" stroke-opacity=\"1\" stroke-width=\"3.2\"/>\n",
       "<path clip-path=\"url(#clip8702)\" d=\"M1137.33 156.489 L1126.02 151.801 L1121.33 140.489 L1126.02 129.177 L1137.33 124.489 L1148.65 129.177 L1153.33 140.489 L1148.65 151.801 Z\" fill=\"#009af9\" fill-rule=\"evenodd\" fill-opacity=\"1\" stroke=\"#000000\" stroke-opacity=\"1\" stroke-width=\"3.2\"/>\n",
       "<path clip-path=\"url(#clip8702)\" d=\"M1157.95 147.486 L1146.63 142.798 L1141.95 131.486 L1146.63 120.174 L1157.95 115.486 L1169.26 120.174 L1173.95 131.486 L1169.26 142.798 Z\" fill=\"#009af9\" fill-rule=\"evenodd\" fill-opacity=\"1\" stroke=\"#000000\" stroke-opacity=\"1\" stroke-width=\"3.2\"/>\n",
       "<path clip-path=\"url(#clip8702)\" d=\"M1178.56 139.834 L1167.24 135.146 L1162.56 123.834 L1167.24 112.522 L1178.56 107.834 L1189.87 112.522 L1194.56 123.834 L1189.87 135.146 Z\" fill=\"#009af9\" fill-rule=\"evenodd\" fill-opacity=\"1\" stroke=\"#000000\" stroke-opacity=\"1\" stroke-width=\"3.2\"/>\n",
       "<path clip-path=\"url(#clip8702)\" d=\"M1199.17 133.39 L1187.85 128.702 L1183.17 117.39 L1187.85 106.078 L1199.17 101.39 L1210.48 106.078 L1215.17 117.39 L1210.48 128.702 Z\" fill=\"#009af9\" fill-rule=\"evenodd\" fill-opacity=\"1\" stroke=\"#000000\" stroke-opacity=\"1\" stroke-width=\"3.2\"/>\n",
       "<path clip-path=\"url(#clip8702)\" d=\"M1219.78 128.005 L1208.47 123.317 L1203.78 112.005 L1208.47 100.693 L1219.78 96.0054 L1231.09 100.693 L1235.78 112.005 L1231.09 123.317 Z\" fill=\"#009af9\" fill-rule=\"evenodd\" fill-opacity=\"1\" stroke=\"#000000\" stroke-opacity=\"1\" stroke-width=\"3.2\"/>\n",
       "<path clip-path=\"url(#clip8702)\" d=\"M1240.39 123.538 L1229.08 118.85 L1224.39 107.538 L1229.08 96.2257 L1240.39 91.5377 L1251.7 96.2257 L1256.39 107.538 L1251.7 118.85 Z\" fill=\"#009af9\" fill-rule=\"evenodd\" fill-opacity=\"1\" stroke=\"#000000\" stroke-opacity=\"1\" stroke-width=\"3.2\"/>\n",
       "<path clip-path=\"url(#clip8702)\" d=\"M1261 119.854 L1249.69 115.166 L1245 103.854 L1249.69 92.5416 L1261 87.8536 L1272.31 92.5416 L1277 103.854 L1272.31 115.166 Z\" fill=\"#009af9\" fill-rule=\"evenodd\" fill-opacity=\"1\" stroke=\"#000000\" stroke-opacity=\"1\" stroke-width=\"3.2\"/>\n",
       "<path clip-path=\"url(#clip8702)\" d=\"M1281.61 116.832 L1270.3 112.144 L1265.61 100.832 L1270.3 89.5196 L1281.61 84.8316 L1292.92 89.5196 L1297.61 100.832 L1292.92 112.144 Z\" fill=\"#009af9\" fill-rule=\"evenodd\" fill-opacity=\"1\" stroke=\"#000000\" stroke-opacity=\"1\" stroke-width=\"3.2\"/>\n",
       "<path clip-path=\"url(#clip8702)\" d=\"M1302.22 114.364 L1290.91 109.676 L1286.22 98.3637 L1290.91 87.0517 L1302.22 82.3637 L1313.53 87.0517 L1318.22 98.3637 L1313.53 109.676 Z\" fill=\"#009af9\" fill-rule=\"evenodd\" fill-opacity=\"1\" stroke=\"#000000\" stroke-opacity=\"1\" stroke-width=\"3.2\"/>\n",
       "<path clip-path=\"url(#clip8702)\" d=\"M1322.83 112.356 L1311.52 107.668 L1306.83 96.3559 L1311.52 85.0439 L1322.83 80.3559 L1334.14 85.0439 L1338.83 96.3559 L1334.14 107.668 Z\" fill=\"#009af9\" fill-rule=\"evenodd\" fill-opacity=\"1\" stroke=\"#000000\" stroke-opacity=\"1\" stroke-width=\"3.2\"/>\n",
       "<path clip-path=\"url(#clip8702)\" d=\"M1343.44 110.727 L1332.13 106.039 L1327.44 94.7274 L1332.13 83.4154 L1343.44 78.7274 L1354.75 83.4154 L1359.44 94.7274 L1354.75 106.039 Z\" fill=\"#009af9\" fill-rule=\"evenodd\" fill-opacity=\"1\" stroke=\"#000000\" stroke-opacity=\"1\" stroke-width=\"3.2\"/>\n",
       "<path clip-path=\"url(#clip8702)\" d=\"M1364.05 109.41 L1352.74 104.722 L1348.05 93.4101 L1352.74 82.0981 L1364.05 77.4101 L1375.37 82.0981 L1380.05 93.4101 L1375.37 104.722 Z\" fill=\"#009af9\" fill-rule=\"evenodd\" fill-opacity=\"1\" stroke=\"#000000\" stroke-opacity=\"1\" stroke-width=\"3.2\"/>\n",
       "<path clip-path=\"url(#clip8702)\" d=\"M1384.66 108.347 L1373.35 103.659 L1368.66 92.3467 L1373.35 81.0347 L1384.66 76.3467 L1395.98 81.0347 L1400.66 92.3467 L1395.98 103.659 Z\" fill=\"#009af9\" fill-rule=\"evenodd\" fill-opacity=\"1\" stroke=\"#000000\" stroke-opacity=\"1\" stroke-width=\"3.2\"/>\n",
       "<path clip-path=\"url(#clip8702)\" d=\"M1405.28 107.49 L1393.96 102.802 L1389.28 91.4898 L1393.96 80.1778 L1405.28 75.4898 L1416.59 80.1778 L1421.28 91.4898 L1416.59 102.802 Z\" fill=\"#009af9\" fill-rule=\"evenodd\" fill-opacity=\"1\" stroke=\"#000000\" stroke-opacity=\"1\" stroke-width=\"3.2\"/>\n",
       "<path clip-path=\"url(#clip8702)\" d=\"M1425.89 106.8 L1414.57 102.112 L1409.89 90.8002 L1414.57 79.4882 L1425.89 74.8002 L1437.2 79.4882 L1441.89 90.8002 L1437.2 102.112 Z\" fill=\"#009af9\" fill-rule=\"evenodd\" fill-opacity=\"1\" stroke=\"#000000\" stroke-opacity=\"1\" stroke-width=\"3.2\"/>\n",
       "<path clip-path=\"url(#clip8702)\" d=\"M1446.5 106.246 L1435.19 101.558 L1430.5 90.2459 L1435.19 78.9339 L1446.5 74.2459 L1457.81 78.9339 L1462.5 90.2459 L1457.81 101.558 Z\" fill=\"#009af9\" fill-rule=\"evenodd\" fill-opacity=\"1\" stroke=\"#000000\" stroke-opacity=\"1\" stroke-width=\"3.2\"/>\n",
       "<path clip-path=\"url(#clip8702)\" d=\"M1467.11 105.801 L1455.8 101.113 L1451.11 89.8008 L1455.8 78.4888 L1467.11 73.8008 L1478.42 78.4888 L1483.11 89.8008 L1478.42 101.113 Z\" fill=\"#009af9\" fill-rule=\"evenodd\" fill-opacity=\"1\" stroke=\"#000000\" stroke-opacity=\"1\" stroke-width=\"3.2\"/>\n",
       "<path clip-path=\"url(#clip8702)\" d=\"M1487.72 105.444 L1476.41 100.756 L1471.72 89.4436 L1476.41 78.1316 L1487.72 73.4436 L1499.03 78.1316 L1503.72 89.4436 L1499.03 100.756 Z\" fill=\"#009af9\" fill-rule=\"evenodd\" fill-opacity=\"1\" stroke=\"#000000\" stroke-opacity=\"1\" stroke-width=\"3.2\"/>\n",
       "<path clip-path=\"url(#clip8702)\" d=\"M1508.33 105.157 L1497.02 100.469 L1492.33 89.1572 L1497.02 77.8452 L1508.33 73.1572 L1519.64 77.8452 L1524.33 89.1572 L1519.64 100.469 Z\" fill=\"#009af9\" fill-rule=\"evenodd\" fill-opacity=\"1\" stroke=\"#000000\" stroke-opacity=\"1\" stroke-width=\"3.2\"/>\n",
       "<path clip-path=\"url(#clip8702)\" d=\"M1528.94 104.928 L1517.63 100.24 L1512.94 88.9276 L1517.63 77.6156 L1528.94 72.9276 L1540.25 77.6156 L1544.94 88.9276 L1540.25 100.24 Z\" fill=\"#009af9\" fill-rule=\"evenodd\" fill-opacity=\"1\" stroke=\"#000000\" stroke-opacity=\"1\" stroke-width=\"3.2\"/>\n",
       "<path clip-path=\"url(#clip8702)\" d=\"M1549.55 104.744 L1538.24 100.056 L1533.55 88.7436 L1538.24 77.4316 L1549.55 72.7436 L1560.86 77.4316 L1565.55 88.7436 L1560.86 100.056 Z\" fill=\"#009af9\" fill-rule=\"evenodd\" fill-opacity=\"1\" stroke=\"#000000\" stroke-opacity=\"1\" stroke-width=\"3.2\"/>\n",
       "<path clip-path=\"url(#clip8702)\" d=\"M1570.16 104.596 L1558.85 99.9082 L1554.16 88.5962 L1558.85 77.2842 L1570.16 72.5962 L1581.47 77.2842 L1586.16 88.5962 L1581.47 99.9082 Z\" fill=\"#009af9\" fill-rule=\"evenodd\" fill-opacity=\"1\" stroke=\"#000000\" stroke-opacity=\"1\" stroke-width=\"3.2\"/>\n",
       "<path clip-path=\"url(#clip8702)\" d=\"M1590.77 104.478 L1579.46 99.7902 L1574.77 88.4782 L1579.46 77.1662 L1590.77 72.4782 L1602.08 77.1662 L1606.77 88.4782 L1602.08 99.7902 Z\" fill=\"#009af9\" fill-rule=\"evenodd\" fill-opacity=\"1\" stroke=\"#000000\" stroke-opacity=\"1\" stroke-width=\"3.2\"/>\n",
       "<path clip-path=\"url(#clip8702)\" d=\"M1611.38 104.384 L1600.07 99.6957 L1595.38 88.3837 L1600.07 77.0717 L1611.38 72.3837 L1622.7 77.0717 L1627.38 88.3837 L1622.7 99.6957 Z\" fill=\"#009af9\" fill-rule=\"evenodd\" fill-opacity=\"1\" stroke=\"#000000\" stroke-opacity=\"1\" stroke-width=\"3.2\"/>\n",
       "<path clip-path=\"url(#clip8702)\" d=\"M1631.99 104.308 L1620.68 99.6201 L1615.99 88.3081 L1620.68 76.9961 L1631.99 72.3081 L1643.31 76.9961 L1647.99 88.3081 L1643.31 99.6201 Z\" fill=\"#009af9\" fill-rule=\"evenodd\" fill-opacity=\"1\" stroke=\"#000000\" stroke-opacity=\"1\" stroke-width=\"3.2\"/>\n",
       "<path clip-path=\"url(#clip8702)\" d=\"M1652.61 104.248 L1641.29 99.5595 L1636.61 88.2475 L1641.29 76.9355 L1652.61 72.2475 L1663.92 76.9355 L1668.61 88.2475 L1663.92 99.5595 Z\" fill=\"#009af9\" fill-rule=\"evenodd\" fill-opacity=\"1\" stroke=\"#000000\" stroke-opacity=\"1\" stroke-width=\"3.2\"/>\n",
       "<path clip-path=\"url(#clip8702)\" d=\"M1673.22 104.199 L1661.9 99.5111 L1657.22 88.1991 L1661.9 76.8871 L1673.22 72.1991 L1684.53 76.8871 L1689.22 88.1991 L1684.53 99.5111 Z\" fill=\"#009af9\" fill-rule=\"evenodd\" fill-opacity=\"1\" stroke=\"#000000\" stroke-opacity=\"1\" stroke-width=\"3.2\"/>\n",
       "<path clip-path=\"url(#clip8702)\" d=\"M1693.83 104.16 L1682.52 99.4723 L1677.83 88.1603 L1682.52 76.8483 L1693.83 72.1603 L1705.14 76.8483 L1709.83 88.1603 L1705.14 99.4723 Z\" fill=\"#009af9\" fill-rule=\"evenodd\" fill-opacity=\"1\" stroke=\"#000000\" stroke-opacity=\"1\" stroke-width=\"3.2\"/>\n",
       "<path clip-path=\"url(#clip8702)\" d=\"M1714.44 104.129 L1703.13 99.4413 L1698.44 88.1293 L1703.13 76.8173 L1714.44 72.1293 L1725.75 76.8173 L1730.44 88.1293 L1725.75 99.4413 Z\" fill=\"#009af9\" fill-rule=\"evenodd\" fill-opacity=\"1\" stroke=\"#000000\" stroke-opacity=\"1\" stroke-width=\"3.2\"/>\n",
       "<path clip-path=\"url(#clip8702)\" d=\"M1735.05 104.104 L1723.74 99.4165 L1719.05 88.1045 L1723.74 76.7925 L1735.05 72.1045 L1746.36 76.7925 L1751.05 88.1045 L1746.36 99.4165 Z\" fill=\"#009af9\" fill-rule=\"evenodd\" fill-opacity=\"1\" stroke=\"#000000\" stroke-opacity=\"1\" stroke-width=\"3.2\"/>\n",
       "<path clip-path=\"url(#clip8702)\" d=\"M1755.66 104.085 L1744.35 99.3966 L1739.66 88.0846 L1744.35 76.7726 L1755.66 72.0846 L1766.97 76.7726 L1771.66 88.0846 L1766.97 99.3966 Z\" fill=\"#009af9\" fill-rule=\"evenodd\" fill-opacity=\"1\" stroke=\"#000000\" stroke-opacity=\"1\" stroke-width=\"3.2\"/>\n",
       "<path clip-path=\"url(#clip8702)\" d=\"M1776.27 104.069 L1764.96 99.3807 L1760.27 88.0687 L1764.96 76.7567 L1776.27 72.0687 L1787.58 76.7567 L1792.27 88.0687 L1787.58 99.3807 Z\" fill=\"#009af9\" fill-rule=\"evenodd\" fill-opacity=\"1\" stroke=\"#000000\" stroke-opacity=\"1\" stroke-width=\"3.2\"/>\n",
       "<path clip-path=\"url(#clip8702)\" d=\"M1796.88 104.056 L1785.57 99.368 L1780.88 88.056 L1785.57 76.744 L1796.88 72.056 L1808.19 76.744 L1812.88 88.056 L1808.19 99.368 Z\" fill=\"#009af9\" fill-rule=\"evenodd\" fill-opacity=\"1\" stroke=\"#000000\" stroke-opacity=\"1\" stroke-width=\"3.2\"/>\n",
       "<path clip-path=\"url(#clip8702)\" d=\"M1817.49 104.046 L1806.18 99.3578 L1801.49 88.0458 L1806.18 76.7338 L1817.49 72.0458 L1828.8 76.7338 L1833.49 88.0458 L1828.8 99.3578 Z\" fill=\"#009af9\" fill-rule=\"evenodd\" fill-opacity=\"1\" stroke=\"#000000\" stroke-opacity=\"1\" stroke-width=\"3.2\"/>\n",
       "<path clip-path=\"url(#clip8702)\" d=\"M1838.1 104.038 L1826.79 99.3497 L1822.1 88.0377 L1826.79 76.7257 L1838.1 72.0377 L1849.42 76.7257 L1854.1 88.0377 L1849.42 99.3497 Z\" fill=\"#009af9\" fill-rule=\"evenodd\" fill-opacity=\"1\" stroke=\"#000000\" stroke-opacity=\"1\" stroke-width=\"3.2\"/>\n",
       "<path clip-path=\"url(#clip8702)\" d=\"M1858.71 104.031 L1847.4 99.3432 L1842.71 88.0312 L1847.4 76.7192 L1858.71 72.0312 L1870.03 76.7192 L1874.71 88.0312 L1870.03 99.3432 Z\" fill=\"#009af9\" fill-rule=\"evenodd\" fill-opacity=\"1\" stroke=\"#000000\" stroke-opacity=\"1\" stroke-width=\"3.2\"/>\n",
       "<path clip-path=\"url(#clip8702)\" d=\"M1879.32 104.026 L1868.01 99.3379 L1863.32 88.0259 L1868.01 76.7139 L1879.32 72.0259 L1890.64 76.7139 L1895.32 88.0259 L1890.64 99.3379 Z\" fill=\"#009af9\" fill-rule=\"evenodd\" fill-opacity=\"1\" stroke=\"#000000\" stroke-opacity=\"1\" stroke-width=\"3.2\"/>\n",
       "<path clip-path=\"url(#clip8702)\" d=\"M1899.94 104.022 L1888.62 99.3338 L1883.94 88.0218 L1888.62 76.7098 L1899.94 72.0218 L1911.25 76.7098 L1915.94 88.0218 L1911.25 99.3338 Z\" fill=\"#009af9\" fill-rule=\"evenodd\" fill-opacity=\"1\" stroke=\"#000000\" stroke-opacity=\"1\" stroke-width=\"3.2\"/>\n",
       "<path clip-path=\"url(#clip8702)\" d=\"M1920.55 104.018 L1909.23 99.3304 L1904.55 88.0184 L1909.23 76.7064 L1920.55 72.0184 L1931.86 76.7064 L1936.55 88.0184 L1931.86 99.3304 Z\" fill=\"#009af9\" fill-rule=\"evenodd\" fill-opacity=\"1\" stroke=\"#000000\" stroke-opacity=\"1\" stroke-width=\"3.2\"/>\n",
       "<path clip-path=\"url(#clip8702)\" d=\"M1941.16 104.016 L1929.85 99.3278 L1925.16 88.0158 L1929.85 76.7038 L1941.16 72.0158 L1952.47 76.7038 L1957.16 88.0158 L1952.47 99.3278 Z\" fill=\"#009af9\" fill-rule=\"evenodd\" fill-opacity=\"1\" stroke=\"#000000\" stroke-opacity=\"1\" stroke-width=\"3.2\"/>\n",
       "<path clip-path=\"url(#clip8702)\" d=\"M1961.77 104.014 L1950.46 99.3256 L1945.77 88.0136 L1950.46 76.7016 L1961.77 72.0136 L1973.08 76.7016 L1977.77 88.0136 L1973.08 99.3256 Z\" fill=\"#009af9\" fill-rule=\"evenodd\" fill-opacity=\"1\" stroke=\"#000000\" stroke-opacity=\"1\" stroke-width=\"3.2\"/>\n",
       "<path clip-path=\"url(#clip8702)\" d=\"M1982.38 104.012 L1971.07 99.3239 L1966.38 88.0119 L1971.07 76.6999 L1982.38 72.0119 L1993.69 76.6999 L1998.38 88.0119 L1993.69 99.3239 Z\" fill=\"#009af9\" fill-rule=\"evenodd\" fill-opacity=\"1\" stroke=\"#000000\" stroke-opacity=\"1\" stroke-width=\"3.2\"/>\n",
       "<path clip-path=\"url(#clip8702)\" d=\"M2002.99 104.011 L1991.68 99.3226 L1986.99 88.0106 L1991.68 76.6986 L2002.99 72.0106 L2014.3 76.6986 L2018.99 88.0106 L2014.3 99.3226 Z\" fill=\"#009af9\" fill-rule=\"evenodd\" fill-opacity=\"1\" stroke=\"#000000\" stroke-opacity=\"1\" stroke-width=\"3.2\"/>\n",
       "<path clip-path=\"url(#clip8702)\" d=\"M2023.6 104.009 L2012.29 99.3215 L2007.6 88.0095 L2012.29 76.6975 L2023.6 72.0095 L2034.91 76.6975 L2039.6 88.0095 L2034.91 99.3215 Z\" fill=\"#009af9\" fill-rule=\"evenodd\" fill-opacity=\"1\" stroke=\"#000000\" stroke-opacity=\"1\" stroke-width=\"3.2\"/>\n",
       "<path clip-path=\"url(#clip8702)\" d=\"M2044.21 104.009 L2032.9 99.3206 L2028.21 88.0086 L2032.9 76.6966 L2044.21 72.0086 L2055.52 76.6966 L2060.21 88.0086 L2055.52 99.3206 Z\" fill=\"#009af9\" fill-rule=\"evenodd\" fill-opacity=\"1\" stroke=\"#000000\" stroke-opacity=\"1\" stroke-width=\"3.2\"/>\n",
       "<path clip-path=\"url(#clip8702)\" d=\"M2064.82 104.008 L2053.51 99.3199 L2048.82 88.0079 L2053.51 76.6959 L2064.82 72.0079 L2076.13 76.6959 L2080.82 88.0079 L2076.13 99.3199 Z\" fill=\"#009af9\" fill-rule=\"evenodd\" fill-opacity=\"1\" stroke=\"#000000\" stroke-opacity=\"1\" stroke-width=\"3.2\"/>\n",
       "<path clip-path=\"url(#clip8702)\" d=\"M2085.43 104.007 L2074.12 99.3193 L2069.43 88.0073 L2074.12 76.6953 L2085.43 72.0073 L2096.75 76.6953 L2101.43 88.0073 L2096.75 99.3193 Z\" fill=\"#009af9\" fill-rule=\"evenodd\" fill-opacity=\"1\" stroke=\"#000000\" stroke-opacity=\"1\" stroke-width=\"3.2\"/>\n",
       "<path clip-path=\"url(#clip8702)\" d=\"M2106.04 104.007 L2094.73 99.3189 L2090.04 88.0069 L2094.73 76.6949 L2106.04 72.0069 L2117.36 76.6949 L2122.04 88.0069 L2117.36 99.3189 Z\" fill=\"#009af9\" fill-rule=\"evenodd\" fill-opacity=\"1\" stroke=\"#000000\" stroke-opacity=\"1\" stroke-width=\"3.2\"/>\n",
       "<path clip-path=\"url(#clip8702)\" d=\"M2126.65 104.007 L2115.34 99.3185 L2110.65 88.0065 L2115.34 76.6945 L2126.65 72.0065 L2137.97 76.6945 L2142.65 88.0065 L2137.97 99.3185 Z\" fill=\"#009af9\" fill-rule=\"evenodd\" fill-opacity=\"1\" stroke=\"#000000\" stroke-opacity=\"1\" stroke-width=\"3.2\"/>\n",
       "<path clip-path=\"url(#clip8702)\" d=\"M2147.27 104.006 L2135.95 99.3182 L2131.27 88.0062 L2135.95 76.6942 L2147.27 72.0062 L2158.58 76.6942 L2163.27 88.0062 L2158.58 99.3182 Z\" fill=\"#009af9\" fill-rule=\"evenodd\" fill-opacity=\"1\" stroke=\"#000000\" stroke-opacity=\"1\" stroke-width=\"3.2\"/>\n",
       "<path clip-path=\"url(#clip8702)\" d=\"M2167.88 104.006 L2156.56 99.318 L2151.88 88.006 L2156.56 76.694 L2167.88 72.006 L2179.19 76.694 L2183.88 88.006 L2179.19 99.318 Z\" fill=\"#009af9\" fill-rule=\"evenodd\" fill-opacity=\"1\" stroke=\"#000000\" stroke-opacity=\"1\" stroke-width=\"3.2\"/>\n",
       "<path clip-path=\"url(#clip8702)\" d=\"M2188.49 104.006 L2177.18 99.3178 L2172.49 88.0058 L2177.18 76.6938 L2188.49 72.0058 L2199.8 76.6938 L2204.49 88.0058 L2199.8 99.3178 Z\" fill=\"#009af9\" fill-rule=\"evenodd\" fill-opacity=\"1\" stroke=\"#000000\" stroke-opacity=\"1\" stroke-width=\"3.2\"/>\n",
       "<path clip-path=\"url(#clip8702)\" d=\"M2209.1 104.006 L2197.79 99.3177 L2193.1 88.0057 L2197.79 76.6937 L2209.1 72.0057 L2220.41 76.6937 L2225.1 88.0057 L2220.41 99.3177 Z\" fill=\"#009af9\" fill-rule=\"evenodd\" fill-opacity=\"1\" stroke=\"#000000\" stroke-opacity=\"1\" stroke-width=\"3.2\"/>\n",
       "<path clip-path=\"url(#clip8702)\" d=\"M2229.71 104.006 L2218.4 99.3176 L2213.71 88.0056 L2218.4 76.6936 L2229.71 72.0056 L2241.02 76.6936 L2245.71 88.0056 L2241.02 99.3176 Z\" fill=\"#009af9\" fill-rule=\"evenodd\" fill-opacity=\"1\" stroke=\"#000000\" stroke-opacity=\"1\" stroke-width=\"3.2\"/>\n",
       "<path clip-path=\"url(#clip8702)\" d=\"M2250.32 104.005 L2239.01 99.3175 L2234.32 88.0055 L2239.01 76.6935 L2250.32 72.0055 L2261.63 76.6935 L2266.32 88.0055 L2261.63 99.3175 Z\" fill=\"#009af9\" fill-rule=\"evenodd\" fill-opacity=\"1\" stroke=\"#000000\" stroke-opacity=\"1\" stroke-width=\"3.2\"/>\n",
       "<path clip-path=\"url(#clip8702)\" d=\"M2270.93 104.005 L2259.62 99.3174 L2254.93 88.0054 L2259.62 76.6934 L2270.93 72.0054 L2282.24 76.6934 L2286.93 88.0054 L2282.24 99.3174 Z\" fill=\"#009af9\" fill-rule=\"evenodd\" fill-opacity=\"1\" stroke=\"#000000\" stroke-opacity=\"1\" stroke-width=\"3.2\"/>\n",
       "<path clip-path=\"url(#clip8702)\" d=\"M2291.54 104.005 L2280.23 99.3173 L2275.54 88.0053 L2280.23 76.6933 L2291.54 72.0053 L2302.85 76.6933 L2307.54 88.0053 L2302.85 99.3173 Z\" fill=\"#009af9\" fill-rule=\"evenodd\" fill-opacity=\"1\" stroke=\"#000000\" stroke-opacity=\"1\" stroke-width=\"3.2\"/>\n",
       "<path clip-path=\"url(#clip8700)\" d=\"\n",
       "M1989.93 251.724 L2280.76 251.724 L2280.76 130.764 L1989.93 130.764  Z\n",
       "  \" fill=\"#ffffff\" fill-rule=\"evenodd\" fill-opacity=\"1\"/>\n",
       "<polyline clip-path=\"url(#clip8700)\" style=\"stroke:#000000; stroke-width:4; stroke-opacity:1; fill:none\" points=\"\n",
       "  1989.93,251.724 2280.76,251.724 2280.76,130.764 1989.93,130.764 1989.93,251.724 \n",
       "  \"/>\n",
       "<polyline clip-path=\"url(#clip8700)\" style=\"stroke:#009af9; stroke-width:4; stroke-opacity:1; fill:none\" points=\"\n",
       "  2013.93,191.244 2157.93,191.244 \n",
       "  \"/>\n",
       "<path clip-path=\"url(#clip8700)\" d=\"M2097.93 215.244 L2080.96 208.212 L2073.93 191.244 L2080.96 174.276 L2097.93 167.244 L2114.89 174.276 L2121.93 191.244 L2114.89 208.212 Z\" fill=\"#009af9\" fill-rule=\"evenodd\" fill-opacity=\"1\" stroke=\"#000000\" stroke-opacity=\"1\" stroke-width=\"3.2\"/>\n",
       "<g clip-path=\"url(#clip8700)\">\n",
       "<text style=\"fill:#000000; fill-opacity:1; font-family:Arial,Helvetica Neue,Helvetica,sans-serif; font-size:48px; text-anchor:start;\" transform=\"rotate(0, 2181.93, 208.744)\" x=\"2181.93\" y=\"208.744\">y1</text>\n",
       "</g>\n",
       "</svg>\n"
      ]
     },
     "execution_count": 61,
     "metadata": {},
     "output_type": "execute_result"
    }
   ],
   "source": [
    "I = run_infection(100)\n",
    "plot(I, m=:o, yscale=:log10)"
   ]
  },
  {
   "cell_type": "code",
   "execution_count": 64,
   "metadata": {},
   "outputs": [
    {
     "data": {
      "image/svg+xml": [
       "<?xml version=\"1.0\" encoding=\"utf-8\"?>\n",
       "<svg xmlns=\"http://www.w3.org/2000/svg\" xmlns:xlink=\"http://www.w3.org/1999/xlink\" width=\"600\" height=\"400\" viewBox=\"0 0 2400 1600\">\n",
       "<defs>\n",
       "  <clipPath id=\"clip9500\">\n",
       "    <rect x=\"0\" y=\"0\" width=\"2400\" height=\"1600\"/>\n",
       "  </clipPath>\n",
       "</defs>\n",
       "<path clip-path=\"url(#clip9500)\" d=\"\n",
       "M0 1600 L2400 1600 L2400 0 L0 0  Z\n",
       "  \" fill=\"#ffffff\" fill-rule=\"evenodd\" fill-opacity=\"1\"/>\n",
       "<defs>\n",
       "  <clipPath id=\"clip9501\">\n",
       "    <rect x=\"480\" y=\"0\" width=\"1681\" height=\"1600\"/>\n",
       "  </clipPath>\n",
       "</defs>\n",
       "<path clip-path=\"url(#clip9500)\" d=\"\n",
       "M167.279 1487.47 L2352.76 1487.47 L2352.76 47.2441 L167.279 47.2441  Z\n",
       "  \" fill=\"#ffffff\" fill-rule=\"evenodd\" fill-opacity=\"1\"/>\n",
       "<defs>\n",
       "  <clipPath id=\"clip9502\">\n",
       "    <rect x=\"167\" y=\"47\" width=\"2186\" height=\"1441\"/>\n",
       "  </clipPath>\n",
       "</defs>\n",
       "<polyline clip-path=\"url(#clip9502)\" style=\"stroke:#000000; stroke-width:2; stroke-opacity:0.1; fill:none\" points=\"\n",
       "  208.306,1487.47 208.306,47.2441 \n",
       "  \"/>\n",
       "<polyline clip-path=\"url(#clip9502)\" style=\"stroke:#000000; stroke-width:2; stroke-opacity:0.1; fill:none\" points=\"\n",
       "  728.955,1487.47 728.955,47.2441 \n",
       "  \"/>\n",
       "<polyline clip-path=\"url(#clip9502)\" style=\"stroke:#000000; stroke-width:2; stroke-opacity:0.1; fill:none\" points=\"\n",
       "  1249.6,1487.47 1249.6,47.2441 \n",
       "  \"/>\n",
       "<polyline clip-path=\"url(#clip9502)\" style=\"stroke:#000000; stroke-width:2; stroke-opacity:0.1; fill:none\" points=\"\n",
       "  1770.25,1487.47 1770.25,47.2441 \n",
       "  \"/>\n",
       "<polyline clip-path=\"url(#clip9502)\" style=\"stroke:#000000; stroke-width:2; stroke-opacity:0.1; fill:none\" points=\"\n",
       "  2290.9,1487.47 2290.9,47.2441 \n",
       "  \"/>\n",
       "<polyline clip-path=\"url(#clip9502)\" style=\"stroke:#000000; stroke-width:2; stroke-opacity:0.1; fill:none\" points=\"\n",
       "  167.279,1460.5 2352.76,1460.5 \n",
       "  \"/>\n",
       "<polyline clip-path=\"url(#clip9502)\" style=\"stroke:#000000; stroke-width:2; stroke-opacity:0.1; fill:none\" points=\"\n",
       "  167.279,1115.74 2352.76,1115.74 \n",
       "  \"/>\n",
       "<polyline clip-path=\"url(#clip9502)\" style=\"stroke:#000000; stroke-width:2; stroke-opacity:0.1; fill:none\" points=\"\n",
       "  167.279,770.981 2352.76,770.981 \n",
       "  \"/>\n",
       "<polyline clip-path=\"url(#clip9502)\" style=\"stroke:#000000; stroke-width:2; stroke-opacity:0.1; fill:none\" points=\"\n",
       "  167.279,426.219 2352.76,426.219 \n",
       "  \"/>\n",
       "<polyline clip-path=\"url(#clip9502)\" style=\"stroke:#000000; stroke-width:2; stroke-opacity:0.1; fill:none\" points=\"\n",
       "  167.279,81.4575 2352.76,81.4575 \n",
       "  \"/>\n",
       "<polyline clip-path=\"url(#clip9500)\" style=\"stroke:#000000; stroke-width:4; stroke-opacity:1; fill:none\" points=\"\n",
       "  167.279,1487.47 2352.76,1487.47 \n",
       "  \"/>\n",
       "<polyline clip-path=\"url(#clip9500)\" style=\"stroke:#000000; stroke-width:4; stroke-opacity:1; fill:none\" points=\"\n",
       "  167.279,1487.47 167.279,47.2441 \n",
       "  \"/>\n",
       "<polyline clip-path=\"url(#clip9500)\" style=\"stroke:#000000; stroke-width:4; stroke-opacity:1; fill:none\" points=\"\n",
       "  208.306,1487.47 208.306,1470.19 \n",
       "  \"/>\n",
       "<polyline clip-path=\"url(#clip9500)\" style=\"stroke:#000000; stroke-width:4; stroke-opacity:1; fill:none\" points=\"\n",
       "  728.955,1487.47 728.955,1470.19 \n",
       "  \"/>\n",
       "<polyline clip-path=\"url(#clip9500)\" style=\"stroke:#000000; stroke-width:4; stroke-opacity:1; fill:none\" points=\"\n",
       "  1249.6,1487.47 1249.6,1470.19 \n",
       "  \"/>\n",
       "<polyline clip-path=\"url(#clip9500)\" style=\"stroke:#000000; stroke-width:4; stroke-opacity:1; fill:none\" points=\"\n",
       "  1770.25,1487.47 1770.25,1470.19 \n",
       "  \"/>\n",
       "<polyline clip-path=\"url(#clip9500)\" style=\"stroke:#000000; stroke-width:4; stroke-opacity:1; fill:none\" points=\"\n",
       "  2290.9,1487.47 2290.9,1470.19 \n",
       "  \"/>\n",
       "<polyline clip-path=\"url(#clip9500)\" style=\"stroke:#000000; stroke-width:4; stroke-opacity:1; fill:none\" points=\"\n",
       "  167.279,1460.5 193.505,1460.5 \n",
       "  \"/>\n",
       "<polyline clip-path=\"url(#clip9500)\" style=\"stroke:#000000; stroke-width:4; stroke-opacity:1; fill:none\" points=\"\n",
       "  167.279,1115.74 193.505,1115.74 \n",
       "  \"/>\n",
       "<polyline clip-path=\"url(#clip9500)\" style=\"stroke:#000000; stroke-width:4; stroke-opacity:1; fill:none\" points=\"\n",
       "  167.279,770.981 193.505,770.981 \n",
       "  \"/>\n",
       "<polyline clip-path=\"url(#clip9500)\" style=\"stroke:#000000; stroke-width:4; stroke-opacity:1; fill:none\" points=\"\n",
       "  167.279,426.219 193.505,426.219 \n",
       "  \"/>\n",
       "<polyline clip-path=\"url(#clip9500)\" style=\"stroke:#000000; stroke-width:4; stroke-opacity:1; fill:none\" points=\"\n",
       "  167.279,81.4575 193.505,81.4575 \n",
       "  \"/>\n",
       "<g clip-path=\"url(#clip9500)\">\n",
       "<text style=\"fill:#000000; fill-opacity:1; font-family:Arial,Helvetica Neue,Helvetica,sans-serif; font-size:48px; text-anchor:middle;\" transform=\"rotate(0, 208.306, 1541.47)\" x=\"208.306\" y=\"1541.47\">0</text>\n",
       "</g>\n",
       "<g clip-path=\"url(#clip9500)\">\n",
       "<text style=\"fill:#000000; fill-opacity:1; font-family:Arial,Helvetica Neue,Helvetica,sans-serif; font-size:48px; text-anchor:middle;\" transform=\"rotate(0, 728.955, 1541.47)\" x=\"728.955\" y=\"1541.47\">25</text>\n",
       "</g>\n",
       "<g clip-path=\"url(#clip9500)\">\n",
       "<text style=\"fill:#000000; fill-opacity:1; font-family:Arial,Helvetica Neue,Helvetica,sans-serif; font-size:48px; text-anchor:middle;\" transform=\"rotate(0, 1249.6, 1541.47)\" x=\"1249.6\" y=\"1541.47\">50</text>\n",
       "</g>\n",
       "<g clip-path=\"url(#clip9500)\">\n",
       "<text style=\"fill:#000000; fill-opacity:1; font-family:Arial,Helvetica Neue,Helvetica,sans-serif; font-size:48px; text-anchor:middle;\" transform=\"rotate(0, 1770.25, 1541.47)\" x=\"1770.25\" y=\"1541.47\">75</text>\n",
       "</g>\n",
       "<g clip-path=\"url(#clip9500)\">\n",
       "<text style=\"fill:#000000; fill-opacity:1; font-family:Arial,Helvetica Neue,Helvetica,sans-serif; font-size:48px; text-anchor:middle;\" transform=\"rotate(0, 2290.9, 1541.47)\" x=\"2290.9\" y=\"1541.47\">100</text>\n",
       "</g>\n",
       "<g clip-path=\"url(#clip9500)\">\n",
       "<text style=\"fill:#000000; fill-opacity:1; font-family:Arial,Helvetica Neue,Helvetica,sans-serif; font-size:48px; text-anchor:end;\" transform=\"rotate(0, 143.279, 1478)\" x=\"143.279\" y=\"1478\">0</text>\n",
       "</g>\n",
       "<g clip-path=\"url(#clip9500)\">\n",
       "<text style=\"fill:#000000; fill-opacity:1; font-family:Arial,Helvetica Neue,Helvetica,sans-serif; font-size:48px; text-anchor:end;\" transform=\"rotate(0, 143.279, 1133.24)\" x=\"143.279\" y=\"1133.24\">25</text>\n",
       "</g>\n",
       "<g clip-path=\"url(#clip9500)\">\n",
       "<text style=\"fill:#000000; fill-opacity:1; font-family:Arial,Helvetica Neue,Helvetica,sans-serif; font-size:48px; text-anchor:end;\" transform=\"rotate(0, 143.279, 788.481)\" x=\"143.279\" y=\"788.481\">50</text>\n",
       "</g>\n",
       "<g clip-path=\"url(#clip9500)\">\n",
       "<text style=\"fill:#000000; fill-opacity:1; font-family:Arial,Helvetica Neue,Helvetica,sans-serif; font-size:48px; text-anchor:end;\" transform=\"rotate(0, 143.279, 443.719)\" x=\"143.279\" y=\"443.719\">75</text>\n",
       "</g>\n",
       "<g clip-path=\"url(#clip9500)\">\n",
       "<text style=\"fill:#000000; fill-opacity:1; font-family:Arial,Helvetica Neue,Helvetica,sans-serif; font-size:48px; text-anchor:end;\" transform=\"rotate(0, 143.279, 98.9575)\" x=\"143.279\" y=\"98.9575\">100</text>\n",
       "</g>\n",
       "<polyline clip-path=\"url(#clip9502)\" style=\"stroke:#009af9; stroke-width:4; stroke-opacity:1; fill:none\" points=\"\n",
       "  229.132,1446.71 249.958,1445.35 270.784,1443.85 291.61,1442.2 312.436,1440.4 333.262,1438.42 354.088,1436.24 374.914,1433.86 395.74,1431.25 416.566,1428.38 \n",
       "  437.392,1425.25 458.218,1421.81 479.044,1418.05 499.87,1413.94 520.696,1409.44 541.522,1404.52 562.348,1399.15 583.174,1393.28 604,1386.89 624.826,1379.92 \n",
       "  645.652,1372.33 666.478,1364.08 687.303,1355.11 708.129,1345.38 728.955,1334.83 749.781,1323.41 770.607,1311.06 791.433,1297.73 812.259,1283.38 833.085,1267.94 \n",
       "  853.911,1251.37 874.737,1233.63 895.563,1214.68 916.389,1194.48 937.215,1173 958.041,1150.25 978.867,1126.2 999.693,1100.88 1020.52,1074.29 1041.34,1046.49 \n",
       "  1062.17,1017.52 1083,987.447 1103.82,956.368 1124.65,924.385 1145.47,891.615 1166.3,858.194 1187.13,824.269 1207.95,789.999 1228.78,755.549 1249.6,721.09 \n",
       "  1270.43,686.795 1291.26,652.832 1312.08,619.368 1332.91,586.559 1353.73,554.549 1374.56,523.47 1395.39,493.436 1416.21,464.546 1437.04,436.879 1457.86,410.497 \n",
       "  1478.69,385.444 1499.52,361.746 1520.34,339.414 1541.17,318.443 1561.99,298.817 1582.82,280.507 1603.65,263.475 1624.47,247.676 1645.3,233.058 1666.12,219.564 \n",
       "  1686.95,207.137 1707.78,195.714 1728.6,185.235 1749.43,175.638 1770.25,166.863 1791.08,158.852 1811.91,151.547 1832.73,144.894 1853.56,138.842 1874.38,133.342 \n",
       "  1895.21,128.349 1916.04,123.819 1936.86,119.713 1957.69,115.994 1978.51,112.627 1999.34,109.58 2020.17,106.825 2040.99,104.335 2061.82,102.085 2082.64,100.053 \n",
       "  2103.47,98.219 2124.3,96.5632 2145.12,95.0692 2165.95,93.7214 2186.77,92.5059 2207.6,91.4099 2228.42,90.4219 2249.25,89.5313 2270.08,88.7286 2290.9,88.0053 \n",
       "  \n",
       "  \"/>\n",
       "<path clip-path=\"url(#clip9502)\" d=\"M229.132 1462.71 L217.82 1458.03 L213.132 1446.71 L217.82 1435.4 L229.132 1430.71 L240.444 1435.4 L245.132 1446.71 L240.444 1458.03 Z\" fill=\"#009af9\" fill-rule=\"evenodd\" fill-opacity=\"1\" stroke=\"#000000\" stroke-opacity=\"1\" stroke-width=\"3.2\"/>\n",
       "<path clip-path=\"url(#clip9502)\" d=\"M249.958 1461.35 L238.646 1456.66 L233.958 1445.35 L238.646 1434.04 L249.958 1429.35 L261.27 1434.04 L265.958 1445.35 L261.27 1456.66 Z\" fill=\"#009af9\" fill-rule=\"evenodd\" fill-opacity=\"1\" stroke=\"#000000\" stroke-opacity=\"1\" stroke-width=\"3.2\"/>\n",
       "<path clip-path=\"url(#clip9502)\" d=\"M270.784 1459.85 L259.472 1455.16 L254.784 1443.85 L259.472 1432.54 L270.784 1427.85 L282.096 1432.54 L286.784 1443.85 L282.096 1455.16 Z\" fill=\"#009af9\" fill-rule=\"evenodd\" fill-opacity=\"1\" stroke=\"#000000\" stroke-opacity=\"1\" stroke-width=\"3.2\"/>\n",
       "<path clip-path=\"url(#clip9502)\" d=\"M291.61 1458.2 L280.298 1453.52 L275.61 1442.2 L280.298 1430.89 L291.61 1426.2 L302.922 1430.89 L307.61 1442.2 L302.922 1453.52 Z\" fill=\"#009af9\" fill-rule=\"evenodd\" fill-opacity=\"1\" stroke=\"#000000\" stroke-opacity=\"1\" stroke-width=\"3.2\"/>\n",
       "<path clip-path=\"url(#clip9502)\" d=\"M312.436 1456.4 L301.124 1451.71 L296.436 1440.4 L301.124 1429.09 L312.436 1424.4 L323.748 1429.09 L328.436 1440.4 L323.748 1451.71 Z\" fill=\"#009af9\" fill-rule=\"evenodd\" fill-opacity=\"1\" stroke=\"#000000\" stroke-opacity=\"1\" stroke-width=\"3.2\"/>\n",
       "<path clip-path=\"url(#clip9502)\" d=\"M333.262 1454.42 L321.95 1449.73 L317.262 1438.42 L321.95 1427.1 L333.262 1422.42 L344.574 1427.1 L349.262 1438.42 L344.574 1449.73 Z\" fill=\"#009af9\" fill-rule=\"evenodd\" fill-opacity=\"1\" stroke=\"#000000\" stroke-opacity=\"1\" stroke-width=\"3.2\"/>\n",
       "<path clip-path=\"url(#clip9502)\" d=\"M354.088 1452.24 L342.776 1447.56 L338.088 1436.24 L342.776 1424.93 L354.088 1420.24 L365.4 1424.93 L370.088 1436.24 L365.4 1447.56 Z\" fill=\"#009af9\" fill-rule=\"evenodd\" fill-opacity=\"1\" stroke=\"#000000\" stroke-opacity=\"1\" stroke-width=\"3.2\"/>\n",
       "<path clip-path=\"url(#clip9502)\" d=\"M374.914 1449.86 L363.602 1445.17 L358.914 1433.86 L363.602 1422.55 L374.914 1417.86 L386.226 1422.55 L390.914 1433.86 L386.226 1445.17 Z\" fill=\"#009af9\" fill-rule=\"evenodd\" fill-opacity=\"1\" stroke=\"#000000\" stroke-opacity=\"1\" stroke-width=\"3.2\"/>\n",
       "<path clip-path=\"url(#clip9502)\" d=\"M395.74 1447.25 L384.428 1442.56 L379.74 1431.25 L384.428 1419.94 L395.74 1415.25 L407.052 1419.94 L411.74 1431.25 L407.052 1442.56 Z\" fill=\"#009af9\" fill-rule=\"evenodd\" fill-opacity=\"1\" stroke=\"#000000\" stroke-opacity=\"1\" stroke-width=\"3.2\"/>\n",
       "<path clip-path=\"url(#clip9502)\" d=\"M416.566 1444.38 L405.254 1439.7 L400.566 1428.38 L405.254 1417.07 L416.566 1412.38 L427.878 1417.07 L432.566 1428.38 L427.878 1439.7 Z\" fill=\"#009af9\" fill-rule=\"evenodd\" fill-opacity=\"1\" stroke=\"#000000\" stroke-opacity=\"1\" stroke-width=\"3.2\"/>\n",
       "<path clip-path=\"url(#clip9502)\" d=\"M437.392 1441.25 L426.08 1436.56 L421.392 1425.25 L426.08 1413.93 L437.392 1409.25 L448.704 1413.93 L453.392 1425.25 L448.704 1436.56 Z\" fill=\"#009af9\" fill-rule=\"evenodd\" fill-opacity=\"1\" stroke=\"#000000\" stroke-opacity=\"1\" stroke-width=\"3.2\"/>\n",
       "<path clip-path=\"url(#clip9502)\" d=\"M458.218 1437.81 L446.906 1433.12 L442.218 1421.81 L446.906 1410.5 L458.218 1405.81 L469.53 1410.5 L474.218 1421.81 L469.53 1433.12 Z\" fill=\"#009af9\" fill-rule=\"evenodd\" fill-opacity=\"1\" stroke=\"#000000\" stroke-opacity=\"1\" stroke-width=\"3.2\"/>\n",
       "<path clip-path=\"url(#clip9502)\" d=\"M479.044 1434.05 L467.732 1429.36 L463.044 1418.05 L467.732 1406.74 L479.044 1402.05 L490.356 1406.74 L495.044 1418.05 L490.356 1429.36 Z\" fill=\"#009af9\" fill-rule=\"evenodd\" fill-opacity=\"1\" stroke=\"#000000\" stroke-opacity=\"1\" stroke-width=\"3.2\"/>\n",
       "<path clip-path=\"url(#clip9502)\" d=\"M499.87 1429.94 L488.558 1425.25 L483.87 1413.94 L488.558 1402.62 L499.87 1397.94 L511.182 1402.62 L515.87 1413.94 L511.182 1425.25 Z\" fill=\"#009af9\" fill-rule=\"evenodd\" fill-opacity=\"1\" stroke=\"#000000\" stroke-opacity=\"1\" stroke-width=\"3.2\"/>\n",
       "<path clip-path=\"url(#clip9502)\" d=\"M520.696 1425.44 L509.384 1420.75 L504.696 1409.44 L509.384 1398.12 L520.696 1393.44 L532.008 1398.12 L536.696 1409.44 L532.008 1420.75 Z\" fill=\"#009af9\" fill-rule=\"evenodd\" fill-opacity=\"1\" stroke=\"#000000\" stroke-opacity=\"1\" stroke-width=\"3.2\"/>\n",
       "<path clip-path=\"url(#clip9502)\" d=\"M541.522 1420.52 L530.21 1415.83 L525.522 1404.52 L530.21 1393.21 L541.522 1388.52 L552.834 1393.21 L557.522 1404.52 L552.834 1415.83 Z\" fill=\"#009af9\" fill-rule=\"evenodd\" fill-opacity=\"1\" stroke=\"#000000\" stroke-opacity=\"1\" stroke-width=\"3.2\"/>\n",
       "<path clip-path=\"url(#clip9502)\" d=\"M562.348 1415.15 L551.036 1410.46 L546.348 1399.15 L551.036 1387.84 L562.348 1383.15 L573.66 1387.84 L578.348 1399.15 L573.66 1410.46 Z\" fill=\"#009af9\" fill-rule=\"evenodd\" fill-opacity=\"1\" stroke=\"#000000\" stroke-opacity=\"1\" stroke-width=\"3.2\"/>\n",
       "<path clip-path=\"url(#clip9502)\" d=\"M583.174 1409.28 L571.862 1404.6 L567.174 1393.28 L571.862 1381.97 L583.174 1377.28 L594.486 1381.97 L599.174 1393.28 L594.486 1404.6 Z\" fill=\"#009af9\" fill-rule=\"evenodd\" fill-opacity=\"1\" stroke=\"#000000\" stroke-opacity=\"1\" stroke-width=\"3.2\"/>\n",
       "<path clip-path=\"url(#clip9502)\" d=\"M604 1402.89 L592.688 1398.2 L588 1386.89 L592.688 1375.58 L604 1370.89 L615.312 1375.58 L620 1386.89 L615.312 1398.2 Z\" fill=\"#009af9\" fill-rule=\"evenodd\" fill-opacity=\"1\" stroke=\"#000000\" stroke-opacity=\"1\" stroke-width=\"3.2\"/>\n",
       "<path clip-path=\"url(#clip9502)\" d=\"M624.826 1395.92 L613.514 1391.23 L608.826 1379.92 L613.514 1368.61 L624.826 1363.92 L636.138 1368.61 L640.826 1379.92 L636.138 1391.23 Z\" fill=\"#009af9\" fill-rule=\"evenodd\" fill-opacity=\"1\" stroke=\"#000000\" stroke-opacity=\"1\" stroke-width=\"3.2\"/>\n",
       "<path clip-path=\"url(#clip9502)\" d=\"M645.652 1388.33 L634.34 1383.65 L629.652 1372.33 L634.34 1361.02 L645.652 1356.33 L656.964 1361.02 L661.652 1372.33 L656.964 1383.65 Z\" fill=\"#009af9\" fill-rule=\"evenodd\" fill-opacity=\"1\" stroke=\"#000000\" stroke-opacity=\"1\" stroke-width=\"3.2\"/>\n",
       "<path clip-path=\"url(#clip9502)\" d=\"M666.478 1380.08 L655.166 1375.39 L650.478 1364.08 L655.166 1352.77 L666.478 1348.08 L677.79 1352.77 L682.478 1364.08 L677.79 1375.39 Z\" fill=\"#009af9\" fill-rule=\"evenodd\" fill-opacity=\"1\" stroke=\"#000000\" stroke-opacity=\"1\" stroke-width=\"3.2\"/>\n",
       "<path clip-path=\"url(#clip9502)\" d=\"M687.303 1371.11 L675.991 1366.43 L671.303 1355.11 L675.991 1343.8 L687.303 1339.11 L698.615 1343.8 L703.303 1355.11 L698.615 1366.43 Z\" fill=\"#009af9\" fill-rule=\"evenodd\" fill-opacity=\"1\" stroke=\"#000000\" stroke-opacity=\"1\" stroke-width=\"3.2\"/>\n",
       "<path clip-path=\"url(#clip9502)\" d=\"M708.129 1361.38 L696.817 1356.69 L692.129 1345.38 L696.817 1334.07 L708.129 1329.38 L719.441 1334.07 L724.129 1345.38 L719.441 1356.69 Z\" fill=\"#009af9\" fill-rule=\"evenodd\" fill-opacity=\"1\" stroke=\"#000000\" stroke-opacity=\"1\" stroke-width=\"3.2\"/>\n",
       "<path clip-path=\"url(#clip9502)\" d=\"M728.955 1350.83 L717.643 1346.14 L712.955 1334.83 L717.643 1323.52 L728.955 1318.83 L740.267 1323.52 L744.955 1334.83 L740.267 1346.14 Z\" fill=\"#009af9\" fill-rule=\"evenodd\" fill-opacity=\"1\" stroke=\"#000000\" stroke-opacity=\"1\" stroke-width=\"3.2\"/>\n",
       "<path clip-path=\"url(#clip9502)\" d=\"M749.781 1339.41 L738.469 1334.72 L733.781 1323.41 L738.469 1312.09 L749.781 1307.41 L761.093 1312.09 L765.781 1323.41 L761.093 1334.72 Z\" fill=\"#009af9\" fill-rule=\"evenodd\" fill-opacity=\"1\" stroke=\"#000000\" stroke-opacity=\"1\" stroke-width=\"3.2\"/>\n",
       "<path clip-path=\"url(#clip9502)\" d=\"M770.607 1327.06 L759.295 1322.37 L754.607 1311.06 L759.295 1299.75 L770.607 1295.06 L781.919 1299.75 L786.607 1311.06 L781.919 1322.37 Z\" fill=\"#009af9\" fill-rule=\"evenodd\" fill-opacity=\"1\" stroke=\"#000000\" stroke-opacity=\"1\" stroke-width=\"3.2\"/>\n",
       "<path clip-path=\"url(#clip9502)\" d=\"M791.433 1313.73 L780.121 1309.05 L775.433 1297.73 L780.121 1286.42 L791.433 1281.73 L802.745 1286.42 L807.433 1297.73 L802.745 1309.05 Z\" fill=\"#009af9\" fill-rule=\"evenodd\" fill-opacity=\"1\" stroke=\"#000000\" stroke-opacity=\"1\" stroke-width=\"3.2\"/>\n",
       "<path clip-path=\"url(#clip9502)\" d=\"M812.259 1299.38 L800.947 1294.69 L796.259 1283.38 L800.947 1272.07 L812.259 1267.38 L823.571 1272.07 L828.259 1283.38 L823.571 1294.69 Z\" fill=\"#009af9\" fill-rule=\"evenodd\" fill-opacity=\"1\" stroke=\"#000000\" stroke-opacity=\"1\" stroke-width=\"3.2\"/>\n",
       "<path clip-path=\"url(#clip9502)\" d=\"M833.085 1283.94 L821.773 1279.25 L817.085 1267.94 L821.773 1256.63 L833.085 1251.94 L844.397 1256.63 L849.085 1267.94 L844.397 1279.25 Z\" fill=\"#009af9\" fill-rule=\"evenodd\" fill-opacity=\"1\" stroke=\"#000000\" stroke-opacity=\"1\" stroke-width=\"3.2\"/>\n",
       "<path clip-path=\"url(#clip9502)\" d=\"M853.911 1267.37 L842.599 1262.69 L837.911 1251.37 L842.599 1240.06 L853.911 1235.37 L865.223 1240.06 L869.911 1251.37 L865.223 1262.69 Z\" fill=\"#009af9\" fill-rule=\"evenodd\" fill-opacity=\"1\" stroke=\"#000000\" stroke-opacity=\"1\" stroke-width=\"3.2\"/>\n",
       "<path clip-path=\"url(#clip9502)\" d=\"M874.737 1249.63 L863.425 1244.94 L858.737 1233.63 L863.425 1222.32 L874.737 1217.63 L886.049 1222.32 L890.737 1233.63 L886.049 1244.94 Z\" fill=\"#009af9\" fill-rule=\"evenodd\" fill-opacity=\"1\" stroke=\"#000000\" stroke-opacity=\"1\" stroke-width=\"3.2\"/>\n",
       "<path clip-path=\"url(#clip9502)\" d=\"M895.563 1230.68 L884.251 1225.99 L879.563 1214.68 L884.251 1203.36 L895.563 1198.68 L906.875 1203.36 L911.563 1214.68 L906.875 1225.99 Z\" fill=\"#009af9\" fill-rule=\"evenodd\" fill-opacity=\"1\" stroke=\"#000000\" stroke-opacity=\"1\" stroke-width=\"3.2\"/>\n",
       "<path clip-path=\"url(#clip9502)\" d=\"M916.389 1210.48 L905.077 1205.79 L900.389 1194.48 L905.077 1183.16 L916.389 1178.48 L927.701 1183.16 L932.389 1194.48 L927.701 1205.79 Z\" fill=\"#009af9\" fill-rule=\"evenodd\" fill-opacity=\"1\" stroke=\"#000000\" stroke-opacity=\"1\" stroke-width=\"3.2\"/>\n",
       "<path clip-path=\"url(#clip9502)\" d=\"M937.215 1189 L925.903 1184.32 L921.215 1173 L925.903 1161.69 L937.215 1157 L948.527 1161.69 L953.215 1173 L948.527 1184.32 Z\" fill=\"#009af9\" fill-rule=\"evenodd\" fill-opacity=\"1\" stroke=\"#000000\" stroke-opacity=\"1\" stroke-width=\"3.2\"/>\n",
       "<path clip-path=\"url(#clip9502)\" d=\"M958.041 1166.25 L946.729 1161.56 L942.041 1150.25 L946.729 1138.94 L958.041 1134.25 L969.353 1138.94 L974.041 1150.25 L969.353 1161.56 Z\" fill=\"#009af9\" fill-rule=\"evenodd\" fill-opacity=\"1\" stroke=\"#000000\" stroke-opacity=\"1\" stroke-width=\"3.2\"/>\n",
       "<path clip-path=\"url(#clip9502)\" d=\"M978.867 1142.2 L967.555 1137.52 L962.867 1126.2 L967.555 1114.89 L978.867 1110.2 L990.179 1114.89 L994.867 1126.2 L990.179 1137.52 Z\" fill=\"#009af9\" fill-rule=\"evenodd\" fill-opacity=\"1\" stroke=\"#000000\" stroke-opacity=\"1\" stroke-width=\"3.2\"/>\n",
       "<path clip-path=\"url(#clip9502)\" d=\"M999.693 1116.88 L988.381 1112.19 L983.693 1100.88 L988.381 1089.57 L999.693 1084.88 L1011 1089.57 L1015.69 1100.88 L1011 1112.19 Z\" fill=\"#009af9\" fill-rule=\"evenodd\" fill-opacity=\"1\" stroke=\"#000000\" stroke-opacity=\"1\" stroke-width=\"3.2\"/>\n",
       "<path clip-path=\"url(#clip9502)\" d=\"M1020.52 1090.29 L1009.21 1085.6 L1004.52 1074.29 L1009.21 1062.98 L1020.52 1058.29 L1031.83 1062.98 L1036.52 1074.29 L1031.83 1085.6 Z\" fill=\"#009af9\" fill-rule=\"evenodd\" fill-opacity=\"1\" stroke=\"#000000\" stroke-opacity=\"1\" stroke-width=\"3.2\"/>\n",
       "<path clip-path=\"url(#clip9502)\" d=\"M1041.34 1062.49 L1030.03 1057.8 L1025.34 1046.49 L1030.03 1035.18 L1041.34 1030.49 L1052.66 1035.18 L1057.34 1046.49 L1052.66 1057.8 Z\" fill=\"#009af9\" fill-rule=\"evenodd\" fill-opacity=\"1\" stroke=\"#000000\" stroke-opacity=\"1\" stroke-width=\"3.2\"/>\n",
       "<path clip-path=\"url(#clip9502)\" d=\"M1062.17 1033.52 L1050.86 1028.83 L1046.17 1017.52 L1050.86 1006.2 L1062.17 1001.52 L1073.48 1006.2 L1078.17 1017.52 L1073.48 1028.83 Z\" fill=\"#009af9\" fill-rule=\"evenodd\" fill-opacity=\"1\" stroke=\"#000000\" stroke-opacity=\"1\" stroke-width=\"3.2\"/>\n",
       "<path clip-path=\"url(#clip9502)\" d=\"M1083 1003.45 L1071.68 998.759 L1067 987.447 L1071.68 976.135 L1083 971.447 L1094.31 976.135 L1099 987.447 L1094.31 998.759 Z\" fill=\"#009af9\" fill-rule=\"evenodd\" fill-opacity=\"1\" stroke=\"#000000\" stroke-opacity=\"1\" stroke-width=\"3.2\"/>\n",
       "<path clip-path=\"url(#clip9502)\" d=\"M1103.82 972.368 L1092.51 967.68 L1087.82 956.368 L1092.51 945.056 L1103.82 940.368 L1115.13 945.056 L1119.82 956.368 L1115.13 967.68 Z\" fill=\"#009af9\" fill-rule=\"evenodd\" fill-opacity=\"1\" stroke=\"#000000\" stroke-opacity=\"1\" stroke-width=\"3.2\"/>\n",
       "<path clip-path=\"url(#clip9502)\" d=\"M1124.65 940.385 L1113.34 935.697 L1108.65 924.385 L1113.34 913.073 L1124.65 908.385 L1135.96 913.073 L1140.65 924.385 L1135.96 935.697 Z\" fill=\"#009af9\" fill-rule=\"evenodd\" fill-opacity=\"1\" stroke=\"#000000\" stroke-opacity=\"1\" stroke-width=\"3.2\"/>\n",
       "<path clip-path=\"url(#clip9502)\" d=\"M1145.47 907.615 L1134.16 902.927 L1129.47 891.615 L1134.16 880.303 L1145.47 875.615 L1156.79 880.303 L1161.47 891.615 L1156.79 902.927 Z\" fill=\"#009af9\" fill-rule=\"evenodd\" fill-opacity=\"1\" stroke=\"#000000\" stroke-opacity=\"1\" stroke-width=\"3.2\"/>\n",
       "<path clip-path=\"url(#clip9502)\" d=\"M1166.3 874.194 L1154.99 869.506 L1150.3 858.194 L1154.99 846.882 L1166.3 842.194 L1177.61 846.882 L1182.3 858.194 L1177.61 869.506 Z\" fill=\"#009af9\" fill-rule=\"evenodd\" fill-opacity=\"1\" stroke=\"#000000\" stroke-opacity=\"1\" stroke-width=\"3.2\"/>\n",
       "<path clip-path=\"url(#clip9502)\" d=\"M1187.13 840.269 L1175.81 835.581 L1171.13 824.269 L1175.81 812.957 L1187.13 808.269 L1198.44 812.957 L1203.13 824.269 L1198.44 835.581 Z\" fill=\"#009af9\" fill-rule=\"evenodd\" fill-opacity=\"1\" stroke=\"#000000\" stroke-opacity=\"1\" stroke-width=\"3.2\"/>\n",
       "<path clip-path=\"url(#clip9502)\" d=\"M1207.95 805.999 L1196.64 801.311 L1191.95 789.999 L1196.64 778.687 L1207.95 773.999 L1219.26 778.687 L1223.95 789.999 L1219.26 801.311 Z\" fill=\"#009af9\" fill-rule=\"evenodd\" fill-opacity=\"1\" stroke=\"#000000\" stroke-opacity=\"1\" stroke-width=\"3.2\"/>\n",
       "<path clip-path=\"url(#clip9502)\" d=\"M1228.78 771.549 L1217.47 766.861 L1212.78 755.549 L1217.47 744.237 L1228.78 739.549 L1240.09 744.237 L1244.78 755.549 L1240.09 766.861 Z\" fill=\"#009af9\" fill-rule=\"evenodd\" fill-opacity=\"1\" stroke=\"#000000\" stroke-opacity=\"1\" stroke-width=\"3.2\"/>\n",
       "<path clip-path=\"url(#clip9502)\" d=\"M1249.6 737.09 L1238.29 732.402 L1233.6 721.09 L1238.29 709.778 L1249.6 705.09 L1260.92 709.778 L1265.6 721.09 L1260.92 732.402 Z\" fill=\"#009af9\" fill-rule=\"evenodd\" fill-opacity=\"1\" stroke=\"#000000\" stroke-opacity=\"1\" stroke-width=\"3.2\"/>\n",
       "<path clip-path=\"url(#clip9502)\" d=\"M1270.43 702.795 L1259.12 698.107 L1254.43 686.795 L1259.12 675.483 L1270.43 670.795 L1281.74 675.483 L1286.43 686.795 L1281.74 698.107 Z\" fill=\"#009af9\" fill-rule=\"evenodd\" fill-opacity=\"1\" stroke=\"#000000\" stroke-opacity=\"1\" stroke-width=\"3.2\"/>\n",
       "<path clip-path=\"url(#clip9502)\" d=\"M1291.26 668.832 L1279.94 664.144 L1275.26 652.832 L1279.94 641.52 L1291.26 636.832 L1302.57 641.52 L1307.26 652.832 L1302.57 664.144 Z\" fill=\"#009af9\" fill-rule=\"evenodd\" fill-opacity=\"1\" stroke=\"#000000\" stroke-opacity=\"1\" stroke-width=\"3.2\"/>\n",
       "<path clip-path=\"url(#clip9502)\" d=\"M1312.08 635.368 L1300.77 630.68 L1296.08 619.368 L1300.77 608.056 L1312.08 603.368 L1323.39 608.056 L1328.08 619.368 L1323.39 630.68 Z\" fill=\"#009af9\" fill-rule=\"evenodd\" fill-opacity=\"1\" stroke=\"#000000\" stroke-opacity=\"1\" stroke-width=\"3.2\"/>\n",
       "<path clip-path=\"url(#clip9502)\" d=\"M1332.91 602.559 L1321.6 597.871 L1316.91 586.559 L1321.6 575.247 L1332.91 570.559 L1344.22 575.247 L1348.91 586.559 L1344.22 597.871 Z\" fill=\"#009af9\" fill-rule=\"evenodd\" fill-opacity=\"1\" stroke=\"#000000\" stroke-opacity=\"1\" stroke-width=\"3.2\"/>\n",
       "<path clip-path=\"url(#clip9502)\" d=\"M1353.73 570.549 L1342.42 565.861 L1337.73 554.549 L1342.42 543.237 L1353.73 538.549 L1365.05 543.237 L1369.73 554.549 L1365.05 565.861 Z\" fill=\"#009af9\" fill-rule=\"evenodd\" fill-opacity=\"1\" stroke=\"#000000\" stroke-opacity=\"1\" stroke-width=\"3.2\"/>\n",
       "<path clip-path=\"url(#clip9502)\" d=\"M1374.56 539.47 L1363.25 534.782 L1358.56 523.47 L1363.25 512.158 L1374.56 507.47 L1385.87 512.158 L1390.56 523.47 L1385.87 534.782 Z\" fill=\"#009af9\" fill-rule=\"evenodd\" fill-opacity=\"1\" stroke=\"#000000\" stroke-opacity=\"1\" stroke-width=\"3.2\"/>\n",
       "<path clip-path=\"url(#clip9502)\" d=\"M1395.39 509.436 L1384.07 504.748 L1379.39 493.436 L1384.07 482.124 L1395.39 477.436 L1406.7 482.124 L1411.39 493.436 L1406.7 504.748 Z\" fill=\"#009af9\" fill-rule=\"evenodd\" fill-opacity=\"1\" stroke=\"#000000\" stroke-opacity=\"1\" stroke-width=\"3.2\"/>\n",
       "<path clip-path=\"url(#clip9502)\" d=\"M1416.21 480.546 L1404.9 475.858 L1400.21 464.546 L1404.9 453.234 L1416.21 448.546 L1427.52 453.234 L1432.21 464.546 L1427.52 475.858 Z\" fill=\"#009af9\" fill-rule=\"evenodd\" fill-opacity=\"1\" stroke=\"#000000\" stroke-opacity=\"1\" stroke-width=\"3.2\"/>\n",
       "<path clip-path=\"url(#clip9502)\" d=\"M1437.04 452.879 L1425.73 448.191 L1421.04 436.879 L1425.73 425.567 L1437.04 420.879 L1448.35 425.567 L1453.04 436.879 L1448.35 448.191 Z\" fill=\"#009af9\" fill-rule=\"evenodd\" fill-opacity=\"1\" stroke=\"#000000\" stroke-opacity=\"1\" stroke-width=\"3.2\"/>\n",
       "<path clip-path=\"url(#clip9502)\" d=\"M1457.86 426.497 L1446.55 421.809 L1441.86 410.497 L1446.55 399.185 L1457.86 394.497 L1469.18 399.185 L1473.86 410.497 L1469.18 421.809 Z\" fill=\"#009af9\" fill-rule=\"evenodd\" fill-opacity=\"1\" stroke=\"#000000\" stroke-opacity=\"1\" stroke-width=\"3.2\"/>\n",
       "<path clip-path=\"url(#clip9502)\" d=\"M1478.69 401.444 L1467.38 396.756 L1462.69 385.444 L1467.38 374.132 L1478.69 369.444 L1490 374.132 L1494.69 385.444 L1490 396.756 Z\" fill=\"#009af9\" fill-rule=\"evenodd\" fill-opacity=\"1\" stroke=\"#000000\" stroke-opacity=\"1\" stroke-width=\"3.2\"/>\n",
       "<path clip-path=\"url(#clip9502)\" d=\"M1499.52 377.746 L1488.2 373.058 L1483.52 361.746 L1488.2 350.434 L1499.52 345.746 L1510.83 350.434 L1515.52 361.746 L1510.83 373.058 Z\" fill=\"#009af9\" fill-rule=\"evenodd\" fill-opacity=\"1\" stroke=\"#000000\" stroke-opacity=\"1\" stroke-width=\"3.2\"/>\n",
       "<path clip-path=\"url(#clip9502)\" d=\"M1520.34 355.414 L1509.03 350.726 L1504.34 339.414 L1509.03 328.102 L1520.34 323.414 L1531.65 328.102 L1536.34 339.414 L1531.65 350.726 Z\" fill=\"#009af9\" fill-rule=\"evenodd\" fill-opacity=\"1\" stroke=\"#000000\" stroke-opacity=\"1\" stroke-width=\"3.2\"/>\n",
       "<path clip-path=\"url(#clip9502)\" d=\"M1541.17 334.443 L1529.86 329.755 L1525.17 318.443 L1529.86 307.131 L1541.17 302.443 L1552.48 307.131 L1557.17 318.443 L1552.48 329.755 Z\" fill=\"#009af9\" fill-rule=\"evenodd\" fill-opacity=\"1\" stroke=\"#000000\" stroke-opacity=\"1\" stroke-width=\"3.2\"/>\n",
       "<path clip-path=\"url(#clip9502)\" d=\"M1561.99 314.817 L1550.68 310.129 L1545.99 298.817 L1550.68 287.505 L1561.99 282.817 L1573.31 287.505 L1577.99 298.817 L1573.31 310.129 Z\" fill=\"#009af9\" fill-rule=\"evenodd\" fill-opacity=\"1\" stroke=\"#000000\" stroke-opacity=\"1\" stroke-width=\"3.2\"/>\n",
       "<path clip-path=\"url(#clip9502)\" d=\"M1582.82 296.507 L1571.51 291.819 L1566.82 280.507 L1571.51 269.195 L1582.82 264.507 L1594.13 269.195 L1598.82 280.507 L1594.13 291.819 Z\" fill=\"#009af9\" fill-rule=\"evenodd\" fill-opacity=\"1\" stroke=\"#000000\" stroke-opacity=\"1\" stroke-width=\"3.2\"/>\n",
       "<path clip-path=\"url(#clip9502)\" d=\"M1603.65 279.475 L1592.33 274.787 L1587.65 263.475 L1592.33 252.163 L1603.65 247.475 L1614.96 252.163 L1619.65 263.475 L1614.96 274.787 Z\" fill=\"#009af9\" fill-rule=\"evenodd\" fill-opacity=\"1\" stroke=\"#000000\" stroke-opacity=\"1\" stroke-width=\"3.2\"/>\n",
       "<path clip-path=\"url(#clip9502)\" d=\"M1624.47 263.676 L1613.16 258.988 L1608.47 247.676 L1613.16 236.364 L1624.47 231.676 L1635.78 236.364 L1640.47 247.676 L1635.78 258.988 Z\" fill=\"#009af9\" fill-rule=\"evenodd\" fill-opacity=\"1\" stroke=\"#000000\" stroke-opacity=\"1\" stroke-width=\"3.2\"/>\n",
       "<path clip-path=\"url(#clip9502)\" d=\"M1645.3 249.058 L1633.99 244.37 L1629.3 233.058 L1633.99 221.746 L1645.3 217.058 L1656.61 221.746 L1661.3 233.058 L1656.61 244.37 Z\" fill=\"#009af9\" fill-rule=\"evenodd\" fill-opacity=\"1\" stroke=\"#000000\" stroke-opacity=\"1\" stroke-width=\"3.2\"/>\n",
       "<path clip-path=\"url(#clip9502)\" d=\"M1666.12 235.564 L1654.81 230.876 L1650.12 219.564 L1654.81 208.252 L1666.12 203.564 L1677.44 208.252 L1682.12 219.564 L1677.44 230.876 Z\" fill=\"#009af9\" fill-rule=\"evenodd\" fill-opacity=\"1\" stroke=\"#000000\" stroke-opacity=\"1\" stroke-width=\"3.2\"/>\n",
       "<path clip-path=\"url(#clip9502)\" d=\"M1686.95 223.137 L1675.64 218.449 L1670.95 207.137 L1675.64 195.825 L1686.95 191.137 L1698.26 195.825 L1702.95 207.137 L1698.26 218.449 Z\" fill=\"#009af9\" fill-rule=\"evenodd\" fill-opacity=\"1\" stroke=\"#000000\" stroke-opacity=\"1\" stroke-width=\"3.2\"/>\n",
       "<path clip-path=\"url(#clip9502)\" d=\"M1707.78 211.714 L1696.46 207.026 L1691.78 195.714 L1696.46 184.402 L1707.78 179.714 L1719.09 184.402 L1723.78 195.714 L1719.09 207.026 Z\" fill=\"#009af9\" fill-rule=\"evenodd\" fill-opacity=\"1\" stroke=\"#000000\" stroke-opacity=\"1\" stroke-width=\"3.2\"/>\n",
       "<path clip-path=\"url(#clip9502)\" d=\"M1728.6 201.235 L1717.29 196.547 L1712.6 185.235 L1717.29 173.923 L1728.6 169.235 L1739.91 173.923 L1744.6 185.235 L1739.91 196.547 Z\" fill=\"#009af9\" fill-rule=\"evenodd\" fill-opacity=\"1\" stroke=\"#000000\" stroke-opacity=\"1\" stroke-width=\"3.2\"/>\n",
       "<path clip-path=\"url(#clip9502)\" d=\"M1749.43 191.638 L1738.12 186.95 L1733.43 175.638 L1738.12 164.326 L1749.43 159.638 L1760.74 164.326 L1765.43 175.638 L1760.74 186.95 Z\" fill=\"#009af9\" fill-rule=\"evenodd\" fill-opacity=\"1\" stroke=\"#000000\" stroke-opacity=\"1\" stroke-width=\"3.2\"/>\n",
       "<path clip-path=\"url(#clip9502)\" d=\"M1770.25 182.863 L1758.94 178.175 L1754.25 166.863 L1758.94 155.551 L1770.25 150.863 L1781.57 155.551 L1786.25 166.863 L1781.57 178.175 Z\" fill=\"#009af9\" fill-rule=\"evenodd\" fill-opacity=\"1\" stroke=\"#000000\" stroke-opacity=\"1\" stroke-width=\"3.2\"/>\n",
       "<path clip-path=\"url(#clip9502)\" d=\"M1791.08 174.852 L1779.77 170.164 L1775.08 158.852 L1779.77 147.54 L1791.08 142.852 L1802.39 147.54 L1807.08 158.852 L1802.39 170.164 Z\" fill=\"#009af9\" fill-rule=\"evenodd\" fill-opacity=\"1\" stroke=\"#000000\" stroke-opacity=\"1\" stroke-width=\"3.2\"/>\n",
       "<path clip-path=\"url(#clip9502)\" d=\"M1811.91 167.547 L1800.59 162.859 L1795.91 151.547 L1800.59 140.235 L1811.91 135.547 L1823.22 140.235 L1827.91 151.547 L1823.22 162.859 Z\" fill=\"#009af9\" fill-rule=\"evenodd\" fill-opacity=\"1\" stroke=\"#000000\" stroke-opacity=\"1\" stroke-width=\"3.2\"/>\n",
       "<path clip-path=\"url(#clip9502)\" d=\"M1832.73 160.894 L1821.42 156.206 L1816.73 144.894 L1821.42 133.582 L1832.73 128.894 L1844.04 133.582 L1848.73 144.894 L1844.04 156.206 Z\" fill=\"#009af9\" fill-rule=\"evenodd\" fill-opacity=\"1\" stroke=\"#000000\" stroke-opacity=\"1\" stroke-width=\"3.2\"/>\n",
       "<path clip-path=\"url(#clip9502)\" d=\"M1853.56 154.842 L1842.25 150.154 L1837.56 138.842 L1842.25 127.53 L1853.56 122.842 L1864.87 127.53 L1869.56 138.842 L1864.87 150.154 Z\" fill=\"#009af9\" fill-rule=\"evenodd\" fill-opacity=\"1\" stroke=\"#000000\" stroke-opacity=\"1\" stroke-width=\"3.2\"/>\n",
       "<path clip-path=\"url(#clip9502)\" d=\"M1874.38 149.342 L1863.07 144.654 L1858.38 133.342 L1863.07 122.03 L1874.38 117.342 L1885.7 122.03 L1890.38 133.342 L1885.7 144.654 Z\" fill=\"#009af9\" fill-rule=\"evenodd\" fill-opacity=\"1\" stroke=\"#000000\" stroke-opacity=\"1\" stroke-width=\"3.2\"/>\n",
       "<path clip-path=\"url(#clip9502)\" d=\"M1895.21 144.349 L1883.9 139.661 L1879.21 128.349 L1883.9 117.037 L1895.21 112.349 L1906.52 117.037 L1911.21 128.349 L1906.52 139.661 Z\" fill=\"#009af9\" fill-rule=\"evenodd\" fill-opacity=\"1\" stroke=\"#000000\" stroke-opacity=\"1\" stroke-width=\"3.2\"/>\n",
       "<path clip-path=\"url(#clip9502)\" d=\"M1916.04 139.819 L1904.72 135.131 L1900.04 123.819 L1904.72 112.507 L1916.04 107.819 L1927.35 112.507 L1932.04 123.819 L1927.35 135.131 Z\" fill=\"#009af9\" fill-rule=\"evenodd\" fill-opacity=\"1\" stroke=\"#000000\" stroke-opacity=\"1\" stroke-width=\"3.2\"/>\n",
       "<path clip-path=\"url(#clip9502)\" d=\"M1936.86 135.713 L1925.55 131.025 L1920.86 119.713 L1925.55 108.401 L1936.86 103.713 L1948.17 108.401 L1952.86 119.713 L1948.17 131.025 Z\" fill=\"#009af9\" fill-rule=\"evenodd\" fill-opacity=\"1\" stroke=\"#000000\" stroke-opacity=\"1\" stroke-width=\"3.2\"/>\n",
       "<path clip-path=\"url(#clip9502)\" d=\"M1957.69 131.994 L1946.38 127.306 L1941.69 115.994 L1946.38 104.682 L1957.69 99.9939 L1969 104.682 L1973.69 115.994 L1969 127.306 Z\" fill=\"#009af9\" fill-rule=\"evenodd\" fill-opacity=\"1\" stroke=\"#000000\" stroke-opacity=\"1\" stroke-width=\"3.2\"/>\n",
       "<path clip-path=\"url(#clip9502)\" d=\"M1978.51 128.627 L1967.2 123.939 L1962.51 112.627 L1967.2 101.315 L1978.51 96.6268 L1989.83 101.315 L1994.51 112.627 L1989.83 123.939 Z\" fill=\"#009af9\" fill-rule=\"evenodd\" fill-opacity=\"1\" stroke=\"#000000\" stroke-opacity=\"1\" stroke-width=\"3.2\"/>\n",
       "<path clip-path=\"url(#clip9502)\" d=\"M1999.34 125.58 L1988.03 120.892 L1983.34 109.58 L1988.03 98.2683 L1999.34 93.5803 L2010.65 98.2683 L2015.34 109.58 L2010.65 120.892 Z\" fill=\"#009af9\" fill-rule=\"evenodd\" fill-opacity=\"1\" stroke=\"#000000\" stroke-opacity=\"1\" stroke-width=\"3.2\"/>\n",
       "<path clip-path=\"url(#clip9502)\" d=\"M2020.17 122.825 L2008.85 118.137 L2004.17 106.825 L2008.85 95.5134 L2020.17 90.8254 L2031.48 95.5134 L2036.17 106.825 L2031.48 118.137 Z\" fill=\"#009af9\" fill-rule=\"evenodd\" fill-opacity=\"1\" stroke=\"#000000\" stroke-opacity=\"1\" stroke-width=\"3.2\"/>\n",
       "<path clip-path=\"url(#clip9502)\" d=\"M2040.99 120.335 L2029.68 115.647 L2024.99 104.335 L2029.68 93.0232 L2040.99 88.3352 L2052.3 93.0232 L2056.99 104.335 L2052.3 115.647 Z\" fill=\"#009af9\" fill-rule=\"evenodd\" fill-opacity=\"1\" stroke=\"#000000\" stroke-opacity=\"1\" stroke-width=\"3.2\"/>\n",
       "<path clip-path=\"url(#clip9502)\" d=\"M2061.82 118.085 L2050.51 113.397 L2045.82 102.085 L2050.51 90.7734 L2061.82 86.0854 L2073.13 90.7734 L2077.82 102.085 L2073.13 113.397 Z\" fill=\"#009af9\" fill-rule=\"evenodd\" fill-opacity=\"1\" stroke=\"#000000\" stroke-opacity=\"1\" stroke-width=\"3.2\"/>\n",
       "<path clip-path=\"url(#clip9502)\" d=\"M2082.64 116.053 L2071.33 111.365 L2066.64 100.053 L2071.33 88.7415 L2082.64 84.0535 L2093.96 88.7415 L2098.64 100.053 L2093.96 111.365 Z\" fill=\"#009af9\" fill-rule=\"evenodd\" fill-opacity=\"1\" stroke=\"#000000\" stroke-opacity=\"1\" stroke-width=\"3.2\"/>\n",
       "<path clip-path=\"url(#clip9502)\" d=\"M2103.47 114.219 L2092.16 109.531 L2087.47 98.219 L2092.16 86.907 L2103.47 82.219 L2114.78 86.907 L2119.47 98.219 L2114.78 109.531 Z\" fill=\"#009af9\" fill-rule=\"evenodd\" fill-opacity=\"1\" stroke=\"#000000\" stroke-opacity=\"1\" stroke-width=\"3.2\"/>\n",
       "<path clip-path=\"url(#clip9502)\" d=\"M2124.3 112.563 L2112.98 107.875 L2108.3 96.5632 L2112.98 85.2512 L2124.3 80.5632 L2135.61 85.2512 L2140.3 96.5632 L2135.61 107.875 Z\" fill=\"#009af9\" fill-rule=\"evenodd\" fill-opacity=\"1\" stroke=\"#000000\" stroke-opacity=\"1\" stroke-width=\"3.2\"/>\n",
       "<path clip-path=\"url(#clip9502)\" d=\"M2145.12 111.069 L2133.81 106.381 L2129.12 95.0692 L2133.81 83.7572 L2145.12 79.0692 L2156.43 83.7572 L2161.12 95.0692 L2156.43 106.381 Z\" fill=\"#009af9\" fill-rule=\"evenodd\" fill-opacity=\"1\" stroke=\"#000000\" stroke-opacity=\"1\" stroke-width=\"3.2\"/>\n",
       "<path clip-path=\"url(#clip9502)\" d=\"M2165.95 109.721 L2154.64 105.033 L2149.95 93.7214 L2154.64 82.4094 L2165.95 77.7214 L2177.26 82.4094 L2181.95 93.7214 L2177.26 105.033 Z\" fill=\"#009af9\" fill-rule=\"evenodd\" fill-opacity=\"1\" stroke=\"#000000\" stroke-opacity=\"1\" stroke-width=\"3.2\"/>\n",
       "<path clip-path=\"url(#clip9502)\" d=\"M2186.77 108.506 L2175.46 103.818 L2170.77 92.5059 L2175.46 81.1939 L2186.77 76.5059 L2198.08 81.1939 L2202.77 92.5059 L2198.08 103.818 Z\" fill=\"#009af9\" fill-rule=\"evenodd\" fill-opacity=\"1\" stroke=\"#000000\" stroke-opacity=\"1\" stroke-width=\"3.2\"/>\n",
       "<path clip-path=\"url(#clip9502)\" d=\"M2207.6 107.41 L2196.29 102.722 L2191.6 91.4099 L2196.29 80.0979 L2207.6 75.4099 L2218.91 80.0979 L2223.6 91.4099 L2218.91 102.722 Z\" fill=\"#009af9\" fill-rule=\"evenodd\" fill-opacity=\"1\" stroke=\"#000000\" stroke-opacity=\"1\" stroke-width=\"3.2\"/>\n",
       "<path clip-path=\"url(#clip9502)\" d=\"M2228.42 106.422 L2217.11 101.734 L2212.42 90.4219 L2217.11 79.1099 L2228.42 74.4219 L2239.74 79.1099 L2244.42 90.4219 L2239.74 101.734 Z\" fill=\"#009af9\" fill-rule=\"evenodd\" fill-opacity=\"1\" stroke=\"#000000\" stroke-opacity=\"1\" stroke-width=\"3.2\"/>\n",
       "<path clip-path=\"url(#clip9502)\" d=\"M2249.25 105.531 L2237.94 100.843 L2233.25 89.5313 L2237.94 78.2193 L2249.25 73.5313 L2260.56 78.2193 L2265.25 89.5313 L2260.56 100.843 Z\" fill=\"#009af9\" fill-rule=\"evenodd\" fill-opacity=\"1\" stroke=\"#000000\" stroke-opacity=\"1\" stroke-width=\"3.2\"/>\n",
       "<path clip-path=\"url(#clip9502)\" d=\"M2270.08 104.729 L2258.76 100.041 L2254.08 88.7286 L2258.76 77.4166 L2270.08 72.7286 L2281.39 77.4166 L2286.08 88.7286 L2281.39 100.041 Z\" fill=\"#009af9\" fill-rule=\"evenodd\" fill-opacity=\"1\" stroke=\"#000000\" stroke-opacity=\"1\" stroke-width=\"3.2\"/>\n",
       "<path clip-path=\"url(#clip9502)\" d=\"M2290.9 104.005 L2279.59 99.3173 L2274.9 88.0053 L2279.59 76.6933 L2290.9 72.0053 L2302.21 76.6933 L2306.9 88.0053 L2302.21 99.3173 Z\" fill=\"#009af9\" fill-rule=\"evenodd\" fill-opacity=\"1\" stroke=\"#000000\" stroke-opacity=\"1\" stroke-width=\"3.2\"/>\n",
       "<path clip-path=\"url(#clip9500)\" d=\"\n",
       "M1989.93 251.724 L2280.76 251.724 L2280.76 130.764 L1989.93 130.764  Z\n",
       "  \" fill=\"#ffffff\" fill-rule=\"evenodd\" fill-opacity=\"1\"/>\n",
       "<polyline clip-path=\"url(#clip9500)\" style=\"stroke:#000000; stroke-width:4; stroke-opacity:1; fill:none\" points=\"\n",
       "  1989.93,251.724 2280.76,251.724 2280.76,130.764 1989.93,130.764 1989.93,251.724 \n",
       "  \"/>\n",
       "<polyline clip-path=\"url(#clip9500)\" style=\"stroke:#009af9; stroke-width:4; stroke-opacity:1; fill:none\" points=\"\n",
       "  2013.93,191.244 2157.93,191.244 \n",
       "  \"/>\n",
       "<path clip-path=\"url(#clip9500)\" d=\"M2097.93 215.244 L2080.96 208.212 L2073.93 191.244 L2080.96 174.276 L2097.93 167.244 L2114.89 174.276 L2121.93 191.244 L2114.89 208.212 Z\" fill=\"#009af9\" fill-rule=\"evenodd\" fill-opacity=\"1\" stroke=\"#000000\" stroke-opacity=\"1\" stroke-width=\"3.2\"/>\n",
       "<g clip-path=\"url(#clip9500)\">\n",
       "<text style=\"fill:#000000; fill-opacity:1; font-family:Arial,Helvetica Neue,Helvetica,sans-serif; font-size:48px; text-anchor:start;\" transform=\"rotate(0, 2181.93, 208.744)\" x=\"2181.93\" y=\"208.744\">y1</text>\n",
       "</g>\n",
       "</svg>\n"
      ]
     },
     "execution_count": 64,
     "metadata": {},
     "output_type": "execute_result"
    }
   ],
   "source": [
    "p = 0.01\n",
    "α = 0.1\n",
    "N = 100\n",
    "\n",
    "I = run_infection(100)\n",
    "plot(I, m=:o)"
   ]
  },
  {
   "cell_type": "markdown",
   "metadata": {},
   "source": [
    "**Sigmoid** shape -- S-shaped"
   ]
  },
  {
   "cell_type": "code",
   "execution_count": 65,
   "metadata": {},
   "outputs": [
    {
     "data": {
      "image/svg+xml": [
       "<?xml version=\"1.0\" encoding=\"utf-8\"?>\n",
       "<svg xmlns=\"http://www.w3.org/2000/svg\" xmlns:xlink=\"http://www.w3.org/1999/xlink\" width=\"600\" height=\"400\" viewBox=\"0 0 2400 1600\">\n",
       "<defs>\n",
       "  <clipPath id=\"clip9900\">\n",
       "    <rect x=\"0\" y=\"0\" width=\"2400\" height=\"1600\"/>\n",
       "  </clipPath>\n",
       "</defs>\n",
       "<path clip-path=\"url(#clip9900)\" d=\"\n",
       "M0 1600 L2400 1600 L2400 0 L0 0  Z\n",
       "  \" fill=\"#ffffff\" fill-rule=\"evenodd\" fill-opacity=\"1\"/>\n",
       "<defs>\n",
       "  <clipPath id=\"clip9901\">\n",
       "    <rect x=\"480\" y=\"0\" width=\"1681\" height=\"1600\"/>\n",
       "  </clipPath>\n",
       "</defs>\n",
       "<path clip-path=\"url(#clip9900)\" d=\"\n",
       "M229.997 1487.47 L2352.76 1487.47 L2352.76 47.2441 L229.997 47.2441  Z\n",
       "  \" fill=\"#ffffff\" fill-rule=\"evenodd\" fill-opacity=\"1\"/>\n",
       "<defs>\n",
       "  <clipPath id=\"clip9902\">\n",
       "    <rect x=\"229\" y=\"47\" width=\"2124\" height=\"1441\"/>\n",
       "  </clipPath>\n",
       "</defs>\n",
       "<polyline clip-path=\"url(#clip9902)\" style=\"stroke:#000000; stroke-width:2; stroke-opacity:0.1; fill:none\" points=\"\n",
       "  269.847,1487.47 269.847,47.2441 \n",
       "  \"/>\n",
       "<polyline clip-path=\"url(#clip9902)\" style=\"stroke:#000000; stroke-width:2; stroke-opacity:0.1; fill:none\" points=\"\n",
       "  775.555,1487.47 775.555,47.2441 \n",
       "  \"/>\n",
       "<polyline clip-path=\"url(#clip9902)\" style=\"stroke:#000000; stroke-width:2; stroke-opacity:0.1; fill:none\" points=\"\n",
       "  1281.26,1487.47 1281.26,47.2441 \n",
       "  \"/>\n",
       "<polyline clip-path=\"url(#clip9902)\" style=\"stroke:#000000; stroke-width:2; stroke-opacity:0.1; fill:none\" points=\"\n",
       "  1786.97,1487.47 1786.97,47.2441 \n",
       "  \"/>\n",
       "<polyline clip-path=\"url(#clip9902)\" style=\"stroke:#000000; stroke-width:2; stroke-opacity:0.1; fill:none\" points=\"\n",
       "  2292.68,1487.47 2292.68,47.2441 \n",
       "  \"/>\n",
       "<polyline clip-path=\"url(#clip9902)\" style=\"stroke:#000000; stroke-width:2; stroke-opacity:0.1; fill:none\" points=\"\n",
       "  229.997,1446.71 2352.76,1446.71 \n",
       "  \"/>\n",
       "<polyline clip-path=\"url(#clip9902)\" style=\"stroke:#000000; stroke-width:2; stroke-opacity:0.1; fill:none\" points=\"\n",
       "  229.997,1106.69 2352.76,1106.69 \n",
       "  \"/>\n",
       "<polyline clip-path=\"url(#clip9902)\" style=\"stroke:#000000; stroke-width:2; stroke-opacity:0.1; fill:none\" points=\"\n",
       "  229.997,766.657 2352.76,766.657 \n",
       "  \"/>\n",
       "<polyline clip-path=\"url(#clip9902)\" style=\"stroke:#000000; stroke-width:2; stroke-opacity:0.1; fill:none\" points=\"\n",
       "  229.997,426.628 2352.76,426.628 \n",
       "  \"/>\n",
       "<polyline clip-path=\"url(#clip9902)\" style=\"stroke:#000000; stroke-width:2; stroke-opacity:0.1; fill:none\" points=\"\n",
       "  229.997,86.5997 2352.76,86.5997 \n",
       "  \"/>\n",
       "<polyline clip-path=\"url(#clip9900)\" style=\"stroke:#000000; stroke-width:4; stroke-opacity:1; fill:none\" points=\"\n",
       "  229.997,1487.47 2352.76,1487.47 \n",
       "  \"/>\n",
       "<polyline clip-path=\"url(#clip9900)\" style=\"stroke:#000000; stroke-width:4; stroke-opacity:1; fill:none\" points=\"\n",
       "  229.997,1487.47 229.997,47.2441 \n",
       "  \"/>\n",
       "<polyline clip-path=\"url(#clip9900)\" style=\"stroke:#000000; stroke-width:4; stroke-opacity:1; fill:none\" points=\"\n",
       "  269.847,1487.47 269.847,1470.19 \n",
       "  \"/>\n",
       "<polyline clip-path=\"url(#clip9900)\" style=\"stroke:#000000; stroke-width:4; stroke-opacity:1; fill:none\" points=\"\n",
       "  775.555,1487.47 775.555,1470.19 \n",
       "  \"/>\n",
       "<polyline clip-path=\"url(#clip9900)\" style=\"stroke:#000000; stroke-width:4; stroke-opacity:1; fill:none\" points=\"\n",
       "  1281.26,1487.47 1281.26,1470.19 \n",
       "  \"/>\n",
       "<polyline clip-path=\"url(#clip9900)\" style=\"stroke:#000000; stroke-width:4; stroke-opacity:1; fill:none\" points=\"\n",
       "  1786.97,1487.47 1786.97,1470.19 \n",
       "  \"/>\n",
       "<polyline clip-path=\"url(#clip9900)\" style=\"stroke:#000000; stroke-width:4; stroke-opacity:1; fill:none\" points=\"\n",
       "  2292.68,1487.47 2292.68,1470.19 \n",
       "  \"/>\n",
       "<polyline clip-path=\"url(#clip9900)\" style=\"stroke:#000000; stroke-width:4; stroke-opacity:1; fill:none\" points=\"\n",
       "  229.997,1446.71 255.47,1446.71 \n",
       "  \"/>\n",
       "<polyline clip-path=\"url(#clip9900)\" style=\"stroke:#000000; stroke-width:4; stroke-opacity:1; fill:none\" points=\"\n",
       "  229.997,1106.69 255.47,1106.69 \n",
       "  \"/>\n",
       "<polyline clip-path=\"url(#clip9900)\" style=\"stroke:#000000; stroke-width:4; stroke-opacity:1; fill:none\" points=\"\n",
       "  229.997,766.657 255.47,766.657 \n",
       "  \"/>\n",
       "<polyline clip-path=\"url(#clip9900)\" style=\"stroke:#000000; stroke-width:4; stroke-opacity:1; fill:none\" points=\"\n",
       "  229.997,426.628 255.47,426.628 \n",
       "  \"/>\n",
       "<polyline clip-path=\"url(#clip9900)\" style=\"stroke:#000000; stroke-width:4; stroke-opacity:1; fill:none\" points=\"\n",
       "  229.997,86.5997 255.47,86.5997 \n",
       "  \"/>\n",
       "<g clip-path=\"url(#clip9900)\">\n",
       "<text style=\"fill:#000000; fill-opacity:1; font-family:Arial,Helvetica Neue,Helvetica,sans-serif; font-size:48px; text-anchor:middle;\" transform=\"rotate(0, 269.847, 1541.47)\" x=\"269.847\" y=\"1541.47\">0</text>\n",
       "</g>\n",
       "<g clip-path=\"url(#clip9900)\">\n",
       "<text style=\"fill:#000000; fill-opacity:1; font-family:Arial,Helvetica Neue,Helvetica,sans-serif; font-size:48px; text-anchor:middle;\" transform=\"rotate(0, 775.555, 1541.47)\" x=\"775.555\" y=\"1541.47\">25</text>\n",
       "</g>\n",
       "<g clip-path=\"url(#clip9900)\">\n",
       "<text style=\"fill:#000000; fill-opacity:1; font-family:Arial,Helvetica Neue,Helvetica,sans-serif; font-size:48px; text-anchor:middle;\" transform=\"rotate(0, 1281.26, 1541.47)\" x=\"1281.26\" y=\"1541.47\">50</text>\n",
       "</g>\n",
       "<g clip-path=\"url(#clip9900)\">\n",
       "<text style=\"fill:#000000; fill-opacity:1; font-family:Arial,Helvetica Neue,Helvetica,sans-serif; font-size:48px; text-anchor:middle;\" transform=\"rotate(0, 1786.97, 1541.47)\" x=\"1786.97\" y=\"1541.47\">75</text>\n",
       "</g>\n",
       "<g clip-path=\"url(#clip9900)\">\n",
       "<text style=\"fill:#000000; fill-opacity:1; font-family:Arial,Helvetica Neue,Helvetica,sans-serif; font-size:48px; text-anchor:middle;\" transform=\"rotate(0, 2292.68, 1541.47)\" x=\"2292.68\" y=\"1541.47\">100</text>\n",
       "</g>\n",
       "<g clip-path=\"url(#clip9900)\">\n",
       "<text style=\"fill:#000000; fill-opacity:1; font-family:Arial,Helvetica Neue,Helvetica,sans-serif; font-size:48px; text-anchor:start;\" transform=\"rotate(0, 98.1117, 1470.44)\" x=\"98.1117\" y=\"1470.44\">10</text>\n",
       "</g>\n",
       "<g clip-path=\"url(#clip9900)\">\n",
       "<text style=\"fill:#000000; fill-opacity:1; font-family:Arial,Helvetica Neue,Helvetica,sans-serif; font-size:38px; text-anchor:start;\" transform=\"rotate(0, 151.636, 1443.03)\" x=\"151.636\" y=\"1443.03\">0.0</text>\n",
       "</g>\n",
       "<g clip-path=\"url(#clip9900)\">\n",
       "<text style=\"fill:#000000; fill-opacity:1; font-family:Arial,Helvetica Neue,Helvetica,sans-serif; font-size:48px; text-anchor:start;\" transform=\"rotate(0, 98.1117, 1130.41)\" x=\"98.1117\" y=\"1130.41\">10</text>\n",
       "</g>\n",
       "<g clip-path=\"url(#clip9900)\">\n",
       "<text style=\"fill:#000000; fill-opacity:1; font-family:Arial,Helvetica Neue,Helvetica,sans-serif; font-size:38px; text-anchor:start;\" transform=\"rotate(0, 151.636, 1103)\" x=\"151.636\" y=\"1103\">0.5</text>\n",
       "</g>\n",
       "<g clip-path=\"url(#clip9900)\">\n",
       "<text style=\"fill:#000000; fill-opacity:1; font-family:Arial,Helvetica Neue,Helvetica,sans-serif; font-size:48px; text-anchor:start;\" transform=\"rotate(0, 98.1117, 790.384)\" x=\"98.1117\" y=\"790.384\">10</text>\n",
       "</g>\n",
       "<g clip-path=\"url(#clip9900)\">\n",
       "<text style=\"fill:#000000; fill-opacity:1; font-family:Arial,Helvetica Neue,Helvetica,sans-serif; font-size:38px; text-anchor:start;\" transform=\"rotate(0, 151.636, 762.974)\" x=\"151.636\" y=\"762.974\">1.0</text>\n",
       "</g>\n",
       "<g clip-path=\"url(#clip9900)\">\n",
       "<text style=\"fill:#000000; fill-opacity:1; font-family:Arial,Helvetica Neue,Helvetica,sans-serif; font-size:48px; text-anchor:start;\" transform=\"rotate(0, 98.1117, 450.356)\" x=\"98.1117\" y=\"450.356\">10</text>\n",
       "</g>\n",
       "<g clip-path=\"url(#clip9900)\">\n",
       "<text style=\"fill:#000000; fill-opacity:1; font-family:Arial,Helvetica Neue,Helvetica,sans-serif; font-size:38px; text-anchor:start;\" transform=\"rotate(0, 151.636, 422.945)\" x=\"151.636\" y=\"422.945\">1.5</text>\n",
       "</g>\n",
       "<g clip-path=\"url(#clip9900)\">\n",
       "<text style=\"fill:#000000; fill-opacity:1; font-family:Arial,Helvetica Neue,Helvetica,sans-serif; font-size:48px; text-anchor:start;\" transform=\"rotate(0, 98.1117, 110.327)\" x=\"98.1117\" y=\"110.327\">10</text>\n",
       "</g>\n",
       "<g clip-path=\"url(#clip9900)\">\n",
       "<text style=\"fill:#000000; fill-opacity:1; font-family:Arial,Helvetica Neue,Helvetica,sans-serif; font-size:38px; text-anchor:start;\" transform=\"rotate(0, 151.636, 82.9169)\" x=\"151.636\" y=\"82.9169\">2.0</text>\n",
       "</g>\n",
       "<polyline clip-path=\"url(#clip9902)\" style=\"stroke:#009af9; stroke-width:4; stroke-opacity:1; fill:none\" points=\"\n",
       "  290.075,1446.71 310.304,1418.83 330.532,1390.98 350.76,1363.15 370.989,1335.36 391.217,1307.6 411.445,1279.88 431.674,1252.21 451.902,1224.58 472.13,1197 \n",
       "  492.359,1169.47 512.587,1142.01 532.815,1114.62 553.043,1087.3 573.272,1060.05 593.5,1032.9 613.728,1005.84 633.957,978.891 654.185,952.054 674.413,925.341 \n",
       "  694.642,898.765 714.87,872.337 735.098,846.071 755.326,819.98 775.555,794.081 795.783,768.389 816.011,742.921 836.24,717.695 856.468,692.732 876.696,668.052 \n",
       "  896.925,643.676 917.153,619.626 937.381,595.927 957.61,572.603 977.838,549.679 998.066,527.181 1018.29,505.135 1038.52,483.567 1058.75,462.504 1078.98,441.971 \n",
       "  1099.21,421.995 1119.44,402.599 1139.66,383.806 1159.89,365.639 1180.12,348.116 1200.35,331.256 1220.58,315.073 1240.81,299.578 1261.03,284.78 1281.26,270.685 \n",
       "  1301.49,257.295 1321.72,244.607 1341.95,232.617 1362.18,221.315 1382.4,210.691 1402.63,200.729 1422.86,191.411 1443.09,182.717 1463.32,174.625 1483.55,167.109 \n",
       "  1503.77,160.145 1524,153.706 1544.23,147.763 1564.46,142.289 1584.69,137.257 1604.92,132.638 1625.14,128.406 1645.37,124.533 1665.6,120.995 1685.83,117.765 \n",
       "  1706.06,114.822 1726.29,112.143 1746.51,109.706 1766.74,107.492 1786.97,105.482 1807.2,103.658 1827.43,102.005 1847.66,100.508 1867.88,99.1525 1888.11,97.9261 \n",
       "  1908.34,96.817 1928.57,95.8144 1948.8,94.9086 1969.02,94.0904 1989.25,93.3517 2009.48,92.6849 2029.71,92.0832 2049.94,91.5404 2070.17,91.0508 2090.39,90.6094 \n",
       "  2110.62,90.2114 2130.85,89.8526 2151.08,89.5293 2171.31,89.2379 2191.54,88.9754 2211.76,88.7389 2231.99,88.5258 2252.22,88.3339 2272.45,88.161 2292.68,88.0053 \n",
       "  \n",
       "  \"/>\n",
       "<path clip-path=\"url(#clip9902)\" d=\"M290.075 1462.71 L278.763 1458.03 L274.075 1446.71 L278.763 1435.4 L290.075 1430.71 L301.387 1435.4 L306.075 1446.71 L301.387 1458.03 Z\" fill=\"#009af9\" fill-rule=\"evenodd\" fill-opacity=\"1\" stroke=\"#000000\" stroke-opacity=\"1\" stroke-width=\"3.2\"/>\n",
       "<path clip-path=\"url(#clip9902)\" d=\"M310.304 1434.83 L298.992 1430.14 L294.304 1418.83 L298.992 1407.52 L310.304 1402.83 L321.616 1407.52 L326.304 1418.83 L321.616 1430.14 Z\" fill=\"#009af9\" fill-rule=\"evenodd\" fill-opacity=\"1\" stroke=\"#000000\" stroke-opacity=\"1\" stroke-width=\"3.2\"/>\n",
       "<path clip-path=\"url(#clip9902)\" d=\"M330.532 1406.98 L319.22 1402.29 L314.532 1390.98 L319.22 1379.67 L330.532 1374.98 L341.844 1379.67 L346.532 1390.98 L341.844 1402.29 Z\" fill=\"#009af9\" fill-rule=\"evenodd\" fill-opacity=\"1\" stroke=\"#000000\" stroke-opacity=\"1\" stroke-width=\"3.2\"/>\n",
       "<path clip-path=\"url(#clip9902)\" d=\"M350.76 1379.15 L339.448 1374.47 L334.76 1363.15 L339.448 1351.84 L350.76 1347.15 L362.072 1351.84 L366.76 1363.15 L362.072 1374.47 Z\" fill=\"#009af9\" fill-rule=\"evenodd\" fill-opacity=\"1\" stroke=\"#000000\" stroke-opacity=\"1\" stroke-width=\"3.2\"/>\n",
       "<path clip-path=\"url(#clip9902)\" d=\"M370.989 1351.36 L359.677 1346.67 L354.989 1335.36 L359.677 1324.05 L370.989 1319.36 L382.301 1324.05 L386.989 1335.36 L382.301 1346.67 Z\" fill=\"#009af9\" fill-rule=\"evenodd\" fill-opacity=\"1\" stroke=\"#000000\" stroke-opacity=\"1\" stroke-width=\"3.2\"/>\n",
       "<path clip-path=\"url(#clip9902)\" d=\"M391.217 1323.6 L379.905 1318.92 L375.217 1307.6 L379.905 1296.29 L391.217 1291.6 L402.529 1296.29 L407.217 1307.6 L402.529 1318.92 Z\" fill=\"#009af9\" fill-rule=\"evenodd\" fill-opacity=\"1\" stroke=\"#000000\" stroke-opacity=\"1\" stroke-width=\"3.2\"/>\n",
       "<path clip-path=\"url(#clip9902)\" d=\"M411.445 1295.88 L400.133 1291.2 L395.445 1279.88 L400.133 1268.57 L411.445 1263.88 L422.757 1268.57 L427.445 1279.88 L422.757 1291.2 Z\" fill=\"#009af9\" fill-rule=\"evenodd\" fill-opacity=\"1\" stroke=\"#000000\" stroke-opacity=\"1\" stroke-width=\"3.2\"/>\n",
       "<path clip-path=\"url(#clip9902)\" d=\"M431.674 1268.21 L420.362 1263.52 L415.674 1252.21 L420.362 1240.9 L431.674 1236.21 L442.986 1240.9 L447.674 1252.21 L442.986 1263.52 Z\" fill=\"#009af9\" fill-rule=\"evenodd\" fill-opacity=\"1\" stroke=\"#000000\" stroke-opacity=\"1\" stroke-width=\"3.2\"/>\n",
       "<path clip-path=\"url(#clip9902)\" d=\"M451.902 1240.58 L440.59 1235.89 L435.902 1224.58 L440.59 1213.27 L451.902 1208.58 L463.214 1213.27 L467.902 1224.58 L463.214 1235.89 Z\" fill=\"#009af9\" fill-rule=\"evenodd\" fill-opacity=\"1\" stroke=\"#000000\" stroke-opacity=\"1\" stroke-width=\"3.2\"/>\n",
       "<path clip-path=\"url(#clip9902)\" d=\"M472.13 1213 L460.818 1208.31 L456.13 1197 L460.818 1185.69 L472.13 1181 L483.442 1185.69 L488.13 1197 L483.442 1208.31 Z\" fill=\"#009af9\" fill-rule=\"evenodd\" fill-opacity=\"1\" stroke=\"#000000\" stroke-opacity=\"1\" stroke-width=\"3.2\"/>\n",
       "<path clip-path=\"url(#clip9902)\" d=\"M492.359 1185.47 L481.047 1180.79 L476.359 1169.47 L481.047 1158.16 L492.359 1153.47 L503.671 1158.16 L508.359 1169.47 L503.671 1180.79 Z\" fill=\"#009af9\" fill-rule=\"evenodd\" fill-opacity=\"1\" stroke=\"#000000\" stroke-opacity=\"1\" stroke-width=\"3.2\"/>\n",
       "<path clip-path=\"url(#clip9902)\" d=\"M512.587 1158.01 L501.275 1153.32 L496.587 1142.01 L501.275 1130.7 L512.587 1126.01 L523.899 1130.7 L528.587 1142.01 L523.899 1153.32 Z\" fill=\"#009af9\" fill-rule=\"evenodd\" fill-opacity=\"1\" stroke=\"#000000\" stroke-opacity=\"1\" stroke-width=\"3.2\"/>\n",
       "<path clip-path=\"url(#clip9902)\" d=\"M532.815 1130.62 L521.503 1125.93 L516.815 1114.62 L521.503 1103.31 L532.815 1098.62 L544.127 1103.31 L548.815 1114.62 L544.127 1125.93 Z\" fill=\"#009af9\" fill-rule=\"evenodd\" fill-opacity=\"1\" stroke=\"#000000\" stroke-opacity=\"1\" stroke-width=\"3.2\"/>\n",
       "<path clip-path=\"url(#clip9902)\" d=\"M553.043 1103.3 L541.731 1098.61 L537.043 1087.3 L541.731 1075.98 L553.043 1071.3 L564.355 1075.98 L569.043 1087.3 L564.355 1098.61 Z\" fill=\"#009af9\" fill-rule=\"evenodd\" fill-opacity=\"1\" stroke=\"#000000\" stroke-opacity=\"1\" stroke-width=\"3.2\"/>\n",
       "<path clip-path=\"url(#clip9902)\" d=\"M573.272 1076.05 L561.96 1071.37 L557.272 1060.05 L561.96 1048.74 L573.272 1044.05 L584.584 1048.74 L589.272 1060.05 L584.584 1071.37 Z\" fill=\"#009af9\" fill-rule=\"evenodd\" fill-opacity=\"1\" stroke=\"#000000\" stroke-opacity=\"1\" stroke-width=\"3.2\"/>\n",
       "<path clip-path=\"url(#clip9902)\" d=\"M593.5 1048.9 L582.188 1044.21 L577.5 1032.9 L582.188 1021.59 L593.5 1016.9 L604.812 1021.59 L609.5 1032.9 L604.812 1044.21 Z\" fill=\"#009af9\" fill-rule=\"evenodd\" fill-opacity=\"1\" stroke=\"#000000\" stroke-opacity=\"1\" stroke-width=\"3.2\"/>\n",
       "<path clip-path=\"url(#clip9902)\" d=\"M613.728 1021.84 L602.416 1017.16 L597.728 1005.84 L602.416 994.532 L613.728 989.844 L625.04 994.532 L629.728 1005.84 L625.04 1017.16 Z\" fill=\"#009af9\" fill-rule=\"evenodd\" fill-opacity=\"1\" stroke=\"#000000\" stroke-opacity=\"1\" stroke-width=\"3.2\"/>\n",
       "<path clip-path=\"url(#clip9902)\" d=\"M633.957 994.891 L622.645 990.203 L617.957 978.891 L622.645 967.579 L633.957 962.891 L645.269 967.579 L649.957 978.891 L645.269 990.203 Z\" fill=\"#009af9\" fill-rule=\"evenodd\" fill-opacity=\"1\" stroke=\"#000000\" stroke-opacity=\"1\" stroke-width=\"3.2\"/>\n",
       "<path clip-path=\"url(#clip9902)\" d=\"M654.185 968.054 L642.873 963.366 L638.185 952.054 L642.873 940.742 L654.185 936.054 L665.497 940.742 L670.185 952.054 L665.497 963.366 Z\" fill=\"#009af9\" fill-rule=\"evenodd\" fill-opacity=\"1\" stroke=\"#000000\" stroke-opacity=\"1\" stroke-width=\"3.2\"/>\n",
       "<path clip-path=\"url(#clip9902)\" d=\"M674.413 941.341 L663.101 936.653 L658.413 925.341 L663.101 914.029 L674.413 909.341 L685.725 914.029 L690.413 925.341 L685.725 936.653 Z\" fill=\"#009af9\" fill-rule=\"evenodd\" fill-opacity=\"1\" stroke=\"#000000\" stroke-opacity=\"1\" stroke-width=\"3.2\"/>\n",
       "<path clip-path=\"url(#clip9902)\" d=\"M694.642 914.765 L683.33 910.077 L678.642 898.765 L683.33 887.453 L694.642 882.765 L705.954 887.453 L710.642 898.765 L705.954 910.077 Z\" fill=\"#009af9\" fill-rule=\"evenodd\" fill-opacity=\"1\" stroke=\"#000000\" stroke-opacity=\"1\" stroke-width=\"3.2\"/>\n",
       "<path clip-path=\"url(#clip9902)\" d=\"M714.87 888.337 L703.558 883.649 L698.87 872.337 L703.558 861.025 L714.87 856.337 L726.182 861.025 L730.87 872.337 L726.182 883.649 Z\" fill=\"#009af9\" fill-rule=\"evenodd\" fill-opacity=\"1\" stroke=\"#000000\" stroke-opacity=\"1\" stroke-width=\"3.2\"/>\n",
       "<path clip-path=\"url(#clip9902)\" d=\"M735.098 862.071 L723.786 857.383 L719.098 846.071 L723.786 834.759 L735.098 830.071 L746.41 834.759 L751.098 846.071 L746.41 857.383 Z\" fill=\"#009af9\" fill-rule=\"evenodd\" fill-opacity=\"1\" stroke=\"#000000\" stroke-opacity=\"1\" stroke-width=\"3.2\"/>\n",
       "<path clip-path=\"url(#clip9902)\" d=\"M755.326 835.98 L744.014 831.292 L739.326 819.98 L744.014 808.668 L755.326 803.98 L766.638 808.668 L771.326 819.98 L766.638 831.292 Z\" fill=\"#009af9\" fill-rule=\"evenodd\" fill-opacity=\"1\" stroke=\"#000000\" stroke-opacity=\"1\" stroke-width=\"3.2\"/>\n",
       "<path clip-path=\"url(#clip9902)\" d=\"M775.555 810.081 L764.243 805.393 L759.555 794.081 L764.243 782.769 L775.555 778.081 L786.867 782.769 L791.555 794.081 L786.867 805.393 Z\" fill=\"#009af9\" fill-rule=\"evenodd\" fill-opacity=\"1\" stroke=\"#000000\" stroke-opacity=\"1\" stroke-width=\"3.2\"/>\n",
       "<path clip-path=\"url(#clip9902)\" d=\"M795.783 784.389 L784.471 779.701 L779.783 768.389 L784.471 757.077 L795.783 752.389 L807.095 757.077 L811.783 768.389 L807.095 779.701 Z\" fill=\"#009af9\" fill-rule=\"evenodd\" fill-opacity=\"1\" stroke=\"#000000\" stroke-opacity=\"1\" stroke-width=\"3.2\"/>\n",
       "<path clip-path=\"url(#clip9902)\" d=\"M816.011 758.921 L804.699 754.233 L800.011 742.921 L804.699 731.609 L816.011 726.921 L827.323 731.609 L832.011 742.921 L827.323 754.233 Z\" fill=\"#009af9\" fill-rule=\"evenodd\" fill-opacity=\"1\" stroke=\"#000000\" stroke-opacity=\"1\" stroke-width=\"3.2\"/>\n",
       "<path clip-path=\"url(#clip9902)\" d=\"M836.24 733.695 L824.928 729.007 L820.24 717.695 L824.928 706.383 L836.24 701.695 L847.552 706.383 L852.24 717.695 L847.552 729.007 Z\" fill=\"#009af9\" fill-rule=\"evenodd\" fill-opacity=\"1\" stroke=\"#000000\" stroke-opacity=\"1\" stroke-width=\"3.2\"/>\n",
       "<path clip-path=\"url(#clip9902)\" d=\"M856.468 708.732 L845.156 704.044 L840.468 692.732 L845.156 681.42 L856.468 676.732 L867.78 681.42 L872.468 692.732 L867.78 704.044 Z\" fill=\"#009af9\" fill-rule=\"evenodd\" fill-opacity=\"1\" stroke=\"#000000\" stroke-opacity=\"1\" stroke-width=\"3.2\"/>\n",
       "<path clip-path=\"url(#clip9902)\" d=\"M876.696 684.052 L865.384 679.364 L860.696 668.052 L865.384 656.74 L876.696 652.052 L888.008 656.74 L892.696 668.052 L888.008 679.364 Z\" fill=\"#009af9\" fill-rule=\"evenodd\" fill-opacity=\"1\" stroke=\"#000000\" stroke-opacity=\"1\" stroke-width=\"3.2\"/>\n",
       "<path clip-path=\"url(#clip9902)\" d=\"M896.925 659.676 L885.613 654.988 L880.925 643.676 L885.613 632.364 L896.925 627.676 L908.237 632.364 L912.925 643.676 L908.237 654.988 Z\" fill=\"#009af9\" fill-rule=\"evenodd\" fill-opacity=\"1\" stroke=\"#000000\" stroke-opacity=\"1\" stroke-width=\"3.2\"/>\n",
       "<path clip-path=\"url(#clip9902)\" d=\"M917.153 635.626 L905.841 630.938 L901.153 619.626 L905.841 608.314 L917.153 603.626 L928.465 608.314 L933.153 619.626 L928.465 630.938 Z\" fill=\"#009af9\" fill-rule=\"evenodd\" fill-opacity=\"1\" stroke=\"#000000\" stroke-opacity=\"1\" stroke-width=\"3.2\"/>\n",
       "<path clip-path=\"url(#clip9902)\" d=\"M937.381 611.927 L926.069 607.239 L921.381 595.927 L926.069 584.615 L937.381 579.927 L948.693 584.615 L953.381 595.927 L948.693 607.239 Z\" fill=\"#009af9\" fill-rule=\"evenodd\" fill-opacity=\"1\" stroke=\"#000000\" stroke-opacity=\"1\" stroke-width=\"3.2\"/>\n",
       "<path clip-path=\"url(#clip9902)\" d=\"M957.61 588.603 L946.298 583.915 L941.61 572.603 L946.298 561.291 L957.61 556.603 L968.922 561.291 L973.61 572.603 L968.922 583.915 Z\" fill=\"#009af9\" fill-rule=\"evenodd\" fill-opacity=\"1\" stroke=\"#000000\" stroke-opacity=\"1\" stroke-width=\"3.2\"/>\n",
       "<path clip-path=\"url(#clip9902)\" d=\"M977.838 565.679 L966.526 560.991 L961.838 549.679 L966.526 538.367 L977.838 533.679 L989.15 538.367 L993.838 549.679 L989.15 560.991 Z\" fill=\"#009af9\" fill-rule=\"evenodd\" fill-opacity=\"1\" stroke=\"#000000\" stroke-opacity=\"1\" stroke-width=\"3.2\"/>\n",
       "<path clip-path=\"url(#clip9902)\" d=\"M998.066 543.181 L986.754 538.493 L982.066 527.181 L986.754 515.869 L998.066 511.181 L1009.38 515.869 L1014.07 527.181 L1009.38 538.493 Z\" fill=\"#009af9\" fill-rule=\"evenodd\" fill-opacity=\"1\" stroke=\"#000000\" stroke-opacity=\"1\" stroke-width=\"3.2\"/>\n",
       "<path clip-path=\"url(#clip9902)\" d=\"M1018.29 521.135 L1006.98 516.447 L1002.29 505.135 L1006.98 493.823 L1018.29 489.135 L1029.61 493.823 L1034.29 505.135 L1029.61 516.447 Z\" fill=\"#009af9\" fill-rule=\"evenodd\" fill-opacity=\"1\" stroke=\"#000000\" stroke-opacity=\"1\" stroke-width=\"3.2\"/>\n",
       "<path clip-path=\"url(#clip9902)\" d=\"M1038.52 499.567 L1027.21 494.879 L1022.52 483.567 L1027.21 472.255 L1038.52 467.567 L1049.83 472.255 L1054.52 483.567 L1049.83 494.879 Z\" fill=\"#009af9\" fill-rule=\"evenodd\" fill-opacity=\"1\" stroke=\"#000000\" stroke-opacity=\"1\" stroke-width=\"3.2\"/>\n",
       "<path clip-path=\"url(#clip9902)\" d=\"M1058.75 478.504 L1047.44 473.816 L1042.75 462.504 L1047.44 451.192 L1058.75 446.504 L1070.06 451.192 L1074.75 462.504 L1070.06 473.816 Z\" fill=\"#009af9\" fill-rule=\"evenodd\" fill-opacity=\"1\" stroke=\"#000000\" stroke-opacity=\"1\" stroke-width=\"3.2\"/>\n",
       "<path clip-path=\"url(#clip9902)\" d=\"M1078.98 457.971 L1067.67 453.283 L1062.98 441.971 L1067.67 430.659 L1078.98 425.971 L1090.29 430.659 L1094.98 441.971 L1090.29 453.283 Z\" fill=\"#009af9\" fill-rule=\"evenodd\" fill-opacity=\"1\" stroke=\"#000000\" stroke-opacity=\"1\" stroke-width=\"3.2\"/>\n",
       "<path clip-path=\"url(#clip9902)\" d=\"M1099.21 437.995 L1087.9 433.307 L1083.21 421.995 L1087.9 410.683 L1099.21 405.995 L1110.52 410.683 L1115.21 421.995 L1110.52 433.307 Z\" fill=\"#009af9\" fill-rule=\"evenodd\" fill-opacity=\"1\" stroke=\"#000000\" stroke-opacity=\"1\" stroke-width=\"3.2\"/>\n",
       "<path clip-path=\"url(#clip9902)\" d=\"M1119.44 418.599 L1108.12 413.911 L1103.44 402.599 L1108.12 391.287 L1119.44 386.599 L1130.75 391.287 L1135.44 402.599 L1130.75 413.911 Z\" fill=\"#009af9\" fill-rule=\"evenodd\" fill-opacity=\"1\" stroke=\"#000000\" stroke-opacity=\"1\" stroke-width=\"3.2\"/>\n",
       "<path clip-path=\"url(#clip9902)\" d=\"M1139.66 399.806 L1128.35 395.118 L1123.66 383.806 L1128.35 372.494 L1139.66 367.806 L1150.98 372.494 L1155.66 383.806 L1150.98 395.118 Z\" fill=\"#009af9\" fill-rule=\"evenodd\" fill-opacity=\"1\" stroke=\"#000000\" stroke-opacity=\"1\" stroke-width=\"3.2\"/>\n",
       "<path clip-path=\"url(#clip9902)\" d=\"M1159.89 381.639 L1148.58 376.951 L1143.89 365.639 L1148.58 354.327 L1159.89 349.639 L1171.2 354.327 L1175.89 365.639 L1171.2 376.951 Z\" fill=\"#009af9\" fill-rule=\"evenodd\" fill-opacity=\"1\" stroke=\"#000000\" stroke-opacity=\"1\" stroke-width=\"3.2\"/>\n",
       "<path clip-path=\"url(#clip9902)\" d=\"M1180.12 364.116 L1168.81 359.428 L1164.12 348.116 L1168.81 336.804 L1180.12 332.116 L1191.43 336.804 L1196.12 348.116 L1191.43 359.428 Z\" fill=\"#009af9\" fill-rule=\"evenodd\" fill-opacity=\"1\" stroke=\"#000000\" stroke-opacity=\"1\" stroke-width=\"3.2\"/>\n",
       "<path clip-path=\"url(#clip9902)\" d=\"M1200.35 347.256 L1189.04 342.568 L1184.35 331.256 L1189.04 319.944 L1200.35 315.256 L1211.66 319.944 L1216.35 331.256 L1211.66 342.568 Z\" fill=\"#009af9\" fill-rule=\"evenodd\" fill-opacity=\"1\" stroke=\"#000000\" stroke-opacity=\"1\" stroke-width=\"3.2\"/>\n",
       "<path clip-path=\"url(#clip9902)\" d=\"M1220.58 331.073 L1209.27 326.385 L1204.58 315.073 L1209.27 303.761 L1220.58 299.073 L1231.89 303.761 L1236.58 315.073 L1231.89 326.385 Z\" fill=\"#009af9\" fill-rule=\"evenodd\" fill-opacity=\"1\" stroke=\"#000000\" stroke-opacity=\"1\" stroke-width=\"3.2\"/>\n",
       "<path clip-path=\"url(#clip9902)\" d=\"M1240.81 315.578 L1229.49 310.89 L1224.81 299.578 L1229.49 288.266 L1240.81 283.578 L1252.12 288.266 L1256.81 299.578 L1252.12 310.89 Z\" fill=\"#009af9\" fill-rule=\"evenodd\" fill-opacity=\"1\" stroke=\"#000000\" stroke-opacity=\"1\" stroke-width=\"3.2\"/>\n",
       "<path clip-path=\"url(#clip9902)\" d=\"M1261.03 300.78 L1249.72 296.092 L1245.03 284.78 L1249.72 273.468 L1261.03 268.78 L1272.35 273.468 L1277.03 284.78 L1272.35 296.092 Z\" fill=\"#009af9\" fill-rule=\"evenodd\" fill-opacity=\"1\" stroke=\"#000000\" stroke-opacity=\"1\" stroke-width=\"3.2\"/>\n",
       "<path clip-path=\"url(#clip9902)\" d=\"M1281.26 286.685 L1269.95 281.997 L1265.26 270.685 L1269.95 259.373 L1281.26 254.685 L1292.57 259.373 L1297.26 270.685 L1292.57 281.997 Z\" fill=\"#009af9\" fill-rule=\"evenodd\" fill-opacity=\"1\" stroke=\"#000000\" stroke-opacity=\"1\" stroke-width=\"3.2\"/>\n",
       "<path clip-path=\"url(#clip9902)\" d=\"M1301.49 273.295 L1290.18 268.607 L1285.49 257.295 L1290.18 245.983 L1301.49 241.295 L1312.8 245.983 L1317.49 257.295 L1312.8 268.607 Z\" fill=\"#009af9\" fill-rule=\"evenodd\" fill-opacity=\"1\" stroke=\"#000000\" stroke-opacity=\"1\" stroke-width=\"3.2\"/>\n",
       "<path clip-path=\"url(#clip9902)\" d=\"M1321.72 260.607 L1310.41 255.919 L1305.72 244.607 L1310.41 233.295 L1321.72 228.607 L1333.03 233.295 L1337.72 244.607 L1333.03 255.919 Z\" fill=\"#009af9\" fill-rule=\"evenodd\" fill-opacity=\"1\" stroke=\"#000000\" stroke-opacity=\"1\" stroke-width=\"3.2\"/>\n",
       "<path clip-path=\"url(#clip9902)\" d=\"M1341.95 248.617 L1330.64 243.929 L1325.95 232.617 L1330.64 221.305 L1341.95 216.617 L1353.26 221.305 L1357.95 232.617 L1353.26 243.929 Z\" fill=\"#009af9\" fill-rule=\"evenodd\" fill-opacity=\"1\" stroke=\"#000000\" stroke-opacity=\"1\" stroke-width=\"3.2\"/>\n",
       "<path clip-path=\"url(#clip9902)\" d=\"M1362.18 237.315 L1350.86 232.627 L1346.18 221.315 L1350.86 210.003 L1362.18 205.315 L1373.49 210.003 L1378.18 221.315 L1373.49 232.627 Z\" fill=\"#009af9\" fill-rule=\"evenodd\" fill-opacity=\"1\" stroke=\"#000000\" stroke-opacity=\"1\" stroke-width=\"3.2\"/>\n",
       "<path clip-path=\"url(#clip9902)\" d=\"M1382.4 226.691 L1371.09 222.003 L1366.4 210.691 L1371.09 199.379 L1382.4 194.691 L1393.72 199.379 L1398.4 210.691 L1393.72 222.003 Z\" fill=\"#009af9\" fill-rule=\"evenodd\" fill-opacity=\"1\" stroke=\"#000000\" stroke-opacity=\"1\" stroke-width=\"3.2\"/>\n",
       "<path clip-path=\"url(#clip9902)\" d=\"M1402.63 216.729 L1391.32 212.041 L1386.63 200.729 L1391.32 189.417 L1402.63 184.729 L1413.94 189.417 L1418.63 200.729 L1413.94 212.041 Z\" fill=\"#009af9\" fill-rule=\"evenodd\" fill-opacity=\"1\" stroke=\"#000000\" stroke-opacity=\"1\" stroke-width=\"3.2\"/>\n",
       "<path clip-path=\"url(#clip9902)\" d=\"M1422.86 207.411 L1411.55 202.723 L1406.86 191.411 L1411.55 180.099 L1422.86 175.411 L1434.17 180.099 L1438.86 191.411 L1434.17 202.723 Z\" fill=\"#009af9\" fill-rule=\"evenodd\" fill-opacity=\"1\" stroke=\"#000000\" stroke-opacity=\"1\" stroke-width=\"3.2\"/>\n",
       "<path clip-path=\"url(#clip9902)\" d=\"M1443.09 198.717 L1431.78 194.029 L1427.09 182.717 L1431.78 171.405 L1443.09 166.717 L1454.4 171.405 L1459.09 182.717 L1454.4 194.029 Z\" fill=\"#009af9\" fill-rule=\"evenodd\" fill-opacity=\"1\" stroke=\"#000000\" stroke-opacity=\"1\" stroke-width=\"3.2\"/>\n",
       "<path clip-path=\"url(#clip9902)\" d=\"M1463.32 190.625 L1452.01 185.937 L1447.32 174.625 L1452.01 163.313 L1463.32 158.625 L1474.63 163.313 L1479.32 174.625 L1474.63 185.937 Z\" fill=\"#009af9\" fill-rule=\"evenodd\" fill-opacity=\"1\" stroke=\"#000000\" stroke-opacity=\"1\" stroke-width=\"3.2\"/>\n",
       "<path clip-path=\"url(#clip9902)\" d=\"M1483.55 183.109 L1472.23 178.421 L1467.55 167.109 L1472.23 155.797 L1483.55 151.109 L1494.86 155.797 L1499.55 167.109 L1494.86 178.421 Z\" fill=\"#009af9\" fill-rule=\"evenodd\" fill-opacity=\"1\" stroke=\"#000000\" stroke-opacity=\"1\" stroke-width=\"3.2\"/>\n",
       "<path clip-path=\"url(#clip9902)\" d=\"M1503.77 176.145 L1492.46 171.457 L1487.77 160.145 L1492.46 148.833 L1503.77 144.145 L1515.09 148.833 L1519.77 160.145 L1515.09 171.457 Z\" fill=\"#009af9\" fill-rule=\"evenodd\" fill-opacity=\"1\" stroke=\"#000000\" stroke-opacity=\"1\" stroke-width=\"3.2\"/>\n",
       "<path clip-path=\"url(#clip9902)\" d=\"M1524 169.706 L1512.69 165.018 L1508 153.706 L1512.69 142.394 L1524 137.706 L1535.31 142.394 L1540 153.706 L1535.31 165.018 Z\" fill=\"#009af9\" fill-rule=\"evenodd\" fill-opacity=\"1\" stroke=\"#000000\" stroke-opacity=\"1\" stroke-width=\"3.2\"/>\n",
       "<path clip-path=\"url(#clip9902)\" d=\"M1544.23 163.763 L1532.92 159.075 L1528.23 147.763 L1532.92 136.451 L1544.23 131.763 L1555.54 136.451 L1560.23 147.763 L1555.54 159.075 Z\" fill=\"#009af9\" fill-rule=\"evenodd\" fill-opacity=\"1\" stroke=\"#000000\" stroke-opacity=\"1\" stroke-width=\"3.2\"/>\n",
       "<path clip-path=\"url(#clip9902)\" d=\"M1564.46 158.289 L1553.15 153.601 L1548.46 142.289 L1553.15 130.977 L1564.46 126.289 L1575.77 130.977 L1580.46 142.289 L1575.77 153.601 Z\" fill=\"#009af9\" fill-rule=\"evenodd\" fill-opacity=\"1\" stroke=\"#000000\" stroke-opacity=\"1\" stroke-width=\"3.2\"/>\n",
       "<path clip-path=\"url(#clip9902)\" d=\"M1584.69 153.257 L1573.38 148.569 L1568.69 137.257 L1573.38 125.945 L1584.69 121.257 L1596 125.945 L1600.69 137.257 L1596 148.569 Z\" fill=\"#009af9\" fill-rule=\"evenodd\" fill-opacity=\"1\" stroke=\"#000000\" stroke-opacity=\"1\" stroke-width=\"3.2\"/>\n",
       "<path clip-path=\"url(#clip9902)\" d=\"M1604.92 148.638 L1593.6 143.95 L1588.92 132.638 L1593.6 121.326 L1604.92 116.638 L1616.23 121.326 L1620.92 132.638 L1616.23 143.95 Z\" fill=\"#009af9\" fill-rule=\"evenodd\" fill-opacity=\"1\" stroke=\"#000000\" stroke-opacity=\"1\" stroke-width=\"3.2\"/>\n",
       "<path clip-path=\"url(#clip9902)\" d=\"M1625.14 144.406 L1613.83 139.718 L1609.14 128.406 L1613.83 117.094 L1625.14 112.406 L1636.46 117.094 L1641.14 128.406 L1636.46 139.718 Z\" fill=\"#009af9\" fill-rule=\"evenodd\" fill-opacity=\"1\" stroke=\"#000000\" stroke-opacity=\"1\" stroke-width=\"3.2\"/>\n",
       "<path clip-path=\"url(#clip9902)\" d=\"M1645.37 140.533 L1634.06 135.845 L1629.37 124.533 L1634.06 113.221 L1645.37 108.533 L1656.68 113.221 L1661.37 124.533 L1656.68 135.845 Z\" fill=\"#009af9\" fill-rule=\"evenodd\" fill-opacity=\"1\" stroke=\"#000000\" stroke-opacity=\"1\" stroke-width=\"3.2\"/>\n",
       "<path clip-path=\"url(#clip9902)\" d=\"M1665.6 136.995 L1654.29 132.307 L1649.6 120.995 L1654.29 109.683 L1665.6 104.995 L1676.91 109.683 L1681.6 120.995 L1676.91 132.307 Z\" fill=\"#009af9\" fill-rule=\"evenodd\" fill-opacity=\"1\" stroke=\"#000000\" stroke-opacity=\"1\" stroke-width=\"3.2\"/>\n",
       "<path clip-path=\"url(#clip9902)\" d=\"M1685.83 133.765 L1674.52 129.077 L1669.83 117.765 L1674.52 106.453 L1685.83 101.765 L1697.14 106.453 L1701.83 117.765 L1697.14 129.077 Z\" fill=\"#009af9\" fill-rule=\"evenodd\" fill-opacity=\"1\" stroke=\"#000000\" stroke-opacity=\"1\" stroke-width=\"3.2\"/>\n",
       "<path clip-path=\"url(#clip9902)\" d=\"M1706.06 130.822 L1694.74 126.134 L1690.06 114.822 L1694.74 103.51 L1706.06 98.8224 L1717.37 103.51 L1722.06 114.822 L1717.37 126.134 Z\" fill=\"#009af9\" fill-rule=\"evenodd\" fill-opacity=\"1\" stroke=\"#000000\" stroke-opacity=\"1\" stroke-width=\"3.2\"/>\n",
       "<path clip-path=\"url(#clip9902)\" d=\"M1726.29 128.143 L1714.97 123.455 L1710.29 112.143 L1714.97 100.831 L1726.29 96.143 L1737.6 100.831 L1742.29 112.143 L1737.6 123.455 Z\" fill=\"#009af9\" fill-rule=\"evenodd\" fill-opacity=\"1\" stroke=\"#000000\" stroke-opacity=\"1\" stroke-width=\"3.2\"/>\n",
       "<path clip-path=\"url(#clip9902)\" d=\"M1746.51 125.706 L1735.2 121.018 L1730.51 109.706 L1735.2 98.3941 L1746.51 93.7061 L1757.83 98.3941 L1762.51 109.706 L1757.83 121.018 Z\" fill=\"#009af9\" fill-rule=\"evenodd\" fill-opacity=\"1\" stroke=\"#000000\" stroke-opacity=\"1\" stroke-width=\"3.2\"/>\n",
       "<path clip-path=\"url(#clip9902)\" d=\"M1766.74 123.492 L1755.43 118.804 L1750.74 107.492 L1755.43 96.1798 L1766.74 91.4918 L1778.05 96.1798 L1782.74 107.492 L1778.05 118.804 Z\" fill=\"#009af9\" fill-rule=\"evenodd\" fill-opacity=\"1\" stroke=\"#000000\" stroke-opacity=\"1\" stroke-width=\"3.2\"/>\n",
       "<path clip-path=\"url(#clip9902)\" d=\"M1786.97 121.482 L1775.66 116.794 L1770.97 105.482 L1775.66 94.1696 L1786.97 89.4816 L1798.28 94.1696 L1802.97 105.482 L1798.28 116.794 Z\" fill=\"#009af9\" fill-rule=\"evenodd\" fill-opacity=\"1\" stroke=\"#000000\" stroke-opacity=\"1\" stroke-width=\"3.2\"/>\n",
       "<path clip-path=\"url(#clip9902)\" d=\"M1807.2 119.658 L1795.89 114.97 L1791.2 103.658 L1795.89 92.3462 L1807.2 87.6582 L1818.51 92.3462 L1823.2 103.658 L1818.51 114.97 Z\" fill=\"#009af9\" fill-rule=\"evenodd\" fill-opacity=\"1\" stroke=\"#000000\" stroke-opacity=\"1\" stroke-width=\"3.2\"/>\n",
       "<path clip-path=\"url(#clip9902)\" d=\"M1827.43 118.005 L1816.11 113.317 L1811.43 102.005 L1816.11 90.6933 L1827.43 86.0053 L1838.74 90.6933 L1843.43 102.005 L1838.74 113.317 Z\" fill=\"#009af9\" fill-rule=\"evenodd\" fill-opacity=\"1\" stroke=\"#000000\" stroke-opacity=\"1\" stroke-width=\"3.2\"/>\n",
       "<path clip-path=\"url(#clip9902)\" d=\"M1847.66 116.508 L1836.34 111.82 L1831.66 100.508 L1836.34 89.196 L1847.66 84.508 L1858.97 89.196 L1863.66 100.508 L1858.97 111.82 Z\" fill=\"#009af9\" fill-rule=\"evenodd\" fill-opacity=\"1\" stroke=\"#000000\" stroke-opacity=\"1\" stroke-width=\"3.2\"/>\n",
       "<path clip-path=\"url(#clip9902)\" d=\"M1867.88 115.153 L1856.57 110.465 L1851.88 99.1525 L1856.57 87.8405 L1867.88 83.1525 L1879.2 87.8405 L1883.88 99.1525 L1879.2 110.465 Z\" fill=\"#009af9\" fill-rule=\"evenodd\" fill-opacity=\"1\" stroke=\"#000000\" stroke-opacity=\"1\" stroke-width=\"3.2\"/>\n",
       "<path clip-path=\"url(#clip9902)\" d=\"M1888.11 113.926 L1876.8 109.238 L1872.11 97.9261 L1876.8 86.6141 L1888.11 81.9261 L1899.42 86.6141 L1904.11 97.9261 L1899.42 109.238 Z\" fill=\"#009af9\" fill-rule=\"evenodd\" fill-opacity=\"1\" stroke=\"#000000\" stroke-opacity=\"1\" stroke-width=\"3.2\"/>\n",
       "<path clip-path=\"url(#clip9902)\" d=\"M1908.34 112.817 L1897.03 108.129 L1892.34 96.817 L1897.03 85.505 L1908.34 80.817 L1919.65 85.505 L1924.34 96.817 L1919.65 108.129 Z\" fill=\"#009af9\" fill-rule=\"evenodd\" fill-opacity=\"1\" stroke=\"#000000\" stroke-opacity=\"1\" stroke-width=\"3.2\"/>\n",
       "<path clip-path=\"url(#clip9902)\" d=\"M1928.57 111.814 L1917.26 107.126 L1912.57 95.8144 L1917.26 84.5024 L1928.57 79.8144 L1939.88 84.5024 L1944.57 95.8144 L1939.88 107.126 Z\" fill=\"#009af9\" fill-rule=\"evenodd\" fill-opacity=\"1\" stroke=\"#000000\" stroke-opacity=\"1\" stroke-width=\"3.2\"/>\n",
       "<path clip-path=\"url(#clip9902)\" d=\"M1948.8 110.909 L1937.48 106.221 L1932.8 94.9086 L1937.48 83.5966 L1948.8 78.9086 L1960.11 83.5966 L1964.8 94.9086 L1960.11 106.221 Z\" fill=\"#009af9\" fill-rule=\"evenodd\" fill-opacity=\"1\" stroke=\"#000000\" stroke-opacity=\"1\" stroke-width=\"3.2\"/>\n",
       "<path clip-path=\"url(#clip9902)\" d=\"M1969.02 110.09 L1957.71 105.402 L1953.02 94.0904 L1957.71 82.7784 L1969.02 78.0904 L1980.34 82.7784 L1985.02 94.0904 L1980.34 105.402 Z\" fill=\"#009af9\" fill-rule=\"evenodd\" fill-opacity=\"1\" stroke=\"#000000\" stroke-opacity=\"1\" stroke-width=\"3.2\"/>\n",
       "<path clip-path=\"url(#clip9902)\" d=\"M1989.25 109.352 L1977.94 104.664 L1973.25 93.3517 L1977.94 82.0397 L1989.25 77.3517 L2000.57 82.0397 L2005.25 93.3517 L2000.57 104.664 Z\" fill=\"#009af9\" fill-rule=\"evenodd\" fill-opacity=\"1\" stroke=\"#000000\" stroke-opacity=\"1\" stroke-width=\"3.2\"/>\n",
       "<path clip-path=\"url(#clip9902)\" d=\"M2009.48 108.685 L1998.17 103.997 L1993.48 92.6849 L1998.17 81.3729 L2009.48 76.6849 L2020.79 81.3729 L2025.48 92.6849 L2020.79 103.997 Z\" fill=\"#009af9\" fill-rule=\"evenodd\" fill-opacity=\"1\" stroke=\"#000000\" stroke-opacity=\"1\" stroke-width=\"3.2\"/>\n",
       "<path clip-path=\"url(#clip9902)\" d=\"M2029.71 108.083 L2018.4 103.395 L2013.71 92.0832 L2018.4 80.7712 L2029.71 76.0832 L2041.02 80.7712 L2045.71 92.0832 L2041.02 103.395 Z\" fill=\"#009af9\" fill-rule=\"evenodd\" fill-opacity=\"1\" stroke=\"#000000\" stroke-opacity=\"1\" stroke-width=\"3.2\"/>\n",
       "<path clip-path=\"url(#clip9902)\" d=\"M2049.94 107.54 L2038.63 102.852 L2033.94 91.5404 L2038.63 80.2284 L2049.94 75.5404 L2061.25 80.2284 L2065.94 91.5404 L2061.25 102.852 Z\" fill=\"#009af9\" fill-rule=\"evenodd\" fill-opacity=\"1\" stroke=\"#000000\" stroke-opacity=\"1\" stroke-width=\"3.2\"/>\n",
       "<path clip-path=\"url(#clip9902)\" d=\"M2070.17 107.051 L2058.85 102.363 L2054.17 91.0508 L2058.85 79.7388 L2070.17 75.0508 L2081.48 79.7388 L2086.17 91.0508 L2081.48 102.363 Z\" fill=\"#009af9\" fill-rule=\"evenodd\" fill-opacity=\"1\" stroke=\"#000000\" stroke-opacity=\"1\" stroke-width=\"3.2\"/>\n",
       "<path clip-path=\"url(#clip9902)\" d=\"M2090.39 106.609 L2079.08 101.921 L2074.39 90.6094 L2079.08 79.2974 L2090.39 74.6094 L2101.71 79.2974 L2106.39 90.6094 L2101.71 101.921 Z\" fill=\"#009af9\" fill-rule=\"evenodd\" fill-opacity=\"1\" stroke=\"#000000\" stroke-opacity=\"1\" stroke-width=\"3.2\"/>\n",
       "<path clip-path=\"url(#clip9902)\" d=\"M2110.62 106.211 L2099.31 101.523 L2094.62 90.2114 L2099.31 78.8994 L2110.62 74.2114 L2121.94 78.8994 L2126.62 90.2114 L2121.94 101.523 Z\" fill=\"#009af9\" fill-rule=\"evenodd\" fill-opacity=\"1\" stroke=\"#000000\" stroke-opacity=\"1\" stroke-width=\"3.2\"/>\n",
       "<path clip-path=\"url(#clip9902)\" d=\"M2130.85 105.853 L2119.54 101.165 L2114.85 89.8526 L2119.54 78.5406 L2130.85 73.8526 L2142.16 78.5406 L2146.85 89.8526 L2142.16 101.165 Z\" fill=\"#009af9\" fill-rule=\"evenodd\" fill-opacity=\"1\" stroke=\"#000000\" stroke-opacity=\"1\" stroke-width=\"3.2\"/>\n",
       "<path clip-path=\"url(#clip9902)\" d=\"M2151.08 105.529 L2139.77 100.841 L2135.08 89.5293 L2139.77 78.2173 L2151.08 73.5293 L2162.39 78.2173 L2167.08 89.5293 L2162.39 100.841 Z\" fill=\"#009af9\" fill-rule=\"evenodd\" fill-opacity=\"1\" stroke=\"#000000\" stroke-opacity=\"1\" stroke-width=\"3.2\"/>\n",
       "<path clip-path=\"url(#clip9902)\" d=\"M2171.31 105.238 L2160 100.55 L2155.31 89.2379 L2160 77.9259 L2171.31 73.2379 L2182.62 77.9259 L2187.31 89.2379 L2182.62 100.55 Z\" fill=\"#009af9\" fill-rule=\"evenodd\" fill-opacity=\"1\" stroke=\"#000000\" stroke-opacity=\"1\" stroke-width=\"3.2\"/>\n",
       "<path clip-path=\"url(#clip9902)\" d=\"M2191.54 104.975 L2180.22 100.287 L2175.54 88.9754 L2180.22 77.6634 L2191.54 72.9754 L2202.85 77.6634 L2207.54 88.9754 L2202.85 100.287 Z\" fill=\"#009af9\" fill-rule=\"evenodd\" fill-opacity=\"1\" stroke=\"#000000\" stroke-opacity=\"1\" stroke-width=\"3.2\"/>\n",
       "<path clip-path=\"url(#clip9902)\" d=\"M2211.76 104.739 L2200.45 100.051 L2195.76 88.7389 L2200.45 77.4269 L2211.76 72.7389 L2223.08 77.4269 L2227.76 88.7389 L2223.08 100.051 Z\" fill=\"#009af9\" fill-rule=\"evenodd\" fill-opacity=\"1\" stroke=\"#000000\" stroke-opacity=\"1\" stroke-width=\"3.2\"/>\n",
       "<path clip-path=\"url(#clip9902)\" d=\"M2231.99 104.526 L2220.68 99.8378 L2215.99 88.5258 L2220.68 77.2138 L2231.99 72.5258 L2243.3 77.2138 L2247.99 88.5258 L2243.3 99.8378 Z\" fill=\"#009af9\" fill-rule=\"evenodd\" fill-opacity=\"1\" stroke=\"#000000\" stroke-opacity=\"1\" stroke-width=\"3.2\"/>\n",
       "<path clip-path=\"url(#clip9902)\" d=\"M2252.22 104.334 L2240.91 99.6459 L2236.22 88.3339 L2240.91 77.0219 L2252.22 72.3339 L2263.53 77.0219 L2268.22 88.3339 L2263.53 99.6459 Z\" fill=\"#009af9\" fill-rule=\"evenodd\" fill-opacity=\"1\" stroke=\"#000000\" stroke-opacity=\"1\" stroke-width=\"3.2\"/>\n",
       "<path clip-path=\"url(#clip9902)\" d=\"M2272.45 104.161 L2261.14 99.473 L2256.45 88.161 L2261.14 76.849 L2272.45 72.161 L2283.76 76.849 L2288.45 88.161 L2283.76 99.473 Z\" fill=\"#009af9\" fill-rule=\"evenodd\" fill-opacity=\"1\" stroke=\"#000000\" stroke-opacity=\"1\" stroke-width=\"3.2\"/>\n",
       "<path clip-path=\"url(#clip9902)\" d=\"M2292.68 104.005 L2281.37 99.3173 L2276.68 88.0053 L2281.37 76.6933 L2292.68 72.0053 L2303.99 76.6933 L2308.68 88.0053 L2303.99 99.3173 Z\" fill=\"#009af9\" fill-rule=\"evenodd\" fill-opacity=\"1\" stroke=\"#000000\" stroke-opacity=\"1\" stroke-width=\"3.2\"/>\n",
       "<path clip-path=\"url(#clip9900)\" d=\"\n",
       "M1989.93 251.724 L2280.76 251.724 L2280.76 130.764 L1989.93 130.764  Z\n",
       "  \" fill=\"#ffffff\" fill-rule=\"evenodd\" fill-opacity=\"1\"/>\n",
       "<polyline clip-path=\"url(#clip9900)\" style=\"stroke:#000000; stroke-width:4; stroke-opacity:1; fill:none\" points=\"\n",
       "  1989.93,251.724 2280.76,251.724 2280.76,130.764 1989.93,130.764 1989.93,251.724 \n",
       "  \"/>\n",
       "<polyline clip-path=\"url(#clip9900)\" style=\"stroke:#009af9; stroke-width:4; stroke-opacity:1; fill:none\" points=\"\n",
       "  2013.93,191.244 2157.93,191.244 \n",
       "  \"/>\n",
       "<path clip-path=\"url(#clip9900)\" d=\"M2097.93 215.244 L2080.96 208.212 L2073.93 191.244 L2080.96 174.276 L2097.93 167.244 L2114.89 174.276 L2121.93 191.244 L2114.89 208.212 Z\" fill=\"#009af9\" fill-rule=\"evenodd\" fill-opacity=\"1\" stroke=\"#000000\" stroke-opacity=\"1\" stroke-width=\"3.2\"/>\n",
       "<g clip-path=\"url(#clip9900)\">\n",
       "<text style=\"fill:#000000; fill-opacity:1; font-family:Arial,Helvetica Neue,Helvetica,sans-serif; font-size:48px; text-anchor:start;\" transform=\"rotate(0, 2181.93, 208.744)\" x=\"2181.93\" y=\"208.744\">y1</text>\n",
       "</g>\n",
       "</svg>\n"
      ]
     },
     "execution_count": 65,
     "metadata": {},
     "output_type": "execute_result"
    }
   ],
   "source": [
    "plot(I, m=:o, yscale=:log10)"
   ]
  },
  {
   "cell_type": "markdown",
   "metadata": {},
   "source": [
    "\"Logistic-type growth\""
   ]
  },
  {
   "cell_type": "markdown",
   "metadata": {},
   "source": [
    "$I_{n+1} = \\lambda I_n$"
   ]
  },
  {
   "cell_type": "markdown",
   "metadata": {},
   "source": [
    "## More realism: Heterogeneity of individuals or groups"
   ]
  },
  {
   "cell_type": "markdown",
   "metadata": {},
   "source": [
    "Idea: Instead of modelling population globally, model each individual"
   ]
  },
  {
   "cell_type": "markdown",
   "metadata": {},
   "source": [
    "\"Patch model\": Local patches where population is **well mixed**"
   ]
  },
  {
   "cell_type": "markdown",
   "metadata": {},
   "source": [
    "Network model: Links between nodes"
   ]
  },
  {
   "cell_type": "markdown",
   "metadata": {},
   "source": [
    "Exponential growth:"
   ]
  },
  {
   "cell_type": "markdown",
   "metadata": {},
   "source": [
    "$I_{n+1} = \\lambda_n I_n$  -- growth rate changes in time"
   ]
  },
  {
   "cell_type": "code",
   "execution_count": 66,
   "metadata": {},
   "outputs": [
    {
     "data": {
      "text/plain": [
       "0.2767437763441829"
      ]
     },
     "execution_count": 66,
     "metadata": {},
     "output_type": "execute_result"
    }
   ],
   "source": [
    "rand()"
   ]
  },
  {
   "cell_type": "code",
   "execution_count": 67,
   "metadata": {},
   "outputs": [
    {
     "data": {
      "text/plain": [
       "0.7089008345855983"
      ]
     },
     "execution_count": 67,
     "metadata": {},
     "output_type": "execute_result"
    }
   ],
   "source": [
    "rand()"
   ]
  },
  {
   "cell_type": "code",
   "execution_count": 68,
   "metadata": {},
   "outputs": [
    {
     "data": {
      "text/plain": [
       "0.3789568897206148"
      ]
     },
     "execution_count": 68,
     "metadata": {},
     "output_type": "execute_result"
    }
   ],
   "source": [
    "rand()"
   ]
  },
  {
   "cell_type": "markdown",
   "metadata": {},
   "source": [
    "www.random.org"
   ]
  },
  {
   "cell_type": "code",
   "execution_count": 69,
   "metadata": {},
   "outputs": [
    {
     "data": {
      "text/plain": [
       "-0.33523291258515997"
      ]
     },
     "execution_count": 69,
     "metadata": {},
     "output_type": "execute_result"
    }
   ],
   "source": [
    "randn()"
   ]
  },
  {
   "cell_type": "code",
   "execution_count": null,
   "metadata": {},
   "outputs": [],
   "source": []
  },
  {
   "cell_type": "code",
   "execution_count": 71,
   "metadata": {},
   "outputs": [
    {
     "data": {
      "text/plain": [
       "run_infection (generic function with 3 methods)"
      ]
     },
     "execution_count": 71,
     "metadata": {},
     "output_type": "execute_result"
    }
   ],
   "source": [
    "p = 0.02\n",
    "α = 0.01\n",
    "N = 1000\n",
    "\n",
    "\n",
    "\n",
    "function run_infection(c_average=1.1, T=20)  # default\n",
    "\n",
    "    I = zeros(T)\n",
    "    I[1] = I_0\n",
    "\n",
    "    for n in 1:T-1\n",
    "        c = c_average + 0.1*randn()\n",
    "        I[n+1] = I[n] + c * I[n]\n",
    "    end\n",
    "\n",
    "    return I\n",
    "end"
   ]
  },
  {
   "cell_type": "code",
   "execution_count": 73,
   "metadata": {},
   "outputs": [
    {
     "data": {
      "text/plain": [
       "100-element Array{Float64,1}:\n",
       " 1.1794683814069813\n",
       " 1.0510617699472489\n",
       " 1.0799811965453343\n",
       " 1.3160413008055867\n",
       " 1.0655215426073297\n",
       " 1.014913328568307\n",
       " 1.2142141455660913\n",
       " 0.9952511944053644\n",
       " 1.1118228511102424\n",
       " 1.2274911767386665\n",
       " 1.097194489799497\n",
       " 1.156157408743076\n",
       " 1.0138054185809025\n",
       " ⋮\n",
       " 1.252209922391299\n",
       " 1.0305288124096037\n",
       " 1.1816089517166688\n",
       " 0.9848866930013738\n",
       " 1.175520029029598\n",
       " 1.1695318311722314\n",
       " 1.1237453859981914\n",
       " 1.1925550201637143\n",
       " 0.9331362892813453\n",
       " 1.0848564135882912\n",
       " 1.184898469695791\n",
       " 1.0756350756110384"
      ]
     },
     "execution_count": 73,
     "metadata": {},
     "output_type": "execute_result"
    }
   ],
   "source": [
    "c_average = 1.1\n",
    "\n",
    "cs = [c_average + 0.1*randn() for i in 1:100]"
   ]
  },
  {
   "cell_type": "code",
   "execution_count": 74,
   "metadata": {},
   "outputs": [
    {
     "data": {
      "image/svg+xml": [
       "<?xml version=\"1.0\" encoding=\"utf-8\"?>\n",
       "<svg xmlns=\"http://www.w3.org/2000/svg\" xmlns:xlink=\"http://www.w3.org/1999/xlink\" width=\"600\" height=\"400\" viewBox=\"0 0 2400 1600\">\n",
       "<defs>\n",
       "  <clipPath id=\"clip0300\">\n",
       "    <rect x=\"0\" y=\"0\" width=\"2400\" height=\"1600\"/>\n",
       "  </clipPath>\n",
       "</defs>\n",
       "<path clip-path=\"url(#clip0300)\" d=\"\n",
       "M0 1600 L2400 1600 L2400 0 L0 0  Z\n",
       "  \" fill=\"#ffffff\" fill-rule=\"evenodd\" fill-opacity=\"1\"/>\n",
       "<defs>\n",
       "  <clipPath id=\"clip0301\">\n",
       "    <rect x=\"480\" y=\"0\" width=\"1681\" height=\"1600\"/>\n",
       "  </clipPath>\n",
       "</defs>\n",
       "<path clip-path=\"url(#clip0300)\" d=\"\n",
       "M153.898 1487.47 L2352.76 1487.47 L2352.76 47.2441 L153.898 47.2441  Z\n",
       "  \" fill=\"#ffffff\" fill-rule=\"evenodd\" fill-opacity=\"1\"/>\n",
       "<defs>\n",
       "  <clipPath id=\"clip0302\">\n",
       "    <rect x=\"153\" y=\"47\" width=\"2200\" height=\"1441\"/>\n",
       "  </clipPath>\n",
       "</defs>\n",
       "<polyline clip-path=\"url(#clip0302)\" style=\"stroke:#000000; stroke-width:2; stroke-opacity:0.1; fill:none\" points=\"\n",
       "  195.176,1487.47 195.176,47.2441 \n",
       "  \"/>\n",
       "<polyline clip-path=\"url(#clip0302)\" style=\"stroke:#000000; stroke-width:2; stroke-opacity:0.1; fill:none\" points=\"\n",
       "  719.013,1487.47 719.013,47.2441 \n",
       "  \"/>\n",
       "<polyline clip-path=\"url(#clip0302)\" style=\"stroke:#000000; stroke-width:2; stroke-opacity:0.1; fill:none\" points=\"\n",
       "  1242.85,1487.47 1242.85,47.2441 \n",
       "  \"/>\n",
       "<polyline clip-path=\"url(#clip0302)\" style=\"stroke:#000000; stroke-width:2; stroke-opacity:0.1; fill:none\" points=\"\n",
       "  1766.69,1487.47 1766.69,47.2441 \n",
       "  \"/>\n",
       "<polyline clip-path=\"url(#clip0302)\" style=\"stroke:#000000; stroke-width:2; stroke-opacity:0.1; fill:none\" points=\"\n",
       "  2290.52,1487.47 2290.52,47.2441 \n",
       "  \"/>\n",
       "<polyline clip-path=\"url(#clip0302)\" style=\"stroke:#000000; stroke-width:2; stroke-opacity:0.1; fill:none\" points=\"\n",
       "  153.898,1428.51 2352.76,1428.51 \n",
       "  \"/>\n",
       "<polyline clip-path=\"url(#clip0302)\" style=\"stroke:#000000; stroke-width:2; stroke-opacity:0.1; fill:none\" points=\"\n",
       "  153.898,1174.54 2352.76,1174.54 \n",
       "  \"/>\n",
       "<polyline clip-path=\"url(#clip0302)\" style=\"stroke:#000000; stroke-width:2; stroke-opacity:0.1; fill:none\" points=\"\n",
       "  153.898,920.561 2352.76,920.561 \n",
       "  \"/>\n",
       "<polyline clip-path=\"url(#clip0302)\" style=\"stroke:#000000; stroke-width:2; stroke-opacity:0.1; fill:none\" points=\"\n",
       "  153.898,666.586 2352.76,666.586 \n",
       "  \"/>\n",
       "<polyline clip-path=\"url(#clip0302)\" style=\"stroke:#000000; stroke-width:2; stroke-opacity:0.1; fill:none\" points=\"\n",
       "  153.898,412.612 2352.76,412.612 \n",
       "  \"/>\n",
       "<polyline clip-path=\"url(#clip0302)\" style=\"stroke:#000000; stroke-width:2; stroke-opacity:0.1; fill:none\" points=\"\n",
       "  153.898,158.637 2352.76,158.637 \n",
       "  \"/>\n",
       "<polyline clip-path=\"url(#clip0300)\" style=\"stroke:#000000; stroke-width:4; stroke-opacity:1; fill:none\" points=\"\n",
       "  153.898,1487.47 2352.76,1487.47 \n",
       "  \"/>\n",
       "<polyline clip-path=\"url(#clip0300)\" style=\"stroke:#000000; stroke-width:4; stroke-opacity:1; fill:none\" points=\"\n",
       "  153.898,1487.47 153.898,47.2441 \n",
       "  \"/>\n",
       "<polyline clip-path=\"url(#clip0300)\" style=\"stroke:#000000; stroke-width:4; stroke-opacity:1; fill:none\" points=\"\n",
       "  195.176,1487.47 195.176,1470.19 \n",
       "  \"/>\n",
       "<polyline clip-path=\"url(#clip0300)\" style=\"stroke:#000000; stroke-width:4; stroke-opacity:1; fill:none\" points=\"\n",
       "  719.013,1487.47 719.013,1470.19 \n",
       "  \"/>\n",
       "<polyline clip-path=\"url(#clip0300)\" style=\"stroke:#000000; stroke-width:4; stroke-opacity:1; fill:none\" points=\"\n",
       "  1242.85,1487.47 1242.85,1470.19 \n",
       "  \"/>\n",
       "<polyline clip-path=\"url(#clip0300)\" style=\"stroke:#000000; stroke-width:4; stroke-opacity:1; fill:none\" points=\"\n",
       "  1766.69,1487.47 1766.69,1470.19 \n",
       "  \"/>\n",
       "<polyline clip-path=\"url(#clip0300)\" style=\"stroke:#000000; stroke-width:4; stroke-opacity:1; fill:none\" points=\"\n",
       "  2290.52,1487.47 2290.52,1470.19 \n",
       "  \"/>\n",
       "<polyline clip-path=\"url(#clip0300)\" style=\"stroke:#000000; stroke-width:4; stroke-opacity:1; fill:none\" points=\"\n",
       "  153.898,1428.51 180.284,1428.51 \n",
       "  \"/>\n",
       "<polyline clip-path=\"url(#clip0300)\" style=\"stroke:#000000; stroke-width:4; stroke-opacity:1; fill:none\" points=\"\n",
       "  153.898,1174.54 180.284,1174.54 \n",
       "  \"/>\n",
       "<polyline clip-path=\"url(#clip0300)\" style=\"stroke:#000000; stroke-width:4; stroke-opacity:1; fill:none\" points=\"\n",
       "  153.898,920.561 180.284,920.561 \n",
       "  \"/>\n",
       "<polyline clip-path=\"url(#clip0300)\" style=\"stroke:#000000; stroke-width:4; stroke-opacity:1; fill:none\" points=\"\n",
       "  153.898,666.586 180.284,666.586 \n",
       "  \"/>\n",
       "<polyline clip-path=\"url(#clip0300)\" style=\"stroke:#000000; stroke-width:4; stroke-opacity:1; fill:none\" points=\"\n",
       "  153.898,412.612 180.284,412.612 \n",
       "  \"/>\n",
       "<polyline clip-path=\"url(#clip0300)\" style=\"stroke:#000000; stroke-width:4; stroke-opacity:1; fill:none\" points=\"\n",
       "  153.898,158.637 180.284,158.637 \n",
       "  \"/>\n",
       "<g clip-path=\"url(#clip0300)\">\n",
       "<text style=\"fill:#000000; fill-opacity:1; font-family:Arial,Helvetica Neue,Helvetica,sans-serif; font-size:48px; text-anchor:middle;\" transform=\"rotate(0, 195.176, 1541.47)\" x=\"195.176\" y=\"1541.47\">0</text>\n",
       "</g>\n",
       "<g clip-path=\"url(#clip0300)\">\n",
       "<text style=\"fill:#000000; fill-opacity:1; font-family:Arial,Helvetica Neue,Helvetica,sans-serif; font-size:48px; text-anchor:middle;\" transform=\"rotate(0, 719.013, 1541.47)\" x=\"719.013\" y=\"1541.47\">25</text>\n",
       "</g>\n",
       "<g clip-path=\"url(#clip0300)\">\n",
       "<text style=\"fill:#000000; fill-opacity:1; font-family:Arial,Helvetica Neue,Helvetica,sans-serif; font-size:48px; text-anchor:middle;\" transform=\"rotate(0, 1242.85, 1541.47)\" x=\"1242.85\" y=\"1541.47\">50</text>\n",
       "</g>\n",
       "<g clip-path=\"url(#clip0300)\">\n",
       "<text style=\"fill:#000000; fill-opacity:1; font-family:Arial,Helvetica Neue,Helvetica,sans-serif; font-size:48px; text-anchor:middle;\" transform=\"rotate(0, 1766.69, 1541.47)\" x=\"1766.69\" y=\"1541.47\">75</text>\n",
       "</g>\n",
       "<g clip-path=\"url(#clip0300)\">\n",
       "<text style=\"fill:#000000; fill-opacity:1; font-family:Arial,Helvetica Neue,Helvetica,sans-serif; font-size:48px; text-anchor:middle;\" transform=\"rotate(0, 2290.52, 1541.47)\" x=\"2290.52\" y=\"1541.47\">100</text>\n",
       "</g>\n",
       "<g clip-path=\"url(#clip0300)\">\n",
       "<text style=\"fill:#000000; fill-opacity:1; font-family:Arial,Helvetica Neue,Helvetica,sans-serif; font-size:48px; text-anchor:end;\" transform=\"rotate(0, 129.898, 1446.01)\" x=\"129.898\" y=\"1446.01\">0.8</text>\n",
       "</g>\n",
       "<g clip-path=\"url(#clip0300)\">\n",
       "<text style=\"fill:#000000; fill-opacity:1; font-family:Arial,Helvetica Neue,Helvetica,sans-serif; font-size:48px; text-anchor:end;\" transform=\"rotate(0, 129.898, 1192.04)\" x=\"129.898\" y=\"1192.04\">0.9</text>\n",
       "</g>\n",
       "<g clip-path=\"url(#clip0300)\">\n",
       "<text style=\"fill:#000000; fill-opacity:1; font-family:Arial,Helvetica Neue,Helvetica,sans-serif; font-size:48px; text-anchor:end;\" transform=\"rotate(0, 129.898, 938.061)\" x=\"129.898\" y=\"938.061\">1.0</text>\n",
       "</g>\n",
       "<g clip-path=\"url(#clip0300)\">\n",
       "<text style=\"fill:#000000; fill-opacity:1; font-family:Arial,Helvetica Neue,Helvetica,sans-serif; font-size:48px; text-anchor:end;\" transform=\"rotate(0, 129.898, 684.086)\" x=\"129.898\" y=\"684.086\">1.1</text>\n",
       "</g>\n",
       "<g clip-path=\"url(#clip0300)\">\n",
       "<text style=\"fill:#000000; fill-opacity:1; font-family:Arial,Helvetica Neue,Helvetica,sans-serif; font-size:48px; text-anchor:end;\" transform=\"rotate(0, 129.898, 430.112)\" x=\"129.898\" y=\"430.112\">1.2</text>\n",
       "</g>\n",
       "<g clip-path=\"url(#clip0300)\">\n",
       "<text style=\"fill:#000000; fill-opacity:1; font-family:Arial,Helvetica Neue,Helvetica,sans-serif; font-size:48px; text-anchor:end;\" transform=\"rotate(0, 129.898, 176.137)\" x=\"129.898\" y=\"176.137\">1.3</text>\n",
       "</g>\n",
       "<circle clip-path=\"url(#clip0302)\" cx=\"216.13\" cy=\"464.757\" r=\"14\" fill=\"#009af9\" fill-rule=\"evenodd\" fill-opacity=\"1\" stroke=\"#000000\" stroke-opacity=\"1\" stroke-width=\"3.2\"/>\n",
       "<circle clip-path=\"url(#clip0302)\" cx=\"237.083\" cy=\"790.877\" r=\"14\" fill=\"#009af9\" fill-rule=\"evenodd\" fill-opacity=\"1\" stroke=\"#000000\" stroke-opacity=\"1\" stroke-width=\"3.2\"/>\n",
       "<circle clip-path=\"url(#clip0302)\" cx=\"258.037\" cy=\"717.429\" r=\"14\" fill=\"#009af9\" fill-rule=\"evenodd\" fill-opacity=\"1\" stroke=\"#000000\" stroke-opacity=\"1\" stroke-width=\"3.2\"/>\n",
       "<circle clip-path=\"url(#clip0302)\" cx=\"278.99\" cy=\"117.897\" r=\"14\" fill=\"#009af9\" fill-rule=\"evenodd\" fill-opacity=\"1\" stroke=\"#000000\" stroke-opacity=\"1\" stroke-width=\"3.2\"/>\n",
       "<circle clip-path=\"url(#clip0302)\" cx=\"299.944\" cy=\"754.153\" r=\"14\" fill=\"#009af9\" fill-rule=\"evenodd\" fill-opacity=\"1\" stroke=\"#000000\" stroke-opacity=\"1\" stroke-width=\"3.2\"/>\n",
       "<circle clip-path=\"url(#clip0302)\" cx=\"320.897\" cy=\"882.685\" r=\"14\" fill=\"#009af9\" fill-rule=\"evenodd\" fill-opacity=\"1\" stroke=\"#000000\" stroke-opacity=\"1\" stroke-width=\"3.2\"/>\n",
       "<circle clip-path=\"url(#clip0302)\" cx=\"341.851\" cy=\"376.512\" r=\"14\" fill=\"#009af9\" fill-rule=\"evenodd\" fill-opacity=\"1\" stroke=\"#000000\" stroke-opacity=\"1\" stroke-width=\"3.2\"/>\n",
       "<circle clip-path=\"url(#clip0302)\" cx=\"362.804\" cy=\"932.622\" r=\"14\" fill=\"#009af9\" fill-rule=\"evenodd\" fill-opacity=\"1\" stroke=\"#000000\" stroke-opacity=\"1\" stroke-width=\"3.2\"/>\n",
       "<circle clip-path=\"url(#clip0302)\" cx=\"383.758\" cy=\"636.559\" r=\"14\" fill=\"#009af9\" fill-rule=\"evenodd\" fill-opacity=\"1\" stroke=\"#000000\" stroke-opacity=\"1\" stroke-width=\"3.2\"/>\n",
       "<circle clip-path=\"url(#clip0302)\" cx=\"404.711\" cy=\"342.791\" r=\"14\" fill=\"#009af9\" fill-rule=\"evenodd\" fill-opacity=\"1\" stroke=\"#000000\" stroke-opacity=\"1\" stroke-width=\"3.2\"/>\n",
       "<circle clip-path=\"url(#clip0302)\" cx=\"425.665\" cy=\"673.712\" r=\"14\" fill=\"#009af9\" fill-rule=\"evenodd\" fill-opacity=\"1\" stroke=\"#000000\" stroke-opacity=\"1\" stroke-width=\"3.2\"/>\n",
       "<circle clip-path=\"url(#clip0302)\" cx=\"446.618\" cy=\"523.961\" r=\"14\" fill=\"#009af9\" fill-rule=\"evenodd\" fill-opacity=\"1\" stroke=\"#000000\" stroke-opacity=\"1\" stroke-width=\"3.2\"/>\n",
       "<circle clip-path=\"url(#clip0302)\" cx=\"467.572\" cy=\"885.499\" r=\"14\" fill=\"#009af9\" fill-rule=\"evenodd\" fill-opacity=\"1\" stroke=\"#000000\" stroke-opacity=\"1\" stroke-width=\"3.2\"/>\n",
       "<circle clip-path=\"url(#clip0302)\" cx=\"488.525\" cy=\"180.484\" r=\"14\" fill=\"#009af9\" fill-rule=\"evenodd\" fill-opacity=\"1\" stroke=\"#000000\" stroke-opacity=\"1\" stroke-width=\"3.2\"/>\n",
       "<circle clip-path=\"url(#clip0302)\" cx=\"509.478\" cy=\"673.322\" r=\"14\" fill=\"#009af9\" fill-rule=\"evenodd\" fill-opacity=\"1\" stroke=\"#000000\" stroke-opacity=\"1\" stroke-width=\"3.2\"/>\n",
       "<circle clip-path=\"url(#clip0302)\" cx=\"530.432\" cy=\"645.475\" r=\"14\" fill=\"#009af9\" fill-rule=\"evenodd\" fill-opacity=\"1\" stroke=\"#000000\" stroke-opacity=\"1\" stroke-width=\"3.2\"/>\n",
       "<circle clip-path=\"url(#clip0302)\" cx=\"551.385\" cy=\"302.59\" r=\"14\" fill=\"#009af9\" fill-rule=\"evenodd\" fill-opacity=\"1\" stroke=\"#000000\" stroke-opacity=\"1\" stroke-width=\"3.2\"/>\n",
       "<circle clip-path=\"url(#clip0302)\" cx=\"572.339\" cy=\"852.961\" r=\"14\" fill=\"#009af9\" fill-rule=\"evenodd\" fill-opacity=\"1\" stroke=\"#000000\" stroke-opacity=\"1\" stroke-width=\"3.2\"/>\n",
       "<circle clip-path=\"url(#clip0302)\" cx=\"593.292\" cy=\"1331.87\" r=\"14\" fill=\"#009af9\" fill-rule=\"evenodd\" fill-opacity=\"1\" stroke=\"#000000\" stroke-opacity=\"1\" stroke-width=\"3.2\"/>\n",
       "<circle clip-path=\"url(#clip0302)\" cx=\"614.246\" cy=\"804.685\" r=\"14\" fill=\"#009af9\" fill-rule=\"evenodd\" fill-opacity=\"1\" stroke=\"#000000\" stroke-opacity=\"1\" stroke-width=\"3.2\"/>\n",
       "<circle clip-path=\"url(#clip0302)\" cx=\"635.199\" cy=\"1011.01\" r=\"14\" fill=\"#009af9\" fill-rule=\"evenodd\" fill-opacity=\"1\" stroke=\"#000000\" stroke-opacity=\"1\" stroke-width=\"3.2\"/>\n",
       "<circle clip-path=\"url(#clip0302)\" cx=\"656.153\" cy=\"606.968\" r=\"14\" fill=\"#009af9\" fill-rule=\"evenodd\" fill-opacity=\"1\" stroke=\"#000000\" stroke-opacity=\"1\" stroke-width=\"3.2\"/>\n",
       "<circle clip-path=\"url(#clip0302)\" cx=\"677.106\" cy=\"720.555\" r=\"14\" fill=\"#009af9\" fill-rule=\"evenodd\" fill-opacity=\"1\" stroke=\"#000000\" stroke-opacity=\"1\" stroke-width=\"3.2\"/>\n",
       "<circle clip-path=\"url(#clip0302)\" cx=\"698.06\" cy=\"475.102\" r=\"14\" fill=\"#009af9\" fill-rule=\"evenodd\" fill-opacity=\"1\" stroke=\"#000000\" stroke-opacity=\"1\" stroke-width=\"3.2\"/>\n",
       "<circle clip-path=\"url(#clip0302)\" cx=\"719.013\" cy=\"1004.38\" r=\"14\" fill=\"#009af9\" fill-rule=\"evenodd\" fill-opacity=\"1\" stroke=\"#000000\" stroke-opacity=\"1\" stroke-width=\"3.2\"/>\n",
       "<circle clip-path=\"url(#clip0302)\" cx=\"739.967\" cy=\"672.018\" r=\"14\" fill=\"#009af9\" fill-rule=\"evenodd\" fill-opacity=\"1\" stroke=\"#000000\" stroke-opacity=\"1\" stroke-width=\"3.2\"/>\n",
       "<circle clip-path=\"url(#clip0302)\" cx=\"760.92\" cy=\"580.096\" r=\"14\" fill=\"#009af9\" fill-rule=\"evenodd\" fill-opacity=\"1\" stroke=\"#000000\" stroke-opacity=\"1\" stroke-width=\"3.2\"/>\n",
       "<circle clip-path=\"url(#clip0302)\" cx=\"781.874\" cy=\"380.117\" r=\"14\" fill=\"#009af9\" fill-rule=\"evenodd\" fill-opacity=\"1\" stroke=\"#000000\" stroke-opacity=\"1\" stroke-width=\"3.2\"/>\n",
       "<circle clip-path=\"url(#clip0302)\" cx=\"802.827\" cy=\"398.752\" r=\"14\" fill=\"#009af9\" fill-rule=\"evenodd\" fill-opacity=\"1\" stroke=\"#000000\" stroke-opacity=\"1\" stroke-width=\"3.2\"/>\n",
       "<circle clip-path=\"url(#clip0302)\" cx=\"823.781\" cy=\"888.986\" r=\"14\" fill=\"#009af9\" fill-rule=\"evenodd\" fill-opacity=\"1\" stroke=\"#000000\" stroke-opacity=\"1\" stroke-width=\"3.2\"/>\n",
       "<circle clip-path=\"url(#clip0302)\" cx=\"844.734\" cy=\"885.584\" r=\"14\" fill=\"#009af9\" fill-rule=\"evenodd\" fill-opacity=\"1\" stroke=\"#000000\" stroke-opacity=\"1\" stroke-width=\"3.2\"/>\n",
       "<circle clip-path=\"url(#clip0302)\" cx=\"865.688\" cy=\"88.0053\" r=\"14\" fill=\"#009af9\" fill-rule=\"evenodd\" fill-opacity=\"1\" stroke=\"#000000\" stroke-opacity=\"1\" stroke-width=\"3.2\"/>\n",
       "<circle clip-path=\"url(#clip0302)\" cx=\"886.641\" cy=\"939.122\" r=\"14\" fill=\"#009af9\" fill-rule=\"evenodd\" fill-opacity=\"1\" stroke=\"#000000\" stroke-opacity=\"1\" stroke-width=\"3.2\"/>\n",
       "<circle clip-path=\"url(#clip0302)\" cx=\"907.595\" cy=\"524.408\" r=\"14\" fill=\"#009af9\" fill-rule=\"evenodd\" fill-opacity=\"1\" stroke=\"#000000\" stroke-opacity=\"1\" stroke-width=\"3.2\"/>\n",
       "<circle clip-path=\"url(#clip0302)\" cx=\"928.548\" cy=\"690.673\" r=\"14\" fill=\"#009af9\" fill-rule=\"evenodd\" fill-opacity=\"1\" stroke=\"#000000\" stroke-opacity=\"1\" stroke-width=\"3.2\"/>\n",
       "<circle clip-path=\"url(#clip0302)\" cx=\"949.502\" cy=\"501.044\" r=\"14\" fill=\"#009af9\" fill-rule=\"evenodd\" fill-opacity=\"1\" stroke=\"#000000\" stroke-opacity=\"1\" stroke-width=\"3.2\"/>\n",
       "<circle clip-path=\"url(#clip0302)\" cx=\"970.455\" cy=\"1100.04\" r=\"14\" fill=\"#009af9\" fill-rule=\"evenodd\" fill-opacity=\"1\" stroke=\"#000000\" stroke-opacity=\"1\" stroke-width=\"3.2\"/>\n",
       "<circle clip-path=\"url(#clip0302)\" cx=\"991.408\" cy=\"483.187\" r=\"14\" fill=\"#009af9\" fill-rule=\"evenodd\" fill-opacity=\"1\" stroke=\"#000000\" stroke-opacity=\"1\" stroke-width=\"3.2\"/>\n",
       "<circle clip-path=\"url(#clip0302)\" cx=\"1012.36\" cy=\"522.042\" r=\"14\" fill=\"#009af9\" fill-rule=\"evenodd\" fill-opacity=\"1\" stroke=\"#000000\" stroke-opacity=\"1\" stroke-width=\"3.2\"/>\n",
       "<circle clip-path=\"url(#clip0302)\" cx=\"1033.32\" cy=\"1003.82\" r=\"14\" fill=\"#009af9\" fill-rule=\"evenodd\" fill-opacity=\"1\" stroke=\"#000000\" stroke-opacity=\"1\" stroke-width=\"3.2\"/>\n",
       "<circle clip-path=\"url(#clip0302)\" cx=\"1054.27\" cy=\"876.399\" r=\"14\" fill=\"#009af9\" fill-rule=\"evenodd\" fill-opacity=\"1\" stroke=\"#000000\" stroke-opacity=\"1\" stroke-width=\"3.2\"/>\n",
       "<circle clip-path=\"url(#clip0302)\" cx=\"1075.22\" cy=\"553.914\" r=\"14\" fill=\"#009af9\" fill-rule=\"evenodd\" fill-opacity=\"1\" stroke=\"#000000\" stroke-opacity=\"1\" stroke-width=\"3.2\"/>\n",
       "<circle clip-path=\"url(#clip0302)\" cx=\"1096.18\" cy=\"257.319\" r=\"14\" fill=\"#009af9\" fill-rule=\"evenodd\" fill-opacity=\"1\" stroke=\"#000000\" stroke-opacity=\"1\" stroke-width=\"3.2\"/>\n",
       "<circle clip-path=\"url(#clip0302)\" cx=\"1117.13\" cy=\"288.006\" r=\"14\" fill=\"#009af9\" fill-rule=\"evenodd\" fill-opacity=\"1\" stroke=\"#000000\" stroke-opacity=\"1\" stroke-width=\"3.2\"/>\n",
       "<circle clip-path=\"url(#clip0302)\" cx=\"1138.08\" cy=\"709.516\" r=\"14\" fill=\"#009af9\" fill-rule=\"evenodd\" fill-opacity=\"1\" stroke=\"#000000\" stroke-opacity=\"1\" stroke-width=\"3.2\"/>\n",
       "<circle clip-path=\"url(#clip0302)\" cx=\"1159.04\" cy=\"660.929\" r=\"14\" fill=\"#009af9\" fill-rule=\"evenodd\" fill-opacity=\"1\" stroke=\"#000000\" stroke-opacity=\"1\" stroke-width=\"3.2\"/>\n",
       "<circle clip-path=\"url(#clip0302)\" cx=\"1179.99\" cy=\"970.376\" r=\"14\" fill=\"#009af9\" fill-rule=\"evenodd\" fill-opacity=\"1\" stroke=\"#000000\" stroke-opacity=\"1\" stroke-width=\"3.2\"/>\n",
       "<circle clip-path=\"url(#clip0302)\" cx=\"1200.94\" cy=\"629.75\" r=\"14\" fill=\"#009af9\" fill-rule=\"evenodd\" fill-opacity=\"1\" stroke=\"#000000\" stroke-opacity=\"1\" stroke-width=\"3.2\"/>\n",
       "<circle clip-path=\"url(#clip0302)\" cx=\"1221.9\" cy=\"529.11\" r=\"14\" fill=\"#009af9\" fill-rule=\"evenodd\" fill-opacity=\"1\" stroke=\"#000000\" stroke-opacity=\"1\" stroke-width=\"3.2\"/>\n",
       "<circle clip-path=\"url(#clip0302)\" cx=\"1242.85\" cy=\"1093.89\" r=\"14\" fill=\"#009af9\" fill-rule=\"evenodd\" fill-opacity=\"1\" stroke=\"#000000\" stroke-opacity=\"1\" stroke-width=\"3.2\"/>\n",
       "<circle clip-path=\"url(#clip0302)\" cx=\"1263.8\" cy=\"731.013\" r=\"14\" fill=\"#009af9\" fill-rule=\"evenodd\" fill-opacity=\"1\" stroke=\"#000000\" stroke-opacity=\"1\" stroke-width=\"3.2\"/>\n",
       "<circle clip-path=\"url(#clip0302)\" cx=\"1284.76\" cy=\"681.378\" r=\"14\" fill=\"#009af9\" fill-rule=\"evenodd\" fill-opacity=\"1\" stroke=\"#000000\" stroke-opacity=\"1\" stroke-width=\"3.2\"/>\n",
       "<circle clip-path=\"url(#clip0302)\" cx=\"1305.71\" cy=\"593.438\" r=\"14\" fill=\"#009af9\" fill-rule=\"evenodd\" fill-opacity=\"1\" stroke=\"#000000\" stroke-opacity=\"1\" stroke-width=\"3.2\"/>\n",
       "<circle clip-path=\"url(#clip0302)\" cx=\"1326.66\" cy=\"503.324\" r=\"14\" fill=\"#009af9\" fill-rule=\"evenodd\" fill-opacity=\"1\" stroke=\"#000000\" stroke-opacity=\"1\" stroke-width=\"3.2\"/>\n",
       "<circle clip-path=\"url(#clip0302)\" cx=\"1347.62\" cy=\"473.558\" r=\"14\" fill=\"#009af9\" fill-rule=\"evenodd\" fill-opacity=\"1\" stroke=\"#000000\" stroke-opacity=\"1\" stroke-width=\"3.2\"/>\n",
       "<circle clip-path=\"url(#clip0302)\" cx=\"1368.57\" cy=\"322.93\" r=\"14\" fill=\"#009af9\" fill-rule=\"evenodd\" fill-opacity=\"1\" stroke=\"#000000\" stroke-opacity=\"1\" stroke-width=\"3.2\"/>\n",
       "<circle clip-path=\"url(#clip0302)\" cx=\"1389.52\" cy=\"746.451\" r=\"14\" fill=\"#009af9\" fill-rule=\"evenodd\" fill-opacity=\"1\" stroke=\"#000000\" stroke-opacity=\"1\" stroke-width=\"3.2\"/>\n",
       "<circle clip-path=\"url(#clip0302)\" cx=\"1410.48\" cy=\"408.042\" r=\"14\" fill=\"#009af9\" fill-rule=\"evenodd\" fill-opacity=\"1\" stroke=\"#000000\" stroke-opacity=\"1\" stroke-width=\"3.2\"/>\n",
       "<circle clip-path=\"url(#clip0302)\" cx=\"1431.43\" cy=\"950.706\" r=\"14\" fill=\"#009af9\" fill-rule=\"evenodd\" fill-opacity=\"1\" stroke=\"#000000\" stroke-opacity=\"1\" stroke-width=\"3.2\"/>\n",
       "<circle clip-path=\"url(#clip0302)\" cx=\"1452.38\" cy=\"956.819\" r=\"14\" fill=\"#009af9\" fill-rule=\"evenodd\" fill-opacity=\"1\" stroke=\"#000000\" stroke-opacity=\"1\" stroke-width=\"3.2\"/>\n",
       "<circle clip-path=\"url(#clip0302)\" cx=\"1473.34\" cy=\"546.326\" r=\"14\" fill=\"#009af9\" fill-rule=\"evenodd\" fill-opacity=\"1\" stroke=\"#000000\" stroke-opacity=\"1\" stroke-width=\"3.2\"/>\n",
       "<circle clip-path=\"url(#clip0302)\" cx=\"1494.29\" cy=\"822.899\" r=\"14\" fill=\"#009af9\" fill-rule=\"evenodd\" fill-opacity=\"1\" stroke=\"#000000\" stroke-opacity=\"1\" stroke-width=\"3.2\"/>\n",
       "<circle clip-path=\"url(#clip0302)\" cx=\"1515.25\" cy=\"468.393\" r=\"14\" fill=\"#009af9\" fill-rule=\"evenodd\" fill-opacity=\"1\" stroke=\"#000000\" stroke-opacity=\"1\" stroke-width=\"3.2\"/>\n",
       "<circle clip-path=\"url(#clip0302)\" cx=\"1536.2\" cy=\"715.74\" r=\"14\" fill=\"#009af9\" fill-rule=\"evenodd\" fill-opacity=\"1\" stroke=\"#000000\" stroke-opacity=\"1\" stroke-width=\"3.2\"/>\n",
       "<circle clip-path=\"url(#clip0302)\" cx=\"1557.15\" cy=\"1081.98\" r=\"14\" fill=\"#009af9\" fill-rule=\"evenodd\" fill-opacity=\"1\" stroke=\"#000000\" stroke-opacity=\"1\" stroke-width=\"3.2\"/>\n",
       "<circle clip-path=\"url(#clip0302)\" cx=\"1578.11\" cy=\"835.112\" r=\"14\" fill=\"#009af9\" fill-rule=\"evenodd\" fill-opacity=\"1\" stroke=\"#000000\" stroke-opacity=\"1\" stroke-width=\"3.2\"/>\n",
       "<circle clip-path=\"url(#clip0302)\" cx=\"1599.06\" cy=\"843.962\" r=\"14\" fill=\"#009af9\" fill-rule=\"evenodd\" fill-opacity=\"1\" stroke=\"#000000\" stroke-opacity=\"1\" stroke-width=\"3.2\"/>\n",
       "<circle clip-path=\"url(#clip0302)\" cx=\"1620.01\" cy=\"615.121\" r=\"14\" fill=\"#009af9\" fill-rule=\"evenodd\" fill-opacity=\"1\" stroke=\"#000000\" stroke-opacity=\"1\" stroke-width=\"3.2\"/>\n",
       "<circle clip-path=\"url(#clip0302)\" cx=\"1640.97\" cy=\"520.669\" r=\"14\" fill=\"#009af9\" fill-rule=\"evenodd\" fill-opacity=\"1\" stroke=\"#000000\" stroke-opacity=\"1\" stroke-width=\"3.2\"/>\n",
       "<circle clip-path=\"url(#clip0302)\" cx=\"1661.92\" cy=\"1035.38\" r=\"14\" fill=\"#009af9\" fill-rule=\"evenodd\" fill-opacity=\"1\" stroke=\"#000000\" stroke-opacity=\"1\" stroke-width=\"3.2\"/>\n",
       "<circle clip-path=\"url(#clip0302)\" cx=\"1682.87\" cy=\"499.655\" r=\"14\" fill=\"#009af9\" fill-rule=\"evenodd\" fill-opacity=\"1\" stroke=\"#000000\" stroke-opacity=\"1\" stroke-width=\"3.2\"/>\n",
       "<circle clip-path=\"url(#clip0302)\" cx=\"1703.83\" cy=\"729.113\" r=\"14\" fill=\"#009af9\" fill-rule=\"evenodd\" fill-opacity=\"1\" stroke=\"#000000\" stroke-opacity=\"1\" stroke-width=\"3.2\"/>\n",
       "<circle clip-path=\"url(#clip0302)\" cx=\"1724.78\" cy=\"517.868\" r=\"14\" fill=\"#009af9\" fill-rule=\"evenodd\" fill-opacity=\"1\" stroke=\"#000000\" stroke-opacity=\"1\" stroke-width=\"3.2\"/>\n",
       "<circle clip-path=\"url(#clip0302)\" cx=\"1745.73\" cy=\"864.983\" r=\"14\" fill=\"#009af9\" fill-rule=\"evenodd\" fill-opacity=\"1\" stroke=\"#000000\" stroke-opacity=\"1\" stroke-width=\"3.2\"/>\n",
       "<circle clip-path=\"url(#clip0302)\" cx=\"1766.69\" cy=\"542.51\" r=\"14\" fill=\"#009af9\" fill-rule=\"evenodd\" fill-opacity=\"1\" stroke=\"#000000\" stroke-opacity=\"1\" stroke-width=\"3.2\"/>\n",
       "<circle clip-path=\"url(#clip0302)\" cx=\"1787.64\" cy=\"197.97\" r=\"14\" fill=\"#009af9\" fill-rule=\"evenodd\" fill-opacity=\"1\" stroke=\"#000000\" stroke-opacity=\"1\" stroke-width=\"3.2\"/>\n",
       "<circle clip-path=\"url(#clip0302)\" cx=\"1808.59\" cy=\"562.037\" r=\"14\" fill=\"#009af9\" fill-rule=\"evenodd\" fill-opacity=\"1\" stroke=\"#000000\" stroke-opacity=\"1\" stroke-width=\"3.2\"/>\n",
       "<circle clip-path=\"url(#clip0302)\" cx=\"1829.55\" cy=\"886.543\" r=\"14\" fill=\"#009af9\" fill-rule=\"evenodd\" fill-opacity=\"1\" stroke=\"#000000\" stroke-opacity=\"1\" stroke-width=\"3.2\"/>\n",
       "<circle clip-path=\"url(#clip0302)\" cx=\"1850.5\" cy=\"776.949\" r=\"14\" fill=\"#009af9\" fill-rule=\"evenodd\" fill-opacity=\"1\" stroke=\"#000000\" stroke-opacity=\"1\" stroke-width=\"3.2\"/>\n",
       "<circle clip-path=\"url(#clip0302)\" cx=\"1871.45\" cy=\"431.635\" r=\"14\" fill=\"#009af9\" fill-rule=\"evenodd\" fill-opacity=\"1\" stroke=\"#000000\" stroke-opacity=\"1\" stroke-width=\"3.2\"/>\n",
       "<circle clip-path=\"url(#clip0302)\" cx=\"1892.41\" cy=\"1446.71\" r=\"14\" fill=\"#009af9\" fill-rule=\"evenodd\" fill-opacity=\"1\" stroke=\"#000000\" stroke-opacity=\"1\" stroke-width=\"3.2\"/>\n",
       "<circle clip-path=\"url(#clip0302)\" cx=\"1913.36\" cy=\"528.665\" r=\"14\" fill=\"#009af9\" fill-rule=\"evenodd\" fill-opacity=\"1\" stroke=\"#000000\" stroke-opacity=\"1\" stroke-width=\"3.2\"/>\n",
       "<circle clip-path=\"url(#clip0302)\" cx=\"1934.31\" cy=\"474.34\" r=\"14\" fill=\"#009af9\" fill-rule=\"evenodd\" fill-opacity=\"1\" stroke=\"#000000\" stroke-opacity=\"1\" stroke-width=\"3.2\"/>\n",
       "<circle clip-path=\"url(#clip0302)\" cx=\"1955.27\" cy=\"930.719\" r=\"14\" fill=\"#009af9\" fill-rule=\"evenodd\" fill-opacity=\"1\" stroke=\"#000000\" stroke-opacity=\"1\" stroke-width=\"3.2\"/>\n",
       "<circle clip-path=\"url(#clip0302)\" cx=\"1976.22\" cy=\"254.403\" r=\"14\" fill=\"#009af9\" fill-rule=\"evenodd\" fill-opacity=\"1\" stroke=\"#000000\" stroke-opacity=\"1\" stroke-width=\"3.2\"/>\n",
       "<circle clip-path=\"url(#clip0302)\" cx=\"1997.18\" cy=\"447.651\" r=\"14\" fill=\"#009af9\" fill-rule=\"evenodd\" fill-opacity=\"1\" stroke=\"#000000\" stroke-opacity=\"1\" stroke-width=\"3.2\"/>\n",
       "<circle clip-path=\"url(#clip0302)\" cx=\"2018.13\" cy=\"1072.15\" r=\"14\" fill=\"#009af9\" fill-rule=\"evenodd\" fill-opacity=\"1\" stroke=\"#000000\" stroke-opacity=\"1\" stroke-width=\"3.2\"/>\n",
       "<circle clip-path=\"url(#clip0302)\" cx=\"2039.08\" cy=\"842.603\" r=\"14\" fill=\"#009af9\" fill-rule=\"evenodd\" fill-opacity=\"1\" stroke=\"#000000\" stroke-opacity=\"1\" stroke-width=\"3.2\"/>\n",
       "<circle clip-path=\"url(#clip0302)\" cx=\"2060.04\" cy=\"280.012\" r=\"14\" fill=\"#009af9\" fill-rule=\"evenodd\" fill-opacity=\"1\" stroke=\"#000000\" stroke-opacity=\"1\" stroke-width=\"3.2\"/>\n",
       "<circle clip-path=\"url(#clip0302)\" cx=\"2080.99\" cy=\"843.026\" r=\"14\" fill=\"#009af9\" fill-rule=\"evenodd\" fill-opacity=\"1\" stroke=\"#000000\" stroke-opacity=\"1\" stroke-width=\"3.2\"/>\n",
       "<circle clip-path=\"url(#clip0302)\" cx=\"2101.94\" cy=\"459.321\" r=\"14\" fill=\"#009af9\" fill-rule=\"evenodd\" fill-opacity=\"1\" stroke=\"#000000\" stroke-opacity=\"1\" stroke-width=\"3.2\"/>\n",
       "<circle clip-path=\"url(#clip0302)\" cx=\"2122.9\" cy=\"958.945\" r=\"14\" fill=\"#009af9\" fill-rule=\"evenodd\" fill-opacity=\"1\" stroke=\"#000000\" stroke-opacity=\"1\" stroke-width=\"3.2\"/>\n",
       "<circle clip-path=\"url(#clip0302)\" cx=\"2143.85\" cy=\"474.785\" r=\"14\" fill=\"#009af9\" fill-rule=\"evenodd\" fill-opacity=\"1\" stroke=\"#000000\" stroke-opacity=\"1\" stroke-width=\"3.2\"/>\n",
       "<circle clip-path=\"url(#clip0302)\" cx=\"2164.8\" cy=\"489.993\" r=\"14\" fill=\"#009af9\" fill-rule=\"evenodd\" fill-opacity=\"1\" stroke=\"#000000\" stroke-opacity=\"1\" stroke-width=\"3.2\"/>\n",
       "<circle clip-path=\"url(#clip0302)\" cx=\"2185.76\" cy=\"606.279\" r=\"14\" fill=\"#009af9\" fill-rule=\"evenodd\" fill-opacity=\"1\" stroke=\"#000000\" stroke-opacity=\"1\" stroke-width=\"3.2\"/>\n",
       "<circle clip-path=\"url(#clip0302)\" cx=\"2206.71\" cy=\"431.52\" r=\"14\" fill=\"#009af9\" fill-rule=\"evenodd\" fill-opacity=\"1\" stroke=\"#000000\" stroke-opacity=\"1\" stroke-width=\"3.2\"/>\n",
       "<circle clip-path=\"url(#clip0302)\" cx=\"2227.66\" cy=\"1090.38\" r=\"14\" fill=\"#009af9\" fill-rule=\"evenodd\" fill-opacity=\"1\" stroke=\"#000000\" stroke-opacity=\"1\" stroke-width=\"3.2\"/>\n",
       "<circle clip-path=\"url(#clip0302)\" cx=\"2248.62\" cy=\"705.047\" r=\"14\" fill=\"#009af9\" fill-rule=\"evenodd\" fill-opacity=\"1\" stroke=\"#000000\" stroke-opacity=\"1\" stroke-width=\"3.2\"/>\n",
       "<circle clip-path=\"url(#clip0302)\" cx=\"2269.57\" cy=\"450.966\" r=\"14\" fill=\"#009af9\" fill-rule=\"evenodd\" fill-opacity=\"1\" stroke=\"#000000\" stroke-opacity=\"1\" stroke-width=\"3.2\"/>\n",
       "<circle clip-path=\"url(#clip0302)\" cx=\"2290.52\" cy=\"728.467\" r=\"14\" fill=\"#009af9\" fill-rule=\"evenodd\" fill-opacity=\"1\" stroke=\"#000000\" stroke-opacity=\"1\" stroke-width=\"3.2\"/>\n",
       "<path clip-path=\"url(#clip0300)\" d=\"\n",
       "M1989.93 251.724 L2280.76 251.724 L2280.76 130.764 L1989.93 130.764  Z\n",
       "  \" fill=\"#ffffff\" fill-rule=\"evenodd\" fill-opacity=\"1\"/>\n",
       "<polyline clip-path=\"url(#clip0300)\" style=\"stroke:#000000; stroke-width:4; stroke-opacity:1; fill:none\" points=\"\n",
       "  1989.93,251.724 2280.76,251.724 2280.76,130.764 1989.93,130.764 1989.93,251.724 \n",
       "  \"/>\n",
       "<circle clip-path=\"url(#clip0300)\" cx=\"2097.93\" cy=\"191.244\" r=\"21\" fill=\"#009af9\" fill-rule=\"evenodd\" fill-opacity=\"1\" stroke=\"#000000\" stroke-opacity=\"1\" stroke-width=\"3.2\"/>\n",
       "<g clip-path=\"url(#clip0300)\">\n",
       "<text style=\"fill:#000000; fill-opacity:1; font-family:Arial,Helvetica Neue,Helvetica,sans-serif; font-size:48px; text-anchor:start;\" transform=\"rotate(0, 2181.93, 208.744)\" x=\"2181.93\" y=\"208.744\">y1</text>\n",
       "</g>\n",
       "</svg>\n"
      ]
     },
     "execution_count": 74,
     "metadata": {},
     "output_type": "execute_result"
    }
   ],
   "source": [
    "scatter(cs)"
   ]
  },
  {
   "cell_type": "code",
   "execution_count": null,
   "metadata": {},
   "outputs": [],
   "source": []
  }
 ],
 "metadata": {
  "@webio": {
   "lastCommId": "e7ddcbf8f6164cee88c88a68ff1650b4",
   "lastKernelId": "a7a5b129-5bc8-4f18-873d-1d9becb8ff75"
  },
  "kernelspec": {
   "display_name": "Julia 1.4.0",
   "language": "julia",
   "name": "julia-1.4"
  },
  "language_info": {
   "file_extension": ".jl",
   "mimetype": "application/julia",
   "name": "julia",
   "version": "1.4.0"
  }
 },
 "nbformat": 4,
 "nbformat_minor": 4
}
