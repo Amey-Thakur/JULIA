{
  "nbformat": 4,
  "nbformat_minor": 0,
  "metadata": {
    "kernelspec": {
      "name": "julia-1.6",
      "display_name": "Julia 1.6"
    },
    "accelerator": "GPU",
    "colab": {
      "name": "JuliaOnColab.ipynb",
      "provenance": [],
      "collapsed_sections": [],
      "include_colab_link": true
    }
  },
  "cells": [
    {
      "cell_type": "markdown",
      "metadata": {
        "id": "view-in-github",
        "colab_type": "text"
      },
      "source": [
        "<a href=\"https://colab.research.google.com/github/Amey-Thakur/JULIA/blob/main/JuliaOnColab.ipynb\" target=\"_parent\"><img src=\"https://colab.research.google.com/assets/colab-badge.svg\" alt=\"Open In Colab\"/></a>"
      ]
    },
    {
      "cell_type": "markdown",
      "metadata": {
        "id": "Q7S9cpFJqfXy"
      },
      "source": [
        "## Julia on Colaboratory ##\n",
        "\n",
        "[Colaboratory](https://colab.research.google.com) does not provide native support for the [Julia programming language](https://julialang.org). However, since Colaboratory gives you root access to the machine that runs your notebook (the *“runtime”* in Colaboratory terminology), we can install Julia support by uploading a specially crafted Julia notebook  – *this* notebook. We then install Julia and [IJulia](https://github.com/JuliaLang/IJulia.jl) ([Jupyter](https://jupyter.org)/Colaboratory notebook support) and reload the notebook so that Colaboratory detects and initiates what we installed.\n",
        "\n",
        "In brief:\n",
        "\n",
        "1. **Run the cell below**\n",
        "2. **Reload the page**\n",
        "3. **Edit the notebook name and start hacking Julia code below**\n",
        "\n",
        "**If your runtime resets**, either manually or if left idle for some time, **repeat steps 1 and 2**.\n",
        "\n",
        "### Acknowledgements ###\n",
        "\n",
        "This hack by Pontus Stenetorp is an adaptation of [James Bradbury’s original Colaboratory Julia hack](https://discourse.julialang.org/t/julia-on-google-colab-free-gpu-accelerated-shareable-notebooks/15319/27), that broke some time in September 2019 as Colaboratory increased their level of notebook runtime isolation. There also appears to be CUDA compilation support installed by default for each notebook runtime type in October 2019, which shaves off a good 15 minutes or so from the original hack’s installation time. Adapted for Knet by Deniz Yuret."
      ]
    },
    {
      "cell_type": "code",
      "metadata": {
        "id": "BrHjOFFsxf7W"
      },
      "source": [
        "# Julia/IJulia installation cell: run once (takes 30 seconds) and reload page before running the next cell\n",
        "%%shell\n",
        "wget 'https://julialang-s3.julialang.org/bin/linux/x64/1.6/julia-1.6.3-linux-x86_64.tar.gz' -O /tmp/julia.tar.gz\n",
        "tar -x -f /tmp/julia.tar.gz -C /usr/local --strip-components 1\n",
        "rm /tmp/julia.tar.gz\n",
        "julia -e 'using Pkg; Pkg.add(\"IJulia\")'"
      ],
      "execution_count": null,
      "outputs": []
    },
    {
      "cell_type": "code",
      "metadata": {
        "id": "bkBZp_6YP4gf"
      },
      "source": [
        "# Knet installation cell: run after reloading/renaming notebook\n",
        "ENV[\"JULIA_CUDA_USE_BINARYBUILDER\"]=\"false\"  # Use this for faster installation, otherwise CUDA libraries will be downloaded\n",
        "using Pkg; Pkg.add(\"Knet\")"
      ],
      "execution_count": null,
      "outputs": []
    },
    {
      "cell_type": "code",
      "metadata": {
        "id": "pWDXteAbeUmz"
      },
      "source": [
        "# All should be ready, you can start typing Julia code or cutting and pasting cells from another notebook"
      ],
      "execution_count": null,
      "outputs": []
    }
  ]
}