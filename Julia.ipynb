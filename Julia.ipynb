{
  "nbformat": 4,
  "nbformat_minor": 0,
  "metadata": {
    "colab": {
      "name": "Julia.ipynb",
      "private_outputs": true,
      "provenance": [],
      "authorship_tag": "ABX9TyNYDTaQPvHAyeslSu0J7Bb9",
      "include_colab_link": true
    },
    "kernelspec": {
      "name": "python3",
      "display_name": "Python 3"
    },
    "language_info": {
      "name": "python"
    }
  },
  "cells": [
    {
      "cell_type": "markdown",
      "metadata": {
        "id": "view-in-github",
        "colab_type": "text"
      },
      "source": [
        "<a href=\"https://colab.research.google.com/github/Amey-Thakur/JULIA/blob/main/Julia.ipynb\" target=\"_parent\"><img src=\"https://colab.research.google.com/assets/colab-badge.svg\" alt=\"Open In Colab\"/></a>"
      ]
    },
    {
      "cell_type": "code",
      "metadata": {
        "id": "-oRZG2TSf-g9"
      },
      "source": [
        "!git clone https://github.com/JuliaLang/julia.git"
      ],
      "execution_count": null,
      "outputs": []
    }
  ]
}