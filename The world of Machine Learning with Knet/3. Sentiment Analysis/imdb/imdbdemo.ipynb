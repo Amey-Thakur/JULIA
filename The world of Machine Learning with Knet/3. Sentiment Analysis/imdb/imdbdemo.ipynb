{
 "cells": [
  {
   "cell_type": "markdown",
   "metadata": {},
   "source": [
    "# IMDB Movie Review Sentiment Analysis Demo"
   ]
  },
  {
   "cell_type": "markdown",
   "metadata": {},
   "source": [
    "## Setup\n",
    "* Adds required packages to Julia.\n",
    "* Loads the data and a pretrained model.\n",
    "* See [07.imdb.ipynb](https://github.com/denizyuret/Knet.jl/blob/v1.1.1/tutorial/07.imdb.ipynb) to see how the model was trained."
   ]
  },
  {
   "cell_type": "code",
   "execution_count": 6,
   "metadata": {},
   "outputs": [
    {
     "data": {
      "text/plain": [
       "str2ids (generic function with 1 method)"
      ]
     },
     "execution_count": 6,
     "metadata": {},
     "output_type": "execute_result"
    }
   ],
   "source": [
    "include(\"imdb.jl\")"
   ]
  },
  {
   "cell_type": "markdown",
   "metadata": {},
   "source": [
    "## Sample Data\n",
    "The model was trained using 25000 movie reviews such as the following (shift-ENTER to see random example)   \n",
    "Each review was tokenized, lowercased, truncated to max 150 words and a 30,000 word vocabulary.   "
   ]
  },
  {
   "cell_type": "code",
   "execution_count": 7,
   "metadata": {
    "scrolled": true
   },
   "outputs": [
    {
     "name": "stdout",
     "output_type": "stream",
     "text": [
      "Negative review:\n",
      "really disappointed in her and others who were in the first for being a part of this if i was chosen for this film just by reading the script i can tell it would be a bad film the characters are different now ariel is more wiser now but annoying they <unk> her character making her too mature in sequels you are not meant to change the characters unless it is for a special reason she was sixteen in the first there is little chance she changes that is the stage when you become the person you are going to be for the rest of your life screenwriters should think of that they should think of the character br br well i suppose that is it for me i hope you find my comment useful because i am sure a lot of you will agree with my point of view\n"
     ]
    }
   ],
   "source": [
    "r = rand(1:length(xtrn))\n",
    "println(reviewstring(xtrn[r],ytrn[r]))\n",
    "flush(stdout)"
   ]
  },
  {
   "cell_type": "markdown",
   "metadata": {},
   "source": [
    "## Test\n",
    "We test the model on 25000 never before seen reviews on the test set (shift-ENTER to see random example)   \n",
    "The test accuracy is around 86%   "
   ]
  },
  {
   "cell_type": "code",
   "execution_count": 15,
   "metadata": {},
   "outputs": [
    {
     "name": "stdout",
     "output_type": "stream",
     "text": [
      "Positive review:\n",
      "affinity for the role then comes as little surprise br br as for the production itself it is presented as a kind of filmed copy of the stage play with little special effects or fancy camera work minimal sets and no musical accompaniment to speak of this production relies on the acting prowess of the cast and the words of shakespeare to evoke the emotion and interest of its audience and it works the other players are top notch as well particularly patrick stewart's claudius and claire <unk> gertrude together the cast present a seamless ensemble br br the last but far from least element that makes this production stand out is the play itself here it is presented in its entirety a rarity on film but oddly enough i never noticed the time i was too busy getting caught up in the story i suspect that you will too\n",
      "\n",
      "Prediction: Positive\n"
     ]
    }
   ],
   "source": [
    "r = rand(1:length(xtst))\n",
    "println(reviewstring(xtst[r],ytst[r]))\n",
    "println(predictstring(xtst[r]))\n",
    "flush(stdout)"
   ]
  },
  {
   "cell_type": "markdown",
   "metadata": {},
   "source": [
    "## User Input\n",
    "In this cell you can enter your own review and let the model guess the sentiment"
   ]
  },
  {
   "cell_type": "code",
   "execution_count": 14,
   "metadata": {},
   "outputs": [
    {
     "name": "stdout",
     "output_type": "stream",
     "text": [
      "stdin> awesome\n",
      "\n",
      "Prediction: Positive\n"
     ]
    }
   ],
   "source": [
    "userinput = readline(stdin)\n",
    "words = split(lowercase(userinput))\n",
    "ex = [get!(imdbdict,wr,UNK) for wr in words]\n",
    "ex[ex.>VOCABSIZE].=UNK\n",
    "println(predictstring(ex))"
   ]
  },
  {
   "cell_type": "code",
   "execution_count": null,
   "metadata": {},
   "outputs": [],
   "source": []
  }
 ],
 "metadata": {
  "kernelspec": {
   "display_name": "Julia 1.0.1",
   "language": "julia",
   "name": "julia-1.0"
  },
  "language_info": {
   "file_extension": ".jl",
   "mimetype": "application/julia",
   "name": "julia",
   "version": "1.0.1"
  }
 },
 "nbformat": 4,
 "nbformat_minor": 2
}
