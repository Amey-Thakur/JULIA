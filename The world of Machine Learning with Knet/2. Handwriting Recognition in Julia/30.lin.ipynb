{
 "cells": [
  {
   "cell_type": "markdown",
   "metadata": {
    "slideshow": {
     "slide_type": "slide"
    }
   },
   "source": [
    "# Linear models, loss functions, gradients, SGD\n",
    "(c) Deniz Yuret, 2019-2021\n",
    "* Objectives: Define, train and visualize a simple model; understand gradients and SGD; learn to use the GPU.\n",
    "* Prerequisites: [Callable objects](https://docs.julialang.org/en/v1/manual/methods/#Function-like-objects-1), [Generator expressions](https://docs.julialang.org/en/v1/manual/arrays/#Generator-Expressions-1), [MNIST](20.mnist.ipynb), [Iterators](25.iterators.ipynb)\n",
    "* New functions: \n",
    "[accuracy](http://denizyuret.github.io/Knet.jl/latest/reference/#Knet.accuracy), \n",
    "[nll](http://denizyuret.github.io/Knet.jl/latest/reference/#Knet.nll), \n",
    "[Param, @diff, value, params, grad](http://denizyuret.github.io/Knet.jl/latest/reference/#AutoGrad),\n",
    "[sgd](http://denizyuret.github.io/Knet.jl/latest/reference/#Knet.sgd),\n",
    "[progress, progress!](http://denizyuret.github.io/Knet.jl/latest/reference/#Knet.progress), \n",
    "[gpu](http://denizyuret.github.io/Knet.jl/latest/reference/#Knet.gpu), \n",
    "[CuArray](https://cuda.juliagpu.org/stable/usage/overview), \n",
    "[load, save](https://juliaio.github.io/FileIO.jl/stable), \n",
    "\n",
    "\n",
    "<img src=\"https://www.oreilly.com/library/view/tensorflow-for-deep/9781491980446/assets/tfdl_0401.png\" alt=\"A linear model\" width=300/> ([image source](https://www.oreilly.com/library/view/tensorflow-for-deep/9781491980446/ch04.html))\n",
    "\n",
    "In Knet, a machine learning model is defined using plain Julia code. A typical model consists of a **prediction** and a **loss** function. The prediction function takes some input, returns the prediction of the model for that input. The loss function measures how bad the prediction is with respect to some desired output. We train a model by adjusting its parameters to reduce the loss.\n",
    "\n",
    "In this section we will implement a simple linear model to classify MNIST digits. The prediction function will return 10 scores for each of the possible labels 0..9 as a linear combination of the pixel values. The loss function will convert these scores to normalized probabilities and return the average -log probability of the correct answers. Minimizing this loss should maximize the scores assigned to correct answers by the model. We will make use of the loss gradient with respect to each parameter, which tells us the direction of the greatest loss increase. We will improve the model by moving the parameters in the opposite direction (using a GPU if available). We will visualize the model weights and performance over time. The final accuracy of about 92% is close to the limit of what we can achieve with this type of model. To improve further we must look beyond linear models."
   ]
  },
  {
   "cell_type": "code",
   "execution_count": 1,
   "metadata": {
    "slideshow": {
     "slide_type": "slide"
    }
   },
   "outputs": [],
   "source": [
    "# Set display width, load packages, import symbols\n",
    "ENV[\"COLUMNS\"]=72\n",
    "using Statistics: mean\n",
    "using Base.Iterators: flatten\n",
    "using IterTools: ncycle, takenth\n",
    "import Random # seed!\n",
    "using MLDatasets: MNIST\n",
    "using FileIO: load, save\n",
    "import JLD2 # data file format\n",
    "import CUDA # functional, CuArray\n",
    "using Knet: Knet, AutoGrad, dir, Data, minibatch, Param, @diff, value, params, grad, progress, progress!, CuArray\n",
    "# The following are defined for instruction even though they are provided in Knet\n",
    "# using Knet: accuracy, nll, sgd"
   ]
  },
  {
   "cell_type": "code",
   "execution_count": 2,
   "metadata": {},
   "outputs": [
    {
     "name": "stdout",
     "output_type": "stream",
     "text": [
      "600-element Data{Tuple{Array{Float32,2},Array{Int64,1}}}\n",
      "100-element Data{Tuple{Array{Float32,2},Array{Int64,1}}}\n"
     ]
    }
   ],
   "source": [
    "# Load MNIST data\n",
    "xtrn,ytrn = MNIST.traindata(Float32); ytrn[ytrn.==0] .= 10\n",
    "xtst,ytst = MNIST.testdata(Float32);  ytst[ytst.==0] .= 10\n",
    "dtrn = minibatch(xtrn, ytrn, 100; xsize = (784,:), xtype = Array)\n",
    "dtst = minibatch(xtst, ytst, 100; xsize = (784,:), xtype = Array)\n",
    "println.(summary.((dtrn,dtst)));"
   ]
  },
  {
   "cell_type": "markdown",
   "metadata": {
    "slideshow": {
     "slide_type": "slide"
    }
   },
   "source": [
    "## Model definition"
   ]
  },
  {
   "cell_type": "code",
   "execution_count": 3,
   "metadata": {
    "slideshow": {
     "slide_type": "slide"
    }
   },
   "outputs": [
    {
     "data": {
      "text/plain": [
       "Linear([0.010250208813939895 0.009156469384186117 … -0.008744043935401897 0.0027893835288007015; 0.012809294862061355 -0.0027828944916268284 … -0.01291731632961187 0.028698271336794062; … ; -0.007299245195363846 0.006931397646413979 … 0.00029883093930691213 -0.00042994722598638653; -0.014150554416036985 0.011703104539148282 … 0.013981758139057205 0.004469080535429366], [0.0, 0.0, 0.0, 0.0, 0.0, 0.0, 0.0, 0.0, 0.0, 0.0])"
      ]
     },
     "execution_count": 3,
     "metadata": {},
     "output_type": "execute_result"
    }
   ],
   "source": [
    "# In Julia we define a new datatype using `struct`:\n",
    "struct Linear; w; b; end\n",
    "\n",
    "# The new struct comes with a default constructor:\n",
    "model = Linear(0.01 * randn(10,784), zeros(10))\n",
    "\n",
    "# We can define other constructors with different inputs:\n",
    "Linear(i::Int,o::Int,scale=0.01) = Linear(scale * randn(o,i), zeros(o))\n",
    "\n",
    "# This one allows instances to be defined using input and output sizes:\n",
    "model = Linear(784,10)"
   ]
  },
  {
   "cell_type": "markdown",
   "metadata": {
    "slideshow": {
     "slide_type": "slide"
    }
   },
   "source": [
    "## Prediction"
   ]
  },
  {
   "cell_type": "code",
   "execution_count": 4,
   "metadata": {
    "slideshow": {
     "slide_type": "slide"
    }
   },
   "outputs": [],
   "source": [
    "# We turn Linear instances into callable objects for prediction:\n",
    "(m::Linear)(x) = m.w * x .+ m.b"
   ]
  },
  {
   "cell_type": "code",
   "execution_count": 5,
   "metadata": {
    "slideshow": {
     "slide_type": "slide"
    }
   },
   "outputs": [
    {
     "data": {
      "text/plain": [
       "(\"784×100 Array{Float32,2}\", \"100-element Array{Int64,1}\")"
      ]
     },
     "execution_count": 5,
     "metadata": {},
     "output_type": "execute_result"
    }
   ],
   "source": [
    "x,y = first(dtst) # The first minibatch from the test set\n",
    "summary.((x,y))"
   ]
  },
  {
   "cell_type": "code",
   "execution_count": 6,
   "metadata": {
    "scrolled": true,
    "slideshow": {
     "slide_type": "fragment"
    }
   },
   "outputs": [
    {
     "data": {
      "text/plain": [
       "1×100 LinearAlgebra.Adjoint{Int64,Array{Int64,1}}:\n",
       " 7  2  1  10  4  1  4  9  5  9  …  1  3  6  9  3  1  4  1  7  6  9"
      ]
     },
     "execution_count": 6,
     "metadata": {},
     "output_type": "execute_result"
    }
   ],
   "source": [
    "y' # correct answers are given as an array of integers (remember we use 10 for 0)"
   ]
  },
  {
   "cell_type": "code",
   "execution_count": 7,
   "metadata": {
    "slideshow": {
     "slide_type": "fragment"
    }
   },
   "outputs": [
    {
     "data": {
      "text/plain": [
       "10×100 Array{Float64,2}:\n",
       " -0.0250313   -0.0816154   -0.00423346  …  -0.135169   -0.0115012\n",
       "  0.0122202    0.191724    -0.0426294      -0.0232773   0.0648005\n",
       " -0.0499727    0.205248     0.0562747       0.0852388   0.030561\n",
       "  0.0344634   -0.0917553    0.0138946      -0.0437487  -0.0509927\n",
       " -0.0362311   -0.0544444   -0.0221727      -0.0451954  -0.172924\n",
       "  0.00775462  -0.107705    -0.00175397  …  -0.0442647  -0.0156054\n",
       " -0.00403154  -0.0260729    0.0224417      -0.137707   -0.00150977\n",
       "  0.0255925    0.00819857   0.0125202       0.0554805  -0.0272517\n",
       " -0.0155763   -0.0461483    0.0882222      -0.0856574  -0.080045\n",
       "  0.0395347    0.113438    -0.0488667       0.0662365   0.0560977"
      ]
     },
     "execution_count": 7,
     "metadata": {},
     "output_type": "execute_result"
    }
   ],
   "source": [
    "ypred = model(x)  # Predictions on the first minibatch: a 10x100 score matrix"
   ]
  },
  {
   "cell_type": "code",
   "execution_count": 8,
   "metadata": {
    "slideshow": {
     "slide_type": "slide"
    }
   },
   "outputs": [
    {
     "data": {
      "text/plain": [
       "0.11"
      ]
     },
     "execution_count": 8,
     "metadata": {},
     "output_type": "execute_result"
    }
   ],
   "source": [
    "# We can calculate the accuracy of our model for the first minibatch\n",
    "accuracy(model,x,y) = mean(y' .== map(i->i[1], findmax(Array(model(x)),dims=1)[2]))\n",
    "accuracy(model,x,y)"
   ]
  },
  {
   "cell_type": "code",
   "execution_count": 9,
   "metadata": {
    "slideshow": {
     "slide_type": "fragment"
    }
   },
   "outputs": [
    {
     "data": {
      "text/plain": [
       "0.12749999999999995"
      ]
     },
     "execution_count": 9,
     "metadata": {},
     "output_type": "execute_result"
    }
   ],
   "source": [
    "# We can calculate the accuracy of our model for the whole test set\n",
    "accuracy(model,data) = mean(accuracy(model,x,y) for (x,y) in data)\n",
    "accuracy(model,dtst)"
   ]
  },
  {
   "cell_type": "markdown",
   "metadata": {
    "slideshow": {
     "slide_type": "slide"
    }
   },
   "source": [
    "## Loss function"
   ]
  },
  {
   "cell_type": "code",
   "execution_count": 11,
   "metadata": {
    "slideshow": {
     "slide_type": "slide"
    }
   },
   "outputs": [
    {
     "data": {
      "text/plain": [
       "nll (generic function with 1 method)"
      ]
     },
     "execution_count": 11,
     "metadata": {},
     "output_type": "execute_result"
    }
   ],
   "source": [
    "# For classification we use negative log likelihood loss (aka cross entropy, softmax loss, NLL)\n",
    "# This is the average -log probability assigned to correct answers by the model\n",
    "function nll(scores, y)\n",
    "    expscores = exp.(scores)\n",
    "    probabilities = expscores ./ sum(expscores, dims=1)\n",
    "    answerprobs = (probabilities[y[i],i] for i in 1:length(y))\n",
    "    mean(-log.(answerprobs))\n",
    "end"
   ]
  },
  {
   "cell_type": "code",
   "execution_count": 12,
   "metadata": {
    "slideshow": {
     "slide_type": "slide"
    }
   },
   "outputs": [
    {
     "data": {
      "text/plain": [
       "2.2918972870616603"
      ]
     },
     "execution_count": 12,
     "metadata": {},
     "output_type": "execute_result"
    }
   ],
   "source": [
    "# model(x) gives predictions, let model(x,y) give the loss\n",
    "(m::Linear)(x, y) = nll(m(x), y)\n",
    "model(x,y)"
   ]
  },
  {
   "cell_type": "code",
   "execution_count": 13,
   "metadata": {
    "slideshow": {
     "slide_type": "fragment"
    }
   },
   "outputs": [
    {
     "data": {
      "text/plain": [
       "2.2918972870616603"
      ]
     },
     "execution_count": 13,
     "metadata": {},
     "output_type": "execute_result"
    }
   ],
   "source": [
    "# We can also use the Knet nll implementation for efficiency\n",
    "(m::Linear)(x, y) = Knet.nll(m(x), y)\n",
    "model(x,y)"
   ]
  },
  {
   "cell_type": "code",
   "execution_count": 14,
   "metadata": {
    "slideshow": {
     "slide_type": "fragment"
    }
   },
   "outputs": [],
   "source": [
    "# If the input is a dataset compute average loss:\n",
    "(m::Linear)(data::Data) = mean(m(x,y) for (x,y) in data)"
   ]
  },
  {
   "cell_type": "code",
   "execution_count": 15,
   "metadata": {
    "slideshow": {
     "slide_type": "fragment"
    }
   },
   "outputs": [
    {
     "data": {
      "text/plain": [
       "2.296847605139261"
      ]
     },
     "execution_count": 15,
     "metadata": {},
     "output_type": "execute_result"
    }
   ],
   "source": [
    "# Here is per-instance average negative log likelihood for the whole test set\n",
    "model(dtst)"
   ]
  },
  {
   "cell_type": "markdown",
   "metadata": {},
   "source": [
    "**Bonus question:** What is special about the loss value 2.3?"
   ]
  },
  {
   "cell_type": "markdown",
   "metadata": {
    "slideshow": {
     "slide_type": "slide"
    }
   },
   "source": [
    "## Calculating the gradient using AutoGrad"
   ]
  },
  {
   "cell_type": "code",
   "execution_count": 16,
   "metadata": {
    "scrolled": true,
    "slideshow": {
     "slide_type": "slide"
    }
   },
   "outputs": [
    {
     "data": {
      "text/latex": [
       "Usage:\n",
       "\n",
       "\\begin{verbatim}\n",
       "x = Param([1,2,3])          # user declares parameters with `Param`\n",
       "x => P([1,2,3])             # `Param` is just a struct wrapping a value\n",
       "value(x) => [1,2,3]         # `value` returns the thing wrapped\n",
       "sum(x .* x) => 14           # Params act like regular values\n",
       "y = @diff sum(x .* x)       # Except when we differentiate using `@diff`\n",
       "y => T(14)                  # you get another struct\n",
       "value(y) => 14              # which carries the same result\n",
       "params(y) => [x]            # and the Params that it depends on \n",
       "grad(y,x) => [2,4,6]        # and the gradients for all Params\n",
       "\\end{verbatim}\n",
       "\\texttt{Param(x)} returns a struct that acts like \\texttt{x} but marks it as a parameter you want to compute gradients with respect to.\n",
       "\n",
       "\\texttt{@diff expr} evaluates an expression and returns a struct that contains the result (which should be a scalar) and gradient information.\n",
       "\n",
       "\\texttt{grad(y, x)} returns the gradient of \\texttt{y} (output by @diff) with respect to any parameter \\texttt{x::Param}, or  \\texttt{nothing} if the gradient is 0.\n",
       "\n",
       "\\texttt{value(x)} returns the value associated with \\texttt{x} if \\texttt{x} is a \\texttt{Param} or the output of \\texttt{@diff}, otherwise returns \\texttt{x}.\n",
       "\n",
       "\\texttt{params(x)} returns an iterator of Params found by a recursive search of object \\texttt{x}.\n",
       "\n",
       "Alternative usage:\n",
       "\n",
       "\\begin{verbatim}\n",
       "x = [1 2 3]\n",
       "f(x) = sum(x .* x)\n",
       "f(x) => 14\n",
       "grad(f)(x) => [2 4 6]\n",
       "gradloss(f)(x) => ([2 4 6], 14)\n",
       "\\end{verbatim}\n",
       "Given a scalar valued function \\texttt{f}, \\texttt{grad(f,argnum=1)} returns another function \\texttt{g} which takes the same inputs as \\texttt{f} and returns the gradient of the output with respect to the argnum'th argument. \\texttt{gradloss} is similar except the resulting function also returns f's output.\n",
       "\n"
      ],
      "text/markdown": [
       "Usage:\n",
       "\n",
       "```\n",
       "x = Param([1,2,3])          # user declares parameters with `Param`\n",
       "x => P([1,2,3])             # `Param` is just a struct wrapping a value\n",
       "value(x) => [1,2,3]         # `value` returns the thing wrapped\n",
       "sum(x .* x) => 14           # Params act like regular values\n",
       "y = @diff sum(x .* x)       # Except when we differentiate using `@diff`\n",
       "y => T(14)                  # you get another struct\n",
       "value(y) => 14              # which carries the same result\n",
       "params(y) => [x]            # and the Params that it depends on \n",
       "grad(y,x) => [2,4,6]        # and the gradients for all Params\n",
       "```\n",
       "\n",
       "`Param(x)` returns a struct that acts like `x` but marks it as a parameter you want to compute gradients with respect to.\n",
       "\n",
       "`@diff expr` evaluates an expression and returns a struct that contains the result (which should be a scalar) and gradient information.\n",
       "\n",
       "`grad(y, x)` returns the gradient of `y` (output by @diff) with respect to any parameter `x::Param`, or  `nothing` if the gradient is 0.\n",
       "\n",
       "`value(x)` returns the value associated with `x` if `x` is a `Param` or the output of `@diff`, otherwise returns `x`.\n",
       "\n",
       "`params(x)` returns an iterator of Params found by a recursive search of object `x`.\n",
       "\n",
       "Alternative usage:\n",
       "\n",
       "```\n",
       "x = [1 2 3]\n",
       "f(x) = sum(x .* x)\n",
       "f(x) => 14\n",
       "grad(f)(x) => [2 4 6]\n",
       "gradloss(f)(x) => ([2 4 6], 14)\n",
       "```\n",
       "\n",
       "Given a scalar valued function `f`, `grad(f,argnum=1)` returns another function `g` which takes the same inputs as `f` and returns the gradient of the output with respect to the argnum'th argument. `gradloss` is similar except the resulting function also returns f's output.\n"
      ],
      "text/plain": [
       "  Usage:\n",
       "\n",
       "\u001b[36m  x = Param([1,2,3])          # user declares parameters with `Param`\u001b[39m\n",
       "\u001b[36m  x => P([1,2,3])             # `Param` is just a struct wrapping a value\u001b[39m\n",
       "\u001b[36m  value(x) => [1,2,3]         # `value` returns the thing wrapped\u001b[39m\n",
       "\u001b[36m  sum(x .* x) => 14           # Params act like regular values\u001b[39m\n",
       "\u001b[36m  y = @diff sum(x .* x)       # Except when we differentiate using `@diff`\u001b[39m\n",
       "\u001b[36m  y => T(14)                  # you get another struct\u001b[39m\n",
       "\u001b[36m  value(y) => 14              # which carries the same result\u001b[39m\n",
       "\u001b[36m  params(y) => [x]            # and the Params that it depends on \u001b[39m\n",
       "\u001b[36m  grad(y,x) => [2,4,6]        # and the gradients for all Params\u001b[39m\n",
       "\n",
       "  \u001b[36mParam(x)\u001b[39m returns a struct that acts like \u001b[36mx\u001b[39m but marks it as a\n",
       "  parameter you want to compute gradients with respect to.\n",
       "\n",
       "  \u001b[36m@diff expr\u001b[39m evaluates an expression and returns a struct that\n",
       "  contains the result (which should be a scalar) and gradient\n",
       "  information.\n",
       "\n",
       "  \u001b[36mgrad(y, x)\u001b[39m returns the gradient of \u001b[36my\u001b[39m (output by @diff) with respect\n",
       "  to any parameter \u001b[36mx::Param\u001b[39m, or \u001b[36mnothing\u001b[39m if the gradient is 0.\n",
       "\n",
       "  \u001b[36mvalue(x)\u001b[39m returns the value associated with \u001b[36mx\u001b[39m if \u001b[36mx\u001b[39m is a \u001b[36mParam\u001b[39m or the\n",
       "  output of \u001b[36m@diff\u001b[39m, otherwise returns \u001b[36mx\u001b[39m.\n",
       "\n",
       "  \u001b[36mparams(x)\u001b[39m returns an iterator of Params found by a recursive search\n",
       "  of object \u001b[36mx\u001b[39m.\n",
       "\n",
       "  Alternative usage:\n",
       "\n",
       "\u001b[36m  x = [1 2 3]\u001b[39m\n",
       "\u001b[36m  f(x) = sum(x .* x)\u001b[39m\n",
       "\u001b[36m  f(x) => 14\u001b[39m\n",
       "\u001b[36m  grad(f)(x) => [2 4 6]\u001b[39m\n",
       "\u001b[36m  gradloss(f)(x) => ([2 4 6], 14)\u001b[39m\n",
       "\n",
       "  Given a scalar valued function \u001b[36mf\u001b[39m, \u001b[36mgrad(f,argnum=1)\u001b[39m returns another\n",
       "  function \u001b[36mg\u001b[39m which takes the same inputs as \u001b[36mf\u001b[39m and returns the gradient\n",
       "  of the output with respect to the argnum'th argument. \u001b[36mgradloss\u001b[39m is\n",
       "  similar except the resulting function also returns f's output."
      ]
     },
     "execution_count": 16,
     "metadata": {},
     "output_type": "execute_result"
    }
   ],
   "source": [
    "@doc AutoGrad"
   ]
  },
  {
   "cell_type": "code",
   "execution_count": 17,
   "metadata": {
    "slideshow": {
     "slide_type": "slide"
    }
   },
   "outputs": [
    {
     "data": {
      "text/plain": [
       "Linear"
      ]
     },
     "execution_count": 17,
     "metadata": {},
     "output_type": "execute_result"
    }
   ],
   "source": [
    "# Redefine the constructor to use Param's so we can compute gradients\n",
    "Linear(i::Int,o::Int,scale=0.01) = \n",
    "\n",
    "Linear(Param(scale * randn(o,i)), Param(zeros(o)))"
   ]
  },
  {
   "cell_type": "code",
   "execution_count": 18,
   "metadata": {
    "slideshow": {
     "slide_type": "fragment"
    }
   },
   "outputs": [],
   "source": [
    "# Set random seed for replicability\n",
    "Random.seed!(226);"
   ]
  },
  {
   "cell_type": "code",
   "execution_count": 19,
   "metadata": {
    "slideshow": {
     "slide_type": "fragment"
    }
   },
   "outputs": [
    {
     "data": {
      "text/plain": [
       "Linear(P(Array{Float64,2}(10,784)), P(Array{Float64,1}(10)))"
      ]
     },
     "execution_count": 19,
     "metadata": {},
     "output_type": "execute_result"
    }
   ],
   "source": [
    "# Use a larger scale to get a large initial loss\n",
    "model = Linear(784,10,1.0)"
   ]
  },
  {
   "cell_type": "code",
   "execution_count": 20,
   "metadata": {
    "slideshow": {
     "slide_type": "slide"
    }
   },
   "outputs": [
    {
     "data": {
      "text/plain": [
       "17.3364869902235"
      ]
     },
     "execution_count": 20,
     "metadata": {},
     "output_type": "execute_result"
    }
   ],
   "source": [
    "# We can still do predictions and calculate loss:\n",
    "model(x,y)"
   ]
  },
  {
   "cell_type": "code",
   "execution_count": 21,
   "metadata": {
    "slideshow": {
     "slide_type": "fragment"
    }
   },
   "outputs": [
    {
     "data": {
      "text/plain": [
       "T(17.3364869902235)"
      ]
     },
     "execution_count": 21,
     "metadata": {},
     "output_type": "execute_result"
    }
   ],
   "source": [
    "# And we can do the same loss calculation also computing gradients:\n",
    "J = @diff model(x,y)"
   ]
  },
  {
   "cell_type": "code",
   "execution_count": 22,
   "metadata": {
    "slideshow": {
     "slide_type": "fragment"
    }
   },
   "outputs": [
    {
     "data": {
      "text/plain": [
       "17.3364869902235"
      ]
     },
     "execution_count": 22,
     "metadata": {},
     "output_type": "execute_result"
    }
   ],
   "source": [
    "# To get the actual loss value from J:\n",
    "value(J)"
   ]
  },
  {
   "cell_type": "code",
   "execution_count": 23,
   "metadata": {
    "slideshow": {
     "slide_type": "fragment"
    }
   },
   "outputs": [
    {
     "data": {
      "text/plain": [
       "2-element Array{Param,1}:\n",
       " P(Array{Float64,2}(10,784))\n",
       " P(Array{Float64,1}(10))"
      ]
     },
     "execution_count": 23,
     "metadata": {},
     "output_type": "execute_result"
    }
   ],
   "source": [
    "# params(J) returns an iterator of Params J depends on (i.e. model.b, model.w):\n",
    "params(J) |> collect"
   ]
  },
  {
   "cell_type": "code",
   "execution_count": 24,
   "metadata": {
    "slideshow": {
     "slide_type": "slide"
    }
   },
   "outputs": [
    {
     "data": {
      "text/plain": [
       "10×784 Array{Float64,2}:\n",
       " 0.0  0.0  0.0  0.0  0.0  0.0  0.0  …  0.0  0.0  0.0  0.0  0.0  0.0\n",
       " 0.0  0.0  0.0  0.0  0.0  0.0  0.0     0.0  0.0  0.0  0.0  0.0  0.0\n",
       " 0.0  0.0  0.0  0.0  0.0  0.0  0.0     0.0  0.0  0.0  0.0  0.0  0.0\n",
       " 0.0  0.0  0.0  0.0  0.0  0.0  0.0     0.0  0.0  0.0  0.0  0.0  0.0\n",
       " 0.0  0.0  0.0  0.0  0.0  0.0  0.0     0.0  0.0  0.0  0.0  0.0  0.0\n",
       " 0.0  0.0  0.0  0.0  0.0  0.0  0.0  …  0.0  0.0  0.0  0.0  0.0  0.0\n",
       " 0.0  0.0  0.0  0.0  0.0  0.0  0.0     0.0  0.0  0.0  0.0  0.0  0.0\n",
       " 0.0  0.0  0.0  0.0  0.0  0.0  0.0     0.0  0.0  0.0  0.0  0.0  0.0\n",
       " 0.0  0.0  0.0  0.0  0.0  0.0  0.0     0.0  0.0  0.0  0.0  0.0  0.0\n",
       " 0.0  0.0  0.0  0.0  0.0  0.0  0.0     0.0  0.0  0.0  0.0  0.0  0.0"
      ]
     },
     "execution_count": 24,
     "metadata": {},
     "output_type": "execute_result"
    }
   ],
   "source": [
    "# To get the gradient of a parameter from J:\n",
    "∇w = grad(J,model.w)"
   ]
  },
  {
   "cell_type": "code",
   "execution_count": 25,
   "metadata": {
    "slideshow": {
     "slide_type": "fragment"
    }
   },
   "outputs": [
    {
     "name": "stdout",
     "output_type": "stream",
     "text": [
      "∇b = grad(J, model.b) = [0.5906946123008457, -0.027041397089362467, -0.08694323408456664, -0.10750809160810809, -0.05254391972254851, -0.09056807340274403, -0.14070630316059043, 0.015127334068075577, -0.03230399769325696, -0.06820692960774405]\n"
     ]
    }
   ],
   "source": [
    "# Note that each gradient has the same size and shape as the corresponding parameter:\n",
    "@show ∇b = grad(J,model.b);"
   ]
  },
  {
   "cell_type": "markdown",
   "metadata": {
    "slideshow": {
     "slide_type": "slide"
    }
   },
   "source": [
    "## Checking the gradient using numerical approximation\n",
    "\n",
    "What does ∇b represent?\n",
    "\n",
    "∇b[1] = 0.59 means if I increase b[1] by ϵ, loss will increase by 0.59ϵ"
   ]
  },
  {
   "cell_type": "code",
   "execution_count": 26,
   "metadata": {
    "slideshow": {
     "slide_type": "slide"
    }
   },
   "outputs": [
    {
     "name": "stdout",
     "output_type": "stream",
     "text": [
      "value(model.b) = [0.0, 0.0, 0.0, 0.0, 0.0, 0.0, 0.0, 0.0, 0.0, 0.0]\n"
     ]
    },
    {
     "data": {
      "text/plain": [
       "17.3364869902235"
      ]
     },
     "execution_count": 26,
     "metadata": {},
     "output_type": "execute_result"
    }
   ],
   "source": [
    "# Loss for the first minibatch with the original parameters\n",
    "@show value(model.b)\n",
    "model(x,y)"
   ]
  },
  {
   "cell_type": "code",
   "execution_count": 27,
   "metadata": {
    "slideshow": {
     "slide_type": "fragment"
    }
   },
   "outputs": [
    {
     "data": {
      "text/plain": [
       "0.1"
      ]
     },
     "execution_count": 27,
     "metadata": {},
     "output_type": "execute_result"
    }
   ],
   "source": [
    "# To numerically check the gradient let's increase the last entry of b by +0.1.\n",
    "model.b[1] = 0.1"
   ]
  },
  {
   "cell_type": "code",
   "execution_count": 28,
   "metadata": {
    "slideshow": {
     "slide_type": "fragment"
    }
   },
   "outputs": [
    {
     "name": "stdout",
     "output_type": "stream",
     "text": [
      "value(model.b) = [0.1, 0.0, 0.0, 0.0, 0.0, 0.0, 0.0, 0.0, 0.0, 0.0]\n"
     ]
    },
    {
     "data": {
      "text/plain": [
       "17.39572020341206"
      ]
     },
     "execution_count": 28,
     "metadata": {},
     "output_type": "execute_result"
    }
   ],
   "source": [
    "# We see that the loss moves by ≈ +0.79*0.1 as expected.\n",
    "@show value(model.b)\n",
    "model(x,y)"
   ]
  },
  {
   "cell_type": "code",
   "execution_count": 29,
   "metadata": {
    "slideshow": {
     "slide_type": "fragment"
    }
   },
   "outputs": [
    {
     "data": {
      "text/plain": [
       "0"
      ]
     },
     "execution_count": 29,
     "metadata": {},
     "output_type": "execute_result"
    }
   ],
   "source": [
    "# Reset the change.\n",
    "model.b[1] = 0"
   ]
  },
  {
   "cell_type": "markdown",
   "metadata": {
    "slideshow": {
     "slide_type": "slide"
    }
   },
   "source": [
    "## Checking the gradient using manual implementation"
   ]
  },
  {
   "cell_type": "code",
   "execution_count": 30,
   "metadata": {
    "slideshow": {
     "slide_type": "slide"
    }
   },
   "outputs": [],
   "source": [
    "# Without AutoGrad we would have to define the gradients manually:\n",
    "function nllgrad(model,x,y)\n",
    "    scores = model(x)\n",
    "    expscores = exp.(scores)\n",
    "    probabilities = expscores ./ sum(expscores, dims=1)\n",
    "    for i in 1:length(y); probabilities[y[i],i] -= 1; end\n",
    "    dJds = probabilities / length(y)\n",
    "    dJdw = dJds * x'\n",
    "    dJdb = vec(sum(dJds,dims=2))\n",
    "    dJdw,dJdb\n",
    "end;"
   ]
  },
  {
   "cell_type": "code",
   "execution_count": 31,
   "metadata": {
    "slideshow": {
     "slide_type": "slide"
    }
   },
   "outputs": [
    {
     "data": {
      "text/plain": [
       "([0.0 0.0 … 0.0 0.0; 0.0 0.0 … 0.0 0.0; … ; 0.0 0.0 … 0.0 0.0; 0.0 0.0 … 0.0 0.0], [0.5906946123008457, -0.027041397089362464, -0.08694323408456665, -0.10750809160810809, -0.0525439197225485, -0.09056807340274403, -0.14070630316059046, 0.015127334068075577, -0.03230399769325697, -0.06820692960774406])"
      ]
     },
     "execution_count": 31,
     "metadata": {},
     "output_type": "execute_result"
    }
   ],
   "source": [
    "∇w2,∇b2 = nllgrad(model,x,y)"
   ]
  },
  {
   "cell_type": "code",
   "execution_count": 32,
   "metadata": {
    "slideshow": {
     "slide_type": "fragment"
    }
   },
   "outputs": [
    {
     "data": {
      "text/plain": [
       "true"
      ]
     },
     "execution_count": 32,
     "metadata": {},
     "output_type": "execute_result"
    }
   ],
   "source": [
    "∇w2 ≈ ∇w"
   ]
  },
  {
   "cell_type": "code",
   "execution_count": 33,
   "metadata": {
    "scrolled": true,
    "slideshow": {
     "slide_type": "fragment"
    }
   },
   "outputs": [
    {
     "data": {
      "text/plain": [
       "true"
      ]
     },
     "execution_count": 33,
     "metadata": {},
     "output_type": "execute_result"
    }
   ],
   "source": [
    "∇b2 ≈ ∇b"
   ]
  },
  {
   "cell_type": "markdown",
   "metadata": {
    "slideshow": {
     "slide_type": "slide"
    }
   },
   "source": [
    "## Training with Stochastic Gradient Descent (SGD)"
   ]
  },
  {
   "cell_type": "code",
   "execution_count": 34,
   "metadata": {
    "slideshow": {
     "slide_type": "slide"
    }
   },
   "outputs": [
    {
     "data": {
      "text/plain": [
       "sgdupdate! (generic function with 1 method)"
      ]
     },
     "execution_count": 34,
     "metadata": {},
     "output_type": "execute_result"
    }
   ],
   "source": [
    "# Here is a single SGD update:\n",
    "function sgdupdate!(func, args; lr=0.1)\n",
    "    fval = @diff func(args...)\n",
    "    for param in params(fval)\n",
    "        ∇param = grad(fval, param)\n",
    "        param .-= lr * ∇param\n",
    "    end\n",
    "    return value(fval)\n",
    "end"
   ]
  },
  {
   "cell_type": "code",
   "execution_count": 35,
   "metadata": {
    "slideshow": {
     "slide_type": "slide"
    }
   },
   "outputs": [
    {
     "data": {
      "text/plain": [
       "sgd (generic function with 1 method)"
      ]
     },
     "execution_count": 35,
     "metadata": {},
     "output_type": "execute_result"
    }
   ],
   "source": [
    "# We define SGD for a dataset as an iterator so that:\n",
    "# 1. We can monitor and report the training loss\n",
    "# 2. We can take snapshots of the model during training\n",
    "# 3. We can pause/terminate training when necessary\n",
    "sgd(func, data; lr=0.1) = \n",
    "    (sgdupdate!(func, args; lr=lr) for args in data)"
   ]
  },
  {
   "cell_type": "code",
   "execution_count": 36,
   "metadata": {
    "slideshow": {
     "slide_type": "slide"
    }
   },
   "outputs": [
    {
     "name": "stdout",
     "output_type": "stream",
     "text": [
      "model(dtst) = 2.3142570870549655\n"
     ]
    },
    {
     "name": "stderr",
     "output_type": "stream",
     "text": [
      "┣████████████████████┫ [100.00%, 6000/6000, 00:12/00:12, 491.39i/s] \n"
     ]
    },
    {
     "name": "stdout",
     "output_type": "stream",
     "text": [
      "model(dtst) = 0.28047171743026245\n"
     ]
    }
   ],
   "source": [
    "# Let's train a model for 10 epochs to compare training speed on cpu vs gpu.\n",
    "# progress!(itr) displays a progress bar when wrapped around an iterator like this:\n",
    "# 2.94e-01  100.00%┣████████████████████┫ 6000/6000 [00:10/00:10, 592.96/s] 2.31->0.28\n",
    "model = Linear(784,10)\n",
    "@show model(dtst)\n",
    "progress!(sgd(model, ncycle(dtrn,10)))\n",
    "@show model(dtst);"
   ]
  },
  {
   "cell_type": "markdown",
   "metadata": {
    "slideshow": {
     "slide_type": "slide"
    }
   },
   "source": [
    "## Using the GPU"
   ]
  },
  {
   "cell_type": "code",
   "execution_count": 37,
   "metadata": {
    "slideshow": {
     "slide_type": "slide"
    }
   },
   "outputs": [
    {
     "name": "stdout",
     "output_type": "stream",
     "text": [
      "model(dtst) = 2.3094196f0\n"
     ]
    },
    {
     "name": "stderr",
     "output_type": "stream",
     "text": [
      "┣████████████████████┫ [100.00%, 6000/6000, 00:07/00:07, 853.96i/s] \n"
     ]
    },
    {
     "name": "stdout",
     "output_type": "stream",
     "text": [
      "model(dtst) = 0.28053972f0\n"
     ]
    }
   ],
   "source": [
    "# The training would go a lot faster on a GPU:\n",
    "# 2.94e-01  100.00%┣███████████████████┫ 6000/6000 [00:02/00:02, 2653.45/s]  2.31->0.28\n",
    "# To work on a GPU, all we have to do is convert Arrays to CuArrays:\n",
    "if CUDA.functional()  # returns true if there is a GPU\n",
    "    atype = CuArray{Float32}  # CuArrays are stored and operated in the GPU\n",
    "    dtrn = minibatch(xtrn, ytrn, 100; xsize = (784,:), xtype=atype)\n",
    "    dtst = minibatch(xtst, ytst, 100; xsize = (784,:), xtype=atype)\n",
    "    Linear(i::Int,o::Int,scale=0.01) = \n",
    "        Linear(Param(atype(scale * randn(o,i))), \n",
    "               Param(atype(zeros(o))))\n",
    "\n",
    "    model = Linear(784,10)\n",
    "    @show model(dtst)\n",
    "    progress!(sgd(model,ncycle(dtrn,10)))\n",
    "    @show model(dtst)\n",
    "end;"
   ]
  },
  {
   "cell_type": "markdown",
   "metadata": {
    "slideshow": {
     "slide_type": "slide"
    }
   },
   "source": [
    "\n",
    "## Recording progress"
   ]
  },
  {
   "cell_type": "code",
   "execution_count": 38,
   "metadata": {
    "slideshow": {
     "slide_type": "slide"
    }
   },
   "outputs": [
    {
     "data": {
      "text/plain": [
       "trainresults (generic function with 1 method)"
      ]
     },
     "execution_count": 38,
     "metadata": {},
     "output_type": "execute_result"
    }
   ],
   "source": [
    "function trainresults(file, model)\n",
    "    if (print(\"Train from scratch? (~77s) \"); readline()[1]=='y')\n",
    "        # We will train 100 epochs (the following returns an iterator, does not start training)\n",
    "        training = sgd(model, ncycle(dtrn,100))\n",
    "        # We will snapshot model and train/test loss and errors\n",
    "        snapshot() = (deepcopy(model),model(dtrn),model(dtst),1-accuracy(model,dtrn),1-accuracy(model,dtst))\n",
    "        # Snapshot results once every epoch (still an iterator)\n",
    "        snapshots = (snapshot() for x in takenth(progress(training),length(dtrn)))\n",
    "        # Run the snapshot/training iterator, reshape and save results as a 5x100 array\n",
    "        lin = reshape(collect(flatten(snapshots)),(5,:))\n",
    "        # FileIO.save and FileIO.load can be used to store models in files\n",
    "        save(file,\"results\",lin)\n",
    "    else\n",
    "        isfile(file) || download(\"https://github.com/denizyuret/Knet.jl/releases/download/v1.4.9/$file\", file)\n",
    "        lin = load(file,\"results\")    \n",
    "    end\n",
    "    return lin\n",
    "end"
   ]
  },
  {
   "cell_type": "code",
   "execution_count": 39,
   "metadata": {},
   "outputs": [
    {
     "name": "stdout",
     "output_type": "stream",
     "text": [
      "Train from scratch? (~77s) stdin> n\n"
     ]
    }
   ],
   "source": [
    "# 2.43e-01  100.00%┣████████████████▉┫ 60000/60000 [00:44/00:44, 1349.13/s]\n",
    "lin = trainresults(\"lin149.jld2\",Linear(784,10));"
   ]
  },
  {
   "cell_type": "markdown",
   "metadata": {
    "slideshow": {
     "slide_type": "slide"
    }
   },
   "source": [
    "## Linear model shows underfitting"
   ]
  },
  {
   "cell_type": "code",
   "execution_count": 40,
   "metadata": {
    "slideshow": {
     "slide_type": "slide"
    }
   },
   "outputs": [],
   "source": [
    "using Plots; default(fmt = :png)"
   ]
  },
  {
   "cell_type": "code",
   "execution_count": 41,
   "metadata": {
    "slideshow": {
     "slide_type": "slide"
    }
   },
   "outputs": [
    {
     "data": {
      "image/png": "[encoded data removed]"
     },
     "execution_count": 41,
     "metadata": {},
     "output_type": "execute_result"
    }
   ],
   "source": [
    "# Demonstrates underfitting: training loss not close to 0\n",
    "# Also slight overfitting: test loss higher than train\n",
    "trnloss,tstloss = Array{Float32}(lin[2,:]), Array{Float32}(lin[3,:]) \n",
    "plot([trnloss,tstloss],ylim=(.0,.4),labels=[\"trnloss\" \"tstloss\"],xlabel=\"Epochs\",ylabel=\"Loss\")"
   ]
  },
  {
   "cell_type": "code",
   "execution_count": 42,
   "metadata": {
    "slideshow": {
     "slide_type": "slide"
    }
   },
   "outputs": [
    {
     "data": {
      "image/png": "[encoded data removed]"
     },
     "execution_count": 42,
     "metadata": {},
     "output_type": "execute_result"
    }
   ],
   "source": [
    "# this is the error plot, we get to about 7.5% test error, i.e. 92.5% accuracy\n",
    "trnerr,tsterr = Array{Float32}(lin[4,:]), Array{Float32}(lin[5,:]) \n",
    "plot([trnerr,tsterr],ylim=(.0,.12),labels=[\"trnerr\" \"tsterr\"],xlabel=\"Epochs\",ylabel=\"Error\")"
   ]
  },
  {
   "cell_type": "markdown",
   "metadata": {
    "slideshow": {
     "slide_type": "slide"
    }
   },
   "source": [
    "## Visualizing the learned weights"
   ]
  },
  {
   "cell_type": "code",
   "execution_count": 43,
   "metadata": {
    "slideshow": {
     "slide_type": "slide"
    }
   },
   "outputs": [
    {
     "data": {
      "text/html": [
       "<table><tbody><tr><td style='text-align:center;vertical-align:middle; margin: 0.5em;border:1px #90999f solid;border-collapse:collapse'><img style='max-width: 100px; max-height:100px;display:inline' src=\"data:image/png;base64,iVBORw0KGgoAAAANSUhEUgAAAHAAAABwCAAAAADji6uXAAAABGdBTUEAALGPC/xhBQAAACBjSFJNAAB6JgAAgIQAAPoAAACA6AAAdTAAAOpgAAA6mAAAF3CculE8AAAAAmJLR0QA/4ePzL8AAAVcSURBVGje7dpJjFxXFQbgr9rVg9N2TDxAEjuJHY/EBDIolmCBIRLGShAskijZsIjCwgixZRfJCsmCNUgIiQ0rlA2KBJESMVhgQIwiSkISD7QZYtIekIf20GM1i/9eXpl9VUvlOlL1e/Xefa9en//95/zn3Nt6HmNYwAjaYktd21bZX4X5MmYJ45gr13XK8REslrHKvq4xI/psg/+D7dGy08GoYLJcnqR+Ohr8WmV/rIxrCU4jZX/p/7a6xtX7DbZL+4/hkmAwquFitQ4uCXbj5fwmPIzL+Bj+heP4Txkzo+Fyxawb18F3af8xXCU8qTaB68K1K4LfGfwD0ziIaziNc9iAN/AePopZDVZrynaDvA+V34Pt0v5juCgcqTGyg3XlSeaxRXB5EKfK+YM4JlhexK24G5/H3wX7U+XcMcF2q8TfwXdp/zFsa+LcknDnHombH+BlwfI24doHWC/4fQk/xLv4NN7Eh/EYzuOf2CyxdhGrbwqX9v0HW4fFvx2Njy8Krn8QXi3gAezF0a6nnBHOHsOz+D0e12jVdfgb3sd2ybmD79KViaUj4vfq43eEO3cJhvuwFr8Vjv1CYusPsKNcdwQH8BHBdAZ/xeu4XzC8OVy6Mpqmu/67Wp5iXPTlFvwJG0XDzEg+nMdXJdYexo8kfh4RTk/iZ+W+y+Vew/qwJ9bulJ1x0aNn8DZuwR3l+AbJc/dLDbEOt+Mr2Ik/lyf/TTm/VWIo7JIYvaTpAQy2S/uPYdWki1LzXS9PUXXILtGT20SftETL7C03eERi6R8l9k6JLpoT7JXr6rsy+C5dGV1a+2SrJWbeJ7qG1IFzoj1PC8/WdN3gDF7DF/FzPCrvwW7BviVcHvZpembt2gcj2KyTXPdMOfZviaM/FQyfxwmpPxZF8zwsefR8GXuvpve6IBgOa4ueWXtBtMyy+LjmvxHpyzwkPZqpckHtqxJOTko98QXpu90muqfmv+Wyv95Q0/TI2t3xrfp8RDToNPZIrV5tU/fFwuFvSS1JcuqoYDYpvK7ad9gv7Ym16xxRS9OvPq3psSzgQhnznNQaj5Tv38fX8VTXDU9KLXlNsBuVGF3j9eC7dGXmLTpSSyxKb3RWeiuXBb/PCR9n8V3RpNvwYzfyktT4o2XsXPl+RZMLB9+lK6NL5zXzDQuS+06IRt0qdcYn8Sq+rMHts3ih7G8RLVq17UbROWPyPuw0xLBH1m7JfFOnfK5KHUE4uEd49LronSnpzWzHK6J3nsR+0bA7pS9+WvLhrdKrmzHEsEfW7kgMHRM+nhXM7sAhwWi/4Hwcv8Mn8B18DZ/Ct0XL7hP+1vngO6UGuSo14/xN4dL+Y1j/LJbtxnLiqfI0T0rNcFD63ZWTu2Wu6YDomo9LzDxZzp2TPsH6su0Y6tIe2f/qwzrfu090y2W8JfXFWXxG+DYrOfMJ4dv38CHJkX+RPs00XpT3YYdw8pKmVzPYLu0/hmNdX85Lj4XksSnJiWvxDfxSOLVW8Ngu/DpQjt0tXP61praYduPaqMF36crNW0xI/PuJ9EsXxP/npZbYKP23Q6JpfiVrL+r840ua+YrjUqtcEJ06Ie/EtZvCpf2fx/+m4NUSH1+SfllH1sS8J3P405IXxyTO3iK4HsXTMie8WMYtl8+kcHGi/NhwPU1PrN0R31ZtOiZzETPCozuFV7WXdo/omvc1Ncgboj0nhIuT5T+pWLY0a1cH36UrUx8uC+8mNGsKN4t+mRA9WddSLGjW0awp50c1a0jrmvG6Rq7mwnnDfNgja9eagoYn42U7IfxsyfrCavOCW10zWucm6jHlHsvl+rp+ddVK/IeD/4P/BTDkYd8NLUYhAAAAAElFTkSuQmCC\"></td><td style='text-align:center;vertical-align:middle; margin: 0.5em;border:1px #90999f solid;border-collapse:collapse'><img style='max-width: 100px; max-height:100px;display:inline' src=\"data:image/png;base64,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\"></td><td style='text-align:center;vertical-align:middle; margin: 0.5em;border:1px #90999f solid;border-collapse:collapse'><img style='max-width: 100px; max-height:100px;display:inline' src=\"data:image/png;base64,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\"></td><td style='text-align:center;vertical-align:middle; margin: 0.5em;border:1px #90999f solid;border-collapse:collapse'><img style='max-width: 100px; max-height:100px;display:inline' src=\"data:image/png;base64,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\"></td><td style='text-align:center;vertical-align:middle; margin: 0.5em;border:1px #90999f solid;border-collapse:collapse'><img style='max-width: 100px; max-height:100px;display:inline' src=\"data:image/png;base64,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\"></td><td style='text-align:center;vertical-align:middle; margin: 0.5em;border:1px #90999f solid;border-collapse:collapse'><img style='max-width: 100px; max-height:100px;display:inline' src=\"data:image/png;base64,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\"></td><td style='text-align:center;vertical-align:middle; margin: 0.5em;border:1px #90999f solid;border-collapse:collapse'><img style='max-width: 100px; max-height:100px;display:inline' src=\"data:image/png;base64,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\"></td><td style='text-align:center;vertical-align:middle; margin: 0.5em;border:1px #90999f solid;border-collapse:collapse'><img style='max-width: 100px; max-height:100px;display:inline' src=\"data:image/png;base64,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\"></td><td style='text-align:center;vertical-align:middle; margin: 0.5em;border:1px #90999f solid;border-collapse:collapse'><img style='max-width: 100px; max-height:100px;display:inline' src=\"data:image/png;base64,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\"></td><td style='text-align:center;vertical-align:middle; margin: 0.5em;border:1px #90999f solid;border-collapse:collapse'><img style='max-width: 100px; max-height:100px;display:inline' src=\"data:image/png;base64,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\"></td></tr></tbody></table><div><small>(a vector displayed as a row to save space)</small></div>"
      ],
      "text/plain": [
       "10-element Array{Base.ReinterpretArray{Gray{Float64},2,Float64,Array{Float64,2}},1}:\n",
       " [Gray{Float64}(0.4908239636570215) Gray{Float64}(0.5143737541511655) … Gray{Float64}(0.5024939212016761) Gray{Float64}(0.495916529558599); Gray{Float64}(0.5094658164307475) Gray{Float64}(0.513299941085279) … Gray{Float64}(0.5058013712987304) Gray{Float64}(0.5018126231152564); … ; Gray{Float64}(0.5092319445684552) Gray{Float64}(0.511765138246119) … Gray{Float64}(0.5012233739253134) Gray{Float64}(0.4948901003226638); Gray{Float64}(0.49531134590506554) Gray{Float64}(0.5102947317063808) … Gray{Float64}(0.4997979305917397) Gray{Float64}(0.5044707474298775)]\n",
       " [Gray{Float64}(0.48987679835408926) Gray{Float64}(0.49530668929219246) … Gray{Float64}(0.5130084594711661) Gray{Float64}(0.5001193022544612); Gray{Float64}(0.4970226907171309) Gray{Float64}(0.5205637812614441) … Gray{Float64}(0.5065035792067647) Gray{Float64}(0.5052895932458341); … ; Gray{Float64}(0.5168877840042114) Gray{Float64}(0.49479521717876196) … Gray{Float64}(0.5057567786425352) Gray{Float64}(0.5140665620565414); Gray{Float64}(0.49830957339145243) Gray{Float64}(0.4946436043828726) … Gray{Float64}(0.5196775104850531) Gray{Float64}(0.48503570817410946)]\n",
       " [Gray{Float64}(0.4891350856050849) Gray{Float64}(0.5030100019648671) … Gray{Float64}(0.5027714800089598) Gray{Float64}(0.5089084636420012); Gray{Float64}(0.4925731043331325) Gray{Float64}(0.49041686952114105) … Gray{Float64}(0.5068537299521267) Gray{Float64}(0.5084607899188995); … ; Gray{Float64}(0.5056128348223865) Gray{Float64}(0.5002068866742775) … Gray{Float64}(0.4984070745995268) Gray{Float64}(0.49468112317845225); Gray{Float64}(0.5087750880047679) Gray{Float64}(0.500645040825475) … Gray{Float64}(0.5053641679696739) Gray{Float64}(0.5114392694085836)]\n",
       " [Gray{Float64}(0.4918334651738405) Gray{Float64}(0.5163223557174206) … Gray{Float64}(0.50553307402879) Gray{Float64}(0.5091525819152594); Gray{Float64}(0.5072587495669723) Gray{Float64}(0.5132663827389479) … Gray{Float64}(0.48877352476119995) Gray{Float64}(0.5140587333589792); … ; Gray{Float64}(0.5092744007706642) Gray{Float64}(0.5078554907813668) … Gray{Float64}(0.500650086265523) Gray{Float64}(0.49698861106298864); Gray{Float64}(0.5129081290215254) Gray{Float64}(0.4867618391290307) … Gray{Float64}(0.4893770758062601) Gray{Float64}(0.48876699432730675)]\n",
       " [Gray{Float64}(0.5098865265026689) Gray{Float64}(0.49293799977749586) … Gray{Float64}(0.49498313339427114) Gray{Float64}(0.4943969347514212); Gray{Float64}(0.5064350008033216) Gray{Float64}(0.4777735751122236) … Gray{Float64}(0.5059327948838472) Gray{Float64}(0.4981385412393138); … ; Gray{Float64}(0.5041584065183997) Gray{Float64}(0.5121502699330449) … Gray{Float64}(0.5022772999946028) Gray{Float64}(0.49385563423857093); Gray{Float64}(0.5116583108901978) Gray{Float64}(0.4953797049820423) … Gray{Float64}(0.5103746270760894) Gray{Float64}(0.5167519059032202)]\n",
       " [Gray{Float64}(0.4963116191793233) Gray{Float64}(0.4985369035275653) … Gray{Float64}(0.48472269531339407) Gray{Float64}(0.49451918667182326); Gray{Float64}(0.47798573784530163) Gray{Float64}(0.501429944881238) … Gray{Float64}(0.5177054069936275) Gray{Float64}(0.5100058363750577); … ; Gray{Float64}(0.49064289685338736) Gray{Float64}(0.4991192268207669) … Gray{Float64}(0.49084132071584463) Gray{Float64}(0.4836706444621086); Gray{Float64}(0.5067608170211315) Gray{Float64}(0.495110041461885) … Gray{Float64}(0.49275354528799653) Gray{Float64}(0.508804983459413)]\n",
       " [Gray{Float64}(0.5032706707715988) Gray{Float64}(0.5004886631504633) … Gray{Float64}(0.49449901888146996) Gray{Float64}(0.5041607609018683); Gray{Float64}(0.47683392465114594) Gray{Float64}(0.5136641198769212) … Gray{Float64}(0.5083635468035936) Gray{Float64}(0.49915948684792966); … ; Gray{Float64}(0.4937529778108001) Gray{Float64}(0.48974801879376173) … Gray{Float64}(0.49833616032265127) Gray{Float64}(0.4979303772561252); Gray{Float64}(0.4905413128435612) Gray{Float64}(0.48986768908798695) … Gray{Float64}(0.5038345188368112) Gray{Float64}(0.4931643372401595)]\n",
       " [Gray{Float64}(0.5095663638785481) Gray{Float64}(0.48027458414435387) … Gray{Float64}(0.4809955582022667) Gray{Float64}(0.5001712987723295); Gray{Float64}(0.5101840989664197) Gray{Float64}(0.507750787306577) … Gray{Float64}(0.4842640347778797) Gray{Float64}(0.49829891650006175); … ; Gray{Float64}(0.4977661466691643) Gray{Float64}(0.5211146771907806) … Gray{Float64}(0.5045258770696819) Gray{Float64}(0.4986607431201264); Gray{Float64}(0.4845365984365344) Gray{Float64}(0.503006627317518) … Gray{Float64}(0.5025216990616173) Gray{Float64}(0.49614120298065245)]\n",
       " [Gray{Float64}(0.5098621947690845) Gray{Float64}(0.5081747900694609) … Gray{Float64}(0.519333703443408) Gray{Float64}(0.49926065909676254); Gray{Float64}(0.4983776818262413) Gray{Float64}(0.4976025358773768) … Gray{Float64}(0.49493960477411747) Gray{Float64}(0.4786314833909273); … ; Gray{Float64}(0.511407676152885) Gray{Float64}(0.49439472798258066) … Gray{Float64}(0.491908460855484) Gray{Float64}(0.4813338480889797); Gray{Float64}(0.49946358660236) Gray{Float64}(0.5032675282564014) … Gray{Float64}(0.490285805426538) Gray{Float64}(0.5066517656669021)]\n",
       " [Gray{Float64}(0.4988562040962279) Gray{Float64}(0.5033672582358122) … Gray{Float64}(0.48556274827569723) Gray{Float64}(0.5004890039563179); Gray{Float64}(0.49528156174346805) Gray{Float64}(0.5084399841725826) … Gray{Float64}(0.4910677056759596) Gray{Float64}(0.5000185667031474); … ; Gray{Float64}(0.4983965229475871) Gray{Float64}(0.5122394608333707) … Gray{Float64}(0.49630676419474185) Gray{Float64}(0.4902312057092786); Gray{Float64}(0.49863077502232045) Gray{Float64}(0.5013216945808381) … Gray{Float64}(0.4944363934919238) Gray{Float64}(0.4870054926723242)]"
      ]
     },
     "metadata": {},
     "output_type": "display_data"
    },
    {
     "data": {
      "text/plain": [
       "\"Epoch 99\""
      ]
     },
     "metadata": {},
     "output_type": "display_data"
    }
   ],
   "source": [
    "# Let us visualize the evolution of the weight matrix as images below\n",
    "# Each row is turned into a 28x28 image with positive weights light and negative weights dark gray\n",
    "using ImageShow\n",
    "for t in 10 .^ range(0,stop=log10(size(lin,2)),length=20) #logspace(0,2,20)\n",
    "    i = ceil(Int,t)\n",
    "    f = lin[1,i]\n",
    "    w1 = reshape(Array(value(f.w))', (28,28,10))\n",
    "    w2 = clamp.(w1.+0.5,0,1)\n",
    "    IJulia.clear_output(true)\n",
    "    display([MNIST.convert2image(w2[:,:,i]) for i=1:10])\n",
    "    display(\"Epoch $(i-1)\")\n",
    "    sleep(1) # (0.96^i)\n",
    "end"
   ]
  },
  {
   "cell_type": "code",
   "execution_count": null,
   "metadata": {},
   "outputs": [],
   "source": []
  },
{"cell_type":"markdown","metadata":{"id":"S4XMqPTS1d8a"},"source":["## Colab setup"]},
{"cell_type":"code","metadata":{"id":"BrHjOFFsxf7W"},"source":["# Julia/IJulia installation cell: run once (takes 30 seconds) and reload page before running the Julia cells in Google Colab\n","%%shell\n","wget 'https://julialang-s3.julialang.org/bin/linux/x64/1.6/julia-1.6.3-linux-x86_64.tar.gz' -O /tmp/julia.tar.gz\n","tar -x -f /tmp/julia.tar.gz -C /usr/local --strip-components 1\n","rm /tmp/julia.tar.gz\n","julia -e 'using Pkg; Pkg.add(\"IJulia\")'"],"execution_count":null,"outputs":[]},
{"cell_type":"code","metadata":{"id":"bkBZp_6YP4gf"},"source":["# Package installation cell: run once (takes ~3 mins) to install packages used by this notebook\n","ENV[\"JULIA_CUDA_USE_BINARYBUILDER\"]=\"false\"  # Use this for faster installation on Colab, otherwise CUDA libraries will be downloaded\n","using Pkg; pkg\"activate .\"; pkg\"add CUDA Knet AutoGrad IterTools MLDatasets Plots ImageShow FileIO JLD2\""],"execution_count":null,"outputs":[]}
 ],
 "metadata": {
  "accelerator": "GPU",
  "kernelspec": {
   "display_name": "Julia 1.6",
   "language": "julia",
   "name": "julia-1.6"
  },
  "language_info": {
   "file_extension": ".jl",
   "mimetype": "application/julia",
   "name": "julia",
   "version": "1.6"
  }
 },
 "nbformat": 4,
 "nbformat_minor": 1
}
