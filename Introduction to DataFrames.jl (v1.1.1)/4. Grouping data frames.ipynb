{
 "cells": [
  {
   "cell_type": "markdown",
   "metadata": {},
   "source": [
    "# Working with groups of rows of a data frame\n",
    "\n",
    "### Bogumił Kamiński"
   ]
  },
  {
   "cell_type": "code",
   "execution_count": 1,
   "metadata": {},
   "outputs": [],
   "source": [
    "using DataFrames"
   ]
  },
  {
   "cell_type": "code",
   "execution_count": 2,
   "metadata": {},
   "outputs": [],
   "source": [
    "using CSV"
   ]
  },
  {
   "cell_type": "code",
   "execution_count": 3,
   "metadata": {},
   "outputs": [],
   "source": [
    "using Arrow"
   ]
  },
  {
   "cell_type": "code",
   "execution_count": 4,
   "metadata": {},
   "outputs": [],
   "source": [
    "using Statistics"
   ]
  },
  {
   "cell_type": "code",
   "execution_count": 5,
   "metadata": {},
   "outputs": [],
   "source": [
    "using FreqTables"
   ]
  },
  {
   "cell_type": "code",
   "execution_count": 6,
   "metadata": {},
   "outputs": [],
   "source": [
    "using Pipe"
   ]
  },
  {
   "cell_type": "markdown",
   "metadata": {},
   "source": [
    "This part of the tutorial assumes that you have run *3. Working with text files* part so that you have auto2.csv and auto2.arrow files in your working directory."
   ]
  },
  {
   "cell_type": "code",
   "execution_count": 7,
   "metadata": {},
   "outputs": [
    {
     "data": {
      "text/plain": [
       "(15, 200)"
      ]
     },
     "execution_count": 7,
     "metadata": {},
     "output_type": "execute_result"
    }
   ],
   "source": [
    "ENV[\"LINES\"], ENV[\"COLUMNS\"] = 15, 200"
   ]
  },
  {
   "cell_type": "code",
   "execution_count": 8,
   "metadata": {},
   "outputs": [
    {
     "data": {
      "text/html": [
       "<div class=\"data-frame\"><p>392 rows × 10 columns</p><table class=\"data-frame\"><thead><tr><th></th><th>mpg</th><th>cylinders</th><th>displacement</th><th>horsepower</th><th>weight</th><th>acceleration</th><th>year</th><th>origin</th><th>name</th><th>brand</th></tr><tr><th></th><th title=\"Float64\">Float64</th><th title=\"Float64\">Float64</th><th title=\"Float64\">Float64</th><th title=\"Float64\">Float64</th><th title=\"Float64\">Float64</th><th title=\"Float64\">Float64</th><th title=\"Float64\">Float64</th><th title=\"Float64\">Float64</th><th title=\"String\">String</th><th title=\"String\">String</th></tr></thead><tbody><tr><th>1</th><td>18.0</td><td>8.0</td><td>307.0</td><td>130.0</td><td>3504.0</td><td>12.0</td><td>70.0</td><td>1.0</td><td>chevrolet chevelle malibu</td><td>chevrolet</td></tr><tr><th>2</th><td>15.0</td><td>8.0</td><td>350.0</td><td>165.0</td><td>3693.0</td><td>11.5</td><td>70.0</td><td>1.0</td><td>buick skylark 320</td><td>buick</td></tr><tr><th>3</th><td>18.0</td><td>8.0</td><td>318.0</td><td>150.0</td><td>3436.0</td><td>11.0</td><td>70.0</td><td>1.0</td><td>plymouth satellite</td><td>plymouth</td></tr><tr><th>4</th><td>16.0</td><td>8.0</td><td>304.0</td><td>150.0</td><td>3433.0</td><td>12.0</td><td>70.0</td><td>1.0</td><td>amc rebel sst</td><td>amc</td></tr><tr><th>5</th><td>17.0</td><td>8.0</td><td>302.0</td><td>140.0</td><td>3449.0</td><td>10.5</td><td>70.0</td><td>1.0</td><td>ford torino</td><td>ford</td></tr><tr><th>6</th><td>15.0</td><td>8.0</td><td>429.0</td><td>198.0</td><td>4341.0</td><td>10.0</td><td>70.0</td><td>1.0</td><td>ford galaxie 500</td><td>ford</td></tr><tr><th>7</th><td>14.0</td><td>8.0</td><td>454.0</td><td>220.0</td><td>4354.0</td><td>9.0</td><td>70.0</td><td>1.0</td><td>chevrolet impala</td><td>chevrolet</td></tr><tr><th>8</th><td>14.0</td><td>8.0</td><td>440.0</td><td>215.0</td><td>4312.0</td><td>8.5</td><td>70.0</td><td>1.0</td><td>plymouth fury iii</td><td>plymouth</td></tr><tr><th>9</th><td>14.0</td><td>8.0</td><td>455.0</td><td>225.0</td><td>4425.0</td><td>10.0</td><td>70.0</td><td>1.0</td><td>pontiac catalina</td><td>pontiac</td></tr><tr><th>10</th><td>15.0</td><td>8.0</td><td>390.0</td><td>190.0</td><td>3850.0</td><td>8.5</td><td>70.0</td><td>1.0</td><td>amc ambassador dpl</td><td>amc</td></tr><tr><th>11</th><td>15.0</td><td>8.0</td><td>383.0</td><td>170.0</td><td>3563.0</td><td>10.0</td><td>70.0</td><td>1.0</td><td>dodge challenger se</td><td>dodge</td></tr><tr><th>12</th><td>14.0</td><td>8.0</td><td>340.0</td><td>160.0</td><td>3609.0</td><td>8.0</td><td>70.0</td><td>1.0</td><td>plymouth &apos;cuda 340</td><td>plymouth</td></tr><tr><th>13</th><td>15.0</td><td>8.0</td><td>400.0</td><td>150.0</td><td>3761.0</td><td>9.5</td><td>70.0</td><td>1.0</td><td>chevrolet monte carlo</td><td>chevrolet</td></tr><tr><th>14</th><td>14.0</td><td>8.0</td><td>455.0</td><td>225.0</td><td>3086.0</td><td>10.0</td><td>70.0</td><td>1.0</td><td>buick estate wagon (sw)</td><td>buick</td></tr><tr><th>15</th><td>24.0</td><td>4.0</td><td>113.0</td><td>95.0</td><td>2372.0</td><td>15.0</td><td>70.0</td><td>3.0</td><td>toyota corona mark ii</td><td>toyota</td></tr><tr><th>&vellip;</th><td>&vellip;</td><td>&vellip;</td><td>&vellip;</td><td>&vellip;</td><td>&vellip;</td><td>&vellip;</td><td>&vellip;</td><td>&vellip;</td><td>&vellip;</td><td>&vellip;</td></tr></tbody></table></div>"
      ],
      "text/latex": [
       "\\begin{tabular}{r|cccccccccc}\n",
       "\t& mpg & cylinders & displacement & horsepower & weight & acceleration & year & origin & name & brand\\\\\n",
       "\t\\hline\n",
       "\t& Float64 & Float64 & Float64 & Float64 & Float64 & Float64 & Float64 & Float64 & String & String\\\\\n",
       "\t\\hline\n",
       "\t1 & 18.0 & 8.0 & 307.0 & 130.0 & 3504.0 & 12.0 & 70.0 & 1.0 & chevrolet chevelle malibu & chevrolet \\\\\n",
       "\t2 & 15.0 & 8.0 & 350.0 & 165.0 & 3693.0 & 11.5 & 70.0 & 1.0 & buick skylark 320 & buick \\\\\n",
       "\t3 & 18.0 & 8.0 & 318.0 & 150.0 & 3436.0 & 11.0 & 70.0 & 1.0 & plymouth satellite & plymouth \\\\\n",
       "\t4 & 16.0 & 8.0 & 304.0 & 150.0 & 3433.0 & 12.0 & 70.0 & 1.0 & amc rebel sst & amc \\\\\n",
       "\t5 & 17.0 & 8.0 & 302.0 & 140.0 & 3449.0 & 10.5 & 70.0 & 1.0 & ford torino & ford \\\\\n",
       "\t6 & 15.0 & 8.0 & 429.0 & 198.0 & 4341.0 & 10.0 & 70.0 & 1.0 & ford galaxie 500 & ford \\\\\n",
       "\t7 & 14.0 & 8.0 & 454.0 & 220.0 & 4354.0 & 9.0 & 70.0 & 1.0 & chevrolet impala & chevrolet \\\\\n",
       "\t8 & 14.0 & 8.0 & 440.0 & 215.0 & 4312.0 & 8.5 & 70.0 & 1.0 & plymouth fury iii & plymouth \\\\\n",
       "\t9 & 14.0 & 8.0 & 455.0 & 225.0 & 4425.0 & 10.0 & 70.0 & 1.0 & pontiac catalina & pontiac \\\\\n",
       "\t10 & 15.0 & 8.0 & 390.0 & 190.0 & 3850.0 & 8.5 & 70.0 & 1.0 & amc ambassador dpl & amc \\\\\n",
       "\t11 & 15.0 & 8.0 & 383.0 & 170.0 & 3563.0 & 10.0 & 70.0 & 1.0 & dodge challenger se & dodge \\\\\n",
       "\t12 & 14.0 & 8.0 & 340.0 & 160.0 & 3609.0 & 8.0 & 70.0 & 1.0 & plymouth 'cuda 340 & plymouth \\\\\n",
       "\t13 & 15.0 & 8.0 & 400.0 & 150.0 & 3761.0 & 9.5 & 70.0 & 1.0 & chevrolet monte carlo & chevrolet \\\\\n",
       "\t14 & 14.0 & 8.0 & 455.0 & 225.0 & 3086.0 & 10.0 & 70.0 & 1.0 & buick estate wagon (sw) & buick \\\\\n",
       "\t15 & 24.0 & 4.0 & 113.0 & 95.0 & 2372.0 & 15.0 & 70.0 & 3.0 & toyota corona mark ii & toyota \\\\\n",
       "\t$\\dots$ & $\\dots$ & $\\dots$ & $\\dots$ & $\\dots$ & $\\dots$ & $\\dots$ & $\\dots$ & $\\dots$ & $\\dots$ & $\\dots$ \\\\\n",
       "\\end{tabular}\n"
      ],
      "text/plain": [
       "\u001b[1m392×10 DataFrame\u001b[0m\n",
       "\u001b[1m Row \u001b[0m│\u001b[1m mpg     \u001b[0m\u001b[1m cylinders \u001b[0m\u001b[1m displacement \u001b[0m\u001b[1m horsepower \u001b[0m\u001b[1m weight  \u001b[0m\u001b[1m acceleration \u001b[0m\u001b[1m year    \u001b[0m\u001b[1m origin  \u001b[0m\u001b[1m name                      \u001b[0m\u001b[1m brand     \u001b[0m\n",
       "\u001b[1m     \u001b[0m│\u001b[90m Float64 \u001b[0m\u001b[90m Float64   \u001b[0m\u001b[90m Float64      \u001b[0m\u001b[90m Float64    \u001b[0m\u001b[90m Float64 \u001b[0m\u001b[90m Float64      \u001b[0m\u001b[90m Float64 \u001b[0m\u001b[90m Float64 \u001b[0m\u001b[90m String                    \u001b[0m\u001b[90m String    \u001b[0m\n",
       "─────┼─────────────────────────────────────────────────────────────────────────────────────────────────────────────────────────────\n",
       "   1 │    18.0        8.0         307.0       130.0   3504.0          12.0     70.0      1.0  chevrolet chevelle malibu  chevrolet\n",
       "   2 │    15.0        8.0         350.0       165.0   3693.0          11.5     70.0      1.0  buick skylark 320          buick\n",
       "   3 │    18.0        8.0         318.0       150.0   3436.0          11.0     70.0      1.0  plymouth satellite         plymouth\n",
       "  ⋮  │    ⋮         ⋮           ⋮            ⋮          ⋮          ⋮           ⋮        ⋮                 ⋮                  ⋮\n",
       " 390 │    32.0        4.0         135.0        84.0   2295.0          11.6     82.0      1.0  dodge rampage              dodge\n",
       " 391 │    28.0        4.0         120.0        79.0   2625.0          18.6     82.0      1.0  ford ranger                ford\n",
       " 392 │    31.0        4.0         119.0        82.0   2720.0          19.4     82.0      1.0  chevy s-10                 chevy\n",
       "\u001b[36m                                                                                                                   386 rows omitted\u001b[0m"
      ]
     },
     "execution_count": 8,
     "metadata": {},
     "output_type": "execute_result"
    }
   ],
   "source": [
    "df = CSV.File(\"auto2.csv\") |> DataFrame"
   ]
  },
  {
   "cell_type": "code",
   "execution_count": 9,
   "metadata": {},
   "outputs": [
    {
     "data": {
      "text/html": [
       "<div class=\"data-frame\"><p>392 rows × 10 columns</p><table class=\"data-frame\"><thead><tr><th></th><th>mpg</th><th>cylinders</th><th>displacement</th><th>horsepower</th><th>weight</th><th>acceleration</th><th>year</th><th>origin</th><th>name</th><th>brand</th></tr><tr><th></th><th title=\"Float64\">Float64</th><th title=\"Float64\">Float64</th><th title=\"Float64\">Float64</th><th title=\"Float64\">Float64</th><th title=\"Float64\">Float64</th><th title=\"Float64\">Float64</th><th title=\"Float64\">Float64</th><th title=\"Float64\">Float64</th><th title=\"String\">String</th><th title=\"String\">String</th></tr></thead><tbody><tr><th>1</th><td>18.0</td><td>8.0</td><td>307.0</td><td>130.0</td><td>3504.0</td><td>12.0</td><td>70.0</td><td>1.0</td><td>chevrolet chevelle malibu</td><td>chevrolet</td></tr><tr><th>2</th><td>15.0</td><td>8.0</td><td>350.0</td><td>165.0</td><td>3693.0</td><td>11.5</td><td>70.0</td><td>1.0</td><td>buick skylark 320</td><td>buick</td></tr><tr><th>3</th><td>18.0</td><td>8.0</td><td>318.0</td><td>150.0</td><td>3436.0</td><td>11.0</td><td>70.0</td><td>1.0</td><td>plymouth satellite</td><td>plymouth</td></tr><tr><th>4</th><td>16.0</td><td>8.0</td><td>304.0</td><td>150.0</td><td>3433.0</td><td>12.0</td><td>70.0</td><td>1.0</td><td>amc rebel sst</td><td>amc</td></tr><tr><th>5</th><td>17.0</td><td>8.0</td><td>302.0</td><td>140.0</td><td>3449.0</td><td>10.5</td><td>70.0</td><td>1.0</td><td>ford torino</td><td>ford</td></tr><tr><th>6</th><td>15.0</td><td>8.0</td><td>429.0</td><td>198.0</td><td>4341.0</td><td>10.0</td><td>70.0</td><td>1.0</td><td>ford galaxie 500</td><td>ford</td></tr><tr><th>7</th><td>14.0</td><td>8.0</td><td>454.0</td><td>220.0</td><td>4354.0</td><td>9.0</td><td>70.0</td><td>1.0</td><td>chevrolet impala</td><td>chevrolet</td></tr><tr><th>8</th><td>14.0</td><td>8.0</td><td>440.0</td><td>215.0</td><td>4312.0</td><td>8.5</td><td>70.0</td><td>1.0</td><td>plymouth fury iii</td><td>plymouth</td></tr><tr><th>9</th><td>14.0</td><td>8.0</td><td>455.0</td><td>225.0</td><td>4425.0</td><td>10.0</td><td>70.0</td><td>1.0</td><td>pontiac catalina</td><td>pontiac</td></tr><tr><th>10</th><td>15.0</td><td>8.0</td><td>390.0</td><td>190.0</td><td>3850.0</td><td>8.5</td><td>70.0</td><td>1.0</td><td>amc ambassador dpl</td><td>amc</td></tr><tr><th>11</th><td>15.0</td><td>8.0</td><td>383.0</td><td>170.0</td><td>3563.0</td><td>10.0</td><td>70.0</td><td>1.0</td><td>dodge challenger se</td><td>dodge</td></tr><tr><th>12</th><td>14.0</td><td>8.0</td><td>340.0</td><td>160.0</td><td>3609.0</td><td>8.0</td><td>70.0</td><td>1.0</td><td>plymouth &apos;cuda 340</td><td>plymouth</td></tr><tr><th>13</th><td>15.0</td><td>8.0</td><td>400.0</td><td>150.0</td><td>3761.0</td><td>9.5</td><td>70.0</td><td>1.0</td><td>chevrolet monte carlo</td><td>chevrolet</td></tr><tr><th>14</th><td>14.0</td><td>8.0</td><td>455.0</td><td>225.0</td><td>3086.0</td><td>10.0</td><td>70.0</td><td>1.0</td><td>buick estate wagon (sw)</td><td>buick</td></tr><tr><th>15</th><td>24.0</td><td>4.0</td><td>113.0</td><td>95.0</td><td>2372.0</td><td>15.0</td><td>70.0</td><td>3.0</td><td>toyota corona mark ii</td><td>toyota</td></tr><tr><th>&vellip;</th><td>&vellip;</td><td>&vellip;</td><td>&vellip;</td><td>&vellip;</td><td>&vellip;</td><td>&vellip;</td><td>&vellip;</td><td>&vellip;</td><td>&vellip;</td><td>&vellip;</td></tr></tbody></table></div>"
      ],
      "text/latex": [
       "\\begin{tabular}{r|cccccccccc}\n",
       "\t& mpg & cylinders & displacement & horsepower & weight & acceleration & year & origin & name & brand\\\\\n",
       "\t\\hline\n",
       "\t& Float64 & Float64 & Float64 & Float64 & Float64 & Float64 & Float64 & Float64 & String & String\\\\\n",
       "\t\\hline\n",
       "\t1 & 18.0 & 8.0 & 307.0 & 130.0 & 3504.0 & 12.0 & 70.0 & 1.0 & chevrolet chevelle malibu & chevrolet \\\\\n",
       "\t2 & 15.0 & 8.0 & 350.0 & 165.0 & 3693.0 & 11.5 & 70.0 & 1.0 & buick skylark 320 & buick \\\\\n",
       "\t3 & 18.0 & 8.0 & 318.0 & 150.0 & 3436.0 & 11.0 & 70.0 & 1.0 & plymouth satellite & plymouth \\\\\n",
       "\t4 & 16.0 & 8.0 & 304.0 & 150.0 & 3433.0 & 12.0 & 70.0 & 1.0 & amc rebel sst & amc \\\\\n",
       "\t5 & 17.0 & 8.0 & 302.0 & 140.0 & 3449.0 & 10.5 & 70.0 & 1.0 & ford torino & ford \\\\\n",
       "\t6 & 15.0 & 8.0 & 429.0 & 198.0 & 4341.0 & 10.0 & 70.0 & 1.0 & ford galaxie 500 & ford \\\\\n",
       "\t7 & 14.0 & 8.0 & 454.0 & 220.0 & 4354.0 & 9.0 & 70.0 & 1.0 & chevrolet impala & chevrolet \\\\\n",
       "\t8 & 14.0 & 8.0 & 440.0 & 215.0 & 4312.0 & 8.5 & 70.0 & 1.0 & plymouth fury iii & plymouth \\\\\n",
       "\t9 & 14.0 & 8.0 & 455.0 & 225.0 & 4425.0 & 10.0 & 70.0 & 1.0 & pontiac catalina & pontiac \\\\\n",
       "\t10 & 15.0 & 8.0 & 390.0 & 190.0 & 3850.0 & 8.5 & 70.0 & 1.0 & amc ambassador dpl & amc \\\\\n",
       "\t11 & 15.0 & 8.0 & 383.0 & 170.0 & 3563.0 & 10.0 & 70.0 & 1.0 & dodge challenger se & dodge \\\\\n",
       "\t12 & 14.0 & 8.0 & 340.0 & 160.0 & 3609.0 & 8.0 & 70.0 & 1.0 & plymouth 'cuda 340 & plymouth \\\\\n",
       "\t13 & 15.0 & 8.0 & 400.0 & 150.0 & 3761.0 & 9.5 & 70.0 & 1.0 & chevrolet monte carlo & chevrolet \\\\\n",
       "\t14 & 14.0 & 8.0 & 455.0 & 225.0 & 3086.0 & 10.0 & 70.0 & 1.0 & buick estate wagon (sw) & buick \\\\\n",
       "\t15 & 24.0 & 4.0 & 113.0 & 95.0 & 2372.0 & 15.0 & 70.0 & 3.0 & toyota corona mark ii & toyota \\\\\n",
       "\t$\\dots$ & $\\dots$ & $\\dots$ & $\\dots$ & $\\dots$ & $\\dots$ & $\\dots$ & $\\dots$ & $\\dots$ & $\\dots$ & $\\dots$ \\\\\n",
       "\\end{tabular}\n"
      ],
      "text/plain": [
       "\u001b[1m392×10 DataFrame\u001b[0m\n",
       "\u001b[1m Row \u001b[0m│\u001b[1m mpg     \u001b[0m\u001b[1m cylinders \u001b[0m\u001b[1m displacement \u001b[0m\u001b[1m horsepower \u001b[0m\u001b[1m weight  \u001b[0m\u001b[1m acceleration \u001b[0m\u001b[1m year    \u001b[0m\u001b[1m origin  \u001b[0m\u001b[1m name                      \u001b[0m\u001b[1m brand     \u001b[0m\n",
       "\u001b[1m     \u001b[0m│\u001b[90m Float64 \u001b[0m\u001b[90m Float64   \u001b[0m\u001b[90m Float64      \u001b[0m\u001b[90m Float64    \u001b[0m\u001b[90m Float64 \u001b[0m\u001b[90m Float64      \u001b[0m\u001b[90m Float64 \u001b[0m\u001b[90m Float64 \u001b[0m\u001b[90m String                    \u001b[0m\u001b[90m String    \u001b[0m\n",
       "─────┼─────────────────────────────────────────────────────────────────────────────────────────────────────────────────────────────\n",
       "   1 │    18.0        8.0         307.0       130.0   3504.0          12.0     70.0      1.0  chevrolet chevelle malibu  chevrolet\n",
       "   2 │    15.0        8.0         350.0       165.0   3693.0          11.5     70.0      1.0  buick skylark 320          buick\n",
       "   3 │    18.0        8.0         318.0       150.0   3436.0          11.0     70.0      1.0  plymouth satellite         plymouth\n",
       "  ⋮  │    ⋮         ⋮           ⋮            ⋮          ⋮          ⋮           ⋮        ⋮                 ⋮                  ⋮\n",
       " 390 │    32.0        4.0         135.0        84.0   2295.0          11.6     82.0      1.0  dodge rampage              dodge\n",
       " 391 │    28.0        4.0         120.0        79.0   2625.0          18.6     82.0      1.0  ford ranger                ford\n",
       " 392 │    31.0        4.0         119.0        82.0   2720.0          19.4     82.0      1.0  chevy s-10                 chevy\n",
       "\u001b[36m                                                                                                                   386 rows omitted\u001b[0m"
      ]
     },
     "execution_count": 9,
     "metadata": {},
     "output_type": "execute_result"
    }
   ],
   "source": [
    "df2 = Arrow.Table(\"auto2.arrow\") |> DataFrame"
   ]
  },
  {
   "cell_type": "code",
   "execution_count": 10,
   "metadata": {},
   "outputs": [
    {
     "data": {
      "text/plain": [
       "true"
      ]
     },
     "execution_count": 10,
     "metadata": {},
     "output_type": "execute_result"
    }
   ],
   "source": [
    "df == df2"
   ]
  },
  {
   "cell_type": "markdown",
   "metadata": {},
   "source": [
    "In general using Arrow.jl is a preferred way to store your data frames, but note that in order to ensure maximum speed it uses its own `AbstractVector` type:"
   ]
  },
  {
   "cell_type": "code",
   "execution_count": 11,
   "metadata": {},
   "outputs": [
    {
     "data": {
      "text/plain": [
       "392-element Arrow.Primitive{Float64, Vector{Float64}}:\n",
       " 18.0\n",
       " 15.0\n",
       " 18.0\n",
       " 16.0\n",
       " 17.0\n",
       "  ⋮\n",
       " 27.0\n",
       " 44.0\n",
       " 32.0\n",
       " 28.0\n",
       " 31.0"
      ]
     },
     "execution_count": 11,
     "metadata": {},
     "output_type": "execute_result"
    }
   ],
   "source": [
    "df2.mpg"
   ]
  },
  {
   "cell_type": "markdown",
   "metadata": {},
   "source": [
    "To materialize columns into standard `Vector`s just `copy` a data frame:"
   ]
  },
  {
   "cell_type": "code",
   "execution_count": 12,
   "metadata": {},
   "outputs": [
    {
     "data": {
      "text/html": [
       "<div class=\"data-frame\"><p>392 rows × 10 columns</p><table class=\"data-frame\"><thead><tr><th></th><th>mpg</th><th>cylinders</th><th>displacement</th><th>horsepower</th><th>weight</th><th>acceleration</th><th>year</th><th>origin</th><th>name</th><th>brand</th></tr><tr><th></th><th title=\"Float64\">Float64</th><th title=\"Float64\">Float64</th><th title=\"Float64\">Float64</th><th title=\"Float64\">Float64</th><th title=\"Float64\">Float64</th><th title=\"Float64\">Float64</th><th title=\"Float64\">Float64</th><th title=\"Float64\">Float64</th><th title=\"String\">String</th><th title=\"String\">String</th></tr></thead><tbody><tr><th>1</th><td>18.0</td><td>8.0</td><td>307.0</td><td>130.0</td><td>3504.0</td><td>12.0</td><td>70.0</td><td>1.0</td><td>chevrolet chevelle malibu</td><td>chevrolet</td></tr><tr><th>2</th><td>15.0</td><td>8.0</td><td>350.0</td><td>165.0</td><td>3693.0</td><td>11.5</td><td>70.0</td><td>1.0</td><td>buick skylark 320</td><td>buick</td></tr><tr><th>3</th><td>18.0</td><td>8.0</td><td>318.0</td><td>150.0</td><td>3436.0</td><td>11.0</td><td>70.0</td><td>1.0</td><td>plymouth satellite</td><td>plymouth</td></tr><tr><th>4</th><td>16.0</td><td>8.0</td><td>304.0</td><td>150.0</td><td>3433.0</td><td>12.0</td><td>70.0</td><td>1.0</td><td>amc rebel sst</td><td>amc</td></tr><tr><th>5</th><td>17.0</td><td>8.0</td><td>302.0</td><td>140.0</td><td>3449.0</td><td>10.5</td><td>70.0</td><td>1.0</td><td>ford torino</td><td>ford</td></tr><tr><th>6</th><td>15.0</td><td>8.0</td><td>429.0</td><td>198.0</td><td>4341.0</td><td>10.0</td><td>70.0</td><td>1.0</td><td>ford galaxie 500</td><td>ford</td></tr><tr><th>7</th><td>14.0</td><td>8.0</td><td>454.0</td><td>220.0</td><td>4354.0</td><td>9.0</td><td>70.0</td><td>1.0</td><td>chevrolet impala</td><td>chevrolet</td></tr><tr><th>8</th><td>14.0</td><td>8.0</td><td>440.0</td><td>215.0</td><td>4312.0</td><td>8.5</td><td>70.0</td><td>1.0</td><td>plymouth fury iii</td><td>plymouth</td></tr><tr><th>9</th><td>14.0</td><td>8.0</td><td>455.0</td><td>225.0</td><td>4425.0</td><td>10.0</td><td>70.0</td><td>1.0</td><td>pontiac catalina</td><td>pontiac</td></tr><tr><th>10</th><td>15.0</td><td>8.0</td><td>390.0</td><td>190.0</td><td>3850.0</td><td>8.5</td><td>70.0</td><td>1.0</td><td>amc ambassador dpl</td><td>amc</td></tr><tr><th>11</th><td>15.0</td><td>8.0</td><td>383.0</td><td>170.0</td><td>3563.0</td><td>10.0</td><td>70.0</td><td>1.0</td><td>dodge challenger se</td><td>dodge</td></tr><tr><th>12</th><td>14.0</td><td>8.0</td><td>340.0</td><td>160.0</td><td>3609.0</td><td>8.0</td><td>70.0</td><td>1.0</td><td>plymouth &apos;cuda 340</td><td>plymouth</td></tr><tr><th>13</th><td>15.0</td><td>8.0</td><td>400.0</td><td>150.0</td><td>3761.0</td><td>9.5</td><td>70.0</td><td>1.0</td><td>chevrolet monte carlo</td><td>chevrolet</td></tr><tr><th>14</th><td>14.0</td><td>8.0</td><td>455.0</td><td>225.0</td><td>3086.0</td><td>10.0</td><td>70.0</td><td>1.0</td><td>buick estate wagon (sw)</td><td>buick</td></tr><tr><th>15</th><td>24.0</td><td>4.0</td><td>113.0</td><td>95.0</td><td>2372.0</td><td>15.0</td><td>70.0</td><td>3.0</td><td>toyota corona mark ii</td><td>toyota</td></tr><tr><th>&vellip;</th><td>&vellip;</td><td>&vellip;</td><td>&vellip;</td><td>&vellip;</td><td>&vellip;</td><td>&vellip;</td><td>&vellip;</td><td>&vellip;</td><td>&vellip;</td><td>&vellip;</td></tr></tbody></table></div>"
      ],
      "text/latex": [
       "\\begin{tabular}{r|cccccccccc}\n",
       "\t& mpg & cylinders & displacement & horsepower & weight & acceleration & year & origin & name & brand\\\\\n",
       "\t\\hline\n",
       "\t& Float64 & Float64 & Float64 & Float64 & Float64 & Float64 & Float64 & Float64 & String & String\\\\\n",
       "\t\\hline\n",
       "\t1 & 18.0 & 8.0 & 307.0 & 130.0 & 3504.0 & 12.0 & 70.0 & 1.0 & chevrolet chevelle malibu & chevrolet \\\\\n",
       "\t2 & 15.0 & 8.0 & 350.0 & 165.0 & 3693.0 & 11.5 & 70.0 & 1.0 & buick skylark 320 & buick \\\\\n",
       "\t3 & 18.0 & 8.0 & 318.0 & 150.0 & 3436.0 & 11.0 & 70.0 & 1.0 & plymouth satellite & plymouth \\\\\n",
       "\t4 & 16.0 & 8.0 & 304.0 & 150.0 & 3433.0 & 12.0 & 70.0 & 1.0 & amc rebel sst & amc \\\\\n",
       "\t5 & 17.0 & 8.0 & 302.0 & 140.0 & 3449.0 & 10.5 & 70.0 & 1.0 & ford torino & ford \\\\\n",
       "\t6 & 15.0 & 8.0 & 429.0 & 198.0 & 4341.0 & 10.0 & 70.0 & 1.0 & ford galaxie 500 & ford \\\\\n",
       "\t7 & 14.0 & 8.0 & 454.0 & 220.0 & 4354.0 & 9.0 & 70.0 & 1.0 & chevrolet impala & chevrolet \\\\\n",
       "\t8 & 14.0 & 8.0 & 440.0 & 215.0 & 4312.0 & 8.5 & 70.0 & 1.0 & plymouth fury iii & plymouth \\\\\n",
       "\t9 & 14.0 & 8.0 & 455.0 & 225.0 & 4425.0 & 10.0 & 70.0 & 1.0 & pontiac catalina & pontiac \\\\\n",
       "\t10 & 15.0 & 8.0 & 390.0 & 190.0 & 3850.0 & 8.5 & 70.0 & 1.0 & amc ambassador dpl & amc \\\\\n",
       "\t11 & 15.0 & 8.0 & 383.0 & 170.0 & 3563.0 & 10.0 & 70.0 & 1.0 & dodge challenger se & dodge \\\\\n",
       "\t12 & 14.0 & 8.0 & 340.0 & 160.0 & 3609.0 & 8.0 & 70.0 & 1.0 & plymouth 'cuda 340 & plymouth \\\\\n",
       "\t13 & 15.0 & 8.0 & 400.0 & 150.0 & 3761.0 & 9.5 & 70.0 & 1.0 & chevrolet monte carlo & chevrolet \\\\\n",
       "\t14 & 14.0 & 8.0 & 455.0 & 225.0 & 3086.0 & 10.0 & 70.0 & 1.0 & buick estate wagon (sw) & buick \\\\\n",
       "\t15 & 24.0 & 4.0 & 113.0 & 95.0 & 2372.0 & 15.0 & 70.0 & 3.0 & toyota corona mark ii & toyota \\\\\n",
       "\t$\\dots$ & $\\dots$ & $\\dots$ & $\\dots$ & $\\dots$ & $\\dots$ & $\\dots$ & $\\dots$ & $\\dots$ & $\\dots$ & $\\dots$ \\\\\n",
       "\\end{tabular}\n"
      ],
      "text/plain": [
       "\u001b[1m392×10 DataFrame\u001b[0m\n",
       "\u001b[1m Row \u001b[0m│\u001b[1m mpg     \u001b[0m\u001b[1m cylinders \u001b[0m\u001b[1m displacement \u001b[0m\u001b[1m horsepower \u001b[0m\u001b[1m weight  \u001b[0m\u001b[1m acceleration \u001b[0m\u001b[1m year    \u001b[0m\u001b[1m origin  \u001b[0m\u001b[1m name                      \u001b[0m\u001b[1m brand     \u001b[0m\n",
       "\u001b[1m     \u001b[0m│\u001b[90m Float64 \u001b[0m\u001b[90m Float64   \u001b[0m\u001b[90m Float64      \u001b[0m\u001b[90m Float64    \u001b[0m\u001b[90m Float64 \u001b[0m\u001b[90m Float64      \u001b[0m\u001b[90m Float64 \u001b[0m\u001b[90m Float64 \u001b[0m\u001b[90m String                    \u001b[0m\u001b[90m String    \u001b[0m\n",
       "─────┼─────────────────────────────────────────────────────────────────────────────────────────────────────────────────────────────\n",
       "   1 │    18.0        8.0         307.0       130.0   3504.0          12.0     70.0      1.0  chevrolet chevelle malibu  chevrolet\n",
       "   2 │    15.0        8.0         350.0       165.0   3693.0          11.5     70.0      1.0  buick skylark 320          buick\n",
       "   3 │    18.0        8.0         318.0       150.0   3436.0          11.0     70.0      1.0  plymouth satellite         plymouth\n",
       "  ⋮  │    ⋮         ⋮           ⋮            ⋮          ⋮          ⋮           ⋮        ⋮                 ⋮                  ⋮\n",
       " 390 │    32.0        4.0         135.0        84.0   2295.0          11.6     82.0      1.0  dodge rampage              dodge\n",
       " 391 │    28.0        4.0         120.0        79.0   2625.0          18.6     82.0      1.0  ford ranger                ford\n",
       " 392 │    31.0        4.0         119.0        82.0   2720.0          19.4     82.0      1.0  chevy s-10                 chevy\n",
       "\u001b[36m                                                                                                                   386 rows omitted\u001b[0m"
      ]
     },
     "execution_count": 12,
     "metadata": {},
     "output_type": "execute_result"
    }
   ],
   "source": [
    "df3 = copy(df2)"
   ]
  },
  {
   "cell_type": "code",
   "execution_count": 13,
   "metadata": {},
   "outputs": [
    {
     "data": {
      "text/plain": [
       "392-element Vector{Float64}:\n",
       " 18.0\n",
       " 15.0\n",
       " 18.0\n",
       " 16.0\n",
       " 17.0\n",
       "  ⋮\n",
       " 27.0\n",
       " 44.0\n",
       " 32.0\n",
       " 28.0\n",
       " 31.0"
      ]
     },
     "execution_count": 13,
     "metadata": {},
     "output_type": "execute_result"
    }
   ],
   "source": [
    "df3.mpg"
   ]
  },
  {
   "cell_type": "markdown",
   "metadata": {},
   "source": [
    "You can find more discussion about using Arrow.jl with DataFrames.jl [here](https://bkamins.github.io/julialang/2020/11/06/arrow.html)."
   ]
  },
  {
   "cell_type": "markdown",
   "metadata": {},
   "source": [
    "We want to group our data frame by `:brand` column:"
   ]
  },
  {
   "cell_type": "code",
   "execution_count": 14,
   "metadata": {},
   "outputs": [
    {
     "data": {
      "text/html": [
       "<p><b>GroupedDataFrame with 37 groups based on key: brand</b></p><p><i>First Group (43 rows): brand = &quot;chevrolet&quot;</i></p><div class=\"data-frame\"><table class=\"data-frame\"><thead><tr><th></th><th>mpg</th><th>cylinders</th><th>displacement</th><th>horsepower</th><th>weight</th><th>acceleration</th><th>year</th><th>origin</th><th>name</th><th>brand</th></tr><tr><th></th><th title=\"Float64\">Float64</th><th title=\"Float64\">Float64</th><th title=\"Float64\">Float64</th><th title=\"Float64\">Float64</th><th title=\"Float64\">Float64</th><th title=\"Float64\">Float64</th><th title=\"Float64\">Float64</th><th title=\"Float64\">Float64</th><th title=\"String\">String</th><th title=\"String\">String</th></tr></thead><tbody><tr><th>1</th><td>18.0</td><td>8.0</td><td>307.0</td><td>130.0</td><td>3504.0</td><td>12.0</td><td>70.0</td><td>1.0</td><td>chevrolet chevelle malibu</td><td>chevrolet</td></tr><tr><th>2</th><td>14.0</td><td>8.0</td><td>454.0</td><td>220.0</td><td>4354.0</td><td>9.0</td><td>70.0</td><td>1.0</td><td>chevrolet impala</td><td>chevrolet</td></tr><tr><th>3</th><td>15.0</td><td>8.0</td><td>400.0</td><td>150.0</td><td>3761.0</td><td>9.5</td><td>70.0</td><td>1.0</td><td>chevrolet monte carlo</td><td>chevrolet</td></tr><tr><th>4</th><td>28.0</td><td>4.0</td><td>140.0</td><td>90.0</td><td>2264.0</td><td>15.5</td><td>71.0</td><td>1.0</td><td>chevrolet vega 2300</td><td>chevrolet</td></tr><tr><th>5</th><td>17.0</td><td>6.0</td><td>250.0</td><td>100.0</td><td>3329.0</td><td>15.5</td><td>71.0</td><td>1.0</td><td>chevrolet chevelle malibu</td><td>chevrolet</td></tr><tr><th>6</th><td>14.0</td><td>8.0</td><td>350.0</td><td>165.0</td><td>4209.0</td><td>12.0</td><td>71.0</td><td>1.0</td><td>chevrolet impala</td><td>chevrolet</td></tr><tr><th>7</th><td>22.0</td><td>4.0</td><td>140.0</td><td>72.0</td><td>2408.0</td><td>19.0</td><td>71.0</td><td>1.0</td><td>chevrolet vega (sw)</td><td>chevrolet</td></tr><tr><th>8</th><td>20.0</td><td>4.0</td><td>140.0</td><td>90.0</td><td>2408.0</td><td>19.5</td><td>72.0</td><td>1.0</td><td>chevrolet vega</td><td>chevrolet</td></tr><tr><th>9</th><td>13.0</td><td>8.0</td><td>350.0</td><td>165.0</td><td>4274.0</td><td>12.0</td><td>72.0</td><td>1.0</td><td>chevrolet impala</td><td>chevrolet</td></tr><tr><th>10</th><td>13.0</td><td>8.0</td><td>307.0</td><td>130.0</td><td>4098.0</td><td>14.0</td><td>72.0</td><td>1.0</td><td>chevrolet chevelle concours (sw)</td><td>chevrolet</td></tr><tr><th>11</th><td>13.0</td><td>8.0</td><td>350.0</td><td>145.0</td><td>3988.0</td><td>13.0</td><td>73.0</td><td>1.0</td><td>chevrolet malibu</td><td>chevrolet</td></tr><tr><th>12</th><td>13.0</td><td>8.0</td><td>400.0</td><td>150.0</td><td>4464.0</td><td>12.0</td><td>73.0</td><td>1.0</td><td>chevrolet caprice classic</td><td>chevrolet</td></tr><tr><th>13</th><td>16.0</td><td>6.0</td><td>250.0</td><td>100.0</td><td>3278.0</td><td>18.0</td><td>73.0</td><td>1.0</td><td>chevrolet nova custom</td><td>chevrolet</td></tr><tr><th>14</th><td>11.0</td><td>8.0</td><td>400.0</td><td>150.0</td><td>4997.0</td><td>14.0</td><td>73.0</td><td>1.0</td><td>chevrolet impala</td><td>chevrolet</td></tr><tr><th>15</th><td>21.0</td><td>4.0</td><td>140.0</td><td>72.0</td><td>2401.0</td><td>19.5</td><td>73.0</td><td>1.0</td><td>chevrolet vega</td><td>chevrolet</td></tr><tr><th>&vellip;</th><td>&vellip;</td><td>&vellip;</td><td>&vellip;</td><td>&vellip;</td><td>&vellip;</td><td>&vellip;</td><td>&vellip;</td><td>&vellip;</td><td>&vellip;</td><td>&vellip;</td></tr></tbody></table></div><p>&vellip;</p><p><i>Last Group (1 row): brand = &quot;nissan&quot;</i></p><div class=\"data-frame\"><table class=\"data-frame\"><thead><tr><th></th><th>mpg</th><th>cylinders</th><th>displacement</th><th>horsepower</th><th>weight</th><th>acceleration</th><th>year</th><th>origin</th><th>name</th><th>brand</th></tr><tr><th></th><th title=\"Float64\">Float64</th><th title=\"Float64\">Float64</th><th title=\"Float64\">Float64</th><th title=\"Float64\">Float64</th><th title=\"Float64\">Float64</th><th title=\"Float64\">Float64</th><th title=\"Float64\">Float64</th><th title=\"Float64\">Float64</th><th title=\"String\">String</th><th title=\"String\">String</th></tr></thead><tbody><tr><th>1</th><td>36.0</td><td>4.0</td><td>120.0</td><td>88.0</td><td>2160.0</td><td>14.5</td><td>82.0</td><td>3.0</td><td>nissan stanza xe</td><td>nissan</td></tr></tbody></table></div>"
      ],
      "text/latex": [
       "GroupedDataFrame with 37 groups based on key: brand\n",
       "\n",
       "First Group (43 rows): brand = \"chevrolet\"\n",
       "\n",
       "\\begin{tabular}{r|cccccccccc}\n",
       "\t& mpg & cylinders & displacement & horsepower & weight & acceleration & year & origin & name & brand\\\\\n",
       "\t\\hline\n",
       "\t& Float64 & Float64 & Float64 & Float64 & Float64 & Float64 & Float64 & Float64 & String & String\\\\\n",
       "\t\\hline\n",
       "\t1 & 18.0 & 8.0 & 307.0 & 130.0 & 3504.0 & 12.0 & 70.0 & 1.0 & chevrolet chevelle malibu & chevrolet \\\\\n",
       "\t2 & 14.0 & 8.0 & 454.0 & 220.0 & 4354.0 & 9.0 & 70.0 & 1.0 & chevrolet impala & chevrolet \\\\\n",
       "\t3 & 15.0 & 8.0 & 400.0 & 150.0 & 3761.0 & 9.5 & 70.0 & 1.0 & chevrolet monte carlo & chevrolet \\\\\n",
       "\t4 & 28.0 & 4.0 & 140.0 & 90.0 & 2264.0 & 15.5 & 71.0 & 1.0 & chevrolet vega 2300 & chevrolet \\\\\n",
       "\t5 & 17.0 & 6.0 & 250.0 & 100.0 & 3329.0 & 15.5 & 71.0 & 1.0 & chevrolet chevelle malibu & chevrolet \\\\\n",
       "\t6 & 14.0 & 8.0 & 350.0 & 165.0 & 4209.0 & 12.0 & 71.0 & 1.0 & chevrolet impala & chevrolet \\\\\n",
       "\t7 & 22.0 & 4.0 & 140.0 & 72.0 & 2408.0 & 19.0 & 71.0 & 1.0 & chevrolet vega (sw) & chevrolet \\\\\n",
       "\t8 & 20.0 & 4.0 & 140.0 & 90.0 & 2408.0 & 19.5 & 72.0 & 1.0 & chevrolet vega & chevrolet \\\\\n",
       "\t9 & 13.0 & 8.0 & 350.0 & 165.0 & 4274.0 & 12.0 & 72.0 & 1.0 & chevrolet impala & chevrolet \\\\\n",
       "\t10 & 13.0 & 8.0 & 307.0 & 130.0 & 4098.0 & 14.0 & 72.0 & 1.0 & chevrolet chevelle concours (sw) & chevrolet \\\\\n",
       "\t11 & 13.0 & 8.0 & 350.0 & 145.0 & 3988.0 & 13.0 & 73.0 & 1.0 & chevrolet malibu & chevrolet \\\\\n",
       "\t12 & 13.0 & 8.0 & 400.0 & 150.0 & 4464.0 & 12.0 & 73.0 & 1.0 & chevrolet caprice classic & chevrolet \\\\\n",
       "\t13 & 16.0 & 6.0 & 250.0 & 100.0 & 3278.0 & 18.0 & 73.0 & 1.0 & chevrolet nova custom & chevrolet \\\\\n",
       "\t14 & 11.0 & 8.0 & 400.0 & 150.0 & 4997.0 & 14.0 & 73.0 & 1.0 & chevrolet impala & chevrolet \\\\\n",
       "\t15 & 21.0 & 4.0 & 140.0 & 72.0 & 2401.0 & 19.5 & 73.0 & 1.0 & chevrolet vega & chevrolet \\\\\n",
       "\t$\\dots$ & $\\dots$ & $\\dots$ & $\\dots$ & $\\dots$ & $\\dots$ & $\\dots$ & $\\dots$ & $\\dots$ & $\\dots$ & $\\dots$ \\\\\n",
       "\\end{tabular}\n",
       "\n",
       "$\\dots$\n",
       "\n",
       "Last Group (1 row): brand = \"nissan\"\n",
       "\n",
       "\\begin{tabular}{r|cccccccccc}\n",
       "\t& mpg & cylinders & displacement & horsepower & weight & acceleration & year & origin & name & brand\\\\\n",
       "\t\\hline\n",
       "\t& Float64 & Float64 & Float64 & Float64 & Float64 & Float64 & Float64 & Float64 & String & String\\\\\n",
       "\t\\hline\n",
       "\t1 & 36.0 & 4.0 & 120.0 & 88.0 & 2160.0 & 14.5 & 82.0 & 3.0 & nissan stanza xe & nissan \\\\\n",
       "\\end{tabular}\n"
      ],
      "text/plain": [
       "GroupedDataFrame with 37 groups based on key: brand\n",
       "First Group (43 rows): brand = \"chevrolet\"\n",
       "\u001b[1m Row \u001b[0m│\u001b[1m mpg     \u001b[0m\u001b[1m cylinders \u001b[0m\u001b[1m displacement \u001b[0m\u001b[1m horsepower \u001b[0m\u001b[1m weight  \u001b[0m\u001b[1m acceleration \u001b[0m\u001b[1m year    \u001b[0m\u001b[1m origin  \u001b[0m\u001b[1m name                      \u001b[0m\u001b[1m brand     \u001b[0m\n",
       "\u001b[1m     \u001b[0m│\u001b[90m Float64 \u001b[0m\u001b[90m Float64   \u001b[0m\u001b[90m Float64      \u001b[0m\u001b[90m Float64    \u001b[0m\u001b[90m Float64 \u001b[0m\u001b[90m Float64      \u001b[0m\u001b[90m Float64 \u001b[0m\u001b[90m Float64 \u001b[0m\u001b[90m String                    \u001b[0m\u001b[90m String    \u001b[0m\n",
       "─────┼─────────────────────────────────────────────────────────────────────────────────────────────────────────────────────────────\n",
       "   1 │    18.0        8.0         307.0       130.0   3504.0          12.0     70.0      1.0  chevrolet chevelle malibu  chevrolet\n",
       "   2 │    14.0        8.0         454.0       220.0   4354.0           9.0     70.0      1.0  chevrolet impala           chevrolet\n",
       "   3 │    15.0        8.0         400.0       150.0   3761.0           9.5     70.0      1.0  chevrolet monte carlo      chevrolet\n",
       "   4 │    28.0        4.0         140.0        90.0   2264.0          15.5     71.0      1.0  chevrolet vega 2300        chevrolet\n",
       "  ⋮  │    ⋮         ⋮           ⋮            ⋮          ⋮          ⋮           ⋮        ⋮                 ⋮                  ⋮\n",
       "  41 │    27.0        4.0         112.0        88.0   2640.0          18.6     82.0      1.0  chevrolet cavalier wagon   chevrolet\n",
       "  42 │    34.0        4.0         112.0        88.0   2395.0          18.0     82.0      1.0  chevrolet cavalier 2-door  chevrolet\n",
       "  43 │    27.0        4.0         151.0        90.0   2950.0          17.3     82.0      1.0  chevrolet camaro           chevrolet\n",
       "\u001b[36m                                                                                                                    36 rows omitted\u001b[0m\n",
       "⋮\n",
       "Last Group (1 row): brand = \"nissan\"\n",
       "\u001b[1m Row \u001b[0m│\u001b[1m mpg     \u001b[0m\u001b[1m cylinders \u001b[0m\u001b[1m displacement \u001b[0m\u001b[1m horsepower \u001b[0m\u001b[1m weight  \u001b[0m\u001b[1m acceleration \u001b[0m\u001b[1m year    \u001b[0m\u001b[1m origin  \u001b[0m\u001b[1m name             \u001b[0m\u001b[1m brand  \u001b[0m\n",
       "\u001b[1m     \u001b[0m│\u001b[90m Float64 \u001b[0m\u001b[90m Float64   \u001b[0m\u001b[90m Float64      \u001b[0m\u001b[90m Float64    \u001b[0m\u001b[90m Float64 \u001b[0m\u001b[90m Float64      \u001b[0m\u001b[90m Float64 \u001b[0m\u001b[90m Float64 \u001b[0m\u001b[90m String           \u001b[0m\u001b[90m String \u001b[0m\n",
       "─────┼─────────────────────────────────────────────────────────────────────────────────────────────────────────────────\n",
       "   1 │    36.0        4.0         120.0        88.0   2160.0          14.5     82.0      3.0  nissan stanza xe  nissan"
      ]
     },
     "execution_count": 14,
     "metadata": {},
     "output_type": "execute_result"
    }
   ],
   "source": [
    "gdf = groupby(df, :brand)"
   ]
  },
  {
   "cell_type": "markdown",
   "metadata": {},
   "source": [
    "Note that it is easy (and fast) to find an appropriate group by passing a `Tuple` of values of grouping columns (in our case it is just one column)"
   ]
  },
  {
   "cell_type": "code",
   "execution_count": 15,
   "metadata": {},
   "outputs": [
    {
     "data": {
      "text/html": [
       "<div class=\"data-frame\"><p>48 rows × 10 columns</p><table class=\"data-frame\"><thead><tr><th></th><th>mpg</th><th>cylinders</th><th>displacement</th><th>horsepower</th><th>weight</th><th>acceleration</th><th>year</th><th>origin</th><th>name</th><th>brand</th></tr><tr><th></th><th title=\"Float64\">Float64</th><th title=\"Float64\">Float64</th><th title=\"Float64\">Float64</th><th title=\"Float64\">Float64</th><th title=\"Float64\">Float64</th><th title=\"Float64\">Float64</th><th title=\"Float64\">Float64</th><th title=\"Float64\">Float64</th><th title=\"String\">String</th><th title=\"String\">String</th></tr></thead><tbody><tr><th>1</th><td>17.0</td><td>8.0</td><td>302.0</td><td>140.0</td><td>3449.0</td><td>10.5</td><td>70.0</td><td>1.0</td><td>ford torino</td><td>ford</td></tr><tr><th>2</th><td>15.0</td><td>8.0</td><td>429.0</td><td>198.0</td><td>4341.0</td><td>10.0</td><td>70.0</td><td>1.0</td><td>ford galaxie 500</td><td>ford</td></tr><tr><th>3</th><td>21.0</td><td>6.0</td><td>200.0</td><td>85.0</td><td>2587.0</td><td>16.0</td><td>70.0</td><td>1.0</td><td>ford maverick</td><td>ford</td></tr><tr><th>4</th><td>10.0</td><td>8.0</td><td>360.0</td><td>215.0</td><td>4615.0</td><td>14.0</td><td>70.0</td><td>1.0</td><td>ford f250</td><td>ford</td></tr><tr><th>5</th><td>19.0</td><td>6.0</td><td>250.0</td><td>88.0</td><td>3302.0</td><td>15.5</td><td>71.0</td><td>1.0</td><td>ford torino 500</td><td>ford</td></tr><tr><th>6</th><td>14.0</td><td>8.0</td><td>351.0</td><td>153.0</td><td>4154.0</td><td>13.5</td><td>71.0</td><td>1.0</td><td>ford galaxie 500</td><td>ford</td></tr><tr><th>7</th><td>13.0</td><td>8.0</td><td>400.0</td><td>170.0</td><td>4746.0</td><td>12.0</td><td>71.0</td><td>1.0</td><td>ford country squire (sw)</td><td>ford</td></tr><tr><th>8</th><td>18.0</td><td>6.0</td><td>250.0</td><td>88.0</td><td>3139.0</td><td>14.5</td><td>71.0</td><td>1.0</td><td>ford mustang</td><td>ford</td></tr><tr><th>9</th><td>21.0</td><td>4.0</td><td>122.0</td><td>86.0</td><td>2226.0</td><td>16.5</td><td>72.0</td><td>1.0</td><td>ford pinto runabout</td><td>ford</td></tr><tr><th>10</th><td>14.0</td><td>8.0</td><td>351.0</td><td>153.0</td><td>4129.0</td><td>13.0</td><td>72.0</td><td>1.0</td><td>ford galaxie 500</td><td>ford</td></tr><tr><th>11</th><td>13.0</td><td>8.0</td><td>302.0</td><td>140.0</td><td>4294.0</td><td>16.0</td><td>72.0</td><td>1.0</td><td>ford gran torino (sw)</td><td>ford</td></tr><tr><th>12</th><td>22.0</td><td>4.0</td><td>122.0</td><td>86.0</td><td>2395.0</td><td>16.0</td><td>72.0</td><td>1.0</td><td>ford pinto (sw)</td><td>ford</td></tr><tr><th>13</th><td>14.0</td><td>8.0</td><td>302.0</td><td>137.0</td><td>4042.0</td><td>14.5</td><td>73.0</td><td>1.0</td><td>ford gran torino</td><td>ford</td></tr><tr><th>14</th><td>13.0</td><td>8.0</td><td>351.0</td><td>158.0</td><td>4363.0</td><td>13.0</td><td>73.0</td><td>1.0</td><td>ford ltd</td><td>ford</td></tr><tr><th>15</th><td>18.0</td><td>6.0</td><td>250.0</td><td>88.0</td><td>3021.0</td><td>16.5</td><td>73.0</td><td>1.0</td><td>ford maverick</td><td>ford</td></tr><tr><th>&vellip;</th><td>&vellip;</td><td>&vellip;</td><td>&vellip;</td><td>&vellip;</td><td>&vellip;</td><td>&vellip;</td><td>&vellip;</td><td>&vellip;</td><td>&vellip;</td><td>&vellip;</td></tr></tbody></table></div>"
      ],
      "text/latex": [
       "\\begin{tabular}{r|cccccccccc}\n",
       "\t& mpg & cylinders & displacement & horsepower & weight & acceleration & year & origin & name & brand\\\\\n",
       "\t\\hline\n",
       "\t& Float64 & Float64 & Float64 & Float64 & Float64 & Float64 & Float64 & Float64 & String & String\\\\\n",
       "\t\\hline\n",
       "\t1 & 17.0 & 8.0 & 302.0 & 140.0 & 3449.0 & 10.5 & 70.0 & 1.0 & ford torino & ford \\\\\n",
       "\t2 & 15.0 & 8.0 & 429.0 & 198.0 & 4341.0 & 10.0 & 70.0 & 1.0 & ford galaxie 500 & ford \\\\\n",
       "\t3 & 21.0 & 6.0 & 200.0 & 85.0 & 2587.0 & 16.0 & 70.0 & 1.0 & ford maverick & ford \\\\\n",
       "\t4 & 10.0 & 8.0 & 360.0 & 215.0 & 4615.0 & 14.0 & 70.0 & 1.0 & ford f250 & ford \\\\\n",
       "\t5 & 19.0 & 6.0 & 250.0 & 88.0 & 3302.0 & 15.5 & 71.0 & 1.0 & ford torino 500 & ford \\\\\n",
       "\t6 & 14.0 & 8.0 & 351.0 & 153.0 & 4154.0 & 13.5 & 71.0 & 1.0 & ford galaxie 500 & ford \\\\\n",
       "\t7 & 13.0 & 8.0 & 400.0 & 170.0 & 4746.0 & 12.0 & 71.0 & 1.0 & ford country squire (sw) & ford \\\\\n",
       "\t8 & 18.0 & 6.0 & 250.0 & 88.0 & 3139.0 & 14.5 & 71.0 & 1.0 & ford mustang & ford \\\\\n",
       "\t9 & 21.0 & 4.0 & 122.0 & 86.0 & 2226.0 & 16.5 & 72.0 & 1.0 & ford pinto runabout & ford \\\\\n",
       "\t10 & 14.0 & 8.0 & 351.0 & 153.0 & 4129.0 & 13.0 & 72.0 & 1.0 & ford galaxie 500 & ford \\\\\n",
       "\t11 & 13.0 & 8.0 & 302.0 & 140.0 & 4294.0 & 16.0 & 72.0 & 1.0 & ford gran torino (sw) & ford \\\\\n",
       "\t12 & 22.0 & 4.0 & 122.0 & 86.0 & 2395.0 & 16.0 & 72.0 & 1.0 & ford pinto (sw) & ford \\\\\n",
       "\t13 & 14.0 & 8.0 & 302.0 & 137.0 & 4042.0 & 14.5 & 73.0 & 1.0 & ford gran torino & ford \\\\\n",
       "\t14 & 13.0 & 8.0 & 351.0 & 158.0 & 4363.0 & 13.0 & 73.0 & 1.0 & ford ltd & ford \\\\\n",
       "\t15 & 18.0 & 6.0 & 250.0 & 88.0 & 3021.0 & 16.5 & 73.0 & 1.0 & ford maverick & ford \\\\\n",
       "\t$\\dots$ & $\\dots$ & $\\dots$ & $\\dots$ & $\\dots$ & $\\dots$ & $\\dots$ & $\\dots$ & $\\dots$ & $\\dots$ & $\\dots$ \\\\\n",
       "\\end{tabular}\n"
      ],
      "text/plain": [
       "\u001b[1m48×10 SubDataFrame\u001b[0m\n",
       "\u001b[1m Row \u001b[0m│\u001b[1m mpg     \u001b[0m\u001b[1m cylinders \u001b[0m\u001b[1m displacement \u001b[0m\u001b[1m horsepower \u001b[0m\u001b[1m weight  \u001b[0m\u001b[1m acceleration \u001b[0m\u001b[1m year    \u001b[0m\u001b[1m origin  \u001b[0m\u001b[1m name                     \u001b[0m\u001b[1m brand  \u001b[0m\n",
       "\u001b[1m     \u001b[0m│\u001b[90m Float64 \u001b[0m\u001b[90m Float64   \u001b[0m\u001b[90m Float64      \u001b[0m\u001b[90m Float64    \u001b[0m\u001b[90m Float64 \u001b[0m\u001b[90m Float64      \u001b[0m\u001b[90m Float64 \u001b[0m\u001b[90m Float64 \u001b[0m\u001b[90m String                   \u001b[0m\u001b[90m String \u001b[0m\n",
       "─────┼─────────────────────────────────────────────────────────────────────────────────────────────────────────────────────────\n",
       "   1 │    17.0        8.0         302.0       140.0   3449.0          10.5     70.0      1.0  ford torino               ford\n",
       "   2 │    15.0        8.0         429.0       198.0   4341.0          10.0     70.0      1.0  ford galaxie 500          ford\n",
       "   3 │    21.0        6.0         200.0        85.0   2587.0          16.0     70.0      1.0  ford maverick             ford\n",
       "  ⋮  │    ⋮         ⋮           ⋮            ⋮          ⋮          ⋮           ⋮        ⋮                ⋮                ⋮\n",
       "  46 │    22.0        6.0         232.0       112.0   2835.0          14.7     82.0      1.0  ford granada l            ford\n",
       "  47 │    27.0        4.0         140.0        86.0   2790.0          15.6     82.0      1.0  ford mustang gl           ford\n",
       "  48 │    28.0        4.0         120.0        79.0   2625.0          18.6     82.0      1.0  ford ranger               ford\n",
       "\u001b[36m                                                                                                                42 rows omitted\u001b[0m"
      ]
     },
     "execution_count": 15,
     "metadata": {},
     "output_type": "execute_result"
    }
   ],
   "source": [
    "gdf[(\"ford\",)]"
   ]
  },
  {
   "cell_type": "markdown",
   "metadata": {},
   "source": [
    "Using the `combine` function we can easily calculate some aggregates by group:"
   ]
  },
  {
   "cell_type": "code",
   "execution_count": 16,
   "metadata": {},
   "outputs": [
    {
     "data": {
      "text/html": [
       "<div class=\"data-frame\"><p>37 rows × 2 columns</p><table class=\"data-frame\"><thead><tr><th></th><th>brand</th><th>mpg_mean</th></tr><tr><th></th><th title=\"String\">String</th><th title=\"Float64\">Float64</th></tr></thead><tbody><tr><th>1</th><td>chevrolet</td><td>20.4721</td></tr><tr><th>2</th><td>buick</td><td>19.1824</td></tr><tr><th>3</th><td>plymouth</td><td>21.7032</td></tr><tr><th>4</th><td>amc</td><td>18.0704</td></tr><tr><th>5</th><td>ford</td><td>19.475</td></tr><tr><th>6</th><td>pontiac</td><td>20.0125</td></tr><tr><th>7</th><td>dodge</td><td>22.0607</td></tr><tr><th>8</th><td>toyota</td><td>28.372</td></tr><tr><th>9</th><td>datsun</td><td>31.113</td></tr><tr><th>10</th><td>volkswagen</td><td>29.1067</td></tr><tr><th>11</th><td>peugeot</td><td>23.6875</td></tr><tr><th>12</th><td>audi</td><td>26.7143</td></tr><tr><th>13</th><td>saab</td><td>23.9</td></tr><tr><th>14</th><td>bmw</td><td>23.75</td></tr><tr><th>15</th><td>chevy</td><td>18.0</td></tr><tr><th>&vellip;</th><td>&vellip;</td><td>&vellip;</td></tr></tbody></table></div>"
      ],
      "text/latex": [
       "\\begin{tabular}{r|cc}\n",
       "\t& brand & mpg\\_mean\\\\\n",
       "\t\\hline\n",
       "\t& String & Float64\\\\\n",
       "\t\\hline\n",
       "\t1 & chevrolet & 20.4721 \\\\\n",
       "\t2 & buick & 19.1824 \\\\\n",
       "\t3 & plymouth & 21.7032 \\\\\n",
       "\t4 & amc & 18.0704 \\\\\n",
       "\t5 & ford & 19.475 \\\\\n",
       "\t6 & pontiac & 20.0125 \\\\\n",
       "\t7 & dodge & 22.0607 \\\\\n",
       "\t8 & toyota & 28.372 \\\\\n",
       "\t9 & datsun & 31.113 \\\\\n",
       "\t10 & volkswagen & 29.1067 \\\\\n",
       "\t11 & peugeot & 23.6875 \\\\\n",
       "\t12 & audi & 26.7143 \\\\\n",
       "\t13 & saab & 23.9 \\\\\n",
       "\t14 & bmw & 23.75 \\\\\n",
       "\t15 & chevy & 18.0 \\\\\n",
       "\t$\\dots$ & $\\dots$ & $\\dots$ \\\\\n",
       "\\end{tabular}\n"
      ],
      "text/plain": [
       "\u001b[1m37×2 DataFrame\u001b[0m\n",
       "\u001b[1m Row \u001b[0m│\u001b[1m brand         \u001b[0m\u001b[1m mpg_mean \u001b[0m\n",
       "\u001b[1m     \u001b[0m│\u001b[90m String        \u001b[0m\u001b[90m Float64  \u001b[0m\n",
       "─────┼─────────────────────────\n",
       "   1 │ chevrolet       20.4721\n",
       "   2 │ buick           19.1824\n",
       "   3 │ plymouth        21.7032\n",
       "  ⋮  │       ⋮           ⋮\n",
       "  35 │ vokswagen       29.8\n",
       "  36 │ triumph         35.0\n",
       "  37 │ nissan          36.0\n",
       "\u001b[36m                31 rows omitted\u001b[0m"
      ]
     },
     "execution_count": 16,
     "metadata": {},
     "output_type": "execute_result"
    }
   ],
   "source": [
    "brand_mpg = combine(gdf, :mpg => mean)"
   ]
  },
  {
   "cell_type": "markdown",
   "metadata": {},
   "source": [
    "The `:mpg => mean` syntax means that we pass a column `:mpg` to be processed by the `mean` function for each group.\n",
    "\n",
    "We could have added a target column name to the generated column in the following way:"
   ]
  },
  {
   "cell_type": "code",
   "execution_count": 17,
   "metadata": {},
   "outputs": [
    {
     "data": {
      "text/html": [
       "<div class=\"data-frame\"><p>37 rows × 2 columns</p><table class=\"data-frame\"><thead><tr><th></th><th>brand</th><th>mean_mpg</th></tr><tr><th></th><th title=\"String\">String</th><th title=\"Float64\">Float64</th></tr></thead><tbody><tr><th>1</th><td>chevrolet</td><td>20.4721</td></tr><tr><th>2</th><td>buick</td><td>19.1824</td></tr><tr><th>3</th><td>plymouth</td><td>21.7032</td></tr><tr><th>4</th><td>amc</td><td>18.0704</td></tr><tr><th>5</th><td>ford</td><td>19.475</td></tr><tr><th>6</th><td>pontiac</td><td>20.0125</td></tr><tr><th>7</th><td>dodge</td><td>22.0607</td></tr><tr><th>8</th><td>toyota</td><td>28.372</td></tr><tr><th>9</th><td>datsun</td><td>31.113</td></tr><tr><th>10</th><td>volkswagen</td><td>29.1067</td></tr><tr><th>11</th><td>peugeot</td><td>23.6875</td></tr><tr><th>12</th><td>audi</td><td>26.7143</td></tr><tr><th>13</th><td>saab</td><td>23.9</td></tr><tr><th>14</th><td>bmw</td><td>23.75</td></tr><tr><th>15</th><td>chevy</td><td>18.0</td></tr><tr><th>&vellip;</th><td>&vellip;</td><td>&vellip;</td></tr></tbody></table></div>"
      ],
      "text/latex": [
       "\\begin{tabular}{r|cc}\n",
       "\t& brand & mean\\_mpg\\\\\n",
       "\t\\hline\n",
       "\t& String & Float64\\\\\n",
       "\t\\hline\n",
       "\t1 & chevrolet & 20.4721 \\\\\n",
       "\t2 & buick & 19.1824 \\\\\n",
       "\t3 & plymouth & 21.7032 \\\\\n",
       "\t4 & amc & 18.0704 \\\\\n",
       "\t5 & ford & 19.475 \\\\\n",
       "\t6 & pontiac & 20.0125 \\\\\n",
       "\t7 & dodge & 22.0607 \\\\\n",
       "\t8 & toyota & 28.372 \\\\\n",
       "\t9 & datsun & 31.113 \\\\\n",
       "\t10 & volkswagen & 29.1067 \\\\\n",
       "\t11 & peugeot & 23.6875 \\\\\n",
       "\t12 & audi & 26.7143 \\\\\n",
       "\t13 & saab & 23.9 \\\\\n",
       "\t14 & bmw & 23.75 \\\\\n",
       "\t15 & chevy & 18.0 \\\\\n",
       "\t$\\dots$ & $\\dots$ & $\\dots$ \\\\\n",
       "\\end{tabular}\n"
      ],
      "text/plain": [
       "\u001b[1m37×2 DataFrame\u001b[0m\n",
       "\u001b[1m Row \u001b[0m│\u001b[1m brand         \u001b[0m\u001b[1m mean_mpg \u001b[0m\n",
       "\u001b[1m     \u001b[0m│\u001b[90m String        \u001b[0m\u001b[90m Float64  \u001b[0m\n",
       "─────┼─────────────────────────\n",
       "   1 │ chevrolet       20.4721\n",
       "   2 │ buick           19.1824\n",
       "   3 │ plymouth        21.7032\n",
       "  ⋮  │       ⋮           ⋮\n",
       "  35 │ vokswagen       29.8\n",
       "  36 │ triumph         35.0\n",
       "  37 │ nissan          36.0\n",
       "\u001b[36m                31 rows omitted\u001b[0m"
      ]
     },
     "execution_count": 17,
     "metadata": {},
     "output_type": "execute_result"
    }
   ],
   "source": [
    "combine(gdf, :mpg => mean => :mean_mpg)"
   ]
  },
  {
   "cell_type": "markdown",
   "metadata": {},
   "source": [
    "Now let us see how one can sort a data frame. In order to see alll rows of a data frame we temporarily change the number of rows printed."
   ]
  },
  {
   "cell_type": "code",
   "execution_count": 18,
   "metadata": {},
   "outputs": [
    {
     "data": {
      "text/plain": [
       "50"
      ]
     },
     "execution_count": 18,
     "metadata": {},
     "output_type": "execute_result"
    }
   ],
   "source": [
    "ENV[\"LINES\"] = 50"
   ]
  },
  {
   "cell_type": "code",
   "execution_count": 19,
   "metadata": {
    "scrolled": true
   },
   "outputs": [
    {
     "data": {
      "text/html": [
       "<div class=\"data-frame\"><p>37 rows × 2 columns</p><table class=\"data-frame\"><thead><tr><th></th><th>brand</th><th>mpg_mean</th></tr><tr><th></th><th title=\"String\">String</th><th title=\"Float64\">Float64</th></tr></thead><tbody><tr><th>1</th><td>vw</td><td>39.0167</td></tr><tr><th>2</th><td>nissan</td><td>36.0</td></tr><tr><th>3</th><td>triumph</td><td>35.0</td></tr><tr><th>4</th><td>honda</td><td>33.7615</td></tr><tr><th>5</th><td>datsun</td><td>31.113</td></tr><tr><th>6</th><td>mazda</td><td>30.86</td></tr><tr><th>7</th><td>subaru</td><td>30.525</td></tr><tr><th>8</th><td>vokswagen</td><td>29.8</td></tr><tr><th>9</th><td>renault</td><td>29.6667</td></tr><tr><th>10</th><td>volkswagen</td><td>29.1067</td></tr><tr><th>11</th><td>fiat</td><td>28.9125</td></tr><tr><th>12</th><td>toyota</td><td>28.372</td></tr><tr><th>13</th><td>audi</td><td>26.7143</td></tr><tr><th>14</th><td>maxda</td><td>26.05</td></tr><tr><th>15</th><td>opel</td><td>25.75</td></tr><tr><th>16</th><td>mercedes</td><td>25.4</td></tr><tr><th>17</th><td>capri</td><td>25.0</td></tr><tr><th>18</th><td>saab</td><td>23.9</td></tr><tr><th>19</th><td>bmw</td><td>23.75</td></tr><tr><th>20</th><td>peugeot</td><td>23.6875</td></tr><tr><th>21</th><td>mercedes-benz</td><td>23.25</td></tr><tr><th>22</th><td>toyouta</td><td>23.0</td></tr><tr><th>23</th><td>dodge</td><td>22.0607</td></tr><tr><th>24</th><td>plymouth</td><td>21.7032</td></tr><tr><th>25</th><td>volvo</td><td>21.1167</td></tr><tr><th>26</th><td>oldsmobile</td><td>21.1</td></tr><tr><th>27</th><td>chevrolet</td><td>20.4721</td></tr><tr><th>28</th><td>pontiac</td><td>20.0125</td></tr><tr><th>29</th><td>cadillac</td><td>19.75</td></tr><tr><th>30</th><td>ford</td><td>19.475</td></tr><tr><th>31</th><td>buick</td><td>19.1824</td></tr><tr><th>32</th><td>mercury</td><td>19.1182</td></tr><tr><th>33</th><td>amc</td><td>18.0704</td></tr><tr><th>34</th><td>chevy</td><td>18.0</td></tr><tr><th>35</th><td>chrysler</td><td>17.2667</td></tr><tr><th>36</th><td>chevroelt</td><td>16.0</td></tr><tr><th>37</th><td>hi</td><td>9.0</td></tr></tbody></table></div>"
      ],
      "text/latex": [
       "\\begin{tabular}{r|cc}\n",
       "\t& brand & mpg\\_mean\\\\\n",
       "\t\\hline\n",
       "\t& String & Float64\\\\\n",
       "\t\\hline\n",
       "\t1 & vw & 39.0167 \\\\\n",
       "\t2 & nissan & 36.0 \\\\\n",
       "\t3 & triumph & 35.0 \\\\\n",
       "\t4 & honda & 33.7615 \\\\\n",
       "\t5 & datsun & 31.113 \\\\\n",
       "\t6 & mazda & 30.86 \\\\\n",
       "\t7 & subaru & 30.525 \\\\\n",
       "\t8 & vokswagen & 29.8 \\\\\n",
       "\t9 & renault & 29.6667 \\\\\n",
       "\t10 & volkswagen & 29.1067 \\\\\n",
       "\t11 & fiat & 28.9125 \\\\\n",
       "\t12 & toyota & 28.372 \\\\\n",
       "\t13 & audi & 26.7143 \\\\\n",
       "\t14 & maxda & 26.05 \\\\\n",
       "\t15 & opel & 25.75 \\\\\n",
       "\t16 & mercedes & 25.4 \\\\\n",
       "\t17 & capri & 25.0 \\\\\n",
       "\t18 & saab & 23.9 \\\\\n",
       "\t19 & bmw & 23.75 \\\\\n",
       "\t20 & peugeot & 23.6875 \\\\\n",
       "\t21 & mercedes-benz & 23.25 \\\\\n",
       "\t22 & toyouta & 23.0 \\\\\n",
       "\t23 & dodge & 22.0607 \\\\\n",
       "\t24 & plymouth & 21.7032 \\\\\n",
       "\t25 & volvo & 21.1167 \\\\\n",
       "\t26 & oldsmobile & 21.1 \\\\\n",
       "\t27 & chevrolet & 20.4721 \\\\\n",
       "\t28 & pontiac & 20.0125 \\\\\n",
       "\t29 & cadillac & 19.75 \\\\\n",
       "\t30 & ford & 19.475 \\\\\n",
       "\t31 & buick & 19.1824 \\\\\n",
       "\t32 & mercury & 19.1182 \\\\\n",
       "\t33 & amc & 18.0704 \\\\\n",
       "\t34 & chevy & 18.0 \\\\\n",
       "\t35 & chrysler & 17.2667 \\\\\n",
       "\t36 & chevroelt & 16.0 \\\\\n",
       "\t37 & hi & 9.0 \\\\\n",
       "\\end{tabular}\n"
      ],
      "text/plain": [
       "\u001b[1m37×2 DataFrame\u001b[0m\n",
       "\u001b[1m Row \u001b[0m│\u001b[1m brand         \u001b[0m\u001b[1m mpg_mean \u001b[0m\n",
       "\u001b[1m     \u001b[0m│\u001b[90m String        \u001b[0m\u001b[90m Float64  \u001b[0m\n",
       "─────┼─────────────────────────\n",
       "   1 │ vw              39.0167\n",
       "   2 │ nissan          36.0\n",
       "   3 │ triumph         35.0\n",
       "   4 │ honda           33.7615\n",
       "   5 │ datsun          31.113\n",
       "   6 │ mazda           30.86\n",
       "   7 │ subaru          30.525\n",
       "   8 │ vokswagen       29.8\n",
       "   9 │ renault         29.6667\n",
       "  10 │ volkswagen      29.1067\n",
       "  11 │ fiat            28.9125\n",
       "  12 │ toyota          28.372\n",
       "  13 │ audi            26.7143\n",
       "  14 │ maxda           26.05\n",
       "  15 │ opel            25.75\n",
       "  16 │ mercedes        25.4\n",
       "  17 │ capri           25.0\n",
       "  18 │ saab            23.9\n",
       "  19 │ bmw             23.75\n",
       "  20 │ peugeot         23.6875\n",
       "  21 │ mercedes-benz   23.25\n",
       "  22 │ toyouta         23.0\n",
       "  23 │ dodge           22.0607\n",
       "  24 │ plymouth        21.7032\n",
       "  25 │ volvo           21.1167\n",
       "  26 │ oldsmobile      21.1\n",
       "  27 │ chevrolet       20.4721\n",
       "  28 │ pontiac         20.0125\n",
       "  29 │ cadillac        19.75\n",
       "  30 │ ford            19.475\n",
       "  31 │ buick           19.1824\n",
       "  32 │ mercury         19.1182\n",
       "  33 │ amc             18.0704\n",
       "  34 │ chevy           18.0\n",
       "  35 │ chrysler        17.2667\n",
       "  36 │ chevroelt       16.0\n",
       "  37 │ hi               9.0"
      ]
     },
     "execution_count": 19,
     "metadata": {},
     "output_type": "execute_result"
    }
   ],
   "source": [
    "sort!(brand_mpg, :mpg_mean, rev=true) # sort! performs an in-place operation"
   ]
  },
  {
   "cell_type": "markdown",
   "metadata": {},
   "source": [
    "A typical data cleaning task is to check its consistency. In this case it would be making sure that each brand has a unique origin. We will do it in several ways."
   ]
  },
  {
   "cell_type": "markdown",
   "metadata": {},
   "source": [
    "First we use FreqTables.jl:"
   ]
  },
  {
   "cell_type": "code",
   "execution_count": 20,
   "metadata": {},
   "outputs": [
    {
     "data": {
      "text/plain": [
       "37×3 Named Matrix{Int64}\n",
       "brand ╲ origin │ 1.0  2.0  3.0\n",
       "───────────────┼──────────────\n",
       "amc            │  27    0    0\n",
       "audi           │   0    7    0\n",
       "bmw            │   0    2    0\n",
       "buick          │  17    0    0\n",
       "cadillac       │   2    0    0\n",
       "capri          │   1    0    0\n",
       "chevroelt      │   1    0    0\n",
       "chevrolet      │  43    0    0\n",
       "chevy          │   3    0    0\n",
       "chrysler       │   6    0    0\n",
       "datsun         │   0    0   23\n",
       "dodge          │  28    0    0\n",
       "fiat           │   0    8    0\n",
       "ford           │  48    0    0\n",
       "hi             │   1    0    0\n",
       "honda          │   0    0   13\n",
       "maxda          │   0    0    2\n",
       "mazda          │   0    0   10\n",
       "mercedes       │   0    1    0\n",
       "mercedes-benz  │   0    2    0\n",
       "mercury        │  11    0    0\n",
       "nissan         │   0    0    1\n",
       "oldsmobile     │  10    0    0\n",
       "opel           │   0    4    0\n",
       "peugeot        │   0    8    0\n",
       "plymouth       │  31    0    0\n",
       "pontiac        │  16    0    0\n",
       "renault        │   0    3    0\n",
       "saab           │   0    4    0\n",
       "subaru         │   0    0    4\n",
       "toyota         │   0    0   25\n",
       "toyouta        │   0    0    1\n",
       "triumph        │   0    1    0\n",
       "vokswagen      │   0    1    0\n",
       "volkswagen     │   0   15    0\n",
       "volvo          │   0    6    0\n",
       "vw             │   0    6    0"
      ]
     },
     "execution_count": 20,
     "metadata": {},
     "output_type": "execute_result"
    }
   ],
   "source": [
    "freqtable(df, :brand, :origin)"
   ]
  },
  {
   "cell_type": "markdown",
   "metadata": {},
   "source": [
    "Now let us create a chain of operations using Pipe.jl. Here `_` denotes the position of the argument passed from the previous step in the chain."
   ]
  },
  {
   "cell_type": "code",
   "execution_count": 21,
   "metadata": {},
   "outputs": [
    {
     "data": {
      "text/html": [
       "<div class=\"data-frame\"><p>37 rows × 2 columns</p><table class=\"data-frame\"><thead><tr><th></th><th>brand</th><th>origin_function</th></tr><tr><th></th><th title=\"String\">String</th><th title=\"Int64\">Int64</th></tr></thead><tbody><tr><th>1</th><td>chevrolet</td><td>1</td></tr><tr><th>2</th><td>buick</td><td>1</td></tr><tr><th>3</th><td>plymouth</td><td>1</td></tr><tr><th>4</th><td>amc</td><td>1</td></tr><tr><th>5</th><td>ford</td><td>1</td></tr><tr><th>6</th><td>pontiac</td><td>1</td></tr><tr><th>7</th><td>dodge</td><td>1</td></tr><tr><th>8</th><td>toyota</td><td>1</td></tr><tr><th>9</th><td>datsun</td><td>1</td></tr><tr><th>10</th><td>volkswagen</td><td>1</td></tr><tr><th>11</th><td>peugeot</td><td>1</td></tr><tr><th>12</th><td>audi</td><td>1</td></tr><tr><th>13</th><td>saab</td><td>1</td></tr><tr><th>14</th><td>bmw</td><td>1</td></tr><tr><th>15</th><td>chevy</td><td>1</td></tr><tr><th>16</th><td>hi</td><td>1</td></tr><tr><th>17</th><td>mercury</td><td>1</td></tr><tr><th>18</th><td>opel</td><td>1</td></tr><tr><th>19</th><td>fiat</td><td>1</td></tr><tr><th>20</th><td>oldsmobile</td><td>1</td></tr><tr><th>21</th><td>chrysler</td><td>1</td></tr><tr><th>22</th><td>mazda</td><td>1</td></tr><tr><th>23</th><td>volvo</td><td>1</td></tr><tr><th>24</th><td>renault</td><td>1</td></tr><tr><th>25</th><td>toyouta</td><td>1</td></tr><tr><th>26</th><td>maxda</td><td>1</td></tr><tr><th>27</th><td>honda</td><td>1</td></tr><tr><th>28</th><td>subaru</td><td>1</td></tr><tr><th>29</th><td>chevroelt</td><td>1</td></tr><tr><th>30</th><td>capri</td><td>1</td></tr><tr><th>31</th><td>vw</td><td>1</td></tr><tr><th>32</th><td>mercedes-benz</td><td>1</td></tr><tr><th>33</th><td>cadillac</td><td>1</td></tr><tr><th>34</th><td>mercedes</td><td>1</td></tr><tr><th>35</th><td>vokswagen</td><td>1</td></tr><tr><th>36</th><td>triumph</td><td>1</td></tr><tr><th>37</th><td>nissan</td><td>1</td></tr></tbody></table></div>"
      ],
      "text/latex": [
       "\\begin{tabular}{r|cc}\n",
       "\t& brand & origin\\_function\\\\\n",
       "\t\\hline\n",
       "\t& String & Int64\\\\\n",
       "\t\\hline\n",
       "\t1 & chevrolet & 1 \\\\\n",
       "\t2 & buick & 1 \\\\\n",
       "\t3 & plymouth & 1 \\\\\n",
       "\t4 & amc & 1 \\\\\n",
       "\t5 & ford & 1 \\\\\n",
       "\t6 & pontiac & 1 \\\\\n",
       "\t7 & dodge & 1 \\\\\n",
       "\t8 & toyota & 1 \\\\\n",
       "\t9 & datsun & 1 \\\\\n",
       "\t10 & volkswagen & 1 \\\\\n",
       "\t11 & peugeot & 1 \\\\\n",
       "\t12 & audi & 1 \\\\\n",
       "\t13 & saab & 1 \\\\\n",
       "\t14 & bmw & 1 \\\\\n",
       "\t15 & chevy & 1 \\\\\n",
       "\t16 & hi & 1 \\\\\n",
       "\t17 & mercury & 1 \\\\\n",
       "\t18 & opel & 1 \\\\\n",
       "\t19 & fiat & 1 \\\\\n",
       "\t20 & oldsmobile & 1 \\\\\n",
       "\t21 & chrysler & 1 \\\\\n",
       "\t22 & mazda & 1 \\\\\n",
       "\t23 & volvo & 1 \\\\\n",
       "\t24 & renault & 1 \\\\\n",
       "\t25 & toyouta & 1 \\\\\n",
       "\t26 & maxda & 1 \\\\\n",
       "\t27 & honda & 1 \\\\\n",
       "\t28 & subaru & 1 \\\\\n",
       "\t29 & chevroelt & 1 \\\\\n",
       "\t30 & capri & 1 \\\\\n",
       "\t31 & vw & 1 \\\\\n",
       "\t32 & mercedes-benz & 1 \\\\\n",
       "\t33 & cadillac & 1 \\\\\n",
       "\t34 & mercedes & 1 \\\\\n",
       "\t35 & vokswagen & 1 \\\\\n",
       "\t36 & triumph & 1 \\\\\n",
       "\t37 & nissan & 1 \\\\\n",
       "\\end{tabular}\n"
      ],
      "text/plain": [
       "\u001b[1m37×2 DataFrame\u001b[0m\n",
       "\u001b[1m Row \u001b[0m│\u001b[1m brand         \u001b[0m\u001b[1m origin_function \u001b[0m\n",
       "\u001b[1m     \u001b[0m│\u001b[90m String        \u001b[0m\u001b[90m Int64           \u001b[0m\n",
       "─────┼────────────────────────────────\n",
       "   1 │ chevrolet                    1\n",
       "   2 │ buick                        1\n",
       "   3 │ plymouth                     1\n",
       "   4 │ amc                          1\n",
       "   5 │ ford                         1\n",
       "   6 │ pontiac                      1\n",
       "   7 │ dodge                        1\n",
       "   8 │ toyota                       1\n",
       "   9 │ datsun                       1\n",
       "  10 │ volkswagen                   1\n",
       "  11 │ peugeot                      1\n",
       "  12 │ audi                         1\n",
       "  13 │ saab                         1\n",
       "  14 │ bmw                          1\n",
       "  15 │ chevy                        1\n",
       "  16 │ hi                           1\n",
       "  17 │ mercury                      1\n",
       "  18 │ opel                         1\n",
       "  19 │ fiat                         1\n",
       "  20 │ oldsmobile                   1\n",
       "  21 │ chrysler                     1\n",
       "  22 │ mazda                        1\n",
       "  23 │ volvo                        1\n",
       "  24 │ renault                      1\n",
       "  25 │ toyouta                      1\n",
       "  26 │ maxda                        1\n",
       "  27 │ honda                        1\n",
       "  28 │ subaru                       1\n",
       "  29 │ chevroelt                    1\n",
       "  30 │ capri                        1\n",
       "  31 │ vw                           1\n",
       "  32 │ mercedes-benz                1\n",
       "  33 │ cadillac                     1\n",
       "  34 │ mercedes                     1\n",
       "  35 │ vokswagen                    1\n",
       "  36 │ triumph                      1\n",
       "  37 │ nissan                       1"
      ]
     },
     "execution_count": 21,
     "metadata": {},
     "output_type": "execute_result"
    }
   ],
   "source": [
    "orig_brand = @pipe df |>\n",
    "                   groupby(_, :brand) |>\n",
    "                   combine(_, :origin => x -> length(unique(x)))"
   ]
  },
  {
   "cell_type": "markdown",
   "metadata": {},
   "source": [
    "Let us make sure that we always get exactly one origin:"
   ]
  },
  {
   "cell_type": "code",
   "execution_count": 22,
   "metadata": {},
   "outputs": [
    {
     "data": {
      "text/plain": [
       "(1, 1)"
      ]
     },
     "execution_count": 22,
     "metadata": {},
     "output_type": "execute_result"
    }
   ],
   "source": [
    "extrema(orig_brand.origin_function)"
   ]
  },
  {
   "cell_type": "markdown",
   "metadata": {},
   "source": [
    "We also could have grouped our data frame by two columns:"
   ]
  },
  {
   "cell_type": "code",
   "execution_count": 23,
   "metadata": {},
   "outputs": [
    {
     "data": {
      "text/html": [
       "<div class=\"data-frame\"><p>37 rows × 3 columns</p><table class=\"data-frame\"><thead><tr><th></th><th>origin</th><th>brand</th><th>nrow</th></tr><tr><th></th><th title=\"Float64\">Float64</th><th title=\"String\">String</th><th title=\"Int64\">Int64</th></tr></thead><tbody><tr><th>1</th><td>1.0</td><td>chevrolet</td><td>43</td></tr><tr><th>2</th><td>1.0</td><td>buick</td><td>17</td></tr><tr><th>3</th><td>1.0</td><td>plymouth</td><td>31</td></tr><tr><th>4</th><td>1.0</td><td>amc</td><td>27</td></tr><tr><th>5</th><td>1.0</td><td>ford</td><td>48</td></tr><tr><th>6</th><td>1.0</td><td>pontiac</td><td>16</td></tr><tr><th>7</th><td>1.0</td><td>dodge</td><td>28</td></tr><tr><th>8</th><td>3.0</td><td>toyota</td><td>25</td></tr><tr><th>9</th><td>3.0</td><td>datsun</td><td>23</td></tr><tr><th>10</th><td>2.0</td><td>volkswagen</td><td>15</td></tr><tr><th>11</th><td>2.0</td><td>peugeot</td><td>8</td></tr><tr><th>12</th><td>2.0</td><td>audi</td><td>7</td></tr><tr><th>13</th><td>2.0</td><td>saab</td><td>4</td></tr><tr><th>14</th><td>2.0</td><td>bmw</td><td>2</td></tr><tr><th>15</th><td>1.0</td><td>chevy</td><td>3</td></tr><tr><th>16</th><td>1.0</td><td>hi</td><td>1</td></tr><tr><th>17</th><td>1.0</td><td>mercury</td><td>11</td></tr><tr><th>18</th><td>2.0</td><td>opel</td><td>4</td></tr><tr><th>19</th><td>2.0</td><td>fiat</td><td>8</td></tr><tr><th>20</th><td>1.0</td><td>oldsmobile</td><td>10</td></tr><tr><th>21</th><td>1.0</td><td>chrysler</td><td>6</td></tr><tr><th>22</th><td>3.0</td><td>mazda</td><td>10</td></tr><tr><th>23</th><td>2.0</td><td>volvo</td><td>6</td></tr><tr><th>24</th><td>2.0</td><td>renault</td><td>3</td></tr><tr><th>25</th><td>3.0</td><td>toyouta</td><td>1</td></tr><tr><th>26</th><td>3.0</td><td>maxda</td><td>2</td></tr><tr><th>27</th><td>3.0</td><td>honda</td><td>13</td></tr><tr><th>28</th><td>3.0</td><td>subaru</td><td>4</td></tr><tr><th>29</th><td>1.0</td><td>chevroelt</td><td>1</td></tr><tr><th>30</th><td>1.0</td><td>capri</td><td>1</td></tr><tr><th>31</th><td>2.0</td><td>vw</td><td>6</td></tr><tr><th>32</th><td>2.0</td><td>mercedes-benz</td><td>2</td></tr><tr><th>33</th><td>1.0</td><td>cadillac</td><td>2</td></tr><tr><th>34</th><td>2.0</td><td>mercedes</td><td>1</td></tr><tr><th>35</th><td>2.0</td><td>vokswagen</td><td>1</td></tr><tr><th>36</th><td>2.0</td><td>triumph</td><td>1</td></tr><tr><th>37</th><td>3.0</td><td>nissan</td><td>1</td></tr></tbody></table></div>"
      ],
      "text/latex": [
       "\\begin{tabular}{r|ccc}\n",
       "\t& origin & brand & nrow\\\\\n",
       "\t\\hline\n",
       "\t& Float64 & String & Int64\\\\\n",
       "\t\\hline\n",
       "\t1 & 1.0 & chevrolet & 43 \\\\\n",
       "\t2 & 1.0 & buick & 17 \\\\\n",
       "\t3 & 1.0 & plymouth & 31 \\\\\n",
       "\t4 & 1.0 & amc & 27 \\\\\n",
       "\t5 & 1.0 & ford & 48 \\\\\n",
       "\t6 & 1.0 & pontiac & 16 \\\\\n",
       "\t7 & 1.0 & dodge & 28 \\\\\n",
       "\t8 & 3.0 & toyota & 25 \\\\\n",
       "\t9 & 3.0 & datsun & 23 \\\\\n",
       "\t10 & 2.0 & volkswagen & 15 \\\\\n",
       "\t11 & 2.0 & peugeot & 8 \\\\\n",
       "\t12 & 2.0 & audi & 7 \\\\\n",
       "\t13 & 2.0 & saab & 4 \\\\\n",
       "\t14 & 2.0 & bmw & 2 \\\\\n",
       "\t15 & 1.0 & chevy & 3 \\\\\n",
       "\t16 & 1.0 & hi & 1 \\\\\n",
       "\t17 & 1.0 & mercury & 11 \\\\\n",
       "\t18 & 2.0 & opel & 4 \\\\\n",
       "\t19 & 2.0 & fiat & 8 \\\\\n",
       "\t20 & 1.0 & oldsmobile & 10 \\\\\n",
       "\t21 & 1.0 & chrysler & 6 \\\\\n",
       "\t22 & 3.0 & mazda & 10 \\\\\n",
       "\t23 & 2.0 & volvo & 6 \\\\\n",
       "\t24 & 2.0 & renault & 3 \\\\\n",
       "\t25 & 3.0 & toyouta & 1 \\\\\n",
       "\t26 & 3.0 & maxda & 2 \\\\\n",
       "\t27 & 3.0 & honda & 13 \\\\\n",
       "\t28 & 3.0 & subaru & 4 \\\\\n",
       "\t29 & 1.0 & chevroelt & 1 \\\\\n",
       "\t30 & 1.0 & capri & 1 \\\\\n",
       "\t31 & 2.0 & vw & 6 \\\\\n",
       "\t32 & 2.0 & mercedes-benz & 2 \\\\\n",
       "\t33 & 1.0 & cadillac & 2 \\\\\n",
       "\t34 & 2.0 & mercedes & 1 \\\\\n",
       "\t35 & 2.0 & vokswagen & 1 \\\\\n",
       "\t36 & 2.0 & triumph & 1 \\\\\n",
       "\t37 & 3.0 & nissan & 1 \\\\\n",
       "\\end{tabular}\n"
      ],
      "text/plain": [
       "\u001b[1m37×3 DataFrame\u001b[0m\n",
       "\u001b[1m Row \u001b[0m│\u001b[1m origin  \u001b[0m\u001b[1m brand         \u001b[0m\u001b[1m nrow  \u001b[0m\n",
       "\u001b[1m     \u001b[0m│\u001b[90m Float64 \u001b[0m\u001b[90m String        \u001b[0m\u001b[90m Int64 \u001b[0m\n",
       "─────┼───────────────────────────────\n",
       "   1 │     1.0  chevrolet         43\n",
       "   2 │     1.0  buick             17\n",
       "   3 │     1.0  plymouth          31\n",
       "   4 │     1.0  amc               27\n",
       "   5 │     1.0  ford              48\n",
       "   6 │     1.0  pontiac           16\n",
       "   7 │     1.0  dodge             28\n",
       "   8 │     3.0  toyota            25\n",
       "   9 │     3.0  datsun            23\n",
       "  10 │     2.0  volkswagen        15\n",
       "  11 │     2.0  peugeot            8\n",
       "  12 │     2.0  audi               7\n",
       "  13 │     2.0  saab               4\n",
       "  14 │     2.0  bmw                2\n",
       "  15 │     1.0  chevy              3\n",
       "  16 │     1.0  hi                 1\n",
       "  17 │     1.0  mercury           11\n",
       "  18 │     2.0  opel               4\n",
       "  19 │     2.0  fiat               8\n",
       "  20 │     1.0  oldsmobile        10\n",
       "  21 │     1.0  chrysler           6\n",
       "  22 │     3.0  mazda             10\n",
       "  23 │     2.0  volvo              6\n",
       "  24 │     2.0  renault            3\n",
       "  25 │     3.0  toyouta            1\n",
       "  26 │     3.0  maxda              2\n",
       "  27 │     3.0  honda             13\n",
       "  28 │     3.0  subaru             4\n",
       "  29 │     1.0  chevroelt          1\n",
       "  30 │     1.0  capri              1\n",
       "  31 │     2.0  vw                 6\n",
       "  32 │     2.0  mercedes-benz      2\n",
       "  33 │     1.0  cadillac           2\n",
       "  34 │     2.0  mercedes           1\n",
       "  35 │     2.0  vokswagen          1\n",
       "  36 │     2.0  triumph            1\n",
       "  37 │     3.0  nissan             1"
      ]
     },
     "execution_count": 23,
     "metadata": {},
     "output_type": "execute_result"
    }
   ],
   "source": [
    "origin_brand2 = @pipe df |>\n",
    "                      groupby(_, [:origin, :brand]) |>\n",
    "                      combine(_, nrow)"
   ]
  },
  {
   "cell_type": "markdown",
   "metadata": {},
   "source": [
    "Note that passing `nrow` as a combining operation gives us the number of rows per group."
   ]
  },
  {
   "cell_type": "markdown",
   "metadata": {},
   "source": [
    "Now we can do the `unstack` operation on the result to get a similar table that we got with `freqtable`:"
   ]
  },
  {
   "cell_type": "code",
   "execution_count": 24,
   "metadata": {},
   "outputs": [
    {
     "data": {
      "text/html": [
       "<div class=\"data-frame\"><p>37 rows × 4 columns</p><table class=\"data-frame\"><thead><tr><th></th><th>brand</th><th>1.0</th><th>3.0</th><th>2.0</th></tr><tr><th></th><th title=\"String\">String</th><th title=\"Union{Missing, Int64}\">Int64?</th><th title=\"Union{Missing, Int64}\">Int64?</th><th title=\"Union{Missing, Int64}\">Int64?</th></tr></thead><tbody><tr><th>1</th><td>chevrolet</td><td>43</td><td><em>missing</em></td><td><em>missing</em></td></tr><tr><th>2</th><td>buick</td><td>17</td><td><em>missing</em></td><td><em>missing</em></td></tr><tr><th>3</th><td>plymouth</td><td>31</td><td><em>missing</em></td><td><em>missing</em></td></tr><tr><th>4</th><td>amc</td><td>27</td><td><em>missing</em></td><td><em>missing</em></td></tr><tr><th>5</th><td>ford</td><td>48</td><td><em>missing</em></td><td><em>missing</em></td></tr><tr><th>6</th><td>pontiac</td><td>16</td><td><em>missing</em></td><td><em>missing</em></td></tr><tr><th>7</th><td>dodge</td><td>28</td><td><em>missing</em></td><td><em>missing</em></td></tr><tr><th>8</th><td>toyota</td><td><em>missing</em></td><td>25</td><td><em>missing</em></td></tr><tr><th>9</th><td>datsun</td><td><em>missing</em></td><td>23</td><td><em>missing</em></td></tr><tr><th>10</th><td>volkswagen</td><td><em>missing</em></td><td><em>missing</em></td><td>15</td></tr><tr><th>11</th><td>peugeot</td><td><em>missing</em></td><td><em>missing</em></td><td>8</td></tr><tr><th>12</th><td>audi</td><td><em>missing</em></td><td><em>missing</em></td><td>7</td></tr><tr><th>13</th><td>saab</td><td><em>missing</em></td><td><em>missing</em></td><td>4</td></tr><tr><th>14</th><td>bmw</td><td><em>missing</em></td><td><em>missing</em></td><td>2</td></tr><tr><th>15</th><td>chevy</td><td>3</td><td><em>missing</em></td><td><em>missing</em></td></tr><tr><th>16</th><td>hi</td><td>1</td><td><em>missing</em></td><td><em>missing</em></td></tr><tr><th>17</th><td>mercury</td><td>11</td><td><em>missing</em></td><td><em>missing</em></td></tr><tr><th>18</th><td>opel</td><td><em>missing</em></td><td><em>missing</em></td><td>4</td></tr><tr><th>19</th><td>fiat</td><td><em>missing</em></td><td><em>missing</em></td><td>8</td></tr><tr><th>20</th><td>oldsmobile</td><td>10</td><td><em>missing</em></td><td><em>missing</em></td></tr><tr><th>21</th><td>chrysler</td><td>6</td><td><em>missing</em></td><td><em>missing</em></td></tr><tr><th>22</th><td>mazda</td><td><em>missing</em></td><td>10</td><td><em>missing</em></td></tr><tr><th>23</th><td>volvo</td><td><em>missing</em></td><td><em>missing</em></td><td>6</td></tr><tr><th>24</th><td>renault</td><td><em>missing</em></td><td><em>missing</em></td><td>3</td></tr><tr><th>25</th><td>toyouta</td><td><em>missing</em></td><td>1</td><td><em>missing</em></td></tr><tr><th>26</th><td>maxda</td><td><em>missing</em></td><td>2</td><td><em>missing</em></td></tr><tr><th>27</th><td>honda</td><td><em>missing</em></td><td>13</td><td><em>missing</em></td></tr><tr><th>28</th><td>subaru</td><td><em>missing</em></td><td>4</td><td><em>missing</em></td></tr><tr><th>29</th><td>chevroelt</td><td>1</td><td><em>missing</em></td><td><em>missing</em></td></tr><tr><th>30</th><td>capri</td><td>1</td><td><em>missing</em></td><td><em>missing</em></td></tr><tr><th>31</th><td>vw</td><td><em>missing</em></td><td><em>missing</em></td><td>6</td></tr><tr><th>32</th><td>mercedes-benz</td><td><em>missing</em></td><td><em>missing</em></td><td>2</td></tr><tr><th>33</th><td>cadillac</td><td>2</td><td><em>missing</em></td><td><em>missing</em></td></tr><tr><th>34</th><td>mercedes</td><td><em>missing</em></td><td><em>missing</em></td><td>1</td></tr><tr><th>35</th><td>vokswagen</td><td><em>missing</em></td><td><em>missing</em></td><td>1</td></tr><tr><th>36</th><td>triumph</td><td><em>missing</em></td><td><em>missing</em></td><td>1</td></tr><tr><th>37</th><td>nissan</td><td><em>missing</em></td><td>1</td><td><em>missing</em></td></tr></tbody></table></div>"
      ],
      "text/latex": [
       "\\begin{tabular}{r|cccc}\n",
       "\t& brand & 1.0 & 3.0 & 2.0\\\\\n",
       "\t\\hline\n",
       "\t& String & Int64? & Int64? & Int64?\\\\\n",
       "\t\\hline\n",
       "\t1 & chevrolet & 43 & \\emph{missing} & \\emph{missing} \\\\\n",
       "\t2 & buick & 17 & \\emph{missing} & \\emph{missing} \\\\\n",
       "\t3 & plymouth & 31 & \\emph{missing} & \\emph{missing} \\\\\n",
       "\t4 & amc & 27 & \\emph{missing} & \\emph{missing} \\\\\n",
       "\t5 & ford & 48 & \\emph{missing} & \\emph{missing} \\\\\n",
       "\t6 & pontiac & 16 & \\emph{missing} & \\emph{missing} \\\\\n",
       "\t7 & dodge & 28 & \\emph{missing} & \\emph{missing} \\\\\n",
       "\t8 & toyota & \\emph{missing} & 25 & \\emph{missing} \\\\\n",
       "\t9 & datsun & \\emph{missing} & 23 & \\emph{missing} \\\\\n",
       "\t10 & volkswagen & \\emph{missing} & \\emph{missing} & 15 \\\\\n",
       "\t11 & peugeot & \\emph{missing} & \\emph{missing} & 8 \\\\\n",
       "\t12 & audi & \\emph{missing} & \\emph{missing} & 7 \\\\\n",
       "\t13 & saab & \\emph{missing} & \\emph{missing} & 4 \\\\\n",
       "\t14 & bmw & \\emph{missing} & \\emph{missing} & 2 \\\\\n",
       "\t15 & chevy & 3 & \\emph{missing} & \\emph{missing} \\\\\n",
       "\t16 & hi & 1 & \\emph{missing} & \\emph{missing} \\\\\n",
       "\t17 & mercury & 11 & \\emph{missing} & \\emph{missing} \\\\\n",
       "\t18 & opel & \\emph{missing} & \\emph{missing} & 4 \\\\\n",
       "\t19 & fiat & \\emph{missing} & \\emph{missing} & 8 \\\\\n",
       "\t20 & oldsmobile & 10 & \\emph{missing} & \\emph{missing} \\\\\n",
       "\t21 & chrysler & 6 & \\emph{missing} & \\emph{missing} \\\\\n",
       "\t22 & mazda & \\emph{missing} & 10 & \\emph{missing} \\\\\n",
       "\t23 & volvo & \\emph{missing} & \\emph{missing} & 6 \\\\\n",
       "\t24 & renault & \\emph{missing} & \\emph{missing} & 3 \\\\\n",
       "\t25 & toyouta & \\emph{missing} & 1 & \\emph{missing} \\\\\n",
       "\t26 & maxda & \\emph{missing} & 2 & \\emph{missing} \\\\\n",
       "\t27 & honda & \\emph{missing} & 13 & \\emph{missing} \\\\\n",
       "\t28 & subaru & \\emph{missing} & 4 & \\emph{missing} \\\\\n",
       "\t29 & chevroelt & 1 & \\emph{missing} & \\emph{missing} \\\\\n",
       "\t30 & capri & 1 & \\emph{missing} & \\emph{missing} \\\\\n",
       "\t31 & vw & \\emph{missing} & \\emph{missing} & 6 \\\\\n",
       "\t32 & mercedes-benz & \\emph{missing} & \\emph{missing} & 2 \\\\\n",
       "\t33 & cadillac & 2 & \\emph{missing} & \\emph{missing} \\\\\n",
       "\t34 & mercedes & \\emph{missing} & \\emph{missing} & 1 \\\\\n",
       "\t35 & vokswagen & \\emph{missing} & \\emph{missing} & 1 \\\\\n",
       "\t36 & triumph & \\emph{missing} & \\emph{missing} & 1 \\\\\n",
       "\t37 & nissan & \\emph{missing} & 1 & \\emph{missing} \\\\\n",
       "\\end{tabular}\n"
      ],
      "text/plain": [
       "\u001b[1m37×4 DataFrame\u001b[0m\n",
       "\u001b[1m Row \u001b[0m│\u001b[1m brand         \u001b[0m\u001b[1m 1.0     \u001b[0m\u001b[1m 3.0     \u001b[0m\u001b[1m 2.0     \u001b[0m\n",
       "\u001b[1m     \u001b[0m│\u001b[90m String        \u001b[0m\u001b[90m Int64?  \u001b[0m\u001b[90m Int64?  \u001b[0m\u001b[90m Int64?  \u001b[0m\n",
       "─────┼──────────────────────────────────────────\n",
       "   1 │ chevrolet           43 \u001b[90m missing \u001b[0m\u001b[90m missing \u001b[0m\n",
       "   2 │ buick               17 \u001b[90m missing \u001b[0m\u001b[90m missing \u001b[0m\n",
       "   3 │ plymouth            31 \u001b[90m missing \u001b[0m\u001b[90m missing \u001b[0m\n",
       "   4 │ amc                 27 \u001b[90m missing \u001b[0m\u001b[90m missing \u001b[0m\n",
       "   5 │ ford                48 \u001b[90m missing \u001b[0m\u001b[90m missing \u001b[0m\n",
       "   6 │ pontiac             16 \u001b[90m missing \u001b[0m\u001b[90m missing \u001b[0m\n",
       "   7 │ dodge               28 \u001b[90m missing \u001b[0m\u001b[90m missing \u001b[0m\n",
       "   8 │ toyota        \u001b[90m missing \u001b[0m      25 \u001b[90m missing \u001b[0m\n",
       "   9 │ datsun        \u001b[90m missing \u001b[0m      23 \u001b[90m missing \u001b[0m\n",
       "  10 │ volkswagen    \u001b[90m missing \u001b[0m\u001b[90m missing \u001b[0m      15\n",
       "  11 │ peugeot       \u001b[90m missing \u001b[0m\u001b[90m missing \u001b[0m       8\n",
       "  12 │ audi          \u001b[90m missing \u001b[0m\u001b[90m missing \u001b[0m       7\n",
       "  13 │ saab          \u001b[90m missing \u001b[0m\u001b[90m missing \u001b[0m       4\n",
       "  14 │ bmw           \u001b[90m missing \u001b[0m\u001b[90m missing \u001b[0m       2\n",
       "  15 │ chevy                3 \u001b[90m missing \u001b[0m\u001b[90m missing \u001b[0m\n",
       "  16 │ hi                   1 \u001b[90m missing \u001b[0m\u001b[90m missing \u001b[0m\n",
       "  17 │ mercury             11 \u001b[90m missing \u001b[0m\u001b[90m missing \u001b[0m\n",
       "  18 │ opel          \u001b[90m missing \u001b[0m\u001b[90m missing \u001b[0m       4\n",
       "  19 │ fiat          \u001b[90m missing \u001b[0m\u001b[90m missing \u001b[0m       8\n",
       "  20 │ oldsmobile          10 \u001b[90m missing \u001b[0m\u001b[90m missing \u001b[0m\n",
       "  21 │ chrysler             6 \u001b[90m missing \u001b[0m\u001b[90m missing \u001b[0m\n",
       "  22 │ mazda         \u001b[90m missing \u001b[0m      10 \u001b[90m missing \u001b[0m\n",
       "  23 │ volvo         \u001b[90m missing \u001b[0m\u001b[90m missing \u001b[0m       6\n",
       "  24 │ renault       \u001b[90m missing \u001b[0m\u001b[90m missing \u001b[0m       3\n",
       "  25 │ toyouta       \u001b[90m missing \u001b[0m       1 \u001b[90m missing \u001b[0m\n",
       "  26 │ maxda         \u001b[90m missing \u001b[0m       2 \u001b[90m missing \u001b[0m\n",
       "  27 │ honda         \u001b[90m missing \u001b[0m      13 \u001b[90m missing \u001b[0m\n",
       "  28 │ subaru        \u001b[90m missing \u001b[0m       4 \u001b[90m missing \u001b[0m\n",
       "  29 │ chevroelt            1 \u001b[90m missing \u001b[0m\u001b[90m missing \u001b[0m\n",
       "  30 │ capri                1 \u001b[90m missing \u001b[0m\u001b[90m missing \u001b[0m\n",
       "  31 │ vw            \u001b[90m missing \u001b[0m\u001b[90m missing \u001b[0m       6\n",
       "  32 │ mercedes-benz \u001b[90m missing \u001b[0m\u001b[90m missing \u001b[0m       2\n",
       "  33 │ cadillac             2 \u001b[90m missing \u001b[0m\u001b[90m missing \u001b[0m\n",
       "  34 │ mercedes      \u001b[90m missing \u001b[0m\u001b[90m missing \u001b[0m       1\n",
       "  35 │ vokswagen     \u001b[90m missing \u001b[0m\u001b[90m missing \u001b[0m       1\n",
       "  36 │ triumph       \u001b[90m missing \u001b[0m\u001b[90m missing \u001b[0m       1\n",
       "  37 │ nissan        \u001b[90m missing \u001b[0m       1 \u001b[90m missing \u001b[0m"
      ]
     },
     "execution_count": 24,
     "metadata": {},
     "output_type": "execute_result"
    }
   ],
   "source": [
    "origin_vs_brand = unstack(origin_brand2, :brand, :origin, :nrow)"
   ]
  },
  {
   "cell_type": "markdown",
   "metadata": {},
   "source": [
    "The only difference is that missing combinations are given as `missing` and `freqtable` produced `0` there. It is easy to fix using broadcasting:"
   ]
  },
  {
   "cell_type": "code",
   "execution_count": 25,
   "metadata": {},
   "outputs": [
    {
     "data": {
      "text/html": [
       "<div class=\"data-frame\"><p>37 rows × 4 columns</p><table class=\"data-frame\"><thead><tr><th></th><th>brand</th><th>1.0</th><th>3.0</th><th>2.0</th></tr><tr><th></th><th title=\"String\">String</th><th title=\"Int64\">Int64</th><th title=\"Int64\">Int64</th><th title=\"Int64\">Int64</th></tr></thead><tbody><tr><th>1</th><td>chevrolet</td><td>43</td><td>0</td><td>0</td></tr><tr><th>2</th><td>buick</td><td>17</td><td>0</td><td>0</td></tr><tr><th>3</th><td>plymouth</td><td>31</td><td>0</td><td>0</td></tr><tr><th>4</th><td>amc</td><td>27</td><td>0</td><td>0</td></tr><tr><th>5</th><td>ford</td><td>48</td><td>0</td><td>0</td></tr><tr><th>6</th><td>pontiac</td><td>16</td><td>0</td><td>0</td></tr><tr><th>7</th><td>dodge</td><td>28</td><td>0</td><td>0</td></tr><tr><th>8</th><td>toyota</td><td>0</td><td>25</td><td>0</td></tr><tr><th>9</th><td>datsun</td><td>0</td><td>23</td><td>0</td></tr><tr><th>10</th><td>volkswagen</td><td>0</td><td>0</td><td>15</td></tr><tr><th>11</th><td>peugeot</td><td>0</td><td>0</td><td>8</td></tr><tr><th>12</th><td>audi</td><td>0</td><td>0</td><td>7</td></tr><tr><th>13</th><td>saab</td><td>0</td><td>0</td><td>4</td></tr><tr><th>14</th><td>bmw</td><td>0</td><td>0</td><td>2</td></tr><tr><th>15</th><td>chevy</td><td>3</td><td>0</td><td>0</td></tr><tr><th>16</th><td>hi</td><td>1</td><td>0</td><td>0</td></tr><tr><th>17</th><td>mercury</td><td>11</td><td>0</td><td>0</td></tr><tr><th>18</th><td>opel</td><td>0</td><td>0</td><td>4</td></tr><tr><th>19</th><td>fiat</td><td>0</td><td>0</td><td>8</td></tr><tr><th>20</th><td>oldsmobile</td><td>10</td><td>0</td><td>0</td></tr><tr><th>21</th><td>chrysler</td><td>6</td><td>0</td><td>0</td></tr><tr><th>22</th><td>mazda</td><td>0</td><td>10</td><td>0</td></tr><tr><th>23</th><td>volvo</td><td>0</td><td>0</td><td>6</td></tr><tr><th>24</th><td>renault</td><td>0</td><td>0</td><td>3</td></tr><tr><th>25</th><td>toyouta</td><td>0</td><td>1</td><td>0</td></tr><tr><th>26</th><td>maxda</td><td>0</td><td>2</td><td>0</td></tr><tr><th>27</th><td>honda</td><td>0</td><td>13</td><td>0</td></tr><tr><th>28</th><td>subaru</td><td>0</td><td>4</td><td>0</td></tr><tr><th>29</th><td>chevroelt</td><td>1</td><td>0</td><td>0</td></tr><tr><th>30</th><td>capri</td><td>1</td><td>0</td><td>0</td></tr><tr><th>31</th><td>vw</td><td>0</td><td>0</td><td>6</td></tr><tr><th>32</th><td>mercedes-benz</td><td>0</td><td>0</td><td>2</td></tr><tr><th>33</th><td>cadillac</td><td>2</td><td>0</td><td>0</td></tr><tr><th>34</th><td>mercedes</td><td>0</td><td>0</td><td>1</td></tr><tr><th>35</th><td>vokswagen</td><td>0</td><td>0</td><td>1</td></tr><tr><th>36</th><td>triumph</td><td>0</td><td>0</td><td>1</td></tr><tr><th>37</th><td>nissan</td><td>0</td><td>1</td><td>0</td></tr></tbody></table></div>"
      ],
      "text/latex": [
       "\\begin{tabular}{r|cccc}\n",
       "\t& brand & 1.0 & 3.0 & 2.0\\\\\n",
       "\t\\hline\n",
       "\t& String & Int64 & Int64 & Int64\\\\\n",
       "\t\\hline\n",
       "\t1 & chevrolet & 43 & 0 & 0 \\\\\n",
       "\t2 & buick & 17 & 0 & 0 \\\\\n",
       "\t3 & plymouth & 31 & 0 & 0 \\\\\n",
       "\t4 & amc & 27 & 0 & 0 \\\\\n",
       "\t5 & ford & 48 & 0 & 0 \\\\\n",
       "\t6 & pontiac & 16 & 0 & 0 \\\\\n",
       "\t7 & dodge & 28 & 0 & 0 \\\\\n",
       "\t8 & toyota & 0 & 25 & 0 \\\\\n",
       "\t9 & datsun & 0 & 23 & 0 \\\\\n",
       "\t10 & volkswagen & 0 & 0 & 15 \\\\\n",
       "\t11 & peugeot & 0 & 0 & 8 \\\\\n",
       "\t12 & audi & 0 & 0 & 7 \\\\\n",
       "\t13 & saab & 0 & 0 & 4 \\\\\n",
       "\t14 & bmw & 0 & 0 & 2 \\\\\n",
       "\t15 & chevy & 3 & 0 & 0 \\\\\n",
       "\t16 & hi & 1 & 0 & 0 \\\\\n",
       "\t17 & mercury & 11 & 0 & 0 \\\\\n",
       "\t18 & opel & 0 & 0 & 4 \\\\\n",
       "\t19 & fiat & 0 & 0 & 8 \\\\\n",
       "\t20 & oldsmobile & 10 & 0 & 0 \\\\\n",
       "\t21 & chrysler & 6 & 0 & 0 \\\\\n",
       "\t22 & mazda & 0 & 10 & 0 \\\\\n",
       "\t23 & volvo & 0 & 0 & 6 \\\\\n",
       "\t24 & renault & 0 & 0 & 3 \\\\\n",
       "\t25 & toyouta & 0 & 1 & 0 \\\\\n",
       "\t26 & maxda & 0 & 2 & 0 \\\\\n",
       "\t27 & honda & 0 & 13 & 0 \\\\\n",
       "\t28 & subaru & 0 & 4 & 0 \\\\\n",
       "\t29 & chevroelt & 1 & 0 & 0 \\\\\n",
       "\t30 & capri & 1 & 0 & 0 \\\\\n",
       "\t31 & vw & 0 & 0 & 6 \\\\\n",
       "\t32 & mercedes-benz & 0 & 0 & 2 \\\\\n",
       "\t33 & cadillac & 2 & 0 & 0 \\\\\n",
       "\t34 & mercedes & 0 & 0 & 1 \\\\\n",
       "\t35 & vokswagen & 0 & 0 & 1 \\\\\n",
       "\t36 & triumph & 0 & 0 & 1 \\\\\n",
       "\t37 & nissan & 0 & 1 & 0 \\\\\n",
       "\\end{tabular}\n"
      ],
      "text/plain": [
       "\u001b[1m37×4 DataFrame\u001b[0m\n",
       "\u001b[1m Row \u001b[0m│\u001b[1m brand         \u001b[0m\u001b[1m 1.0   \u001b[0m\u001b[1m 3.0   \u001b[0m\u001b[1m 2.0   \u001b[0m\n",
       "\u001b[1m     \u001b[0m│\u001b[90m String        \u001b[0m\u001b[90m Int64 \u001b[0m\u001b[90m Int64 \u001b[0m\u001b[90m Int64 \u001b[0m\n",
       "─────┼────────────────────────────────────\n",
       "   1 │ chevrolet         43      0      0\n",
       "   2 │ buick             17      0      0\n",
       "   3 │ plymouth          31      0      0\n",
       "   4 │ amc               27      0      0\n",
       "   5 │ ford              48      0      0\n",
       "   6 │ pontiac           16      0      0\n",
       "   7 │ dodge             28      0      0\n",
       "   8 │ toyota             0     25      0\n",
       "   9 │ datsun             0     23      0\n",
       "  10 │ volkswagen         0      0     15\n",
       "  11 │ peugeot            0      0      8\n",
       "  12 │ audi               0      0      7\n",
       "  13 │ saab               0      0      4\n",
       "  14 │ bmw                0      0      2\n",
       "  15 │ chevy              3      0      0\n",
       "  16 │ hi                 1      0      0\n",
       "  17 │ mercury           11      0      0\n",
       "  18 │ opel               0      0      4\n",
       "  19 │ fiat               0      0      8\n",
       "  20 │ oldsmobile        10      0      0\n",
       "  21 │ chrysler           6      0      0\n",
       "  22 │ mazda              0     10      0\n",
       "  23 │ volvo              0      0      6\n",
       "  24 │ renault            0      0      3\n",
       "  25 │ toyouta            0      1      0\n",
       "  26 │ maxda              0      2      0\n",
       "  27 │ honda              0     13      0\n",
       "  28 │ subaru             0      4      0\n",
       "  29 │ chevroelt          1      0      0\n",
       "  30 │ capri              1      0      0\n",
       "  31 │ vw                 0      0      6\n",
       "  32 │ mercedes-benz      0      0      2\n",
       "  33 │ cadillac           2      0      0\n",
       "  34 │ mercedes           0      0      1\n",
       "  35 │ vokswagen          0      0      1\n",
       "  36 │ triumph            0      0      1\n",
       "  37 │ nissan             0      1      0"
      ]
     },
     "execution_count": 25,
     "metadata": {},
     "output_type": "execute_result"
    }
   ],
   "source": [
    "coalesce.(origin_vs_brand, 0)"
   ]
  },
  {
   "cell_type": "markdown",
   "metadata": {},
   "source": [
    "Note that column names of a data frame can be any sequence of characters as in this case:"
   ]
  },
  {
   "cell_type": "code",
   "execution_count": 26,
   "metadata": {},
   "outputs": [
    {
     "data": {
      "text/plain": [
       "4-element Vector{String}:\n",
       " \"brand\"\n",
       " \"1.0\"\n",
       " \"3.0\"\n",
       " \"2.0\""
      ]
     },
     "execution_count": 26,
     "metadata": {},
     "output_type": "execute_result"
    }
   ],
   "source": [
    "names(origin_vs_brand)"
   ]
  },
  {
   "cell_type": "code",
   "execution_count": 27,
   "metadata": {},
   "outputs": [
    {
     "data": {
      "text/plain": [
       "4-element Vector{Symbol}:\n",
       " :brand\n",
       " Symbol(\"1.0\")\n",
       " Symbol(\"3.0\")\n",
       " Symbol(\"2.0\")"
      ]
     },
     "execution_count": 27,
     "metadata": {},
     "output_type": "execute_result"
    }
   ],
   "source": [
    "propertynames(origin_vs_brand)"
   ]
  },
  {
   "cell_type": "markdown",
   "metadata": {},
   "source": [
    "In such situations it is easiest to refer to such columns using strings, as `Symbol`s are not super easy to write when they have to represent sequences that are not allowed as variable names as you can see above."
   ]
  },
  {
   "cell_type": "code",
   "execution_count": 28,
   "metadata": {},
   "outputs": [
    {
     "data": {
      "text/plain": [
       "37-element Vector{Union{Missing, Int64}}:\n",
       " 43\n",
       " 17\n",
       " 31\n",
       " 27\n",
       " 48\n",
       " 16\n",
       " 28\n",
       "   missing\n",
       "   missing\n",
       "   missing\n",
       "   missing\n",
       "   missing\n",
       "   missing\n",
       "   missing\n",
       "  3\n",
       "  1\n",
       " 11\n",
       "   missing\n",
       "   missing\n",
       " 10\n",
       "  6\n",
       "   missing\n",
       "   missing\n",
       "   missing\n",
       "   missing\n",
       "   missing\n",
       "   missing\n",
       "   missing\n",
       "  1\n",
       "  1\n",
       "   missing\n",
       "   missing\n",
       "  2\n",
       "   missing\n",
       "   missing\n",
       "   missing\n",
       "   missing"
      ]
     },
     "execution_count": 28,
     "metadata": {},
     "output_type": "execute_result"
    }
   ],
   "source": [
    "origin_vs_brand.\"1.0\""
   ]
  },
  {
   "cell_type": "markdown",
   "metadata": {},
   "source": [
    "Finally let us show that columns of a data frame can hold any data type."
   ]
  },
  {
   "cell_type": "code",
   "execution_count": 29,
   "metadata": {},
   "outputs": [
    {
     "data": {
      "text/html": [
       "<div class=\"data-frame\"><p>3 rows × 2 columns</p><table class=\"data-frame\"><thead><tr><th></th><th>origin</th><th>brand_function</th></tr><tr><th></th><th title=\"Float64\">Float64</th><th title=\"Vector{String}\">Array…</th></tr></thead><tbody><tr><th>1</th><td>1.0</td><td>[&quot;chevrolet&quot;, &quot;buick&quot;, &quot;plymouth&quot;, &quot;amc&quot;, &quot;ford&quot;, &quot;pontiac&quot;, &quot;dodge&quot;, &quot;chevy&quot;, &quot;hi&quot;, &quot;mercury&quot;, &quot;oldsmobile&quot;, &quot;chrysler&quot;, &quot;chevroelt&quot;, &quot;capri&quot;, &quot;cadillac&quot;]</td></tr><tr><th>2</th><td>2.0</td><td>[&quot;volkswagen&quot;, &quot;peugeot&quot;, &quot;audi&quot;, &quot;saab&quot;, &quot;bmw&quot;, &quot;opel&quot;, &quot;fiat&quot;, &quot;volvo&quot;, &quot;renault&quot;, &quot;vw&quot;, &quot;mercedes-benz&quot;, &quot;mercedes&quot;, &quot;vokswagen&quot;, &quot;triumph&quot;]</td></tr><tr><th>3</th><td>3.0</td><td>[&quot;toyota&quot;, &quot;datsun&quot;, &quot;mazda&quot;, &quot;toyouta&quot;, &quot;maxda&quot;, &quot;honda&quot;, &quot;subaru&quot;, &quot;nissan&quot;]</td></tr></tbody></table></div>"
      ],
      "text/latex": [
       "\\begin{tabular}{r|cc}\n",
       "\t& origin & brand\\_function\\\\\n",
       "\t\\hline\n",
       "\t& Float64 & Array…\\\\\n",
       "\t\\hline\n",
       "\t1 & 1.0 & [\"chevrolet\", \"buick\", \"plymouth\", \"amc\", \"ford\", \"pontiac\", \"dodge\", \"chevy\", \"hi\", \"mercury\", \"oldsmobile\", \"chrysler\", \"chevroelt\", \"capri\", \"cadillac\"] \\\\\n",
       "\t2 & 2.0 & [\"volkswagen\", \"peugeot\", \"audi\", \"saab\", \"bmw\", \"opel\", \"fiat\", \"volvo\", \"renault\", \"vw\", \"mercedes-benz\", \"mercedes\", \"vokswagen\", \"triumph\"] \\\\\n",
       "\t3 & 3.0 & [\"toyota\", \"datsun\", \"mazda\", \"toyouta\", \"maxda\", \"honda\", \"subaru\", \"nissan\"] \\\\\n",
       "\\end{tabular}\n"
      ],
      "text/plain": [
       "\u001b[1m3×2 DataFrame\u001b[0m\n",
       "\u001b[1m Row \u001b[0m│\u001b[1m origin  \u001b[0m\u001b[1m brand_function                    \u001b[0m\n",
       "\u001b[1m     \u001b[0m│\u001b[90m Float64 \u001b[0m\u001b[90m Vector{String}                    \u001b[0m\n",
       "─────┼────────────────────────────────────────────\n",
       "   1 │     1.0  [\"chevrolet\", \"buick\", \"plymouth…\n",
       "   2 │     2.0  [\"volkswagen\", \"peugeot\", \"audi\"…\n",
       "   3 │     3.0  [\"toyota\", \"datsun\", \"mazda\", \"t…"
      ]
     },
     "execution_count": 29,
     "metadata": {},
     "output_type": "execute_result"
    }
   ],
   "source": [
    "origin_brand3 = @pipe df |>\n",
    "                      groupby(_, :origin) |>\n",
    "                      combine(_, :brand => x -> Ref(unique(x)))"
   ]
  },
  {
   "cell_type": "markdown",
   "metadata": {},
   "source": [
    "Note that we used `Ref` to protect the return value of our function to be broadcasted (this is the same trick as in standard broadcasting in Julia). Otherwise we would get:"
   ]
  },
  {
   "cell_type": "code",
   "execution_count": 30,
   "metadata": {},
   "outputs": [
    {
     "data": {
      "text/html": [
       "<div class=\"data-frame\"><p>37 rows × 2 columns</p><table class=\"data-frame\"><thead><tr><th></th><th>origin</th><th>brand_unique</th></tr><tr><th></th><th title=\"Float64\">Float64</th><th title=\"String\">String</th></tr></thead><tbody><tr><th>1</th><td>1.0</td><td>chevrolet</td></tr><tr><th>2</th><td>1.0</td><td>buick</td></tr><tr><th>3</th><td>1.0</td><td>plymouth</td></tr><tr><th>4</th><td>1.0</td><td>amc</td></tr><tr><th>5</th><td>1.0</td><td>ford</td></tr><tr><th>6</th><td>1.0</td><td>pontiac</td></tr><tr><th>7</th><td>1.0</td><td>dodge</td></tr><tr><th>8</th><td>1.0</td><td>chevy</td></tr><tr><th>9</th><td>1.0</td><td>hi</td></tr><tr><th>10</th><td>1.0</td><td>mercury</td></tr><tr><th>11</th><td>1.0</td><td>oldsmobile</td></tr><tr><th>12</th><td>1.0</td><td>chrysler</td></tr><tr><th>13</th><td>1.0</td><td>chevroelt</td></tr><tr><th>14</th><td>1.0</td><td>capri</td></tr><tr><th>15</th><td>1.0</td><td>cadillac</td></tr><tr><th>16</th><td>2.0</td><td>volkswagen</td></tr><tr><th>17</th><td>2.0</td><td>peugeot</td></tr><tr><th>18</th><td>2.0</td><td>audi</td></tr><tr><th>19</th><td>2.0</td><td>saab</td></tr><tr><th>20</th><td>2.0</td><td>bmw</td></tr><tr><th>21</th><td>2.0</td><td>opel</td></tr><tr><th>22</th><td>2.0</td><td>fiat</td></tr><tr><th>23</th><td>2.0</td><td>volvo</td></tr><tr><th>24</th><td>2.0</td><td>renault</td></tr><tr><th>25</th><td>2.0</td><td>vw</td></tr><tr><th>26</th><td>2.0</td><td>mercedes-benz</td></tr><tr><th>27</th><td>2.0</td><td>mercedes</td></tr><tr><th>28</th><td>2.0</td><td>vokswagen</td></tr><tr><th>29</th><td>2.0</td><td>triumph</td></tr><tr><th>30</th><td>3.0</td><td>toyota</td></tr><tr><th>31</th><td>3.0</td><td>datsun</td></tr><tr><th>32</th><td>3.0</td><td>mazda</td></tr><tr><th>33</th><td>3.0</td><td>toyouta</td></tr><tr><th>34</th><td>3.0</td><td>maxda</td></tr><tr><th>35</th><td>3.0</td><td>honda</td></tr><tr><th>36</th><td>3.0</td><td>subaru</td></tr><tr><th>37</th><td>3.0</td><td>nissan</td></tr></tbody></table></div>"
      ],
      "text/latex": [
       "\\begin{tabular}{r|cc}\n",
       "\t& origin & brand\\_unique\\\\\n",
       "\t\\hline\n",
       "\t& Float64 & String\\\\\n",
       "\t\\hline\n",
       "\t1 & 1.0 & chevrolet \\\\\n",
       "\t2 & 1.0 & buick \\\\\n",
       "\t3 & 1.0 & plymouth \\\\\n",
       "\t4 & 1.0 & amc \\\\\n",
       "\t5 & 1.0 & ford \\\\\n",
       "\t6 & 1.0 & pontiac \\\\\n",
       "\t7 & 1.0 & dodge \\\\\n",
       "\t8 & 1.0 & chevy \\\\\n",
       "\t9 & 1.0 & hi \\\\\n",
       "\t10 & 1.0 & mercury \\\\\n",
       "\t11 & 1.0 & oldsmobile \\\\\n",
       "\t12 & 1.0 & chrysler \\\\\n",
       "\t13 & 1.0 & chevroelt \\\\\n",
       "\t14 & 1.0 & capri \\\\\n",
       "\t15 & 1.0 & cadillac \\\\\n",
       "\t16 & 2.0 & volkswagen \\\\\n",
       "\t17 & 2.0 & peugeot \\\\\n",
       "\t18 & 2.0 & audi \\\\\n",
       "\t19 & 2.0 & saab \\\\\n",
       "\t20 & 2.0 & bmw \\\\\n",
       "\t21 & 2.0 & opel \\\\\n",
       "\t22 & 2.0 & fiat \\\\\n",
       "\t23 & 2.0 & volvo \\\\\n",
       "\t24 & 2.0 & renault \\\\\n",
       "\t25 & 2.0 & vw \\\\\n",
       "\t26 & 2.0 & mercedes-benz \\\\\n",
       "\t27 & 2.0 & mercedes \\\\\n",
       "\t28 & 2.0 & vokswagen \\\\\n",
       "\t29 & 2.0 & triumph \\\\\n",
       "\t30 & 3.0 & toyota \\\\\n",
       "\t31 & 3.0 & datsun \\\\\n",
       "\t32 & 3.0 & mazda \\\\\n",
       "\t33 & 3.0 & toyouta \\\\\n",
       "\t34 & 3.0 & maxda \\\\\n",
       "\t35 & 3.0 & honda \\\\\n",
       "\t36 & 3.0 & subaru \\\\\n",
       "\t37 & 3.0 & nissan \\\\\n",
       "\\end{tabular}\n"
      ],
      "text/plain": [
       "\u001b[1m37×2 DataFrame\u001b[0m\n",
       "\u001b[1m Row \u001b[0m│\u001b[1m origin  \u001b[0m\u001b[1m brand_unique  \u001b[0m\n",
       "\u001b[1m     \u001b[0m│\u001b[90m Float64 \u001b[0m\u001b[90m String        \u001b[0m\n",
       "─────┼────────────────────────\n",
       "   1 │     1.0  chevrolet\n",
       "   2 │     1.0  buick\n",
       "   3 │     1.0  plymouth\n",
       "   4 │     1.0  amc\n",
       "   5 │     1.0  ford\n",
       "   6 │     1.0  pontiac\n",
       "   7 │     1.0  dodge\n",
       "   8 │     1.0  chevy\n",
       "   9 │     1.0  hi\n",
       "  10 │     1.0  mercury\n",
       "  11 │     1.0  oldsmobile\n",
       "  12 │     1.0  chrysler\n",
       "  13 │     1.0  chevroelt\n",
       "  14 │     1.0  capri\n",
       "  15 │     1.0  cadillac\n",
       "  16 │     2.0  volkswagen\n",
       "  17 │     2.0  peugeot\n",
       "  18 │     2.0  audi\n",
       "  19 │     2.0  saab\n",
       "  20 │     2.0  bmw\n",
       "  21 │     2.0  opel\n",
       "  22 │     2.0  fiat\n",
       "  23 │     2.0  volvo\n",
       "  24 │     2.0  renault\n",
       "  25 │     2.0  vw\n",
       "  26 │     2.0  mercedes-benz\n",
       "  27 │     2.0  mercedes\n",
       "  28 │     2.0  vokswagen\n",
       "  29 │     2.0  triumph\n",
       "  30 │     3.0  toyota\n",
       "  31 │     3.0  datsun\n",
       "  32 │     3.0  mazda\n",
       "  33 │     3.0  toyouta\n",
       "  34 │     3.0  maxda\n",
       "  35 │     3.0  honda\n",
       "  36 │     3.0  subaru\n",
       "  37 │     3.0  nissan"
      ]
     },
     "execution_count": 30,
     "metadata": {},
     "output_type": "execute_result"
    }
   ],
   "source": [
    "@pipe df |> groupby(_, :origin) |> combine(_, :brand => unique)"
   ]
  },
  {
   "cell_type": "markdown",
   "metadata": {},
   "source": [
    "Now we check if the groups are pairwise disjoint (this is a bit tricky, but it is much fun to be able to write such code in Julia):"
   ]
  },
  {
   "cell_type": "code",
   "execution_count": 31,
   "metadata": {},
   "outputs": [
    {
     "name": "stdout",
     "output_type": "stream",
     "text": [
      "1 vs 2 => String[]\n",
      "1 vs 3 => String[]\n",
      "2 vs 3 => String[]\n"
     ]
    }
   ],
   "source": [
    "for i in axes(origin_brand3, 1)\n",
    "    for j in i+1:nrow(origin_brand3)\n",
    "        println(\"$i vs $j => \", intersect(origin_brand3.brand_function[[i,j]]...))\n",
    "    end\n",
    "end"
   ]
  },
  {
   "cell_type": "markdown",
   "metadata": {},
   "source": [
    "We can also easily flatten the `origin_brand3` data frame so that `brand_function` column is expanded to span multiple rows (the case we have seen above when we omitted writing `Ref` in `combine`)"
   ]
  },
  {
   "cell_type": "code",
   "execution_count": 32,
   "metadata": {},
   "outputs": [
    {
     "data": {
      "text/html": [
       "<div class=\"data-frame\"><p>37 rows × 2 columns</p><table class=\"data-frame\"><thead><tr><th></th><th>origin</th><th>brand_function</th></tr><tr><th></th><th title=\"Float64\">Float64</th><th title=\"String\">String</th></tr></thead><tbody><tr><th>1</th><td>1.0</td><td>chevrolet</td></tr><tr><th>2</th><td>1.0</td><td>buick</td></tr><tr><th>3</th><td>1.0</td><td>plymouth</td></tr><tr><th>4</th><td>1.0</td><td>amc</td></tr><tr><th>5</th><td>1.0</td><td>ford</td></tr><tr><th>6</th><td>1.0</td><td>pontiac</td></tr><tr><th>7</th><td>1.0</td><td>dodge</td></tr><tr><th>8</th><td>1.0</td><td>chevy</td></tr><tr><th>9</th><td>1.0</td><td>hi</td></tr><tr><th>10</th><td>1.0</td><td>mercury</td></tr><tr><th>11</th><td>1.0</td><td>oldsmobile</td></tr><tr><th>12</th><td>1.0</td><td>chrysler</td></tr><tr><th>13</th><td>1.0</td><td>chevroelt</td></tr><tr><th>14</th><td>1.0</td><td>capri</td></tr><tr><th>15</th><td>1.0</td><td>cadillac</td></tr><tr><th>16</th><td>2.0</td><td>volkswagen</td></tr><tr><th>17</th><td>2.0</td><td>peugeot</td></tr><tr><th>18</th><td>2.0</td><td>audi</td></tr><tr><th>19</th><td>2.0</td><td>saab</td></tr><tr><th>20</th><td>2.0</td><td>bmw</td></tr><tr><th>21</th><td>2.0</td><td>opel</td></tr><tr><th>22</th><td>2.0</td><td>fiat</td></tr><tr><th>23</th><td>2.0</td><td>volvo</td></tr><tr><th>24</th><td>2.0</td><td>renault</td></tr><tr><th>25</th><td>2.0</td><td>vw</td></tr><tr><th>26</th><td>2.0</td><td>mercedes-benz</td></tr><tr><th>27</th><td>2.0</td><td>mercedes</td></tr><tr><th>28</th><td>2.0</td><td>vokswagen</td></tr><tr><th>29</th><td>2.0</td><td>triumph</td></tr><tr><th>30</th><td>3.0</td><td>toyota</td></tr><tr><th>31</th><td>3.0</td><td>datsun</td></tr><tr><th>32</th><td>3.0</td><td>mazda</td></tr><tr><th>33</th><td>3.0</td><td>toyouta</td></tr><tr><th>34</th><td>3.0</td><td>maxda</td></tr><tr><th>35</th><td>3.0</td><td>honda</td></tr><tr><th>36</th><td>3.0</td><td>subaru</td></tr><tr><th>37</th><td>3.0</td><td>nissan</td></tr></tbody></table></div>"
      ],
      "text/latex": [
       "\\begin{tabular}{r|cc}\n",
       "\t& origin & brand\\_function\\\\\n",
       "\t\\hline\n",
       "\t& Float64 & String\\\\\n",
       "\t\\hline\n",
       "\t1 & 1.0 & chevrolet \\\\\n",
       "\t2 & 1.0 & buick \\\\\n",
       "\t3 & 1.0 & plymouth \\\\\n",
       "\t4 & 1.0 & amc \\\\\n",
       "\t5 & 1.0 & ford \\\\\n",
       "\t6 & 1.0 & pontiac \\\\\n",
       "\t7 & 1.0 & dodge \\\\\n",
       "\t8 & 1.0 & chevy \\\\\n",
       "\t9 & 1.0 & hi \\\\\n",
       "\t10 & 1.0 & mercury \\\\\n",
       "\t11 & 1.0 & oldsmobile \\\\\n",
       "\t12 & 1.0 & chrysler \\\\\n",
       "\t13 & 1.0 & chevroelt \\\\\n",
       "\t14 & 1.0 & capri \\\\\n",
       "\t15 & 1.0 & cadillac \\\\\n",
       "\t16 & 2.0 & volkswagen \\\\\n",
       "\t17 & 2.0 & peugeot \\\\\n",
       "\t18 & 2.0 & audi \\\\\n",
       "\t19 & 2.0 & saab \\\\\n",
       "\t20 & 2.0 & bmw \\\\\n",
       "\t21 & 2.0 & opel \\\\\n",
       "\t22 & 2.0 & fiat \\\\\n",
       "\t23 & 2.0 & volvo \\\\\n",
       "\t24 & 2.0 & renault \\\\\n",
       "\t25 & 2.0 & vw \\\\\n",
       "\t26 & 2.0 & mercedes-benz \\\\\n",
       "\t27 & 2.0 & mercedes \\\\\n",
       "\t28 & 2.0 & vokswagen \\\\\n",
       "\t29 & 2.0 & triumph \\\\\n",
       "\t30 & 3.0 & toyota \\\\\n",
       "\t31 & 3.0 & datsun \\\\\n",
       "\t32 & 3.0 & mazda \\\\\n",
       "\t33 & 3.0 & toyouta \\\\\n",
       "\t34 & 3.0 & maxda \\\\\n",
       "\t35 & 3.0 & honda \\\\\n",
       "\t36 & 3.0 & subaru \\\\\n",
       "\t37 & 3.0 & nissan \\\\\n",
       "\\end{tabular}\n"
      ],
      "text/plain": [
       "\u001b[1m37×2 DataFrame\u001b[0m\n",
       "\u001b[1m Row \u001b[0m│\u001b[1m origin  \u001b[0m\u001b[1m brand_function \u001b[0m\n",
       "\u001b[1m     \u001b[0m│\u001b[90m Float64 \u001b[0m\u001b[90m String         \u001b[0m\n",
       "─────┼─────────────────────────\n",
       "   1 │     1.0  chevrolet\n",
       "   2 │     1.0  buick\n",
       "   3 │     1.0  plymouth\n",
       "   4 │     1.0  amc\n",
       "   5 │     1.0  ford\n",
       "   6 │     1.0  pontiac\n",
       "   7 │     1.0  dodge\n",
       "   8 │     1.0  chevy\n",
       "   9 │     1.0  hi\n",
       "  10 │     1.0  mercury\n",
       "  11 │     1.0  oldsmobile\n",
       "  12 │     1.0  chrysler\n",
       "  13 │     1.0  chevroelt\n",
       "  14 │     1.0  capri\n",
       "  15 │     1.0  cadillac\n",
       "  16 │     2.0  volkswagen\n",
       "  17 │     2.0  peugeot\n",
       "  18 │     2.0  audi\n",
       "  19 │     2.0  saab\n",
       "  20 │     2.0  bmw\n",
       "  21 │     2.0  opel\n",
       "  22 │     2.0  fiat\n",
       "  23 │     2.0  volvo\n",
       "  24 │     2.0  renault\n",
       "  25 │     2.0  vw\n",
       "  26 │     2.0  mercedes-benz\n",
       "  27 │     2.0  mercedes\n",
       "  28 │     2.0  vokswagen\n",
       "  29 │     2.0  triumph\n",
       "  30 │     3.0  toyota\n",
       "  31 │     3.0  datsun\n",
       "  32 │     3.0  mazda\n",
       "  33 │     3.0  toyouta\n",
       "  34 │     3.0  maxda\n",
       "  35 │     3.0  honda\n",
       "  36 │     3.0  subaru\n",
       "  37 │     3.0  nissan"
      ]
     },
     "execution_count": 32,
     "metadata": {},
     "output_type": "execute_result"
    }
   ],
   "source": [
    "flatten(origin_brand3, :brand_function)"
   ]
  }
 ],
 "metadata": {
  "kernelspec": {
   "display_name": "Julia 1.6.1",
   "language": "julia",
   "name": "julia-1.6"
  },
  "language_info": {
   "file_extension": ".jl",
   "mimetype": "application/julia",
   "name": "julia",
   "version": "1.6.1"
  }
 },
 "nbformat": 4,
 "nbformat_minor": 4
}
