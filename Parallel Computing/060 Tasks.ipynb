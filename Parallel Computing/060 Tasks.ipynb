{
 "cells": [
  {
   "outputs": [],
   "cell_type": "code",
   "source": [
    "import Pkg; Pkg.add(Pkg.PackageSpec(url=\"https://github.com/JuliaComputing/JuliaAcademyData.jl\"))\n",
    "using JuliaAcademyData; activate(\"Parallel_Computing\")"
   ],
   "metadata": {},
   "execution_count": null
  },
  {
   "outputs": [],
   "cell_type": "markdown",
   "source": [
    "# A brief introduction to Tasks\n",
    "\n",
    "You're working on a computer that's doing _lots_ of things. It's managing\n",
    "inputs, outputs, delegating control of the CPU between Julia and _all_ of\n",
    "the other applications you have running. This wasn't always the case — does\n",
    "anyone remember the days before you could just switch between applications?\n",
    "\n",
    "It's not really doing all these things at once, but for the most part it\n",
    "gives the _appearance_ of parallelism. We think about our computers as doing\n",
    "_lots_ of things simultaneously — but it's not really simultaneous. It's just\n",
    "switching between tasks so fast that it feels simultaneous.\n",
    "\n",
    "This kind of task switching is perfect for situations like an operating system\n",
    "where you're just waiting for user input most of the time. The OS multitasking\n",
    "you're familiar with is called \"preemptive\" multitasking — the operating system\n",
    "sits at the top and can arbitrarily control who gets to run when. Julia's task\n",
    "system uses cooperative multitasking (also known as coroutines or green threads)."
   ],
   "metadata": {}
  },
  {
   "outputs": [],
   "cell_type": "markdown",
   "source": [
    "Tasks work best when they're waiting for some _external_ condition to complete\n",
    "their work. Let's say we had a directory \"results\" and wanted to process any\n",
    "new files that appeared there:"
   ],
   "metadata": {}
  },
  {
   "outputs": [],
   "cell_type": "code",
   "source": [
    "using FileWatching\n",
    "isdir(\"results\") || mkdir(\"results\")\n",
    "watch_folder(\"results\", #= time out in seconds =# 5)"
   ],
   "metadata": {},
   "execution_count": null
  },
  {
   "outputs": [],
   "cell_type": "markdown",
   "source": [
    "Julia happily will sit there and wait for something to happen... but it's\n",
    "blocking anything else from happening while it's doing so! This is the perfect\n",
    "case for a Task. We can say we want a given expression to run asynchronously\n",
    "in a Task with the `@async` macro"
   ],
   "metadata": {}
  },
  {
   "outputs": [],
   "cell_type": "code",
   "source": [
    "t = @async watch_folder(\"results\") # no timeout means it will wait forever!"
   ],
   "metadata": {},
   "execution_count": null
  },
  {
   "outputs": [],
   "cell_type": "code",
   "source": [
    "run(`touch results/0.txt`)"
   ],
   "metadata": {},
   "execution_count": null
  },
  {
   "outputs": [],
   "cell_type": "code",
   "source": [
    "file, info = fetch(t)\n",
    "file # |> process"
   ],
   "metadata": {},
   "execution_count": null
  },
  {
   "outputs": [],
   "cell_type": "markdown",
   "source": [
    "We can even bundle this up into a repeating task:"
   ],
   "metadata": {}
  },
  {
   "outputs": [],
   "cell_type": "code",
   "source": [
    "isdone = false\n",
    "function process_folder(dir)\n",
    "    !isdir(\"processed-results\") && mkdir(\"processed-results\")\n",
    "    while !isdone\n",
    "        file, info = watch_folder(dir)\n",
    "        path = joinpath(dir, file)\n",
    "        if isfile(path)\n",
    "            print(\"processing $path...\")\n",
    "            run(`cp $path processed-results/$file`) # Or actually do real work...\n",
    "        end\n",
    "    end\n",
    "end\n",
    "\n",
    "t = @async process_folder(\"results\")"
   ],
   "metadata": {},
   "execution_count": null
  },
  {
   "outputs": [],
   "cell_type": "code",
   "source": [
    "run(`touch results/1.txt`)\n",
    "sleep(.1)\n",
    "readdir(\"processed-results\")"
   ],
   "metadata": {},
   "execution_count": null
  },
  {
   "outputs": [],
   "cell_type": "code",
   "source": [
    "run(`touch results/2.txt`)\n",
    "sleep(.1)\n",
    "readdir(\"processed-results\")"
   ],
   "metadata": {},
   "execution_count": null
  },
  {
   "outputs": [],
   "cell_type": "code",
   "source": [
    "isdone = true\n",
    "run(`touch results/3.txt`)\n",
    "sleep(.1)\n",
    "readdir(\"processed-results\")"
   ],
   "metadata": {},
   "execution_count": null
  },
  {
   "outputs": [],
   "cell_type": "code",
   "source": [
    "run(`touch results/4.txt`)\n",
    "sleep(.1)\n",
    "readdir(\"processed-results\")"
   ],
   "metadata": {},
   "execution_count": null
  },
  {
   "outputs": [],
   "cell_type": "code",
   "source": [
    "rm(\"results\", recursive=true)\n",
    "rm(\"processed-results\", recursive=true)"
   ],
   "metadata": {},
   "execution_count": null
  },
  {
   "outputs": [],
   "cell_type": "markdown",
   "source": [
    "## Quiz:\n",
    "\n",
    "How long will this take?"
   ],
   "metadata": {}
  },
  {
   "outputs": [],
   "cell_type": "code",
   "source": [
    "@time for i in 1:10\n",
    "    sleep(1)\n",
    "end"
   ],
   "metadata": {},
   "execution_count": null
  },
  {
   "outputs": [],
   "cell_type": "markdown",
   "source": [
    "What about this?"
   ],
   "metadata": {}
  },
  {
   "outputs": [],
   "cell_type": "code",
   "source": [
    "@time for i in 1:10\n",
    "    @async sleep(1)\n",
    "end"
   ],
   "metadata": {},
   "execution_count": null
  },
  {
   "outputs": [],
   "cell_type": "markdown",
   "source": [
    "And finally, this?"
   ],
   "metadata": {}
  },
  {
   "outputs": [],
   "cell_type": "code",
   "source": [
    "@time @sync for i in 1:10\n",
    "    @async sleep(1)\n",
    "end"
   ],
   "metadata": {},
   "execution_count": null
  },
  {
   "outputs": [],
   "cell_type": "markdown",
   "source": [
    "Now what if I had something that actually did work?"
   ],
   "metadata": {}
  },
  {
   "outputs": [],
   "cell_type": "code",
   "source": [
    "function work(N)\n",
    "    series = 1.0\n",
    "    for i in 1:N\n",
    "        series += (isodd(i) ? -1 : 1) / (i*2+1)\n",
    "    end\n",
    "    return 4*series\n",
    "end\n",
    "work(1)\n",
    "@time work(100_000_000)"
   ],
   "metadata": {},
   "execution_count": null
  },
  {
   "outputs": [],
   "cell_type": "code",
   "source": [
    "@time @sync for i in 1:10\n",
    "    @async work(100_000_000)\n",
    "end"
   ],
   "metadata": {},
   "execution_count": null
  },
  {
   "outputs": [],
   "cell_type": "markdown",
   "source": [
    "# So what's happening here?\n",
    "\n",
    "`sleep` is nicely cooperating with our tasks"
   ],
   "metadata": {}
  },
  {
   "outputs": [],
   "cell_type": "code",
   "source": [
    "methods(sleep)"
   ],
   "metadata": {},
   "execution_count": null
  },
  {
   "outputs": [],
   "cell_type": "markdown",
   "source": [
    "# Fetching values from tasks"
   ],
   "metadata": {}
  },
  {
   "outputs": [],
   "cell_type": "markdown",
   "source": [
    "You can even fetch values from tasks"
   ],
   "metadata": {}
  },
  {
   "outputs": [],
   "cell_type": "code",
   "source": [
    "t = @async (sleep(5); rand())"
   ],
   "metadata": {},
   "execution_count": null
  },
  {
   "outputs": [],
   "cell_type": "code",
   "source": [
    "wait(t)"
   ],
   "metadata": {},
   "execution_count": null
  },
  {
   "outputs": [],
   "cell_type": "code",
   "source": [
    "fetch(t)"
   ],
   "metadata": {},
   "execution_count": null
  },
  {
   "outputs": [],
   "cell_type": "markdown",
   "source": [
    "# Key takeaways\n",
    "\n",
    "There is a lot more to tasks, but they form the foundation for reasoning about\n",
    "actually _doing_ computation in parallel (and not just hoping that things will\n",
    "cooperate for us to emulate parallelism by task switching).\n",
    "\n",
    "* `@async` creates and starts running a task\n",
    "* `@sync` waits for them to all complete\n",
    "* We can reason about something that runs asynchronously and may return a value\n",
    "  at some point in the future with `fetch`. Or we can just `wait` for it."
   ],
   "metadata": {}
  }
 ],
 "nbformat_minor": 3,
 "metadata": {
  "language_info": {
   "file_extension": ".jl",
   "mimetype": "application/julia",
   "name": "julia",
   "version": "1.0.3"
  },
  "kernelspec": {
   "name": "julia-1.0",
   "display_name": "Julia 1.0.3",
   "language": "julia"
  }
 },
 "nbformat": 4
}
