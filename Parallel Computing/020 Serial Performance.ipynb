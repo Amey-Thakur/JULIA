{
 "cells": [
  {
   "outputs": [],
   "cell_type": "code",
   "source": [
    "import Pkg; Pkg.add(Pkg.PackageSpec(url=\"https://github.com/JuliaComputing/JuliaAcademyData.jl\"))\n",
    "using JuliaAcademyData; activate(\"Parallel_Computing\")"
   ],
   "metadata": {},
   "execution_count": null
  },
  {
   "outputs": [],
   "cell_type": "markdown",
   "source": [
    "# Fast (serial) programming with Julia\n",
    "\n",
    "Yes, this is a parallel computing course — but to write efficient parallel\n",
    "programs we first must learn how to write fast serial Julia code. This is\n",
    "a rapid primer in high performance (serial) programming.\n",
    "\n",
    "I _highly_ recommend reviewing the [Performance Tips](https://docs.julialang.org/en/v1.1/manual/performance-tips/)\n",
    "in the manual. This is only going to briefly introduce some of the main concepts."
   ],
   "metadata": {}
  },
  {
   "outputs": [],
   "cell_type": "markdown",
   "source": [
    "## Measure, measure, measure.\n",
    "\n",
    "It is very easy to experiment in Julia; you can rapidly try many options and\n",
    "see what is the fastest."
   ],
   "metadata": {}
  },
  {
   "outputs": [],
   "cell_type": "markdown",
   "source": [
    "Use the [BenchmarkTools](https://github.com/JuliaCI/BenchmarkTools.jl) package:"
   ],
   "metadata": {}
  },
  {
   "outputs": [],
   "cell_type": "code",
   "source": [
    "using BenchmarkTools\n",
    "\n",
    "\"\"\"\n",
    "    findclosest(data, point)\n",
    "\n",
    "A simple example that returns the element in `data` that is closest to `point`\n",
    "\"\"\"\n",
    "function findclosest(data, point)\n",
    "    _, index =  findmin(abs.(data .- point))\n",
    "    return data[index]\n",
    "end\n",
    "data = rand(5000)\n",
    "findclosest(data, 0.5)"
   ],
   "metadata": {},
   "execution_count": null
  },
  {
   "outputs": [],
   "cell_type": "code",
   "source": [
    "@time findclosest(data, 0.5)"
   ],
   "metadata": {},
   "execution_count": null
  },
  {
   "outputs": [],
   "cell_type": "code",
   "source": [
    "@benchmark findclosest($data, $0.5)"
   ],
   "metadata": {},
   "execution_count": null
  },
  {
   "outputs": [],
   "cell_type": "markdown",
   "source": [
    "### Profile!"
   ],
   "metadata": {}
  },
  {
   "outputs": [],
   "cell_type": "code",
   "source": [
    "using Profile\n",
    "\n",
    "Profile.clear()\n",
    "@profile for _ in 1:100000; findclosest(data, 0.5); end\n",
    "\n",
    "Profile.print(maxdepth=11)"
   ],
   "metadata": {},
   "execution_count": null
  },
  {
   "outputs": [],
   "cell_type": "markdown",
   "source": [
    "### Iterate!\n",
    "\n",
    "Before we had:\n",
    "```julia\n",
    "function findclosest(data, point)\n",
    "    _, index =  findmin(abs.(data .- point))\n",
    "    return data[index]\n",
    "end\n",
    "```\n",
    "\n",
    "Let's come up with a new definition that can combine the two operations:"
   ],
   "metadata": {}
  },
  {
   "outputs": [],
   "cell_type": "code",
   "source": [
    "function findclosest2(data, point)\n",
    "    bestval = first(data)\n",
    "    bestdist = abs(bestval - point)\n",
    "    for elt in data\n",
    "        dist = abs(elt - point)\n",
    "        if dist < bestdist\n",
    "            bestval = elt\n",
    "            bestdist = dist\n",
    "        end\n",
    "    end\n",
    "    return bestval\n",
    "end\n",
    "\n",
    "# And do a spot-check to make sure we did the optimization correctly:\n",
    "findclosest2(data, 0.5) == findclosest(data, .5)"
   ],
   "metadata": {},
   "execution_count": null
  },
  {
   "outputs": [],
   "cell_type": "code",
   "source": [
    "@benchmark findclosest2($data, $0.5)"
   ],
   "metadata": {},
   "execution_count": null
  },
  {
   "outputs": [],
   "cell_type": "markdown",
   "source": [
    "## A quick word on macros\n",
    "\n",
    "Macros are those funny things starting with `@`. They can reinterpret what\n",
    "you write and do something different — essentially introducing a new keyword.\n",
    "\n",
    "For example, the `@assert` macro simply takes an expression and throws an\n",
    "exception if it returns `false`."
   ],
   "metadata": {}
  },
  {
   "outputs": [],
   "cell_type": "code",
   "source": [
    "@assert 2+2 == 4"
   ],
   "metadata": {},
   "execution_count": null
  },
  {
   "outputs": [],
   "cell_type": "markdown",
   "source": [
    "It does this by literally re-writing what you wrote. You can see it in action\n",
    "with `@macroexpand`"
   ],
   "metadata": {}
  },
  {
   "outputs": [],
   "cell_type": "code",
   "source": [
    "@macroexpand @assert 2+2 == 4"
   ],
   "metadata": {},
   "execution_count": null
  },
  {
   "outputs": [],
   "cell_type": "markdown",
   "source": [
    "Each macro can define its own special syntax, and this is used extensively for\n",
    "code introspection, serial performance improvements, and — perhaps most\n",
    "importantly — parallelization perimitives!"
   ],
   "metadata": {}
  },
  {
   "outputs": [],
   "cell_type": "markdown",
   "source": [
    "## How is Julia fast?\n",
    "\n",
    "By understanding the basics of how Julia _can_ be fast, you can get a better\n",
    "sense for how to write fast Julia code.\n",
    "\n",
    "Perhaps most importantly, Julia can reason about types. Recall: this is the definition of `findclosest2`:\n",
    "\n",
    "```julia\n",
    "function findclosest2(data, point)\n",
    "    bestval = first(data)\n",
    "    bestdist = abs(bestval - point)\n",
    "    for elt in data\n",
    "        dist = abs(elt - point)\n",
    "        if dist < bestdist\n",
    "            bestval = elt\n",
    "            bestdist = dist\n",
    "        end\n",
    "    end\n",
    "    return bestval\n",
    "end\n",
    "```"
   ],
   "metadata": {}
  },
  {
   "outputs": [],
   "cell_type": "code",
   "source": [
    "@code_typed optimize=false findclosest2(data, 0.5)"
   ],
   "metadata": {},
   "execution_count": null
  },
  {
   "outputs": [],
   "cell_type": "code",
   "source": [
    "typeof(data)"
   ],
   "metadata": {},
   "execution_count": null
  },
  {
   "outputs": [],
   "cell_type": "code",
   "source": [
    "newdata = Real[data...]\n",
    "typeof(newdata)"
   ],
   "metadata": {},
   "execution_count": null
  },
  {
   "outputs": [],
   "cell_type": "code",
   "source": [
    "@code_typed optimize=false findclosest2(newdata, 0.5)"
   ],
   "metadata": {},
   "execution_count": null
  },
  {
   "outputs": [],
   "cell_type": "code",
   "source": [
    "@benchmark findclosest2(newdata, 0.5)"
   ],
   "metadata": {},
   "execution_count": null
  },
  {
   "outputs": [],
   "cell_type": "code",
   "source": [
    "@code_warntype findclosest2(newdata, 0.5)"
   ],
   "metadata": {},
   "execution_count": null
  },
  {
   "outputs": [],
   "cell_type": "markdown",
   "source": [
    "### Type stability\n",
    "\n",
    "A function is called type-stable if Julia is able to infer what the output\n",
    "type will be based purely on the types of the inputs.\n",
    "\n",
    "Things that thwart type stability:\n",
    "* Running things in global scope: create functions instead!\n",
    "* Non-concretely typed containers\n",
    "* Structs with abstractly-typed fields\n",
    "* Non-constant globals (they might change!)\n",
    "* Functions that change what they return based on the _values_:"
   ],
   "metadata": {}
  },
  {
   "outputs": [],
   "cell_type": "markdown",
   "source": [
    "#### More on macros\n",
    "\n",
    "Each and every macro can define its own syntax. The `@benchmark` macro uses `$` in a special way.\n",
    "The goal behind `@benchmark` is to evaluate the performance of a code snippet\n",
    "as though it were written in a function. Use `$` to flag what will be an argument\n",
    "or local variable in the function. Forgetting to use `$`s may result in faster\n",
    "or slower timings than real-world performance."
   ],
   "metadata": {}
  },
  {
   "outputs": [],
   "cell_type": "code",
   "source": [
    "x = 0.5 # non-constant global\n",
    "@btime sin(x)\n",
    "@btime sin($x)"
   ],
   "metadata": {},
   "execution_count": null
  },
  {
   "outputs": [],
   "cell_type": "code",
   "source": [
    "@btime sin(0.5) # constant literal!\n",
    "@btime sin($0.5)"
   ],
   "metadata": {},
   "execution_count": null
  },
  {
   "outputs": [],
   "cell_type": "markdown",
   "source": [
    "### Specializations\n",
    "\n",
    "Julia's reasoning about types is particularly important since it generates\n",
    "specialized machine code specifically for the given arguments."
   ],
   "metadata": {}
  },
  {
   "outputs": [],
   "cell_type": "code",
   "source": [
    "@code_llvm 1 + 2"
   ],
   "metadata": {},
   "execution_count": null
  },
  {
   "outputs": [],
   "cell_type": "markdown",
   "source": [
    "This applies just the same to any functions we write — even the more complicated ones:"
   ],
   "metadata": {}
  },
  {
   "outputs": [],
   "cell_type": "code",
   "source": [
    "@code_llvm findclosest2(Float32[2.2,3.4,4.5],Float32(3.2))"
   ],
   "metadata": {},
   "execution_count": null
  },
  {
   "outputs": [],
   "cell_type": "markdown",
   "source": [
    "This applies just the same to any functions we write — even the more complicated ones:"
   ],
   "metadata": {}
  },
  {
   "outputs": [],
   "cell_type": "code",
   "source": [
    "remove_comments(s) = join(filter(x->!startswith(x, \";\"), split(s, \"\\n\")), \"\\n\")\n",
    "sprint(code_llvm, findclosest2, Tuple{Vector{Float32}, Int}) |> remove_comments |> print"
   ],
   "metadata": {},
   "execution_count": null
  },
  {
   "outputs": [],
   "cell_type": "markdown",
   "source": [
    "## Modern hardware effects\n",
    "\n",
    "There are lots of little performance quirks in modern computers; I'll just\n",
    "cover two interesting ones here:"
   ],
   "metadata": {}
  },
  {
   "outputs": [],
   "cell_type": "code",
   "source": [
    "@benchmark findclosest2($data, $0.5)"
   ],
   "metadata": {},
   "execution_count": null
  },
  {
   "outputs": [],
   "cell_type": "code",
   "source": [
    "sorteddata = sort(data)\n",
    "@benchmark findclosest2($sorteddata, $0.5)"
   ],
   "metadata": {},
   "execution_count": null
  },
  {
   "outputs": [],
   "cell_type": "markdown",
   "source": [
    "Unfortunately, this isn't demonstrable on a hardened cloud platform... because\n",
    "it's a huge security risk!\n",
    "\n",
    "* https://meltdownattack.com\n",
    "* https://discourse.julialang.org/t/psa-microbenchmarks-remember-branch-history/17436"
   ],
   "metadata": {}
  },
  {
   "outputs": [],
   "cell_type": "code",
   "source": [
    "idxs = sortperm(data)\n",
    "sortedview = @view data[idxs]\n",
    "@benchmark findclosest2($sortedview, $0.5)"
   ],
   "metadata": {},
   "execution_count": null
  },
  {
   "outputs": [],
   "cell_type": "markdown",
   "source": [
    "### Memory latencies\n",
    "\n",
    "| System Event                   | Actual Latency | Scaled Latency |\n",
    "| ------------------------------ | -------------- | -------------- |\n",
    "| One CPU cycle                  |     0.4 ns     |     1 s        |\n",
    "| Level 1 cache access           |     0.9 ns     |     2 s        |\n",
    "| Level 2 cache access           |     2.8 ns     |     7 s        |\n",
    "| Level 3 cache access           |      28 ns     |     1 min      |\n",
    "| Main memory access (DDR DIMM)  |    ~100 ns     |     4 min      |\n",
    "| Intel Optane memory access     |     <10 μs     |     7 hrs      |\n",
    "| NVMe SSD I/O                   |     ~25 μs     |    17 hrs      |\n",
    "| SSD I/O                        |  50–150 μs     | 1.5–4 days     |\n",
    "| Rotational disk I/O            |    1–10 ms     |   1–9 months   |\n",
    "| Internet call: SF to NYC       |      65 ms     |     5 years    |\n",
    "| Internet call: SF to Hong Kong |     141 ms     |    11 years    |\n",
    "\n",
    " (from https://www.prowesscorp.com/computer-latency-at-a-human-scale/)"
   ],
   "metadata": {}
  },
  {
   "outputs": [],
   "cell_type": "markdown",
   "source": [
    "# Key Takeaways\n",
    "\n",
    "* Measure, measure, measure!\n",
    "* Get familiar with the [Performance Tips](https://docs.julialang.org/en/v1/manual/performance-tips/)\n",
    "* Don't be scared of `@code_typed`/`@code_warntype` and `@code_llvm`"
   ],
   "metadata": {}
  }
 ],
 "nbformat_minor": 3,
 "metadata": {
  "language_info": {
   "file_extension": ".jl",
   "mimetype": "application/julia",
   "name": "julia",
   "version": "1.0.3"
  },
  "kernelspec": {
   "name": "julia-1.0",
   "display_name": "Julia 1.0.3",
   "language": "julia"
  }
 },
 "nbformat": 4
}
